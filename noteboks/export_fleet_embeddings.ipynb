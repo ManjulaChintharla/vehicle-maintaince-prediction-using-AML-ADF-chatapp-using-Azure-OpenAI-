{
  "cells": [
    {
      "cell_type": "code",
      "source": [
        "!pip install python-docx openai psycopg2 numpy\n",
        "!pip uninstall -y azure-search-documents\n",
        "!pip uninstall -y azure-search-documents\n",
        "!pip show azure-search-documents\n",
        "!pip install --pre azure-search-documents==11.6.0b11\n",
        "!pip install openai==0.28.1"
      ],
      "outputs": [
        {
          "output_type": "stream",
          "name": "stdout",
          "text": "Requirement already satisfied: python-docx in /anaconda/envs/azureml_py38/lib/python3.10/site-packages (1.1.2)\nRequirement already satisfied: openai in /anaconda/envs/azureml_py38/lib/python3.10/site-packages (0.28.1)\nRequirement already satisfied: psycopg2 in /anaconda/envs/azureml_py38/lib/python3.10/site-packages (2.9.9)\nRequirement already satisfied: numpy in /anaconda/envs/azureml_py38/lib/python3.10/site-packages (1.23.5)\nRequirement already satisfied: lxml>=3.1.0 in /anaconda/envs/azureml_py38/lib/python3.10/site-packages (from python-docx) (5.3.2)\nRequirement already satisfied: typing-extensions>=4.9.0 in /anaconda/envs/azureml_py38/lib/python3.10/site-packages (from python-docx) (4.12.2)\nRequirement already satisfied: aiohttp in /anaconda/envs/azureml_py38/lib/python3.10/site-packages (from openai) (3.10.1)\nRequirement already satisfied: tqdm in /anaconda/envs/azureml_py38/lib/python3.10/site-packages (from openai) (4.66.4)\nRequirement already satisfied: requests>=2.20 in /anaconda/envs/azureml_py38/lib/python3.10/site-packages (from openai) (2.32.3)\nRequirement already satisfied: certifi>=2017.4.17 in /anaconda/envs/azureml_py38/lib/python3.10/site-packages (from requests>=2.20->openai) (2024.8.30)\nRequirement already satisfied: charset-normalizer<4,>=2 in /anaconda/envs/azureml_py38/lib/python3.10/site-packages (from requests>=2.20->openai) (3.3.2)\nRequirement already satisfied: urllib3<3,>=1.21.1 in /anaconda/envs/azureml_py38/lib/python3.10/site-packages (from requests>=2.20->openai) (1.26.19)\nRequirement already satisfied: idna<4,>=2.5 in /anaconda/envs/azureml_py38/lib/python3.10/site-packages (from requests>=2.20->openai) (3.7)\nRequirement already satisfied: attrs>=17.3.0 in /anaconda/envs/azureml_py38/lib/python3.10/site-packages (from aiohttp->openai) (24.2.0)\nRequirement already satisfied: aiosignal>=1.1.2 in /anaconda/envs/azureml_py38/lib/python3.10/site-packages (from aiohttp->openai) (1.3.1)\nRequirement already satisfied: frozenlist>=1.1.1 in /anaconda/envs/azureml_py38/lib/python3.10/site-packages (from aiohttp->openai) (1.4.1)\nRequirement already satisfied: multidict<7.0,>=4.5 in /anaconda/envs/azureml_py38/lib/python3.10/site-packages (from aiohttp->openai) (6.0.5)\nRequirement already satisfied: async-timeout<5.0,>=4.0 in /anaconda/envs/azureml_py38/lib/python3.10/site-packages (from aiohttp->openai) (4.0.3)\nRequirement already satisfied: yarl<2.0,>=1.0 in /anaconda/envs/azureml_py38/lib/python3.10/site-packages (from aiohttp->openai) (1.9.4)\nRequirement already satisfied: aiohappyeyeballs>=2.3.0 in /anaconda/envs/azureml_py38/lib/python3.10/site-packages (from aiohttp->openai) (2.3.5)\nFound existing installation: azure-search-documents 11.6.0b11\nUninstalling azure-search-documents-11.6.0b11:\n  Successfully uninstalled azure-search-documents-11.6.0b11\n\u001b[33mWARNING: Skipping azure-search-documents as it is not installed.\u001b[0m\u001b[33m\n\u001b[0m\u001b[33mWARNING: Package(s) not found: azure-search-documents\u001b[0m\u001b[33m\n\u001b[0mCollecting azure-search-documents==11.6.0b11\n  Using cached azure_search_documents-11.6.0b11-py3-none-any.whl (338 kB)\nRequirement already satisfied: azure-core>=1.28.0 in /anaconda/envs/azureml_py38/lib/python3.10/site-packages (from azure-search-documents==11.6.0b11) (1.30.2)\nRequirement already satisfied: isodate>=0.6.0 in /anaconda/envs/azureml_py38/lib/python3.10/site-packages (from azure-search-documents==11.6.0b11) (0.6.1)\nRequirement already satisfied: azure-common>=1.1 in /anaconda/envs/azureml_py38/lib/python3.10/site-packages (from azure-search-documents==11.6.0b11) (1.1.28)\nRequirement already satisfied: typing-extensions>=4.6.0 in /anaconda/envs/azureml_py38/lib/python3.10/site-packages (from azure-search-documents==11.6.0b11) (4.12.2)\nRequirement already satisfied: six>=1.11.0 in /anaconda/envs/azureml_py38/lib/python3.10/site-packages (from azure-core>=1.28.0->azure-search-documents==11.6.0b11) (1.16.0)\nRequirement already satisfied: requests>=2.21.0 in /anaconda/envs/azureml_py38/lib/python3.10/site-packages (from azure-core>=1.28.0->azure-search-documents==11.6.0b11) (2.32.3)\nRequirement already satisfied: certifi>=2017.4.17 in /anaconda/envs/azureml_py38/lib/python3.10/site-packages (from requests>=2.21.0->azure-core>=1.28.0->azure-search-documents==11.6.0b11) (2024.8.30)\nRequirement already satisfied: charset-normalizer<4,>=2 in /anaconda/envs/azureml_py38/lib/python3.10/site-packages (from requests>=2.21.0->azure-core>=1.28.0->azure-search-documents==11.6.0b11) (3.3.2)\nRequirement already satisfied: urllib3<3,>=1.21.1 in /anaconda/envs/azureml_py38/lib/python3.10/site-packages (from requests>=2.21.0->azure-core>=1.28.0->azure-search-documents==11.6.0b11) (1.26.19)\nRequirement already satisfied: idna<4,>=2.5 in /anaconda/envs/azureml_py38/lib/python3.10/site-packages (from requests>=2.21.0->azure-core>=1.28.0->azure-search-documents==11.6.0b11) (3.7)\nInstalling collected packages: azure-search-documents\nSuccessfully installed azure-search-documents-11.6.0b11\nRequirement already satisfied: openai==0.28.1 in /anaconda/envs/azureml_py38/lib/python3.10/site-packages (0.28.1)\nRequirement already satisfied: aiohttp in /anaconda/envs/azureml_py38/lib/python3.10/site-packages (from openai==0.28.1) (3.10.1)\nRequirement already satisfied: requests>=2.20 in /anaconda/envs/azureml_py38/lib/python3.10/site-packages (from openai==0.28.1) (2.32.3)\nRequirement already satisfied: tqdm in /anaconda/envs/azureml_py38/lib/python3.10/site-packages (from openai==0.28.1) (4.66.4)\nRequirement already satisfied: charset-normalizer<4,>=2 in /anaconda/envs/azureml_py38/lib/python3.10/site-packages (from requests>=2.20->openai==0.28.1) (3.3.2)\nRequirement already satisfied: urllib3<3,>=1.21.1 in /anaconda/envs/azureml_py38/lib/python3.10/site-packages (from requests>=2.20->openai==0.28.1) (1.26.19)\nRequirement already satisfied: idna<4,>=2.5 in /anaconda/envs/azureml_py38/lib/python3.10/site-packages (from requests>=2.20->openai==0.28.1) (3.7)\nRequirement already satisfied: certifi>=2017.4.17 in /anaconda/envs/azureml_py38/lib/python3.10/site-packages (from requests>=2.20->openai==0.28.1) (2024.8.30)\nRequirement already satisfied: aiosignal>=1.1.2 in /anaconda/envs/azureml_py38/lib/python3.10/site-packages (from aiohttp->openai==0.28.1) (1.3.1)\nRequirement already satisfied: async-timeout<5.0,>=4.0 in /anaconda/envs/azureml_py38/lib/python3.10/site-packages (from aiohttp->openai==0.28.1) (4.0.3)\nRequirement already satisfied: multidict<7.0,>=4.5 in /anaconda/envs/azureml_py38/lib/python3.10/site-packages (from aiohttp->openai==0.28.1) (6.0.5)\nRequirement already satisfied: attrs>=17.3.0 in /anaconda/envs/azureml_py38/lib/python3.10/site-packages (from aiohttp->openai==0.28.1) (24.2.0)\nRequirement already satisfied: frozenlist>=1.1.1 in /anaconda/envs/azureml_py38/lib/python3.10/site-packages (from aiohttp->openai==0.28.1) (1.4.1)\nRequirement already satisfied: aiohappyeyeballs>=2.3.0 in /anaconda/envs/azureml_py38/lib/python3.10/site-packages (from aiohttp->openai==0.28.1) (2.3.5)\nRequirement already satisfied: yarl<2.0,>=1.0 in /anaconda/envs/azureml_py38/lib/python3.10/site-packages (from aiohttp->openai==0.28.1) (1.9.4)\n^C\n\u001b[31mERROR: Operation cancelled by user\u001b[0m\u001b[31m\n\u001b[0m"
        }
      ],
      "execution_count": 31,
      "metadata": {}
    },
    {
      "cell_type": "code",
      "source": [
        "import os\n",
        "\n",
        "print(\"Current working directory:\", os.getcwd())\n",
        "print(\"Files in 'data':\", os.listdir(\"../data\"))\n"
      ],
      "outputs": [
        {
          "output_type": "stream",
          "name": "stdout",
          "text": "Current working directory: /mnt/batch/tasks/shared/LS_root/mounts/clusters/amlicfg-ci3cf4d/code/Users/aoaitfs251786/azure-e2e-ai-fleet-maintenance-platform/notebooks\nFiles in 'data': ['.amlignore', '.amlignore.amltmp', 'Fleet maintenance best practices across industries.docx', 'Fleet vehicle maintenance A comprehensive guide.docx', 'Fleet_Maintenance_Tips.docx', 'raw_fleet_data.csv', 'test.txt', 'Top 10 tips on Fleet Preventive Maintenance.docx']\n"
        }
      ],
      "execution_count": 103,
      "metadata": {
        "gather": {
          "logged": 1744229773260
        }
      }
    },
    {
      "cell_type": "code",
      "source": [
        "from docx import Document\n",
        "from pathlib import Path\n",
        "\n",
        "def extract_text_from_docx(file_path):\n",
        "    doc = Document(file_path)\n",
        "    return \"\\n\".join([para.text for para in doc.paragraphs])\n",
        "\n",
        "# Safer path handling\n",
        "docx_files = [\n",
        "    Path(\"../data\") / \"Fleet maintenance best practices across industries.docx\",\n",
        "    Path(\"../data\") / \"Top 10 tips on Fleet Preventive Maintenance.docx\",\n",
        "    Path(\"../data\") / \"Fleet vehicle maintenance A comprehensive guide.docx\",\n",
        "    Path(\"../data\") / \"Fleet_Maintenance_Tips.docx\"\n",
        "]\n",
        "\n",
        "documents = {}\n",
        "\n",
        "for file_path in docx_files:\n",
        "    if not file_path.exists():\n",
        "        print(f\" File not found: {file_path}\")\n",
        "        continue\n",
        "    file_name = file_path.name\n",
        "    text = extract_text_from_docx(file_path)\n",
        "    documents[file_name] = text\n",
        "\n",
        "print(f\" Successfully loaded {len(documents)} documents.\")\n"
      ],
      "outputs": [
        {
          "output_type": "stream",
          "name": "stdout",
          "text": " Successfully loaded 4 documents.\n"
        }
      ],
      "execution_count": 104,
      "metadata": {
        "gather": {
          "logged": 1744229777637
        }
      }
    },
    {
      "cell_type": "code",
      "source": [
        "%%writefile .env\n",
        "SUBSCRIPTIONID=791f5d76-9639-49f6-8681-d47dba4aa465\n",
        "RESOURCEGROUP=rg-contosofleetguard-l3cf4d\n",
        "\n",
        "AML_WORKSPACE_NAME=amlws-cfg-ws3cf4d\n",
        "AML_COMPUTE_INSTANCE=amlicfg-ci3cf4d\n",
        "AML_CLUSTER=amlccfg-aml-cluster\n",
        "\n",
        "PG_HOST=azpostsql-cfg-psql3cf4d.postgres.database.azure.com\n",
        "PG_DB=flexibleserverdb\n",
        "PG_USER=citus\n",
        "PG_PASSWORD=Fhtest208\n",
        "PG_PORT=5432\n",
        "\n",
        "AZURE_SEARCH_ENDPOINT=https://fleet-search-service3cf4d.search.windows.net\n",
        "AZURE_SEARCH_KEY=R59zgdnZJqbIJB6NXBnIb1y7rTaEZtvJmmKXm2kGwuAzSeCXIEcG\n",
        "AZURE_SEARCH_INDEX_NAME=fleet_index\n",
        "\n",
        "AZURE_OPENAI_KEY=2t38UCg6oMyb4w4gATvxSkowr6JdDJfutieALZD2cXxSlVkmzC40JQQJ99BDACYeBjFXJ3w3AAABACOGecV5\n",
        "AZURE_OPENAI_ENDPOINT= https://fleet34jhgh34.openai.azure.com/\n",
        "AZURE_OPENAI_embedding_DEPLOYMENT=text-embedding-ada-002\n",
        "AZURE_OPENAI_CHAT_DEPLOYMENT=gpt-35-turbo-16k\n"
      ],
      "outputs": [
        {
          "output_type": "stream",
          "name": "stdout",
          "text": "Overwriting .env\n"
        }
      ],
      "execution_count": 105,
      "metadata": {}
    },
    {
      "cell_type": "code",
      "source": [
        "%%writefile .env\n",
        "\n",
        "SUBSCRIPTIONID=791f5d76-9639-49f6-8681-d47dba4aa465\n",
        "RESOURCEGROUP=rg-contosofleetguard-l3cf4d\n",
        "\n",
        "AZURE_OPENAI_KEY=<Your Azure openAI keu>\n",
        "AZURE_OPENAI_ENDPOINT= <Your Azure OpenAI Endpoint>\n",
        "AZURE_OPENAI_DEPLOYMENT=<Your embedding deployment name>\n",
        "AZURE_OPENAI_CHAT_DEPLOYMENT=<Your GPT chat model deployment name >\n",
        "\n",
        "PG_HOST=<Your postgreSQL HosT>\n",
        "PG_DB=<your db name>\n",
        "PG_USER=<your db username>\n",
        "PG_PASSWORD=<your db password>\n",
        "PG_PORT=5432\n",
        "\n",
        "AZURE_SEARCH_ENDPOINT=<Your Azure Serach service ennpoint>\n",
        "AZURE_SEARCH_KEY=<Your Azure Serach service key>\n",
        "AZURE_SEARCH_INDEX_NAME=fleet_index\n",
        "\n"
      ],
      "outputs": [
        {
          "output_type": "stream",
          "name": "stdout",
          "text": "Overwriting .env\n"
        }
      ],
      "execution_count": 3,
      "metadata": {}
    },
    {
      "cell_type": "code",
      "source": [
        "#  Intelligent Fleet Maintenance - Prediction Upload and Search Index Notebook\n",
        "\n",
        "import os\n",
        "import pandas as pd\n",
        "import time\n",
        "from sqlalchemy import create_engine, text\n",
        "from azure.search.documents import SearchClient\n",
        "from azure.core.credentials import AzureKeyCredential\n",
        "from dotenv import load_dotenv\n",
        "import openai\n",
        "import json\n",
        "\n",
        "# ========================\n",
        "# 1. Load Predictions from PostgreSQL\n",
        "# ========================\n",
        "\n",
        "load_dotenv(\".env\")\n",
        "\n",
        "DB_CONNECTION_STRING = f\"postgresql://{os.getenv('PG_USER')}:{os.getenv('PG_PASSWORD')}@{os.getenv('PG_HOST')}:{os.getenv('PG_PORT')}/{os.getenv('PG_DB')}\"\n",
        "engine = create_engine(DB_CONNECTION_STRING)\n",
        "\n",
        "query = text(\"SELECT * FROM predictions;\")\n",
        "with engine.connect() as connection:\n",
        "    result = connection.execute(query)\n",
        "    df = pd.DataFrame(result.fetchall(), columns=result.keys())\n",
        "\n",
        "print(\" Loaded predictions from PostgreSQL\")\n",
        "\n",
        "# ========================\n",
        "# 2. Join with Maintenance Tips\n",
        "# ========================\n",
        "\n",
        "tip_query = text(\"SELECT * FROM maintenance_tips;\")\n",
        "with engine.connect() as connection:\n",
        "    result = connection.execute(tip_query)\n",
        "    tips_df = pd.DataFrame(result.fetchall(), columns=result.keys())\n",
        "\n",
        "# Merge\n",
        "merged_df = pd.merge(df, tips_df, on=\"maintenanceflag\", how=\"left\")\n",
        "\n",
        "# Estimate cost from text field (if needed)\n",
        "merged_df[\"estimated_cost\"] = merged_df[\"cost_estimation\"].fillna(\"Estimate Pending\")\n",
        "\n",
        "print(\" Joined predictions with maintenance tips and cost estimates\")\n",
        "\n",
        "# ========================\n",
        "# 3. Upload to Azure AI Search\n",
        "# ========================\n",
        "\n",
        "# Required format\n",
        "merged_df[\"vehicleid\"] = merged_df[\"vehicleid\"].astype(str)\n",
        "\n",
        "upload_df = merged_df[[\n",
        "    \"vehicleid\", \"enginehealth\", \"vehiclespeedsensor\", \"enginecoolanttemp\", \"enginerpm\",\n",
        "    \"massairflowrate\", \"speedgps\", \"litresper100kminst\", \"co2ingperkminst\",\n",
        "    \"triptimejourney\", \"maintenanceflag\", \"tip\", \"estimated_cost\"\n",
        "]]\n",
        "\n",
        "records = upload_df.to_dict(orient=\"records\")\n",
        "\n",
        "# Azure AI Search config\n",
        "search_service_name = \"fleet-search-service3cf4d\"\n",
        "admin_key = \"R59zgdnZJqbIJB6NXBnIb1y7rTaEZtvJmmKXm2kGwuAzSeCXIEcG\"  #  REPLACE in prod!\n",
        "index_name = \"fleet-index\"\n",
        "\n",
        "search_client = SearchClient(\n",
        "    endpoint=f\"https://{search_service_name}.search.windows.net\",\n",
        "    index_name=index_name,\n",
        "    credential=AzureKeyCredential(admin_key)\n",
        ")\n",
        "\n",
        "# Upload\n",
        "batch_size = 1000\n",
        "for i in range(0, len(records), batch_size):\n",
        "    batch = records[i:i+batch_size]\n",
        "    result = search_client.upload_documents(documents=batch)\n",
        "    print(f\" Uploaded {len(result)} records in batch {i // batch_size + 1}\")\n",
        "\n",
        "print(\" All predictions uploaded to Azure AI Search index!\")\n",
        "\n",
        "# ========================\n",
        "# 4. Generate Embeddings for Maintenance Tips and Save to PostgreSQL\n",
        "# ========================\n",
        "\n",
        "openai.api_type = \"azure\"\n",
        "openai.api_base = \"https://fleet34jhgh34.openai.azure.com/\"\n",
        "openai.api_key = \"2t38UCg6oMyb4w4gATvxSkowr6JdDJfutieALZD2cXxSlVkmzC40JQQJ99BDACYeBjFXJ3w3AAABACOGecV5\"\n",
        "openai.api_version = \"2023-05-15\"\n",
        "deployment_name = \"text-embedding-ada-002\"\n",
        "\n",
        "def get_embedding(text):\n",
        "    response = openai.Embedding.create(\n",
        "        input=text,\n",
        "        engine=deployment_name\n",
        "    )\n",
        "    return response['data'][0]['embedding']\n",
        "\n",
        "with engine.begin() as conn:\n",
        "    for idx, row in tips_df.iterrows():\n",
        "        embedding = get_embedding(row['tip'])\n",
        "        update_stmt = text(\"UPDATE maintenance_tips SET tip_embedding = :embedding WHERE id = :id\")\n",
        "        conn.execute(update_stmt, {\"embedding\": json.dumps(embedding), \"id\": row['id']})\n",
        "        print(f\" Updated tip_embedding for maintenanceflag {row['maintenanceflag']}\")\n",
        "\n",
        "print(\" All tip embeddings updated in PostgreSQL\")\n"
      ],
      "outputs": [
        {
          "output_type": "stream",
          "name": "stdout",
          "text": " Loaded predictions from PostgreSQL\n Joined predictions with maintenance tips and cost estimates\n All predictions uploaded to Azure AI Search index!\n Updated tip_embedding for maintenanceflag 0\n Updated tip_embedding for maintenanceflag 1\n Updated tip_embedding for maintenanceflag 2\n Updated tip_embedding for maintenanceflag 3\n Updated tip_embedding for maintenanceflag 4\n All tip embeddings updated in PostgreSQL\n"
        }
      ],
      "execution_count": 106,
      "metadata": {
        "gather": {
          "logged": 1744229784686
        }
      }
    },
    {
      "cell_type": "code",
      "source": [
        "from dotenv import load_dotenv\n",
        "import os\n",
        "\n",
        "# Explicitly load .env from current directory\n",
        "load_dotenv(dotenv_path=\".env\")\n",
        "print(\"AZURE_SEARCH_KEY:\", os.getenv(\"AZURE_SEARCH_KEY\"))\n"
      ],
      "outputs": [
        {
          "output_type": "stream",
          "name": "stdout",
          "text": "AZURE_SEARCH_KEY: JBdqudQ20M83rcTj3poEMtgGLk3UfnY7BKRNAGSj5KAzSeBrXu2E\n"
        }
      ],
      "execution_count": 107,
      "metadata": {
        "gather": {
          "logged": 1744229792523
        }
      }
    },
    {
      "cell_type": "code",
      "source": [
        "import time\n",
        "import openai\n",
        "from dotenv import load_dotenv\n",
        "from docx import Document\n",
        "import os\n",
        "\n",
        "# Load .env\n",
        "load_dotenv()\n",
        "\n",
        "# Azure OpenAI setup\n",
        "openai.api_type = \"azure\"\n",
        "openai.api_base = \"https://fleet34jhgh34.openai.azure.com/\"\n",
        "openai.api_key = \"2t38UCg6oMyb4w4gATvxSkowr6JdDJfutieALZD2cXxSlVkmzC40JQQJ99BDACYeBjFXJ3w3AAABACOGecV5\"\n",
        "openai.api_version = \"2023-05-15\"\n",
        "deployment_name = \"text-embedding-ada-002\"\n",
        "\n",
        "def get_embedding(text):\n",
        "    while True:\n",
        "        try:\n",
        "            response = openai.Embedding.create(\n",
        "                input=text,\n",
        "                engine=deployment_name\n",
        "            )\n",
        "            return response['data'][0]['embedding']\n",
        "        except openai.error.RateLimitError:\n",
        "            print(\"Rate limit exceeded. Retrying in 60 seconds...\")\n",
        "            time.sleep(60)\n",
        "\n",
        "# Assuming `documents` is a dict: {filename: content}\n",
        "embeddings = {\n",
        "    filename: get_embedding(content)\n",
        "    for filename, content in documents.items()\n",
        "}\n"
      ],
      "outputs": [],
      "execution_count": 108,
      "metadata": {
        "gather": {
          "logged": 1744229795987
        }
      }
    },
    {
      "cell_type": "code",
      "source": [
        "import psycopg2\n",
        "import numpy as np\n",
        "\n",
        "# Connection details - update as per your PostgreSQL server\n",
        "conn = psycopg2.connect(\n",
        "    dbname=os.getenv(\"PG_DB\"),\n",
        "    user=os.getenv(\"PG_USER\"),\n",
        "    password=os.getenv(\"PG_PASSWORD\"),\n",
        "    host=os.getenv(\"PG_HOST\"),\n",
        "    port=os.getenv(\"PG_PORT\"),\n",
        "    sslmode='require'  # required for Azure\n",
        ")\n",
        "\n",
        "cur = conn.cursor()\n",
        "\n",
        "# Insert documents into PostgreSQL table\n",
        "for filename, content in documents.items():\n",
        "    embedding_vector = np.array(embeddings[filename]).tolist()\n",
        "    \n",
        "    cur.execute(\n",
        "        \"INSERT INTO maintenance_documents (filename, content, embeddings) VALUES (%s, %s, %s)\",\n",
        "        (filename, content, embedding_vector)\n",
        "    )\n",
        "\n",
        "conn.commit()\n",
        "cur.close()\n",
        "conn.close()\n",
        "print(\"Documents and embeddings inserted successfully.\")\n"
      ],
      "outputs": [
        {
          "output_type": "stream",
          "name": "stdout",
          "text": "Documents and embeddings inserted successfully.\n"
        }
      ],
      "execution_count": 109,
      "metadata": {
        "gather": {
          "logged": 1744229799521
        }
      }
    },
    {
      "cell_type": "code",
      "source": [
        "import psycopg2\n",
        "import numpy as np\n",
        "import json  # Optional: to pretty-print\n",
        "\n",
        "# Connect to the database\n",
        "conn = psycopg2.connect(\n",
        "    dbname=os.getenv(\"PG_DB\"),\n",
        "    user=os.getenv(\"PG_USER\"),\n",
        "    password=os.getenv(\"PG_PASSWORD\"),\n",
        "    host=os.getenv(\"PG_HOST\"),\n",
        "    port=os.getenv(\"PG_PORT\"),\n",
        "    sslmode='require'  # required for Azure \n",
        ")\n",
        "\n",
        "cur = conn.cursor()\n",
        "\n",
        "# Fetch records from the table\n",
        "cur.execute(\"SELECT filename, content, embeddings FROM maintenance_documents LIMIT 5\")  # You can change the LIMIT\n",
        "\n",
        "rows = cur.fetchall()\n",
        "\n",
        "for row in rows:\n",
        "    filename, content, embedding = row\n",
        "    print(f\"Filename: {filename}\")\n",
        "    print(f\"Content: {content[:100]}...\")  # Print a snippet of content\n",
        "    print(f\"Embedding Vector Length: {len(embedding)}\")\n",
        "    print(f\"First 5 Embedding Values: {embedding[:5]}\\n\")  # Show first few values\n",
        "\n",
        "\n",
        "\n",
        "cur.close()\n",
        "conn.close()\n"
      ],
      "outputs": [
        {
          "output_type": "stream",
          "name": "stdout",
          "text": "Filename: Fleet maintenance best practices across industries.docx\nContent: Fleet maintenance best practices across industries.\nFleet maintenance helps keep vehicles in good co...\nEmbedding Vector Length: 19370\nFirst 5 Embedding Values: [0.01\n\nFilename: Top 10 tips on Fleet Preventive Maintenance.docx\nContent: Top 10 tips on Fleet Preventive Maintenance\nDiscover the top 10 tips on preventive maintenance and l...\nEmbedding Vector Length: 19411\nFirst 5 Embedding Values: [0.01\n\nFilename: Fleet vehicle maintenance A comprehensive guide.docx\nContent: Fleet vehicle maintenance: A comprehensive guide\nFleet vehicle maintenance is essential for keeping ...\nEmbedding Vector Length: 19327\nFirst 5 Embedding Values: [0.01\n\nFilename: Fleet_Maintenance_Tips.docx\nContent: Fleet Maintenance Tips & Cost Estimation Guide\nThis document provides a detailed guide on fleet main...\nEmbedding Vector Length: 19363\nFirst 5 Embedding Values: [-0.0\n\nFilename: Fleet maintenance best practices across industries.docx\nContent: Fleet maintenance best practices across industries.\nFleet maintenance helps keep vehicles in good co...\nEmbedding Vector Length: 19370\nFirst 5 Embedding Values: [0.01\n\n"
        }
      ],
      "execution_count": 110,
      "metadata": {
        "gather": {
          "logged": 1744229802131
        }
      }
    },
    {
      "cell_type": "code",
      "source": [
        "query_text = \"how to reduce fleet repair costs\"\n",
        "query_embedding = get_embedding(query_text)\n"
      ],
      "outputs": [],
      "execution_count": 111,
      "metadata": {
        "gather": {
          "logged": 1744229806420
        }
      }
    },
    {
      "cell_type": "code",
      "source": [
        "import psycopg2\n",
        "import numpy as np\n",
        "\n",
        "# Assume query_embedding is a list or numpy array\n",
        "query_embedding = np.array(query_embedding).tolist()\n",
        "\n",
        "# Connect to the database\n",
        "conn = psycopg2.connect(\n",
        "    dbname=os.getenv(\"PG_DB\"),\n",
        "    user=os.getenv(\"PG_USER\"),\n",
        "    password=os.getenv(\"PG_PASSWORD\"),\n",
        "    host=os.getenv(\"PG_HOST\"),\n",
        "    port=os.getenv(\"PG_PORT\"),\n",
        "    sslmode='require'\n",
        ")\n",
        "cur = conn.cursor()\n",
        "\n",
        "# SQL to get only the embeddings of top 5 most similar records\n",
        "sql = \"\"\"\n",
        "    SELECT embeddings\n",
        "    FROM maintenance_documents\n",
        "    ORDER BY embeddings <=> %s::vector\n",
        "    LIMIT 5;\n",
        "\"\"\"\n",
        "\n",
        "cur.execute(sql, (query_embedding,))\n",
        "results = cur.fetchall()\n",
        "\n",
        "# Each result is a tuple with one element: the embedding vector\n",
        "for (embedding,) in results:\n",
        "    print(embedding)  # Just prints the full embedding vector\n",
        "\n",
        "cur.close()\n",
        "conn.close()\n"
      ],
      "outputs": [
        {
          "output_type": "stream",
          "name": "stdout",
          "text": "[0.01469292,0.0028073974,0.005231073,-0.028729906,-0.00884199,-0.0026450537,0.0010863906,-0.0051392424,0.0008084386,-0.0059821177,-0.015034006,0.026919529,-0.015834246,0.013643426,-0.00041979773,0.0018513736,0.037073385,-0.013085882,0.017644623,-0.013217069,-0.029280892,-0.009917721,-0.026473494,-0.015230786,-0.0014069784,-0.0052901073,0.028546246,-0.021501515,-0.022419821,-0.008914142,0.016267162,-0.007457969,0.0029910589,0.0008281166,-0.008697684,0.0020645522,0.026079934,-0.031904627,-0.010776995,-0.01567682,0.03646993,0.016726315,-0.003843773,-0.002551583,-0.00023900594,0.021081718,0.01380085,0.010409672,-0.009825891,0.007471088,-0.0011634629,0.005381938,-0.014364953,-0.011505081,-0.011524759,0.0019054881,-0.009294584,0.036889724,-0.017001808,-0.023390604,-0.019796086,0.018510455,-0.028861094,0.0006731522,0.0010560537,-0.0003515396,0.00228429,0.017106757,-0.019336933,-0.008953499,0.025581423,0.03484321,0.012856306,0.008376276,0.0054376926,-0.03437094,-0.0024499132,0.0030468132,0.009117482,0.009655348,0.033216495,0.0058771684,-0.015611228,0.03316402,0.02007158,-0.004417715,0.02164582,-0.001608678,-0.00026565325,-0.0002373661,-0.0038896883,0.011544437,0.02185572,0.012620169,0.006713484,0.011603472,0.00754324,0.005998516,0.0043619606,-0.013033408,0.010304722,0.021829482,-0.013131797,0.0031501227,-0.023167588,-0.010547418,0.013099001,-0.00030726407,0.0014168173,-0.03526301,-0.014587971,0.033426393,-0.01836615,-0.007097205,0.012567694,0.013682782,-0.00447019,-0.03316402,-0.033636294,-0.010160417,0.019678019,0.017421605,0.029963063,-0.010796673,0.014115699,0.0045915376,0.016923096,0.021265378,-0.013813969,-0.0053163446,-0.008100784,0.0011200072,-0.006024753,0.020425783,-0.032088287,-0.010881945,-0.0075497995,0.008238531,-0.008704243,-0.03366253,0.020005986,0.019087678,-0.010645808,-0.013118679,0.010317841,0.02076687,0.02572573,0.016568892,0.0064379917,-0.017697098,-0.0043881983,-0.0060805078,0.010344079,-0.0051818783,0.0041028666,-0.0038470526,0.010599893,-0.0074317316,-0.008920701,-0.0060313125,0.023180706,-0.012502101,0.0341348,0.029018518,-0.0048899874,0.016923096,-0.012187253,-0.0019038483,-0.003912646,0.008782956,-0.0070053744,0.020425783,-0.031930864,0.012771034,-0.015427566,0.018746592,-0.00092814653,0.0019612424,-0.022721551,-0.04764704,0.014063224,0.008887905,0.035604093,0.04169116,0.0049523013,-0.01955995,0.024151487,0.00803519,0.025424,-0.011190233,0.0020711115,0.018326795,-0.024846777,-0.021934431,-0.6305362,-0.013577833,0.014955294,0.0066019753,-0.012390592,0.009701263,0.012206931,-0.030723946,-0.035787757,0.0052868277,0.007418613,0.0026499731,-0.016122857,0.0038372136,0.005053971,-0.029569503,-0.005578718,-0.036706064,-0.0010166976,0.0010052188,-0.020202765,0.03854268,-0.018444862,0.023259418,0.032639273,0.0064871865,0.0038306543,0.0041946974,-0.015322617,0.02870367,0.0022957688,0.021514634,-0.0004956401,0.0109213,0.043554015,-0.0040077562,-0.02820516,0.028231397,0.011767455,0.023980945,0.0076744272,-0.019691138,0.017329775,0.009051888,0.015899839,-0.012521779,0.044813406,-0.007221833,-0.0032353941,-0.021711413,0.018562932,0.018025065,-0.021383448,0.0136565445,-0.011747777,-0.034816973,0.02493861,-0.012193812,0.008330361,0.008166377,-0.005214675,0.022472298,-0.0019432043,-0.0048243944,-0.036076367,0.03397738,-0.0037683405,-0.016345873,0.0025105872,-0.027759125,-0.009989874,-0.0065888567,-0.018510455,-0.013472883,0.023967827,0.0018628524,0.039382275,-0.017933235,-0.0058738887,-0.0063986355,0.012259405,-0.0015037286,-0.013958274,-0.031930864,0.011157436,0.03605013,-0.0037650608,-0.027942786,0.01676567,-0.0025876595,0.032717984,0.0045423424,0.00032366242,-0.029175943,0.010816351,-0.004178299,-0.013072764,0.0015611228,0.014837226,-0.020281477,-0.039644647,0.008920701,0.013866443,-0.0036469928,0.012613609,-0.0046538515,-0.0022859299,-0.006775798,0.017618386,-0.015401329,0.0072939857,0.016477061,-0.013381053,0.0024712312,-0.009517602,-0.024741828,-0.007497325,-0.012561135,-0.0075825965,-0.0050474117,-0.0132236285,-0.0058738887,0.022708433,-0.027837837,0.0059526004,-0.0052966666,0.013125238,0.013295781,0.000635846,-0.022170568,0.0034731703,0.034502126,0.005273709,-0.0044833086,0.016726315,-0.011708421,0.009779975,-0.0068610692,0.0008322162,-0.021239141,0.003722425,0.0035059669,0.00051080855,-0.013276103,0.0066642887,-0.013322018,-0.01529638,0.0070840865,-0.011964235,-0.0036666708,-0.0016701719,-0.01568994,-0.018156251,0.009570076,-0.008205733,-0.010455587,-0.009504483,-0.019284459,-0.010560537,-0.021291615,-0.001767742,-0.012567694,-0.022760907,0.0023056078,0.007890886,-0.0034666108,0.0023220063,0.005880448,-0.013761494,-0.040562954,-0.012587372,-0.002262972,-0.0023482435,0.023994064,0.007936801,0.017329775,-0.026237357,-0.014929057,0.0069856965,-0.009878365,0.0020678318,0.0053097853,-0.012882543,-0.0034731703,0.02949079,-0.0018480939,0.037283286,0.0057427017,-0.02244606,0.031537306,-0.0024449937,-0.019691138,0.010298163,-0.025424,-0.005686947,0.018812185,-0.023967827,-0.00085517386,-0.00084861455,0.019874798,0.027365563,-0.019140152,0.015178312,-0.04318669,-0.011236149,-0.035813995,0.01746096,-0.01718547,0.022223042,0.020032223,0.0021891796,-0.012003591,-0.010121061,-0.030645235,0.014483022,0.0037060268,0.0043160454,0.016227806,0.008625532,-0.012980932,0.0041028666,0.00073546596,0.036391217,-0.0121610155,-0.0024449937,0.02255101,0.0144174285,0.012666085,-0.009911162,-0.014640446,-0.022131212,0.02164582,-0.0018382549,0.01857605,0.037886746,0.041455027,0.008218853,-0.018011946,0.014364953,-0.021777008,0.041953534,0.027942786,0.025673255,-0.009163397,0.021134192,0.030855132,0.021186667,0.016293399,-0.010776995,0.015152074,-0.008028631,0.0077596987,-0.0019104077,-0.012265964,-0.009392974,-0.010481824,0.03009425,-0.009392974,0.008546819,0.010855706,0.04557429,0.008632091,-0.015965432,-0.021803245,-0.020530732,0.0024515532,0.011452607,-0.00076703273,0.0035092465,-0.0025778203,-0.008822312,-0.008796074,0.02025524,-0.023010163,0.040746618,0.032613035,-0.0062608896,0.016424585,0.01519143,0.03822783,-0.0066183736,-0.009130601,0.024282675,0.017841402,-0.013190832,-0.018208727,-0.021212904,0.00714968,0.03214076,0.006274008,-0.0038142558,0.021973787,-0.020819344,0.016017906,0.013590951,0.0012839907,0.022393584,0.015152074,0.026840817,0.018221846,-0.012429948,0.010311281,-0.038254067,-0.017736454,0.023810402,-0.0015299659,0.0016062183,-0.021435922,-0.00051982765,0.005837812,0.0035912383,-0.02007158,0.0004636633,-0.01768398,0.0045915376,0.010180095,0.00058173144,-0.0055590402,0.025699493,-0.0015644025,-0.018825304,0.00834348,-0.0104883835,0.010239129,0.08511399,-0.0024859896,0.018707236,0.0206488,-0.029070992,-0.0025647017,0.0028943087,-0.026565325,-0.00913716,-0.0029369444,-0.0026302952,-0.0048506316,0.007471088,-0.016857503,0.019323815,-0.016201569,-0.02870367,-0.006542941,0.007877767,-0.010783554,-0.010547418,-0.018418625,0.0069660186,-0.0023449638,0.0421372,-0.01042279,0.027129428,0.02799526,0.0118133705,0.0008600934,-0.0086452095,0.017841402,0.008087666,0.010744198,-0.009150279,-0.0023941589,0.009917721,0.023954708,0.01676567,0.0058870073,0.01738225,0.0046013766,-0.0021760608,0.005542642,0.012843187,0.00268113,0.0142862415,0.016700078,-0.0118133705,-0.02185572,0.0122462865,0.018707236,-0.015125837,0.0017546233,0.02920218,-0.012731678,0.008271327,0.0055918368,-0.011295183,-0.0044865883,-0.015663702,-0.01738225,0.014653564,-0.003565001,-0.031117506,0.012679203,0.0027877192,-0.0030960082,-0.023443079,0.031143744,0.0043717995,-0.022760907,-0.029910589,0.004893267,0.025397763,0.023010163,0.015939195,-0.010068586,-0.0022121372,0.008592735,0.014246886,-0.004847352,0.019008966,-0.04268818,0.0054868874,0.0029746604,0.0030828896,0.005778778,-0.016831266,-0.0023498833,0.018589169,-0.0036535522,0.03534172,-0.01607038,-0.002830355,0.0019333654,0.0051359627,0.001669352,0.014312479,-0.0092749065,0.0028467532,0.011531319,-0.0035125264,-0.025450237,-0.0068873065,-0.0039060866,0.005749261,-0.01579489,0.00734646,-0.009484805,-0.0007936801,-0.0071824766,-0.03925109,0.015060243,-0.01736913,-0.00021502335,0.008586176,-0.014784751,0.0061100246,-0.0055655995,0.010048908,-0.02512227,0.034003615,0.008868227,-0.009976755,0.0024482734,-0.0034338143,-0.017749572,-0.021698294,0.008999414,0.029070992,0.035735283,-0.022223042,-0.049431182,-0.04764704,-0.01549316,-0.0059427614,0.009196194,-0.03148483,-0.016949333,-0.016700078,0.009740619,0.02533217,-0.006067389,0.07299233,-0.021173548,0.003892968,-0.00625761,-0.004142223,0.031222455,0.0023302054,-0.007077527,-0.05171383,-0.023469316,-0.0104031125,-0.029831875,0.015926076,-0.01676567,0.015821127,0.035289247,0.030409098,-0.0015217668,-0.011754337,-0.020176528,-0.0036305944,-0.0048211147,-0.04777823,-0.00040483422,-0.006972578,0.0024843498,0.009655348,-0.004627614,-0.00784497,-0.0034469329,-0.0094257705,0.027365563,-0.01807754,-0.0069332216,-0.018444862,-0.021278497,-0.005322904,0.0029221857,-0.0065691783,0.013551596,-0.06543597,-0.026670273,-0.010389994,0.03009425,0.01469292,0.014509259,0.0017365852,0.0069660186,0.020268358,0.004647292,0.014141936,-0.001579161,-0.005240912,-0.050716814,-0.030540284,-0.010914741,0.012429948,-0.0026548926,0.012508661,0.00625761,-0.016805029,0.0049588606,0.00833692,-0.04090404,0.014063224,-0.0098390095,-0.009812772,-0.012331558,0.0010060387,0.016411467,-0.0073333415,0.011078725,0.003981519,0.0069463407,-0.03762437,0.00013467144,0.03290165,-0.0029943385,0.022013143,0.008592735,0.015834246,-0.008559938,0.008559938,-0.012941577,0.010376875,0.0068348316,0.019087678,0.027916549,-0.0045816987,-0.018982729,-0.009399533,0.016083501,-0.0137877315,0.0050014965,-0.029726926,0.03277046,-0.01260705,-0.015624346,-0.008277887,-0.008212293,-0.0060214736,0.0170674,0.018628525,0.01906144,0.0029730205,-0.01201671,-0.017487198,0.015939195,-0.0417174,0.009176516,0.010206332,-0.010048908,0.0077596987,-0.017933235,-0.0011642828,-0.0024220361,-0.0038601712,0.022774026,-0.0123774735,0.0154800415,0.01042935,0.00012032288,0.0010043988,0.0076022744,0.02175077,0.020911174,-0.0022498535,-0.019927273,-0.0017661022,0.0009601233,-0.025069796,-0.019940391,-0.0032845892,-0.0024089175,-0.021173548,-0.02412525,-0.007969597,0.02632919,-0.033924904,-0.0025073076,-0.01142637,-0.02959574,-0.009248668,-0.005690227,0.007963038,-0.025660137,-0.04588914,0.008454989,0.005614795,-0.024099013,-0.0037421032,-0.018025065,0.0004546442,0.010881945,-0.011242708,0.013282662,0.009629111,-0.0067167636,-0.024505692,0.00526715,-0.019127034,-0.005572159,0.0036305944,-0.0023482435,-0.025450237,0.021593345,0.003286229,0.015545635,-0.0060837874,-0.0034534922,-0.004260291,0.021632701,0.0024597524,-0.014312479,-0.024584405,0.013984512,-0.021567108,0.00073218625,0.036102604,-0.004785038,-0.0040667905,0.0006231372,0.007569478,-0.00774658,-0.0148897,-0.04510202,-0.03366253,0.018287439,-0.007025053,-0.03116998,-0.006880747,-0.0010790114,-0.018602287,0.03009425,-0.016450824,0.010980334,0.010258807,-0.019782968,-0.004926064,-0.004647292,-0.021003004,-0.0019973188,-0.014758514,-0.012265964,-0.012843187,0.0044439523,-0.015611228,0.0276017,0.014456784,-0.020019105,-0.016621366,-0.017828284,-0.058561783,-0.012449626,0.012285643,-0.009242109,4.0355312e-07,0.0028221558,0.00038372137,0.027549226,0.005427853,0.028624957,-0.0073595787,0.005431133,-0.023587385,0.011387013,0.012023269,-0.024689354,-0.012626728,0.0003099288,-0.0009502843,-0.008382835,0.016857503,0.006277288,0.00566071,-0.0005977198,0.009701263,0.004748962,0.037493184,0.0023318452,0.0060739485,-0.031222455,-0.002671291,-0.0033042673,-0.00071742776,-0.024676235,-0.015322617,0.009576635,-0.021278497,0.0010675325,-0.031747203,-0.005572159,-0.003018936,-0.026184883,-0.019914154,0.008546819,-0.008966617,-0.00045956371,-0.004657131,-0.012429948,0.0042537316,0.012469305,0.005614795,-0.0032813095,0.005608235,-0.018025065,-0.030041775,0.009583195,0.015860483,0.011111521,-0.0028041175,-0.0006325663,-0.0044308337,-0.02323318,0.008822312,0.0028254355,0.0077269017,-0.00021297355,-0.039828308,-0.0067003653,-0.0053589805,-0.024256438,-0.001579981,-0.022878977,-0.005821414,0.017749572,-0.0010052188,-0.018615406,-0.008901023,0.025082914,-0.001329906,0.022918332,0.21105331,-0.0100554675,-0.011944558,0.037571896,-0.0057722186,0.009943958,0.016634485,-0.019402526,-0.005008056,-0.007694105,0.0045325034,-0.017526556,-0.02084558,0.0034206954,0.010717961,-0.0147191575,-0.02243294,0.000764573,0.0031140465,0.03980207,0.013085882,-0.022065617,0.0008658328,0.004017595,0.034029853,0.005240912,-0.010639248,0.026289832,0.037361998,-0.0032599918,-0.010475265,-0.00744485,-0.010298163,-0.001777581,0.010940978,0.016214687,-0.00367323,0.012174134,0.012088862,0.017592149,0.032796696,-0.0043783593,0.011590353,-0.017841402,0.01508648,0.019127034,0.004804716,-0.016516417,-0.010796673,-0.010717961,-0.038595155,-0.011406692,-0.0069332216,0.012134778,-0.015322617,-0.0010404752,-0.0052376324,0.016424585,0.010783554,-0.0057328627,0.009655348,0.01052774,-0.019533712,0.018943373,-0.024768066,0.017172351,0.003784739,-0.025017321,0.005024454,-0.019599305,0.008002394,0.0032157162,0.0109672155,0.012206931,0.00023900594,-0.013282662,0.0018694118,0.017867642,0.019494357,0.015453803,-0.0122462865,-0.012495542,-0.022787144,-0.0073726973,0.034869447,-0.029884351,-0.0012487343,-0.01708052,0.00943233,-0.0073136636,0.0032747502,-0.014089461,-0.019048322,-0.007320223,0.0023023281,-0.0057984563,0.0005977198,0.03198334,-0.009189635,0.0032239154,-0.021239141,0.0436852,-0.0030008978,0.008461548,-0.020176528,0.00496542,0.003196038,0.022708433,-0.008789515,-0.014063224,0.0077531394,-0.044629745,0.0020989887,-0.023010163,0.0043422827,0.023206944,0.024177724,-0.021658938,-0.0059427614,-0.007949919,0.010265366,-0.017565912,0.018300558,-0.027969023,-0.0070381714,-0.003545323,-0.04735843,0.028073972,-0.028913569,-0.013394171,0.028152686,-0.014522377,-0.018130014,-0.018995848,0.0007190676,0.0031550422,0.006880747,-0.036601115,-0.020307714,0.0072087143,0.017251063,0.017893879,0.024151487,0.009583195,0.018090658,-0.021265378,0.01429936,0.003058292,-0.014522377,-0.020242121,-0.011059047,0.012193812,-0.0035715604,0.004614495,0.03814912,0.0031648814,-0.012285643,-0.022577247,0.013282662,-0.0139058,-0.033505104,-0.011583794,0.00486703,0.0033911786,-0.005257311,0.020202765,-0.16403596,0.012397151,0.030723946,0.013486002,0.028231397,-0.017329775,0.022603484,0.014876582,-0.016149094,-0.011662506,0.0031484829,-0.033636294,-0.043475304,-0.032954123,0.015703058,0.016293399,-0.009019092,0.041822348,0.03812288,0.0068610692,0.027050717,-0.020976767,0.0036896286,-0.027496751,-0.006185457,0.029569503,-0.033006597,0.01757903,-0.014023867,-0.026945766,0.0016808307,-0.0022465738,0.022196805,0.024085894,-0.007936801,-0.023075756,-0.018261202,-0.0067889164,-0.008028631,0.051320273,0.015899839,0.020307714,0.0025089474,0.005598396,0.040562954,0.008618972,0.015912957,-0.009812772,0.0297794,-0.009950518,-0.00081294816,-0.0010052188,-0.004230774,0.0050310134,-0.0107507575,-0.007890886,-0.022603484,0.014614209,0.0064379917,-0.028021498,-0.02651285,-0.012921899,-0.014968413,0.011275505,-0.0008035191,-0.026263595,-0.00347645,0.022721551,-0.017657742,0.018326795,-0.010895063,0.0132236285,-0.0037289844,0.007818732,0.032324426,0.0025761805,-0.022262398,0.019284459,0.0016513137,0.010160417,-0.012436507,0.012187253,-0.01479787,-0.020425783,0.0034830093,0.015283261,0.035735283,0.0034994076,-0.032822933,0.010698283,0.030199198,-0.012364355,-0.013374493,0.017001808,0.014653564,0.02105548,0.007910564,-0.011091843,0.027680412,0.032324426,-0.013236747,0.011590353,-0.02899228,0.0033616615,0.004407876,0.01191176,0.048093077,0.0017447843,0.011446048,-0.015532516,-0.037204575,0.014902819,0.022800265,0.027759125,0.014364953,0.003922485,0.024702473,0.003683069,0.0022219762,0.020661918,0.04281937,-0.0053360225,-0.0030943684,0.018300558,-0.010711402,-0.020176528,-0.11261074,-0.028021498,0.012987493,0.015361973,-0.0026368545,0.008389395,0.010291603,0.024072776,0.0054409723,0.023390604,-0.021081718,-0.028231397,-0.007457969,-0.009570076,0.009347059,-0.0051687597,0.008717362,-0.010153857,-0.018156251,0.009983315,0.026158646,-0.02045202,-0.01757903,0.019323815,-0.013551596,0.0015521037,-0.020412665,0.0148503445,-0.012456186,-0.0057623796,0.010521181,-0.012305321,-0.0008510743,-0.025935628,0.0028418337,0.016949333,-0.0069266623,-0.02630295,0.0007895805,-0.024899252,-0.016818147,-0.026499731,0.019100796,-0.058037035,0.0070053744,-0.033111546,-0.020438902,0.024754947,-0.021396566,-0.019927273,-0.026237357,-0.02363986,-0.06207759,-0.0276017,0.02244606,-0.0206488,0.0030435335,-0.0032189959,-0.008127022,-0.010567096,-0.009471687,0.00073833566,-0.009596313,0.026001222,0.0008108983,-0.0039323242,0.004293088,-0.037466947,0.007097205,-0.037361998,-0.019192627,0.017093638,-0.03151107,0.013958274,-0.026788343,0.014679802,0.008704243,-0.008717362,0.0047522415,0.009970196,-0.008704243,-0.014233767,0.0049391827,-0.015742416,0.0017169071,0.020242121,0.02203938,0.012390592,-0.026486613,-0.019205745,0.020937411,0.027129428,0.019835442,0.019520594,0.013400731,0.0056836675,-0.013682782,-0.003017296,-0.0034502125,0.02699824,0.0013184273,0.010363757,-0.05174007,0.019284459,-0.012265964,0.00033186158,-0.016057262,0.00804831,0.011754337,-0.008225412,0.009819332,0.032245714,-0.035394195,0.021816364,0.012429948,-0.035315484,-0.024768066,0.031458594,0.026735868,0.0017251063,0.010278485,0.02384976,-0.00724807,0.015060243,0.007536681,0.023954708,-0.014876582,0.02264284,0.0098390095,0.013538477,-0.008756719,-0.008586176,0.01618845,-0.0040766294,0.024322031,0.013617189,-0.030697709,0.0092749065,-0.03109127,0.008678006,-0.031458594,-0.003784739,0.011236149,0.02045202,0.012849746,-0.041271362,-0.038385253,-0.017657742,0.004716165,0.0057886173,0.0029271052,0.012449626,0.04706982,0.023167588,-0.021173548,-0.021396566,0.0024991084,-0.019586187,0.013813969,0.0012036389,-0.013840206,-0.04250452,0.005401616,0.026171764,0.009852128,-0.031248692,0.004853911,0.012534898,-0.026407901,0.0012036389,0.00476864,-0.02820516,-0.031930864,0.01439119,0.023482434,0.022000024,0.0012962895,-0.00913716,-0.0050474117,0.0042340537,-0.012324999,0.04040553,0.034869447,-0.0050310134,-0.028834857,0.011098403,0.026735868,-0.005978838,-0.008369717,0.011150877,-0.01679191,0.020189647,-0.040877804,0.014141936,-0.009143719,0.010212892,0.009143719,0.016332755,-0.0071168835,0.018785948,-0.012849746,0.042714417,0.0038503322,-0.0100554675,-0.0041750195,0.009419211,-0.00079859956,0.0018513736,-0.006743001,-0.012849746,-0.015453803,0.012705441,0.00854026,0.01915327,0.030041775,0.0025187864,-0.002700808,-0.0053065056,-0.009983315,-0.012206931,-0.032009576,0.011268945,0.019887917,0.0028861093,0.002959902,-0.005214675,0.038437728,-0.012206931,0.017749572,-0.014679802,-0.0054409723,0.0034567718,0.00208423,-0.027339326,-0.03048781,-0.012849746,-0.019979749,-0.027837837,0.008658328,0.00026298853,0.008251649,0.07341213,0.010219451,-0.02333813,0.025463356,-0.0017201868,0.0047358433,0.011787133,0.012915339,-0.01508648,0.013551596,0.017041164,-0.018103776,0.010632689,-0.0075104437,-0.009609432,0.01936317,-0.008632091,0.005427853,0.0008350859,0.001499629,0.024558168,-0.01975673,0.013125238,0.003981519,-0.017959472,-0.04232086,0.009622551,-0.0008527141,0.0025056677,-0.01607038,0.013958274,-0.0003507197,-0.027575463,-0.011944558,0.019743612,-0.002343324,-0.0017726615,-0.02005846,0.019507475,0.008402514,0.010147298,0.021527752,-0.008664887,-0.037283286,-0.024873015,0.020806225,0.0123118805,0.0016012988,-0.024322031]\n[0.01469292,0.0028073974,0.005231073,-0.028729906,-0.00884199,-0.0026450537,0.0010863906,-0.0051392424,0.0008084386,-0.0059821177,-0.015034006,0.026919529,-0.015834246,0.013643426,-0.00041979773,0.0018513736,0.037073385,-0.013085882,0.017644623,-0.013217069,-0.029280892,-0.009917721,-0.026473494,-0.015230786,-0.0014069784,-0.0052901073,0.028546246,-0.021501515,-0.022419821,-0.008914142,0.016267162,-0.007457969,0.0029910589,0.0008281166,-0.008697684,0.0020645522,0.026079934,-0.031904627,-0.010776995,-0.01567682,0.03646993,0.016726315,-0.003843773,-0.002551583,-0.00023900594,0.021081718,0.01380085,0.010409672,-0.009825891,0.007471088,-0.0011634629,0.005381938,-0.014364953,-0.011505081,-0.011524759,0.0019054881,-0.009294584,0.036889724,-0.017001808,-0.023390604,-0.019796086,0.018510455,-0.028861094,0.0006731522,0.0010560537,-0.0003515396,0.00228429,0.017106757,-0.019336933,-0.008953499,0.025581423,0.03484321,0.012856306,0.008376276,0.0054376926,-0.03437094,-0.0024499132,0.0030468132,0.009117482,0.009655348,0.033216495,0.0058771684,-0.015611228,0.03316402,0.02007158,-0.004417715,0.02164582,-0.001608678,-0.00026565325,-0.0002373661,-0.0038896883,0.011544437,0.02185572,0.012620169,0.006713484,0.011603472,0.00754324,0.005998516,0.0043619606,-0.013033408,0.010304722,0.021829482,-0.013131797,0.0031501227,-0.023167588,-0.010547418,0.013099001,-0.00030726407,0.0014168173,-0.03526301,-0.014587971,0.033426393,-0.01836615,-0.007097205,0.012567694,0.013682782,-0.00447019,-0.03316402,-0.033636294,-0.010160417,0.019678019,0.017421605,0.029963063,-0.010796673,0.014115699,0.0045915376,0.016923096,0.021265378,-0.013813969,-0.0053163446,-0.008100784,0.0011200072,-0.006024753,0.020425783,-0.032088287,-0.010881945,-0.0075497995,0.008238531,-0.008704243,-0.03366253,0.020005986,0.019087678,-0.010645808,-0.013118679,0.010317841,0.02076687,0.02572573,0.016568892,0.0064379917,-0.017697098,-0.0043881983,-0.0060805078,0.010344079,-0.0051818783,0.0041028666,-0.0038470526,0.010599893,-0.0074317316,-0.008920701,-0.0060313125,0.023180706,-0.012502101,0.0341348,0.029018518,-0.0048899874,0.016923096,-0.012187253,-0.0019038483,-0.003912646,0.008782956,-0.0070053744,0.020425783,-0.031930864,0.012771034,-0.015427566,0.018746592,-0.00092814653,0.0019612424,-0.022721551,-0.04764704,0.014063224,0.008887905,0.035604093,0.04169116,0.0049523013,-0.01955995,0.024151487,0.00803519,0.025424,-0.011190233,0.0020711115,0.018326795,-0.024846777,-0.021934431,-0.6305362,-0.013577833,0.014955294,0.0066019753,-0.012390592,0.009701263,0.012206931,-0.030723946,-0.035787757,0.0052868277,0.007418613,0.0026499731,-0.016122857,0.0038372136,0.005053971,-0.029569503,-0.005578718,-0.036706064,-0.0010166976,0.0010052188,-0.020202765,0.03854268,-0.018444862,0.023259418,0.032639273,0.0064871865,0.0038306543,0.0041946974,-0.015322617,0.02870367,0.0022957688,0.021514634,-0.0004956401,0.0109213,0.043554015,-0.0040077562,-0.02820516,0.028231397,0.011767455,0.023980945,0.0076744272,-0.019691138,0.017329775,0.009051888,0.015899839,-0.012521779,0.044813406,-0.007221833,-0.0032353941,-0.021711413,0.018562932,0.018025065,-0.021383448,0.0136565445,-0.011747777,-0.034816973,0.02493861,-0.012193812,0.008330361,0.008166377,-0.005214675,0.022472298,-0.0019432043,-0.0048243944,-0.036076367,0.03397738,-0.0037683405,-0.016345873,0.0025105872,-0.027759125,-0.009989874,-0.0065888567,-0.018510455,-0.013472883,0.023967827,0.0018628524,0.039382275,-0.017933235,-0.0058738887,-0.0063986355,0.012259405,-0.0015037286,-0.013958274,-0.031930864,0.011157436,0.03605013,-0.0037650608,-0.027942786,0.01676567,-0.0025876595,0.032717984,0.0045423424,0.00032366242,-0.029175943,0.010816351,-0.004178299,-0.013072764,0.0015611228,0.014837226,-0.020281477,-0.039644647,0.008920701,0.013866443,-0.0036469928,0.012613609,-0.0046538515,-0.0022859299,-0.006775798,0.017618386,-0.015401329,0.0072939857,0.016477061,-0.013381053,0.0024712312,-0.009517602,-0.024741828,-0.007497325,-0.012561135,-0.0075825965,-0.0050474117,-0.0132236285,-0.0058738887,0.022708433,-0.027837837,0.0059526004,-0.0052966666,0.013125238,0.013295781,0.000635846,-0.022170568,0.0034731703,0.034502126,0.005273709,-0.0044833086,0.016726315,-0.011708421,0.009779975,-0.0068610692,0.0008322162,-0.021239141,0.003722425,0.0035059669,0.00051080855,-0.013276103,0.0066642887,-0.013322018,-0.01529638,0.0070840865,-0.011964235,-0.0036666708,-0.0016701719,-0.01568994,-0.018156251,0.009570076,-0.008205733,-0.010455587,-0.009504483,-0.019284459,-0.010560537,-0.021291615,-0.001767742,-0.012567694,-0.022760907,0.0023056078,0.007890886,-0.0034666108,0.0023220063,0.005880448,-0.013761494,-0.040562954,-0.012587372,-0.002262972,-0.0023482435,0.023994064,0.007936801,0.017329775,-0.026237357,-0.014929057,0.0069856965,-0.009878365,0.0020678318,0.0053097853,-0.012882543,-0.0034731703,0.02949079,-0.0018480939,0.037283286,0.0057427017,-0.02244606,0.031537306,-0.0024449937,-0.019691138,0.010298163,-0.025424,-0.005686947,0.018812185,-0.023967827,-0.00085517386,-0.00084861455,0.019874798,0.027365563,-0.019140152,0.015178312,-0.04318669,-0.011236149,-0.035813995,0.01746096,-0.01718547,0.022223042,0.020032223,0.0021891796,-0.012003591,-0.010121061,-0.030645235,0.014483022,0.0037060268,0.0043160454,0.016227806,0.008625532,-0.012980932,0.0041028666,0.00073546596,0.036391217,-0.0121610155,-0.0024449937,0.02255101,0.0144174285,0.012666085,-0.009911162,-0.014640446,-0.022131212,0.02164582,-0.0018382549,0.01857605,0.037886746,0.041455027,0.008218853,-0.018011946,0.014364953,-0.021777008,0.041953534,0.027942786,0.025673255,-0.009163397,0.021134192,0.030855132,0.021186667,0.016293399,-0.010776995,0.015152074,-0.008028631,0.0077596987,-0.0019104077,-0.012265964,-0.009392974,-0.010481824,0.03009425,-0.009392974,0.008546819,0.010855706,0.04557429,0.008632091,-0.015965432,-0.021803245,-0.020530732,0.0024515532,0.011452607,-0.00076703273,0.0035092465,-0.0025778203,-0.008822312,-0.008796074,0.02025524,-0.023010163,0.040746618,0.032613035,-0.0062608896,0.016424585,0.01519143,0.03822783,-0.0066183736,-0.009130601,0.024282675,0.017841402,-0.013190832,-0.018208727,-0.021212904,0.00714968,0.03214076,0.006274008,-0.0038142558,0.021973787,-0.020819344,0.016017906,0.013590951,0.0012839907,0.022393584,0.015152074,0.026840817,0.018221846,-0.012429948,0.010311281,-0.038254067,-0.017736454,0.023810402,-0.0015299659,0.0016062183,-0.021435922,-0.00051982765,0.005837812,0.0035912383,-0.02007158,0.0004636633,-0.01768398,0.0045915376,0.010180095,0.00058173144,-0.0055590402,0.025699493,-0.0015644025,-0.018825304,0.00834348,-0.0104883835,0.010239129,0.08511399,-0.0024859896,0.018707236,0.0206488,-0.029070992,-0.0025647017,0.0028943087,-0.026565325,-0.00913716,-0.0029369444,-0.0026302952,-0.0048506316,0.007471088,-0.016857503,0.019323815,-0.016201569,-0.02870367,-0.006542941,0.007877767,-0.010783554,-0.010547418,-0.018418625,0.0069660186,-0.0023449638,0.0421372,-0.01042279,0.027129428,0.02799526,0.0118133705,0.0008600934,-0.0086452095,0.017841402,0.008087666,0.010744198,-0.009150279,-0.0023941589,0.009917721,0.023954708,0.01676567,0.0058870073,0.01738225,0.0046013766,-0.0021760608,0.005542642,0.012843187,0.00268113,0.0142862415,0.016700078,-0.0118133705,-0.02185572,0.0122462865,0.018707236,-0.015125837,0.0017546233,0.02920218,-0.012731678,0.008271327,0.0055918368,-0.011295183,-0.0044865883,-0.015663702,-0.01738225,0.014653564,-0.003565001,-0.031117506,0.012679203,0.0027877192,-0.0030960082,-0.023443079,0.031143744,0.0043717995,-0.022760907,-0.029910589,0.004893267,0.025397763,0.023010163,0.015939195,-0.010068586,-0.0022121372,0.008592735,0.014246886,-0.004847352,0.019008966,-0.04268818,0.0054868874,0.0029746604,0.0030828896,0.005778778,-0.016831266,-0.0023498833,0.018589169,-0.0036535522,0.03534172,-0.01607038,-0.002830355,0.0019333654,0.0051359627,0.001669352,0.014312479,-0.0092749065,0.0028467532,0.011531319,-0.0035125264,-0.025450237,-0.0068873065,-0.0039060866,0.005749261,-0.01579489,0.00734646,-0.009484805,-0.0007936801,-0.0071824766,-0.03925109,0.015060243,-0.01736913,-0.00021502335,0.008586176,-0.014784751,0.0061100246,-0.0055655995,0.010048908,-0.02512227,0.034003615,0.008868227,-0.009976755,0.0024482734,-0.0034338143,-0.017749572,-0.021698294,0.008999414,0.029070992,0.035735283,-0.022223042,-0.049431182,-0.04764704,-0.01549316,-0.0059427614,0.009196194,-0.03148483,-0.016949333,-0.016700078,0.009740619,0.02533217,-0.006067389,0.07299233,-0.021173548,0.003892968,-0.00625761,-0.004142223,0.031222455,0.0023302054,-0.007077527,-0.05171383,-0.023469316,-0.0104031125,-0.029831875,0.015926076,-0.01676567,0.015821127,0.035289247,0.030409098,-0.0015217668,-0.011754337,-0.020176528,-0.0036305944,-0.0048211147,-0.04777823,-0.00040483422,-0.006972578,0.0024843498,0.009655348,-0.004627614,-0.00784497,-0.0034469329,-0.0094257705,0.027365563,-0.01807754,-0.0069332216,-0.018444862,-0.021278497,-0.005322904,0.0029221857,-0.0065691783,0.013551596,-0.06543597,-0.026670273,-0.010389994,0.03009425,0.01469292,0.014509259,0.0017365852,0.0069660186,0.020268358,0.004647292,0.014141936,-0.001579161,-0.005240912,-0.050716814,-0.030540284,-0.010914741,0.012429948,-0.0026548926,0.012508661,0.00625761,-0.016805029,0.0049588606,0.00833692,-0.04090404,0.014063224,-0.0098390095,-0.009812772,-0.012331558,0.0010060387,0.016411467,-0.0073333415,0.011078725,0.003981519,0.0069463407,-0.03762437,0.00013467144,0.03290165,-0.0029943385,0.022013143,0.008592735,0.015834246,-0.008559938,0.008559938,-0.012941577,0.010376875,0.0068348316,0.019087678,0.027916549,-0.0045816987,-0.018982729,-0.009399533,0.016083501,-0.0137877315,0.0050014965,-0.029726926,0.03277046,-0.01260705,-0.015624346,-0.008277887,-0.008212293,-0.0060214736,0.0170674,0.018628525,0.01906144,0.0029730205,-0.01201671,-0.017487198,0.015939195,-0.0417174,0.009176516,0.010206332,-0.010048908,0.0077596987,-0.017933235,-0.0011642828,-0.0024220361,-0.0038601712,0.022774026,-0.0123774735,0.0154800415,0.01042935,0.00012032288,0.0010043988,0.0076022744,0.02175077,0.020911174,-0.0022498535,-0.019927273,-0.0017661022,0.0009601233,-0.025069796,-0.019940391,-0.0032845892,-0.0024089175,-0.021173548,-0.02412525,-0.007969597,0.02632919,-0.033924904,-0.0025073076,-0.01142637,-0.02959574,-0.009248668,-0.005690227,0.007963038,-0.025660137,-0.04588914,0.008454989,0.005614795,-0.024099013,-0.0037421032,-0.018025065,0.0004546442,0.010881945,-0.011242708,0.013282662,0.009629111,-0.0067167636,-0.024505692,0.00526715,-0.019127034,-0.005572159,0.0036305944,-0.0023482435,-0.025450237,0.021593345,0.003286229,0.015545635,-0.0060837874,-0.0034534922,-0.004260291,0.021632701,0.0024597524,-0.014312479,-0.024584405,0.013984512,-0.021567108,0.00073218625,0.036102604,-0.004785038,-0.0040667905,0.0006231372,0.007569478,-0.00774658,-0.0148897,-0.04510202,-0.03366253,0.018287439,-0.007025053,-0.03116998,-0.006880747,-0.0010790114,-0.018602287,0.03009425,-0.016450824,0.010980334,0.010258807,-0.019782968,-0.004926064,-0.004647292,-0.021003004,-0.0019973188,-0.014758514,-0.012265964,-0.012843187,0.0044439523,-0.015611228,0.0276017,0.014456784,-0.020019105,-0.016621366,-0.017828284,-0.058561783,-0.012449626,0.012285643,-0.009242109,4.0355312e-07,0.0028221558,0.00038372137,0.027549226,0.005427853,0.028624957,-0.0073595787,0.005431133,-0.023587385,0.011387013,0.012023269,-0.024689354,-0.012626728,0.0003099288,-0.0009502843,-0.008382835,0.016857503,0.006277288,0.00566071,-0.0005977198,0.009701263,0.004748962,0.037493184,0.0023318452,0.0060739485,-0.031222455,-0.002671291,-0.0033042673,-0.00071742776,-0.024676235,-0.015322617,0.009576635,-0.021278497,0.0010675325,-0.031747203,-0.005572159,-0.003018936,-0.026184883,-0.019914154,0.008546819,-0.008966617,-0.00045956371,-0.004657131,-0.012429948,0.0042537316,0.012469305,0.005614795,-0.0032813095,0.005608235,-0.018025065,-0.030041775,0.009583195,0.015860483,0.011111521,-0.0028041175,-0.0006325663,-0.0044308337,-0.02323318,0.008822312,0.0028254355,0.0077269017,-0.00021297355,-0.039828308,-0.0067003653,-0.0053589805,-0.024256438,-0.001579981,-0.022878977,-0.005821414,0.017749572,-0.0010052188,-0.018615406,-0.008901023,0.025082914,-0.001329906,0.022918332,0.21105331,-0.0100554675,-0.011944558,0.037571896,-0.0057722186,0.009943958,0.016634485,-0.019402526,-0.005008056,-0.007694105,0.0045325034,-0.017526556,-0.02084558,0.0034206954,0.010717961,-0.0147191575,-0.02243294,0.000764573,0.0031140465,0.03980207,0.013085882,-0.022065617,0.0008658328,0.004017595,0.034029853,0.005240912,-0.010639248,0.026289832,0.037361998,-0.0032599918,-0.010475265,-0.00744485,-0.010298163,-0.001777581,0.010940978,0.016214687,-0.00367323,0.012174134,0.012088862,0.017592149,0.032796696,-0.0043783593,0.011590353,-0.017841402,0.01508648,0.019127034,0.004804716,-0.016516417,-0.010796673,-0.010717961,-0.038595155,-0.011406692,-0.0069332216,0.012134778,-0.015322617,-0.0010404752,-0.0052376324,0.016424585,0.010783554,-0.0057328627,0.009655348,0.01052774,-0.019533712,0.018943373,-0.024768066,0.017172351,0.003784739,-0.025017321,0.005024454,-0.019599305,0.008002394,0.0032157162,0.0109672155,0.012206931,0.00023900594,-0.013282662,0.0018694118,0.017867642,0.019494357,0.015453803,-0.0122462865,-0.012495542,-0.022787144,-0.0073726973,0.034869447,-0.029884351,-0.0012487343,-0.01708052,0.00943233,-0.0073136636,0.0032747502,-0.014089461,-0.019048322,-0.007320223,0.0023023281,-0.0057984563,0.0005977198,0.03198334,-0.009189635,0.0032239154,-0.021239141,0.0436852,-0.0030008978,0.008461548,-0.020176528,0.00496542,0.003196038,0.022708433,-0.008789515,-0.014063224,0.0077531394,-0.044629745,0.0020989887,-0.023010163,0.0043422827,0.023206944,0.024177724,-0.021658938,-0.0059427614,-0.007949919,0.010265366,-0.017565912,0.018300558,-0.027969023,-0.0070381714,-0.003545323,-0.04735843,0.028073972,-0.028913569,-0.013394171,0.028152686,-0.014522377,-0.018130014,-0.018995848,0.0007190676,0.0031550422,0.006880747,-0.036601115,-0.020307714,0.0072087143,0.017251063,0.017893879,0.024151487,0.009583195,0.018090658,-0.021265378,0.01429936,0.003058292,-0.014522377,-0.020242121,-0.011059047,0.012193812,-0.0035715604,0.004614495,0.03814912,0.0031648814,-0.012285643,-0.022577247,0.013282662,-0.0139058,-0.033505104,-0.011583794,0.00486703,0.0033911786,-0.005257311,0.020202765,-0.16403596,0.012397151,0.030723946,0.013486002,0.028231397,-0.017329775,0.022603484,0.014876582,-0.016149094,-0.011662506,0.0031484829,-0.033636294,-0.043475304,-0.032954123,0.015703058,0.016293399,-0.009019092,0.041822348,0.03812288,0.0068610692,0.027050717,-0.020976767,0.0036896286,-0.027496751,-0.006185457,0.029569503,-0.033006597,0.01757903,-0.014023867,-0.026945766,0.0016808307,-0.0022465738,0.022196805,0.024085894,-0.007936801,-0.023075756,-0.018261202,-0.0067889164,-0.008028631,0.051320273,0.015899839,0.020307714,0.0025089474,0.005598396,0.040562954,0.008618972,0.015912957,-0.009812772,0.0297794,-0.009950518,-0.00081294816,-0.0010052188,-0.004230774,0.0050310134,-0.0107507575,-0.007890886,-0.022603484,0.014614209,0.0064379917,-0.028021498,-0.02651285,-0.012921899,-0.014968413,0.011275505,-0.0008035191,-0.026263595,-0.00347645,0.022721551,-0.017657742,0.018326795,-0.010895063,0.0132236285,-0.0037289844,0.007818732,0.032324426,0.0025761805,-0.022262398,0.019284459,0.0016513137,0.010160417,-0.012436507,0.012187253,-0.01479787,-0.020425783,0.0034830093,0.015283261,0.035735283,0.0034994076,-0.032822933,0.010698283,0.030199198,-0.012364355,-0.013374493,0.017001808,0.014653564,0.02105548,0.007910564,-0.011091843,0.027680412,0.032324426,-0.013236747,0.011590353,-0.02899228,0.0033616615,0.004407876,0.01191176,0.048093077,0.0017447843,0.011446048,-0.015532516,-0.037204575,0.014902819,0.022800265,0.027759125,0.014364953,0.003922485,0.024702473,0.003683069,0.0022219762,0.020661918,0.04281937,-0.0053360225,-0.0030943684,0.018300558,-0.010711402,-0.020176528,-0.11261074,-0.028021498,0.012987493,0.015361973,-0.0026368545,0.008389395,0.010291603,0.024072776,0.0054409723,0.023390604,-0.021081718,-0.028231397,-0.007457969,-0.009570076,0.009347059,-0.0051687597,0.008717362,-0.010153857,-0.018156251,0.009983315,0.026158646,-0.02045202,-0.01757903,0.019323815,-0.013551596,0.0015521037,-0.020412665,0.0148503445,-0.012456186,-0.0057623796,0.010521181,-0.012305321,-0.0008510743,-0.025935628,0.0028418337,0.016949333,-0.0069266623,-0.02630295,0.0007895805,-0.024899252,-0.016818147,-0.026499731,0.019100796,-0.058037035,0.0070053744,-0.033111546,-0.020438902,0.024754947,-0.021396566,-0.019927273,-0.026237357,-0.02363986,-0.06207759,-0.0276017,0.02244606,-0.0206488,0.0030435335,-0.0032189959,-0.008127022,-0.010567096,-0.009471687,0.00073833566,-0.009596313,0.026001222,0.0008108983,-0.0039323242,0.004293088,-0.037466947,0.007097205,-0.037361998,-0.019192627,0.017093638,-0.03151107,0.013958274,-0.026788343,0.014679802,0.008704243,-0.008717362,0.0047522415,0.009970196,-0.008704243,-0.014233767,0.0049391827,-0.015742416,0.0017169071,0.020242121,0.02203938,0.012390592,-0.026486613,-0.019205745,0.020937411,0.027129428,0.019835442,0.019520594,0.013400731,0.0056836675,-0.013682782,-0.003017296,-0.0034502125,0.02699824,0.0013184273,0.010363757,-0.05174007,0.019284459,-0.012265964,0.00033186158,-0.016057262,0.00804831,0.011754337,-0.008225412,0.009819332,0.032245714,-0.035394195,0.021816364,0.012429948,-0.035315484,-0.024768066,0.031458594,0.026735868,0.0017251063,0.010278485,0.02384976,-0.00724807,0.015060243,0.007536681,0.023954708,-0.014876582,0.02264284,0.0098390095,0.013538477,-0.008756719,-0.008586176,0.01618845,-0.0040766294,0.024322031,0.013617189,-0.030697709,0.0092749065,-0.03109127,0.008678006,-0.031458594,-0.003784739,0.011236149,0.02045202,0.012849746,-0.041271362,-0.038385253,-0.017657742,0.004716165,0.0057886173,0.0029271052,0.012449626,0.04706982,0.023167588,-0.021173548,-0.021396566,0.0024991084,-0.019586187,0.013813969,0.0012036389,-0.013840206,-0.04250452,0.005401616,0.026171764,0.009852128,-0.031248692,0.004853911,0.012534898,-0.026407901,0.0012036389,0.00476864,-0.02820516,-0.031930864,0.01439119,0.023482434,0.022000024,0.0012962895,-0.00913716,-0.0050474117,0.0042340537,-0.012324999,0.04040553,0.034869447,-0.0050310134,-0.028834857,0.011098403,0.026735868,-0.005978838,-0.008369717,0.011150877,-0.01679191,0.020189647,-0.040877804,0.014141936,-0.009143719,0.010212892,0.009143719,0.016332755,-0.0071168835,0.018785948,-0.012849746,0.042714417,0.0038503322,-0.0100554675,-0.0041750195,0.009419211,-0.00079859956,0.0018513736,-0.006743001,-0.012849746,-0.015453803,0.012705441,0.00854026,0.01915327,0.030041775,0.0025187864,-0.002700808,-0.0053065056,-0.009983315,-0.012206931,-0.032009576,0.011268945,0.019887917,0.0028861093,0.002959902,-0.005214675,0.038437728,-0.012206931,0.017749572,-0.014679802,-0.0054409723,0.0034567718,0.00208423,-0.027339326,-0.03048781,-0.012849746,-0.019979749,-0.027837837,0.008658328,0.00026298853,0.008251649,0.07341213,0.010219451,-0.02333813,0.025463356,-0.0017201868,0.0047358433,0.011787133,0.012915339,-0.01508648,0.013551596,0.017041164,-0.018103776,0.010632689,-0.0075104437,-0.009609432,0.01936317,-0.008632091,0.005427853,0.0008350859,0.001499629,0.024558168,-0.01975673,0.013125238,0.003981519,-0.017959472,-0.04232086,0.009622551,-0.0008527141,0.0025056677,-0.01607038,0.013958274,-0.0003507197,-0.027575463,-0.011944558,0.019743612,-0.002343324,-0.0017726615,-0.02005846,0.019507475,0.008402514,0.010147298,0.021527752,-0.008664887,-0.037283286,-0.024873015,0.020806225,0.0123118805,0.0016012988,-0.024322031]\n[0.014533247,0.0027200652,0.0050203972,-0.028751696,-0.008873413,-0.0027217048,0.0011050777,-0.0050466307,0.0007980661,-0.0057680462,-0.015215313,0.026915364,-0.015884262,0.013575732,-0.0003467714,0.001819935,0.03704142,-0.01314944,0.017851759,-0.013201907,-0.029302593,-0.009922745,-0.026521863,-0.01534648,-0.0014018419,-0.0053253593,0.028620528,-0.021458838,-0.02246882,-0.008938996,0.016290879,-0.0074896067,0.003049621,0.00093374145,-0.008702897,0.002183922,0.026141481,-0.03197839,-0.0108409105,-0.015726862,0.036411818,0.016815543,-0.0038267823,-0.0024757674,-0.00012737497,0.021183388,0.013785598,0.010434294,-0.009791578,0.0073322067,-0.0012124702,0.005351593,-0.014323381,-0.011595118,-0.011490185,0.0020445576,-0.009194771,0.036936484,-0.016999178,-0.023373868,-0.019832373,0.018599408,-0.028909095,0.0004881853,0.001182138,-0.00033713886,0.0023150886,0.017169693,-0.019386407,-0.008932438,0.025774214,0.034890287,0.012821524,0.008381539,0.0054204552,-0.03452302,-0.0024872446,0.003088971,0.00912263,0.009489896,0.03334252,0.005961517,-0.015635045,0.033106424,0.020029124,-0.0045088483,0.02191792,-0.0016494186,-0.00015319836,-0.00015114888,-0.0038858072,0.01162791,0.021773638,0.012618217,0.006650141,0.011660701,0.007581423,0.0059156087,0.004407194,-0.013024832,0.010178519,0.021865454,-0.0130838575,0.0036333117,-0.023085302,-0.010519553,0.013037949,-0.00026274286,0.0014871,-0.035283785,-0.014546364,0.033526156,-0.018402658,-0.007037082,0.012559191,0.013733132,-0.0043547275,-0.033158887,-0.033709787,-0.010106378,0.019543808,0.01745826,0.029879726,-0.010860586,0.014126631,0.0044727772,0.016959827,0.021340787,-0.013706898,-0.005341755,-0.008151998,0.0012165692,-0.006020542,0.020527557,-0.032083325,-0.011017986,-0.007502723,0.008217581,-0.00853238,-0.03381472,0.019897956,0.019110957,-0.010690069,-0.013221582,0.010368711,0.020763656,0.025695516,0.016500745,0.0062795957,-0.017746827,-0.0043252152,-0.0060730083,0.010355595,-0.0052433806,0.0040202527,-0.0038694115,0.010650719,-0.0074699316,-0.008906204,-0.0060762875,0.023282053,-0.012401791,0.03410329,0.029145194,-0.004885952,0.01690736,-0.012185367,-0.0018887975,-0.0039710654,0.008820946,-0.0070895487,0.02027834,-0.031873457,0.0127362665,-0.015385829,0.018586291,-0.00095177686,0.0020625931,-0.022731153,-0.0476659,0.014087281,0.008932438,0.035677284,0.041474845,0.00493186,-0.01964874,0.024095284,0.007994598,0.025498766,-0.01107701,0.0020888264,0.018350191,-0.024790466,-0.021786755,-0.62959915,-0.013523265,0.01499233,0.006646862,-0.012500167,0.009647296,0.012106667,-0.030771658,-0.035755984,0.00547948,0.0074043483,0.0025233154,-0.016094128,0.003984182,0.0050433516,-0.02959116,-0.005508993,-0.036700383,-0.0010772048,0.001041134,-0.02012094,0.038536716,-0.018310841,0.023282053,0.032817855,0.0063746916,0.0037644783,0.00430554,-0.01534648,0.028646762,0.00238723,0.021550654,-0.00044924524,0.010880261,0.043625973,-0.0040694405,-0.028174562,0.028253263,0.0119361505,0.024042817,0.0076207733,-0.019674974,0.01741891,0.009214446,0.015949845,-0.012755942,0.044885173,-0.0071682488,-0.0032791623,-0.021629354,0.018468242,0.017996043,-0.021419488,0.013733132,-0.011877126,-0.03491652,0.024921633,-0.012178808,0.008368422,0.008204464,-0.0051974724,0.022455703,-0.0019560202,-0.00485316,-0.03609702,0.034077056,-0.0037907115,-0.01631711,0.0025347925,-0.02775483,-0.009896512,-0.006630466,-0.018612524,-0.013510148,0.023937885,0.0018707621,0.039349947,-0.018022276,-0.005863142,-0.006466508,0.012355884,-0.0015731781,-0.013890531,-0.032030858,0.011181943,0.036070786,-0.003721849,-0.028069628,0.016815543,-0.0026889131,0.03284409,0.0045973854,0.00028754154,-0.029328827,0.010814677,-0.004203886,-0.013090416,0.0014780824,0.01483493,-0.02019964,-0.039664745,0.008991463,0.013811831,-0.0035874036,0.012670683,-0.0046793646,-0.002160968,-0.0067616324,0.017550077,-0.015556346,0.0072075985,0.016487628,-0.0134839155,0.0025839799,-0.00966697,-0.024711767,-0.0075486316,-0.012637891,-0.0076535647,-0.005066306,-0.013352749,-0.005902492,0.022875436,-0.028043395,0.0059549585,-0.0053909426,0.013260932,0.013444565,0.0005455706,-0.02227207,0.0034726327,0.034654185,0.005233543,-0.00442359,0.016710611,-0.011883684,0.00958827,-0.0068140994,0.0009714518,-0.021222739,0.0037874323,0.003616916,0.0005234363,-0.0132412575,0.006774749,-0.013228141,-0.01522843,0.0070567573,-0.011923034,-0.0036661034,-0.0016936873,-0.015674395,-0.018205909,0.009686645,-0.008217581,-0.010421177,-0.009634179,-0.019202774,-0.010558902,-0.021314554,-0.0019248682,-0.012637891,-0.02274427,0.0023380427,0.007915897,-0.0034529578,0.002341322,0.0057746046,-0.013759364,-0.040609144,-0.012578866,-0.0022708199,-0.0023478803,0.023806717,0.007961806,0.017366443,-0.026154598,-0.01491363,0.007096107,-0.009791578,0.0020445576,0.005351593,-0.012887107,-0.003343106,0.02959116,-0.0017904226,0.037408683,0.005738534,-0.022363886,0.031611126,-0.0025298737,-0.01976679,0.01025722,-0.025420066,-0.00567623,0.019006025,-0.023937885,-0.0009132467,-0.0008771759,0.019950423,0.027413797,-0.019229008,0.01522843,-0.043101307,-0.011339343,-0.035782218,0.01753696,-0.01718281,0.022127787,0.020055356,0.002211795,-0.012152575,-0.0100932615,-0.03069296,0.014467664,0.003698895,0.004403915,0.016343344,0.008643872,-0.013129766,0.004138303,0.0008681582,0.03649052,-0.012100109,-0.002418382,0.022495054,0.014388964,0.012677241,-0.009771904,-0.014664413,-0.022101553,0.02164247,-0.0018133767,0.018599408,0.038064517,0.04142238,0.008256931,-0.017982926,0.0143364975,-0.021590004,0.041973278,0.027964696,0.025616815,-0.009201329,0.021222739,0.03103399,0.021157155,0.016303996,-0.010827794,0.015057913,-0.008145439,0.0078109647,-0.0018904371,-0.012250951,-0.009325937,-0.010401502,0.030168293,-0.009391521,0.008578288,0.010795002,0.045645937,0.008525822,-0.015936729,-0.021904804,-0.020606255,0.0024626509,0.011424601,-0.00072551466,0.0033332685,-0.0024987217,-0.008781596,-0.008742247,0.020173406,-0.023072185,0.040792778,0.032817855,-0.006227129,0.016618794,0.015215313,0.038300615,-0.0065156952,-0.009194771,0.024213335,0.017799294,-0.013333074,-0.018350191,-0.021262089,0.0072075985,0.032424357,0.006305829,-0.0038694115,0.02195727,-0.020894822,0.016133478,0.013536382,0.0013444566,0.02246882,0.015123497,0.02688913,0.018337075,-0.012316533,0.010204753,-0.03827438,-0.017838642,0.023741135,-0.0014723438,0.0016117082,-0.021393254,-0.0006050054,0.0058369087,0.0035283787,-0.020068472,0.00043817805,-0.017641893,0.0047351103,0.01025722,0.00056319614,-0.0055286675,0.025708633,-0.0015289094,-0.018835507,0.008440563,-0.010572019,0.01021787,0.08510082,-0.0023118095,0.018651875,0.020540673,-0.02904026,-0.0026610403,0.003041423,-0.026666148,-0.009201329,-0.002959444,-0.0026561215,-0.0046990397,0.0074502565,-0.016894244,0.019360173,-0.016212178,-0.02880416,-0.0065583247,0.007948689,-0.010860586,-0.010631044,-0.018455125,0.006892799,-0.002477407,0.042261843,-0.01052611,0.027098997,0.02799093,0.011955826,0.0008763561,-0.008801271,0.017864875,0.007994598,0.010768769,-0.009201329,-0.0023380427,0.010001445,0.024003468,0.016789312,0.005889375,0.017405793,0.0045547565,-0.002180643,0.0056467173,0.012742825,0.0026889131,0.014310264,0.016579444,-0.011877126,-0.021891687,0.012231275,0.018756809,-0.015136613,0.0019199495,0.029223895,-0.012749383,0.008315955,0.005600809,-0.011398368,-0.0044924524,-0.015621929,-0.017392676,0.014625064,-0.0036956158,-0.03103399,0.012618217,0.002821719,-0.0029528856,-0.023413219,0.03127009,0.0043416107,-0.022678686,-0.02998466,0.005017118,0.025380716,0.02301972,0.015844911,-0.010080145,-0.0022183533,0.008519264,0.014375848,-0.0048006936,0.018992908,-0.04273404,0.0054893177,0.0030201084,0.0031971831,0.0058336295,-0.016881127,-0.002251145,0.018612524,-0.0036857785,0.03538872,-0.016251529,-0.0028118817,0.001769108,0.005200751,0.0015879343,0.014323381,-0.009312821,0.0028036837,0.01162791,-0.0034463995,-0.025341365,-0.007096107,-0.0039054824,0.005827071,-0.015700629,0.007384673,-0.009463662,-0.000814052,-0.0070698736,-0.039271247,0.01511038,-0.01737956,-0.00022564735,0.00861108,-0.014861164,0.006118917,-0.005430293,0.010112937,-0.025105266,0.03397212,0.009083279,-0.009994887,0.0025413507,-0.0033447456,-0.017877992,-0.021708054,0.008906204,0.02911896,0.03572975,-0.022180254,-0.049476,-0.047744602,-0.015490763,-0.0061254753,0.009168537,-0.031532425,-0.01698606,-0.016789312,0.00966697,0.025459416,-0.0060467753,0.07308597,-0.021117805,0.0039054824,-0.00614515,-0.004200607,0.031217625,0.002274099,-0.0071223406,-0.051836997,-0.023583734,-0.010519553,-0.02998466,0.015923612,-0.016684378,0.015792446,0.03525755,0.030483093,-0.0015034958,-0.011759076,-0.020396389,-0.0036890574,-0.0048203687,-0.047902003,-0.00037935807,-0.006951824,0.0023855905,0.009712879,-0.0046301773,-0.007948689,-0.003439841,-0.009332496,0.027335096,-0.018087858,-0.006748516,-0.018402658,-0.021196505,-0.005236822,0.0028873023,-0.0064796247,0.013536382,-0.06547831,-0.026705498,-0.010401502,0.030089593,0.014703764,0.014428314,0.001769108,0.007109224,0.020134056,0.0046728062,0.014205331,-0.0016953269,-0.0052073095,-0.05076143,-0.030614259,-0.010991752,0.0124411415,-0.0026872735,0.012500167,0.006289433,-0.016881127,0.004928581,0.008361864,-0.04095018,0.014100398,-0.009765346,-0.0097456705,-0.012316533,0.0010517912,0.016605677,-0.007378115,0.011136035,0.003934995,0.0068993573,-0.03772348,8.838367e-05,0.032975256,-0.003193904,0.022009738,0.008604522,0.015766213,-0.008683221,0.008591405,-0.012952691,0.010322803,0.0067944243,0.019202774,0.02791223,-0.004567873,-0.018992908,-0.009325937,0.016107244,-0.013838065,0.005036793,-0.029801026,0.03284409,-0.012644449,-0.015687512,-0.008322514,-0.008263489,-0.006118917,0.01710411,0.018612524,0.018887974,0.0029610835,-0.012126342,-0.017471377,0.015884262,-0.041710943,0.009227563,0.010204753,-0.00998177,0.0079027815,-0.017996043,-0.0011304911,-0.002403626,-0.0039284364,0.022718037,-0.012513283,0.015556346,0.01037527,8.9818306e-05,0.0011075371,0.0076076565,0.021760521,0.020881705,-0.0022445866,-0.02000289,-0.0016920477,0.0009927663,-0.025288898,-0.019937307,-0.0032939184,-0.0024134633,-0.021130921,-0.024187101,-0.008053622,0.02633823,-0.033919655,-0.0024921633,-0.011378693,-0.02959116,-0.009319379,-0.0057254173,0.007981481,-0.0257611,-0.04596074,0.008434005,0.005630322,-0.024252685,-0.0035906828,-0.018114092,0.00048367644,0.010755653,-0.0112409685,0.013129766,0.009804695,-0.0068140994,-0.024449434,0.005354872,-0.019268358,-0.0054827593,0.003675941,-0.002242947,-0.025420066,0.021734288,0.003439841,0.015582579,-0.0060795667,-0.0034431203,-0.00426619,0.021708054,0.0023987072,-0.014205331,-0.024488784,0.013982348,-0.021668704,0.0006435356,0.03609702,-0.004712156,-0.0039874613,0.00070542976,0.007535515,-0.0077519394,-0.01487428,-0.04519997,-0.03365732,0.018337075,-0.0071223406,-0.031191392,-0.0068140994,-0.00094521855,-0.018533826,0.030168293,-0.016605677,0.010991752,0.010171961,-0.01996354,-0.0049220226,-0.0047580646,-0.020907938,-0.0019281474,-0.014651297,-0.012185367,-0.012834641,0.004482615,-0.015582579,0.027492497,0.014480781,-0.020147173,-0.016618794,-0.01800916,-0.058500256,-0.012414908,0.012454258,-0.009339054,-2.8615814e-05,0.0029266523,0.00031951338,0.027544962,0.0054040593,0.028646762,-0.007502723,0.0054270136,-0.023701785,0.011496743,0.0120542,-0.024751117,-0.012631333,0.0002344601,-0.001076385,-0.008315955,0.01690736,0.006161546,0.0058336295,-0.00056852476,0.00970632,0.0046400144,0.03764478,0.0022954135,0.0060303793,-0.031165158,-0.0026479235,-0.003280802,-0.00071075844,-0.024672417,-0.015425179,0.009660412,-0.02132767,0.0011329505,-0.031873457,-0.005535226,-0.0031791478,-0.026220182,-0.02000289,0.008440563,-0.008991463,-0.0005918888,-0.0047515063,-0.01248705,0.0042924234,0.012355884,0.0056237634,-0.0033529433,0.005695905,-0.017996043,-0.030089593,0.009640737,0.015805563,0.011004869,-0.0027741713,-0.0005304045,-0.004390798,-0.023150885,0.008735688,0.0029020587,0.0078044063,-0.00017430796,-0.039874613,-0.0066632577,-0.0054073385,-0.024213335,-0.0016920477,-0.022836085,-0.005813955,0.017668126,-0.0010288372,-0.018586291,-0.008932438,0.025157733,-0.0013944637,0.023059068,0.21133545,-0.010067028,-0.011811542,0.03764478,-0.0058041173,0.0098506035,0.016605677,-0.019478224,-0.004915464,-0.0077453814,0.004603944,-0.017550077,-0.020776773,0.0029873168,0.010644161,-0.014821813,-0.02250817,0.0008706176,0.0031447166,0.039743446,0.013057624,-0.022180254,0.0009829289,0.0040923944,0.033998355,0.005230264,-0.010617928,0.026233299,0.037408683,-0.0031496354,-0.010421177,-0.0074043483,-0.010244103,-0.0018494475,0.011050777,0.016290879,-0.0036693825,0.012106667,0.012159133,0.01777306,0.032817855,-0.004485894,0.011601676,-0.017812409,0.015215313,0.019084724,0.0048466017,-0.01663191,-0.010886819,-0.010749094,-0.038589183,-0.011411484,-0.0070108487,0.012047642,-0.015412062,-0.0009730914,-0.005230264,0.016540095,0.010821235,-0.005705742,0.00970632,0.010499878,-0.01957004,0.018835507,-0.02485605,0.017156577,0.0038726907,-0.02509215,0.0049351393,-0.019701207,0.008099531,0.003256208,0.010991752,0.012198484,0.00034431205,-0.013254374,0.0016740123,0.01796981,0.019556923,0.015294013,-0.012277183,-0.012618217,-0.022731153,-0.00720104,0.035021454,-0.02998466,-0.0012198484,-0.017209044,0.00954892,-0.0072075985,0.0032102999,-0.014244681,-0.019124074,-0.0072535067,0.0024331384,-0.005777884,0.0005275352,0.03205709,-0.009083279,0.0031594727,-0.021340787,0.04383584,-0.00301355,0.008394656,-0.020330805,0.0049384185,0.00324965,0.022718037,-0.008735688,-0.014047931,0.0077584977,-0.044675305,0.0023347635,-0.023098418,0.00430554,0.023295168,0.02414775,-0.021721171,-0.0060369377,-0.007988039,0.010329361,-0.01749761,0.018219026,-0.028043395,-0.0070567573,-0.0035808452,-0.04740357,0.02822703,-0.029092727,-0.013372424,0.028200796,-0.014415197,-0.018179676,-0.019071607,0.00073453237,0.0030430625,0.0067813075,-0.036700383,-0.02051444,0.0072403904,0.017077876,0.017838642,0.024396967,0.0096932035,0.018022276,-0.021301437,0.014244681,0.003120123,-0.014585714,-0.02027834,-0.011057335,0.012257509,-0.0036661034,0.004685923,0.038038284,0.0032480103,-0.012205042,-0.022547519,0.0132412575,-0.013916764,-0.03355239,-0.011568884,0.004725273,0.0035742868,-0.005276172,0.020304572,-0.16390565,0.012414908,0.030797891,0.013549498,0.028122095,-0.017445143,0.022599986,0.014808697,-0.016146595,-0.011568884,0.003244731,-0.03365732,-0.043468576,-0.03292279,0.015805563,0.016290879,-0.009037371,0.04176341,0.038248148,0.0067813075,0.027072763,-0.020803005,0.003593962,-0.027492497,-0.0062172916,0.02959116,-0.03308019,0.017576309,-0.013969231,-0.027151464,0.0017609101,-0.0023380427,0.02211467,0.024200218,-0.007889665,-0.023045952,-0.018533826,-0.006748516,-0.007863431,0.0514435,0.015923612,0.020265223,0.0023314843,0.0055745756,0.040687844,0.008374981,0.015805563,-0.009883395,0.029932193,-0.01002112,-0.00078167033,-0.0011444276,-0.0042727483,0.0050597475,-0.010854027,-0.007955248,-0.022613103,0.01467753,0.006561604,-0.028043395,-0.02657433,-0.012985483,-0.01483493,0.011293435,-0.0009755508,-0.026207065,-0.0034595162,0.022888552,-0.01773371,0.018310841,-0.01080156,0.013201907,-0.0036497077,0.007876548,0.032345656,0.0027118672,-0.02227207,0.01933394,0.0016748321,0.010204753,-0.012506725,0.012126342,-0.014861164,-0.020488206,0.003433283,0.015385829,0.035834685,0.0035480536,-0.033027723,0.010690069,0.030246994,-0.0122903,-0.0134839155,0.01710411,0.01463818,0.021170272,0.007955248,-0.011109802,0.027728597,0.032476824,-0.013201907,0.011686934,-0.028909095,0.0034070497,0.0045711524,0.011850893,0.048085634,0.0018412496,0.011522976,-0.015516995,-0.03730375,0.014861164,0.022796735,0.027781062,0.0143364975,0.0040169735,0.024724884,0.0037939907,0.0021757241,0.020632489,0.04270781,-0.005292568,-0.0030529,0.018415775,-0.0108409105,-0.020094706,-0.11269825,-0.028017161,0.012952691,0.015359596,-0.0026495631,0.008289722,0.010329361,0.0241084,0.0055745756,0.023478802,-0.02105222,-0.028253263,-0.00747649,-0.009443987,0.009417754,-0.0051646805,0.008663546,-0.010126053,-0.018074742,0.009896512,0.026246415,-0.020527557,-0.01769436,0.019386407,-0.013641315,0.0016051499,-0.020330805,0.014821813,-0.012552633,-0.0058106757,0.0105982525,-0.012237834,-0.00087143737,-0.025839798,0.0028905815,0.016933594,-0.006932149,-0.026325114,0.00076691405,-0.0248954,-0.016815543,-0.026469398,0.018979792,-0.05808052,0.007076432,-0.03318512,-0.02043574,0.0249741,-0.021511305,-0.019871723,-0.026180832,-0.023688668,-0.062172916,-0.02767613,0.022521287,-0.020671839,0.0031611123,-0.003303756,-0.008184789,-0.010604811,-0.009332496,0.00075953593,-0.009463662,0.026036547,0.0008132322,-0.0040038573,0.0044170315,-0.037487384,0.0071157822,-0.03730375,-0.019255241,0.016972944,-0.031453725,0.013903648,-0.026692381,0.014651297,0.008879972,-0.008670105,0.0048400434,0.010047353,-0.00872913,-0.013942998,0.004823648,-0.015713746,0.0016740123,0.020370156,0.02211467,0.012362442,-0.026600564,-0.019215891,0.02102599,0.027151464,0.01984549,0.019478224,0.013444565,0.0056270426,-0.013615082,-0.00301355,-0.0035218203,0.02704653,0.001491199,0.010408061,-0.05170583,0.019360173,-0.012342767,0.00034349225,-0.016172828,0.007922456,0.011844334,-0.008204464,0.009830928,0.032398123,-0.035493653,0.021773638,0.012382117,-0.035414953,-0.024711767,0.031532425,0.026718615,0.001612528,0.010171961,0.023924768,-0.0072403904,0.015149729,0.007496165,0.023898534,-0.014848047,0.02270492,0.009778461,0.013549498,-0.008775039,-0.008558613,0.016199062,-0.004082557,0.024410084,0.013641315,-0.030666726,0.0093980795,-0.031112691,0.008683221,-0.031611126,-0.0037939907,0.011181943,0.02047509,0.0127362665,-0.041317444,-0.038431782,-0.01769436,0.004944977,0.005761488,0.0028168005,0.012388675,0.047141235,0.023150885,-0.021275206,-0.021380138,0.0024954425,-0.01957004,0.013982348,0.0011944348,-0.013720015,-0.042497944,0.005358151,0.026167715,0.009811253,-0.031217625,0.004830206,0.012532958,-0.026482515,0.0011026183,0.004849881,-0.028253263,-0.03189969,0.0143364975,0.023439452,0.022035971,0.0012403431,-0.009057046,-0.0049810475,0.0042333985,-0.012218159,0.04039928,0.034968987,-0.004974489,-0.028882861,0.011083568,0.02684978,-0.0060664504,-0.0083553055,0.011175385,-0.016894244,0.020173406,-0.040976413,0.014192214,-0.009325937,0.01021787,0.009148863,0.016225295,-0.0072272737,0.018783042,-0.012952691,0.042917676,0.0038923656,-0.010080145,-0.0041743736,0.009476779,-0.00078167033,0.0017740268,-0.0066993283,-0.0128411995,-0.015530112,0.012611658,0.008283163,0.019110957,0.030168293,0.0025511882,-0.0027741713,-0.0052860095,-0.010008004,-0.012146017,-0.031952158,0.011378693,0.019950423,0.0028791046,0.0028938607,-0.0052073095,0.038458016,-0.012277183,0.017838642,-0.014769346,-0.0054827593,0.0034496787,0.002019964,-0.027308863,-0.030483093,-0.012933016,-0.020029124,-0.028043395,0.008722572,0.00032053812,0.008322514,0.0733483,0.010185078,-0.023373868,0.0254463,-0.0017035248,0.0047679017,0.011700051,0.012919899,-0.01507103,0.013641315,0.01694671,-0.018140325,0.010729419,-0.0075289565,-0.009594829,0.019307707,-0.008663546,0.0054696426,0.0010017841,0.0014731636,0.02446255,-0.019819256,0.013096974,0.003984182,-0.01800916,-0.04239301,0.009562037,-0.0009034092,0.0025987362,-0.016133478,0.013956115,-0.00032012822,-0.027518729,-0.011955826,0.01980614,-0.0024331384,-0.0018035392,-0.020016007,0.019425757,0.008342189,0.010171961,0.021432605,-0.008591405,-0.03738245,-0.024908517,0.020855471,0.012277183,0.0015953124,-0.024331383]\n[0.014533247,0.0027200652,0.0050203972,-0.028751696,-0.008873413,-0.0027217048,0.0011050777,-0.0050466307,0.0007980661,-0.0057680462,-0.015215313,0.026915364,-0.015884262,0.013575732,-0.0003467714,0.001819935,0.03704142,-0.01314944,0.017851759,-0.013201907,-0.029302593,-0.009922745,-0.026521863,-0.01534648,-0.0014018419,-0.0053253593,0.028620528,-0.021458838,-0.02246882,-0.008938996,0.016290879,-0.0074896067,0.003049621,0.00093374145,-0.008702897,0.002183922,0.026141481,-0.03197839,-0.0108409105,-0.015726862,0.036411818,0.016815543,-0.0038267823,-0.0024757674,-0.00012737497,0.021183388,0.013785598,0.010434294,-0.009791578,0.0073322067,-0.0012124702,0.005351593,-0.014323381,-0.011595118,-0.011490185,0.0020445576,-0.009194771,0.036936484,-0.016999178,-0.023373868,-0.019832373,0.018599408,-0.028909095,0.0004881853,0.001182138,-0.00033713886,0.0023150886,0.017169693,-0.019386407,-0.008932438,0.025774214,0.034890287,0.012821524,0.008381539,0.0054204552,-0.03452302,-0.0024872446,0.003088971,0.00912263,0.009489896,0.03334252,0.005961517,-0.015635045,0.033106424,0.020029124,-0.0045088483,0.02191792,-0.0016494186,-0.00015319836,-0.00015114888,-0.0038858072,0.01162791,0.021773638,0.012618217,0.006650141,0.011660701,0.007581423,0.0059156087,0.004407194,-0.013024832,0.010178519,0.021865454,-0.0130838575,0.0036333117,-0.023085302,-0.010519553,0.013037949,-0.00026274286,0.0014871,-0.035283785,-0.014546364,0.033526156,-0.018402658,-0.007037082,0.012559191,0.013733132,-0.0043547275,-0.033158887,-0.033709787,-0.010106378,0.019543808,0.01745826,0.029879726,-0.010860586,0.014126631,0.0044727772,0.016959827,0.021340787,-0.013706898,-0.005341755,-0.008151998,0.0012165692,-0.006020542,0.020527557,-0.032083325,-0.011017986,-0.007502723,0.008217581,-0.00853238,-0.03381472,0.019897956,0.019110957,-0.010690069,-0.013221582,0.010368711,0.020763656,0.025695516,0.016500745,0.0062795957,-0.017746827,-0.0043252152,-0.0060730083,0.010355595,-0.0052433806,0.0040202527,-0.0038694115,0.010650719,-0.0074699316,-0.008906204,-0.0060762875,0.023282053,-0.012401791,0.03410329,0.029145194,-0.004885952,0.01690736,-0.012185367,-0.0018887975,-0.0039710654,0.008820946,-0.0070895487,0.02027834,-0.031873457,0.0127362665,-0.015385829,0.018586291,-0.00095177686,0.0020625931,-0.022731153,-0.0476659,0.014087281,0.008932438,0.035677284,0.041474845,0.00493186,-0.01964874,0.024095284,0.007994598,0.025498766,-0.01107701,0.0020888264,0.018350191,-0.024790466,-0.021786755,-0.62959915,-0.013523265,0.01499233,0.006646862,-0.012500167,0.009647296,0.012106667,-0.030771658,-0.035755984,0.00547948,0.0074043483,0.0025233154,-0.016094128,0.003984182,0.0050433516,-0.02959116,-0.005508993,-0.036700383,-0.0010772048,0.001041134,-0.02012094,0.038536716,-0.018310841,0.023282053,0.032817855,0.0063746916,0.0037644783,0.00430554,-0.01534648,0.028646762,0.00238723,0.021550654,-0.00044924524,0.010880261,0.043625973,-0.0040694405,-0.028174562,0.028253263,0.0119361505,0.024042817,0.0076207733,-0.019674974,0.01741891,0.009214446,0.015949845,-0.012755942,0.044885173,-0.0071682488,-0.0032791623,-0.021629354,0.018468242,0.017996043,-0.021419488,0.013733132,-0.011877126,-0.03491652,0.024921633,-0.012178808,0.008368422,0.008204464,-0.0051974724,0.022455703,-0.0019560202,-0.00485316,-0.03609702,0.034077056,-0.0037907115,-0.01631711,0.0025347925,-0.02775483,-0.009896512,-0.006630466,-0.018612524,-0.013510148,0.023937885,0.0018707621,0.039349947,-0.018022276,-0.005863142,-0.006466508,0.012355884,-0.0015731781,-0.013890531,-0.032030858,0.011181943,0.036070786,-0.003721849,-0.028069628,0.016815543,-0.0026889131,0.03284409,0.0045973854,0.00028754154,-0.029328827,0.010814677,-0.004203886,-0.013090416,0.0014780824,0.01483493,-0.02019964,-0.039664745,0.008991463,0.013811831,-0.0035874036,0.012670683,-0.0046793646,-0.002160968,-0.0067616324,0.017550077,-0.015556346,0.0072075985,0.016487628,-0.0134839155,0.0025839799,-0.00966697,-0.024711767,-0.0075486316,-0.012637891,-0.0076535647,-0.005066306,-0.013352749,-0.005902492,0.022875436,-0.028043395,0.0059549585,-0.0053909426,0.013260932,0.013444565,0.0005455706,-0.02227207,0.0034726327,0.034654185,0.005233543,-0.00442359,0.016710611,-0.011883684,0.00958827,-0.0068140994,0.0009714518,-0.021222739,0.0037874323,0.003616916,0.0005234363,-0.0132412575,0.006774749,-0.013228141,-0.01522843,0.0070567573,-0.011923034,-0.0036661034,-0.0016936873,-0.015674395,-0.018205909,0.009686645,-0.008217581,-0.010421177,-0.009634179,-0.019202774,-0.010558902,-0.021314554,-0.0019248682,-0.012637891,-0.02274427,0.0023380427,0.007915897,-0.0034529578,0.002341322,0.0057746046,-0.013759364,-0.040609144,-0.012578866,-0.0022708199,-0.0023478803,0.023806717,0.007961806,0.017366443,-0.026154598,-0.01491363,0.007096107,-0.009791578,0.0020445576,0.005351593,-0.012887107,-0.003343106,0.02959116,-0.0017904226,0.037408683,0.005738534,-0.022363886,0.031611126,-0.0025298737,-0.01976679,0.01025722,-0.025420066,-0.00567623,0.019006025,-0.023937885,-0.0009132467,-0.0008771759,0.019950423,0.027413797,-0.019229008,0.01522843,-0.043101307,-0.011339343,-0.035782218,0.01753696,-0.01718281,0.022127787,0.020055356,0.002211795,-0.012152575,-0.0100932615,-0.03069296,0.014467664,0.003698895,0.004403915,0.016343344,0.008643872,-0.013129766,0.004138303,0.0008681582,0.03649052,-0.012100109,-0.002418382,0.022495054,0.014388964,0.012677241,-0.009771904,-0.014664413,-0.022101553,0.02164247,-0.0018133767,0.018599408,0.038064517,0.04142238,0.008256931,-0.017982926,0.0143364975,-0.021590004,0.041973278,0.027964696,0.025616815,-0.009201329,0.021222739,0.03103399,0.021157155,0.016303996,-0.010827794,0.015057913,-0.008145439,0.0078109647,-0.0018904371,-0.012250951,-0.009325937,-0.010401502,0.030168293,-0.009391521,0.008578288,0.010795002,0.045645937,0.008525822,-0.015936729,-0.021904804,-0.020606255,0.0024626509,0.011424601,-0.00072551466,0.0033332685,-0.0024987217,-0.008781596,-0.008742247,0.020173406,-0.023072185,0.040792778,0.032817855,-0.006227129,0.016618794,0.015215313,0.038300615,-0.0065156952,-0.009194771,0.024213335,0.017799294,-0.013333074,-0.018350191,-0.021262089,0.0072075985,0.032424357,0.006305829,-0.0038694115,0.02195727,-0.020894822,0.016133478,0.013536382,0.0013444566,0.02246882,0.015123497,0.02688913,0.018337075,-0.012316533,0.010204753,-0.03827438,-0.017838642,0.023741135,-0.0014723438,0.0016117082,-0.021393254,-0.0006050054,0.0058369087,0.0035283787,-0.020068472,0.00043817805,-0.017641893,0.0047351103,0.01025722,0.00056319614,-0.0055286675,0.025708633,-0.0015289094,-0.018835507,0.008440563,-0.010572019,0.01021787,0.08510082,-0.0023118095,0.018651875,0.020540673,-0.02904026,-0.0026610403,0.003041423,-0.026666148,-0.009201329,-0.002959444,-0.0026561215,-0.0046990397,0.0074502565,-0.016894244,0.019360173,-0.016212178,-0.02880416,-0.0065583247,0.007948689,-0.010860586,-0.010631044,-0.018455125,0.006892799,-0.002477407,0.042261843,-0.01052611,0.027098997,0.02799093,0.011955826,0.0008763561,-0.008801271,0.017864875,0.007994598,0.010768769,-0.009201329,-0.0023380427,0.010001445,0.024003468,0.016789312,0.005889375,0.017405793,0.0045547565,-0.002180643,0.0056467173,0.012742825,0.0026889131,0.014310264,0.016579444,-0.011877126,-0.021891687,0.012231275,0.018756809,-0.015136613,0.0019199495,0.029223895,-0.012749383,0.008315955,0.005600809,-0.011398368,-0.0044924524,-0.015621929,-0.017392676,0.014625064,-0.0036956158,-0.03103399,0.012618217,0.002821719,-0.0029528856,-0.023413219,0.03127009,0.0043416107,-0.022678686,-0.02998466,0.005017118,0.025380716,0.02301972,0.015844911,-0.010080145,-0.0022183533,0.008519264,0.014375848,-0.0048006936,0.018992908,-0.04273404,0.0054893177,0.0030201084,0.0031971831,0.0058336295,-0.016881127,-0.002251145,0.018612524,-0.0036857785,0.03538872,-0.016251529,-0.0028118817,0.001769108,0.005200751,0.0015879343,0.014323381,-0.009312821,0.0028036837,0.01162791,-0.0034463995,-0.025341365,-0.007096107,-0.0039054824,0.005827071,-0.015700629,0.007384673,-0.009463662,-0.000814052,-0.0070698736,-0.039271247,0.01511038,-0.01737956,-0.00022564735,0.00861108,-0.014861164,0.006118917,-0.005430293,0.010112937,-0.025105266,0.03397212,0.009083279,-0.009994887,0.0025413507,-0.0033447456,-0.017877992,-0.021708054,0.008906204,0.02911896,0.03572975,-0.022180254,-0.049476,-0.047744602,-0.015490763,-0.0061254753,0.009168537,-0.031532425,-0.01698606,-0.016789312,0.00966697,0.025459416,-0.0060467753,0.07308597,-0.021117805,0.0039054824,-0.00614515,-0.004200607,0.031217625,0.002274099,-0.0071223406,-0.051836997,-0.023583734,-0.010519553,-0.02998466,0.015923612,-0.016684378,0.015792446,0.03525755,0.030483093,-0.0015034958,-0.011759076,-0.020396389,-0.0036890574,-0.0048203687,-0.047902003,-0.00037935807,-0.006951824,0.0023855905,0.009712879,-0.0046301773,-0.007948689,-0.003439841,-0.009332496,0.027335096,-0.018087858,-0.006748516,-0.018402658,-0.021196505,-0.005236822,0.0028873023,-0.0064796247,0.013536382,-0.06547831,-0.026705498,-0.010401502,0.030089593,0.014703764,0.014428314,0.001769108,0.007109224,0.020134056,0.0046728062,0.014205331,-0.0016953269,-0.0052073095,-0.05076143,-0.030614259,-0.010991752,0.0124411415,-0.0026872735,0.012500167,0.006289433,-0.016881127,0.004928581,0.008361864,-0.04095018,0.014100398,-0.009765346,-0.0097456705,-0.012316533,0.0010517912,0.016605677,-0.007378115,0.011136035,0.003934995,0.0068993573,-0.03772348,8.838367e-05,0.032975256,-0.003193904,0.022009738,0.008604522,0.015766213,-0.008683221,0.008591405,-0.012952691,0.010322803,0.0067944243,0.019202774,0.02791223,-0.004567873,-0.018992908,-0.009325937,0.016107244,-0.013838065,0.005036793,-0.029801026,0.03284409,-0.012644449,-0.015687512,-0.008322514,-0.008263489,-0.006118917,0.01710411,0.018612524,0.018887974,0.0029610835,-0.012126342,-0.017471377,0.015884262,-0.041710943,0.009227563,0.010204753,-0.00998177,0.0079027815,-0.017996043,-0.0011304911,-0.002403626,-0.0039284364,0.022718037,-0.012513283,0.015556346,0.01037527,8.9818306e-05,0.0011075371,0.0076076565,0.021760521,0.020881705,-0.0022445866,-0.02000289,-0.0016920477,0.0009927663,-0.025288898,-0.019937307,-0.0032939184,-0.0024134633,-0.021130921,-0.024187101,-0.008053622,0.02633823,-0.033919655,-0.0024921633,-0.011378693,-0.02959116,-0.009319379,-0.0057254173,0.007981481,-0.0257611,-0.04596074,0.008434005,0.005630322,-0.024252685,-0.0035906828,-0.018114092,0.00048367644,0.010755653,-0.0112409685,0.013129766,0.009804695,-0.0068140994,-0.024449434,0.005354872,-0.019268358,-0.0054827593,0.003675941,-0.002242947,-0.025420066,0.021734288,0.003439841,0.015582579,-0.0060795667,-0.0034431203,-0.00426619,0.021708054,0.0023987072,-0.014205331,-0.024488784,0.013982348,-0.021668704,0.0006435356,0.03609702,-0.004712156,-0.0039874613,0.00070542976,0.007535515,-0.0077519394,-0.01487428,-0.04519997,-0.03365732,0.018337075,-0.0071223406,-0.031191392,-0.0068140994,-0.00094521855,-0.018533826,0.030168293,-0.016605677,0.010991752,0.010171961,-0.01996354,-0.0049220226,-0.0047580646,-0.020907938,-0.0019281474,-0.014651297,-0.012185367,-0.012834641,0.004482615,-0.015582579,0.027492497,0.014480781,-0.020147173,-0.016618794,-0.01800916,-0.058500256,-0.012414908,0.012454258,-0.009339054,-2.8615814e-05,0.0029266523,0.00031951338,0.027544962,0.0054040593,0.028646762,-0.007502723,0.0054270136,-0.023701785,0.011496743,0.0120542,-0.024751117,-0.012631333,0.0002344601,-0.001076385,-0.008315955,0.01690736,0.006161546,0.0058336295,-0.00056852476,0.00970632,0.0046400144,0.03764478,0.0022954135,0.0060303793,-0.031165158,-0.0026479235,-0.003280802,-0.00071075844,-0.024672417,-0.015425179,0.009660412,-0.02132767,0.0011329505,-0.031873457,-0.005535226,-0.0031791478,-0.026220182,-0.02000289,0.008440563,-0.008991463,-0.0005918888,-0.0047515063,-0.01248705,0.0042924234,0.012355884,0.0056237634,-0.0033529433,0.005695905,-0.017996043,-0.030089593,0.009640737,0.015805563,0.011004869,-0.0027741713,-0.0005304045,-0.004390798,-0.023150885,0.008735688,0.0029020587,0.0078044063,-0.00017430796,-0.039874613,-0.0066632577,-0.0054073385,-0.024213335,-0.0016920477,-0.022836085,-0.005813955,0.017668126,-0.0010288372,-0.018586291,-0.008932438,0.025157733,-0.0013944637,0.023059068,0.21133545,-0.010067028,-0.011811542,0.03764478,-0.0058041173,0.0098506035,0.016605677,-0.019478224,-0.004915464,-0.0077453814,0.004603944,-0.017550077,-0.020776773,0.0029873168,0.010644161,-0.014821813,-0.02250817,0.0008706176,0.0031447166,0.039743446,0.013057624,-0.022180254,0.0009829289,0.0040923944,0.033998355,0.005230264,-0.010617928,0.026233299,0.037408683,-0.0031496354,-0.010421177,-0.0074043483,-0.010244103,-0.0018494475,0.011050777,0.016290879,-0.0036693825,0.012106667,0.012159133,0.01777306,0.032817855,-0.004485894,0.011601676,-0.017812409,0.015215313,0.019084724,0.0048466017,-0.01663191,-0.010886819,-0.010749094,-0.038589183,-0.011411484,-0.0070108487,0.012047642,-0.015412062,-0.0009730914,-0.005230264,0.016540095,0.010821235,-0.005705742,0.00970632,0.010499878,-0.01957004,0.018835507,-0.02485605,0.017156577,0.0038726907,-0.02509215,0.0049351393,-0.019701207,0.008099531,0.003256208,0.010991752,0.012198484,0.00034431205,-0.013254374,0.0016740123,0.01796981,0.019556923,0.015294013,-0.012277183,-0.012618217,-0.022731153,-0.00720104,0.035021454,-0.02998466,-0.0012198484,-0.017209044,0.00954892,-0.0072075985,0.0032102999,-0.014244681,-0.019124074,-0.0072535067,0.0024331384,-0.005777884,0.0005275352,0.03205709,-0.009083279,0.0031594727,-0.021340787,0.04383584,-0.00301355,0.008394656,-0.020330805,0.0049384185,0.00324965,0.022718037,-0.008735688,-0.014047931,0.0077584977,-0.044675305,0.0023347635,-0.023098418,0.00430554,0.023295168,0.02414775,-0.021721171,-0.0060369377,-0.007988039,0.010329361,-0.01749761,0.018219026,-0.028043395,-0.0070567573,-0.0035808452,-0.04740357,0.02822703,-0.029092727,-0.013372424,0.028200796,-0.014415197,-0.018179676,-0.019071607,0.00073453237,0.0030430625,0.0067813075,-0.036700383,-0.02051444,0.0072403904,0.017077876,0.017838642,0.024396967,0.0096932035,0.018022276,-0.021301437,0.014244681,0.003120123,-0.014585714,-0.02027834,-0.011057335,0.012257509,-0.0036661034,0.004685923,0.038038284,0.0032480103,-0.012205042,-0.022547519,0.0132412575,-0.013916764,-0.03355239,-0.011568884,0.004725273,0.0035742868,-0.005276172,0.020304572,-0.16390565,0.012414908,0.030797891,0.013549498,0.028122095,-0.017445143,0.022599986,0.014808697,-0.016146595,-0.011568884,0.003244731,-0.03365732,-0.043468576,-0.03292279,0.015805563,0.016290879,-0.009037371,0.04176341,0.038248148,0.0067813075,0.027072763,-0.020803005,0.003593962,-0.027492497,-0.0062172916,0.02959116,-0.03308019,0.017576309,-0.013969231,-0.027151464,0.0017609101,-0.0023380427,0.02211467,0.024200218,-0.007889665,-0.023045952,-0.018533826,-0.006748516,-0.007863431,0.0514435,0.015923612,0.020265223,0.0023314843,0.0055745756,0.040687844,0.008374981,0.015805563,-0.009883395,0.029932193,-0.01002112,-0.00078167033,-0.0011444276,-0.0042727483,0.0050597475,-0.010854027,-0.007955248,-0.022613103,0.01467753,0.006561604,-0.028043395,-0.02657433,-0.012985483,-0.01483493,0.011293435,-0.0009755508,-0.026207065,-0.0034595162,0.022888552,-0.01773371,0.018310841,-0.01080156,0.013201907,-0.0036497077,0.007876548,0.032345656,0.0027118672,-0.02227207,0.01933394,0.0016748321,0.010204753,-0.012506725,0.012126342,-0.014861164,-0.020488206,0.003433283,0.015385829,0.035834685,0.0035480536,-0.033027723,0.010690069,0.030246994,-0.0122903,-0.0134839155,0.01710411,0.01463818,0.021170272,0.007955248,-0.011109802,0.027728597,0.032476824,-0.013201907,0.011686934,-0.028909095,0.0034070497,0.0045711524,0.011850893,0.048085634,0.0018412496,0.011522976,-0.015516995,-0.03730375,0.014861164,0.022796735,0.027781062,0.0143364975,0.0040169735,0.024724884,0.0037939907,0.0021757241,0.020632489,0.04270781,-0.005292568,-0.0030529,0.018415775,-0.0108409105,-0.020094706,-0.11269825,-0.028017161,0.012952691,0.015359596,-0.0026495631,0.008289722,0.010329361,0.0241084,0.0055745756,0.023478802,-0.02105222,-0.028253263,-0.00747649,-0.009443987,0.009417754,-0.0051646805,0.008663546,-0.010126053,-0.018074742,0.009896512,0.026246415,-0.020527557,-0.01769436,0.019386407,-0.013641315,0.0016051499,-0.020330805,0.014821813,-0.012552633,-0.0058106757,0.0105982525,-0.012237834,-0.00087143737,-0.025839798,0.0028905815,0.016933594,-0.006932149,-0.026325114,0.00076691405,-0.0248954,-0.016815543,-0.026469398,0.018979792,-0.05808052,0.007076432,-0.03318512,-0.02043574,0.0249741,-0.021511305,-0.019871723,-0.026180832,-0.023688668,-0.062172916,-0.02767613,0.022521287,-0.020671839,0.0031611123,-0.003303756,-0.008184789,-0.010604811,-0.009332496,0.00075953593,-0.009463662,0.026036547,0.0008132322,-0.0040038573,0.0044170315,-0.037487384,0.0071157822,-0.03730375,-0.019255241,0.016972944,-0.031453725,0.013903648,-0.026692381,0.014651297,0.008879972,-0.008670105,0.0048400434,0.010047353,-0.00872913,-0.013942998,0.004823648,-0.015713746,0.0016740123,0.020370156,0.02211467,0.012362442,-0.026600564,-0.019215891,0.02102599,0.027151464,0.01984549,0.019478224,0.013444565,0.0056270426,-0.013615082,-0.00301355,-0.0035218203,0.02704653,0.001491199,0.010408061,-0.05170583,0.019360173,-0.012342767,0.00034349225,-0.016172828,0.007922456,0.011844334,-0.008204464,0.009830928,0.032398123,-0.035493653,0.021773638,0.012382117,-0.035414953,-0.024711767,0.031532425,0.026718615,0.001612528,0.010171961,0.023924768,-0.0072403904,0.015149729,0.007496165,0.023898534,-0.014848047,0.02270492,0.009778461,0.013549498,-0.008775039,-0.008558613,0.016199062,-0.004082557,0.024410084,0.013641315,-0.030666726,0.0093980795,-0.031112691,0.008683221,-0.031611126,-0.0037939907,0.011181943,0.02047509,0.0127362665,-0.041317444,-0.038431782,-0.01769436,0.004944977,0.005761488,0.0028168005,0.012388675,0.047141235,0.023150885,-0.021275206,-0.021380138,0.0024954425,-0.01957004,0.013982348,0.0011944348,-0.013720015,-0.042497944,0.005358151,0.026167715,0.009811253,-0.031217625,0.004830206,0.012532958,-0.026482515,0.0011026183,0.004849881,-0.028253263,-0.03189969,0.0143364975,0.023439452,0.022035971,0.0012403431,-0.009057046,-0.0049810475,0.0042333985,-0.012218159,0.04039928,0.034968987,-0.004974489,-0.028882861,0.011083568,0.02684978,-0.0060664504,-0.0083553055,0.011175385,-0.016894244,0.020173406,-0.040976413,0.014192214,-0.009325937,0.01021787,0.009148863,0.016225295,-0.0072272737,0.018783042,-0.012952691,0.042917676,0.0038923656,-0.010080145,-0.0041743736,0.009476779,-0.00078167033,0.0017740268,-0.0066993283,-0.0128411995,-0.015530112,0.012611658,0.008283163,0.019110957,0.030168293,0.0025511882,-0.0027741713,-0.0052860095,-0.010008004,-0.012146017,-0.031952158,0.011378693,0.019950423,0.0028791046,0.0028938607,-0.0052073095,0.038458016,-0.012277183,0.017838642,-0.014769346,-0.0054827593,0.0034496787,0.002019964,-0.027308863,-0.030483093,-0.012933016,-0.020029124,-0.028043395,0.008722572,0.00032053812,0.008322514,0.0733483,0.010185078,-0.023373868,0.0254463,-0.0017035248,0.0047679017,0.011700051,0.012919899,-0.01507103,0.013641315,0.01694671,-0.018140325,0.010729419,-0.0075289565,-0.009594829,0.019307707,-0.008663546,0.0054696426,0.0010017841,0.0014731636,0.02446255,-0.019819256,0.013096974,0.003984182,-0.01800916,-0.04239301,0.009562037,-0.0009034092,0.0025987362,-0.016133478,0.013956115,-0.00032012822,-0.027518729,-0.011955826,0.01980614,-0.0024331384,-0.0018035392,-0.020016007,0.019425757,0.008342189,0.010171961,0.021432605,-0.008591405,-0.03738245,-0.024908517,0.020855471,0.012277183,0.0015953124,-0.024331383]\n[0.015403472,0.011606088,-0.0051512043,-0.009640541,-0.011612774,0.0051344903,-0.0105029745,-0.01624585,-0.024576025,-0.01399951,-0.015323245,0.025672453,-0.0307802,0.014146591,-0.0022062263,-0.00919261,0.041610766,-0.034122966,0.019053774,-0.012856283,-0.02639449,0.0003058632,-0.02289127,-0.0047601005,-0.0013329284,0.0016931116,0.017369019,-0.012816169,-0.018318364,-0.008911817,0.008737993,-0.019240968,-0.0018351792,-0.0061807767,-0.01464132,0.005184632,0.024977157,-0.03238473,-0.008002585,-0.009460031,0.040728275,0.027838565,0.0045160786,0.014895371,-0.0062543177,0.011866824,0.014534352,-0.0026274151,-0.0057094465,0.002757783,0.009159182,0.0061272923,-0.03562053,-0.0028346665,-0.004766786,0.0071869497,-0.015577296,0.020872239,0.0047199875,-0.027704855,-0.009934704,0.023359258,-0.028507119,0.014614578,-0.009707396,-0.011646201,-0.008684509,0.024977157,-0.017716667,-0.002060816,0.02799902,0.026621798,0.016860917,0.023386,-0.005127805,-0.028854767,0.0021594276,-0.016152252,-0.0013446282,0.0061807767,0.011291868,-0.009727453,-0.031234818,0.029817484,0.018037573,-0.014360528,0.024321975,0.0104962895,0.0033527955,-0.0043522827,-0.006588594,-9.892502e-05,0.013946025,0.02063156,-0.0051913178,0.0064682546,0.010008245,0.008403717,-0.011211641,-0.011452321,-0.0016312704,0.017462617,-0.019601988,-0.0062676887,-0.02663517,-0.009553629,0.00083402044,0.0104896035,0.0037539275,-0.027918791,-0.028293181,0.021580905,-0.022958126,0.0016571769,0.00063763285,0.026247408,0.01813117,-0.021233257,-0.016339445,-0.012461836,0.016941145,0.013491409,0.01563078,-0.005889956,0.023426114,0.026568314,0.025351547,0.011599402,-0.0053617987,-0.019615358,-0.0041717733,-0.0019371336,-0.0075345975,0.010790452,-0.031983595,-0.003489849,-0.01752947,0.014574465,-0.016406301,-0.03615537,0.019588616,0.022316314,-0.021621019,0.00074877986,0.006912843,0.0050241794,0.006792503,0.0035132484,-0.0008473915,0.0026641856,0.012849597,-0.013986139,0.002443563,0.007822075,0.01000156,-0.027410692,-0.014012881,-0.0010897422,-0.021353597,0.0061841193,0.013150446,0.0033527955,0.024321975,0.023305774,0.021554163,0.023920842,-0.020029861,-0.0104628615,-0.015684264,-0.008992044,0.005585764,0.012562119,-0.024923673,0.01350478,-0.03701112,0.019481648,-0.0027026273,0.011726428,-0.023386,-0.04551512,0.02413478,0.010055044,0.033775322,0.02576605,0.014373899,-0.014614578,-0.0007400051,0.0053484277,0.022316314,0.0008256635,0.0005607492,0.011532547,-0.012729257,-0.014828515,-0.6169946,-0.017863749,0.017716667,0.0008260814,-0.017101597,0.0004504379,0.021594277,-0.012294698,-0.040300403,0.014654691,-0.016473157,0.005863214,-0.020337395,-0.01790386,0.009139125,-0.015162792,-0.014574465,-0.030379068,0.0059434404,-0.014908742,-0.033855546,0.019053774,-0.0043054842,0.019495018,0.022236088,-0.0004295456,0.00079516077,0.018345106,0.0013295857,0.01674058,-0.0013696989,0.023653422,-0.014507609,0.020685043,0.03853542,-0.028801283,-0.021982037,0.030566264,0.01938805,0.03267889,0.0051913178,-0.0244958,0.032331243,0.01564415,0.027704855,-0.0025104182,0.03890981,-0.008978673,-0.0031973568,-0.009620484,0.019976377,-0.0104829185,-0.029496578,0.017248679,-0.00042829206,-0.02265059,0.021166403,-0.003066989,0.010262296,0.002736055,-0.02190181,0.009981503,0.0052514873,0.0031555723,-0.033802062,0.031101106,-0.0025204464,-0.012562119,-0.0040046354,-0.025257949,0.013317585,-0.008049384,0.005452053,-0.005184632,0.011713057,0.015965056,0.03214405,-0.008851647,0.007307289,-0.015363358,0.0066821915,-0.022944754,-0.00244022,-0.013090276,0.010589886,0.004810242,-0.0085975975,-0.010362579,0.011565975,0.0086644525,0.028507119,0.013585006,0.0013320928,-0.03201034,0.006805874,0.021834956,-0.021473937,-0.0039277514,0.0084572015,-0.029630288,-0.04238629,-0.008263321,0.024923673,0.0028898222,0.012201101,-0.006608651,-0.022744188,-0.011385465,0.019789182,-0.02239654,0.020832125,0.0073875156,-0.02049785,-0.015162792,-0.0021945266,-0.01839859,-0.019963006,-0.013631805,-0.0032090566,-0.012274642,-0.0074276286,-0.025565485,0.031234818,-0.0086911945,0.00895193,-0.0019872752,0.030566264,-0.006739019,-0.0015828003,-0.031181334,-0.016486527,0.016566755,0.011786598,-0.0042152293,0.008844962,-0.019735698,0.010556459,-0.011151471,-0.0142535595,-0.018706126,0.010148642,-0.0027377263,-0.0002960438,-0.014052994,-0.01687429,-0.021861698,-0.016687093,0.011886881,-0.009152497,-0.015777862,0.014066365,-0.01387917,-0.021794843,0.006418113,-0.018933434,-0.0015142736,-0.005669333,-0.028052503,-0.024656251,-0.02877454,-0.005425311,-0.02251688,-0.006378,0.0011448978,-0.003967865,-0.0074877986,-0.0072136917,0.0026959418,-0.025084125,-0.046959195,-0.013391126,-0.0054219686,0.00818978,0.026501458,0.003703786,0.02714327,-0.02515098,-0.010108528,-0.0035968176,-0.006120607,-0.0037138143,0.018478818,-0.017810265,-0.0073474026,0.028560603,-0.022864528,0.035941433,0.009780937,-0.014119849,0.022543622,-0.0051378333,-0.0124016665,0.002435206,-0.008216522,-0.0061908048,0.014601207,-0.0324917,0.02690259,0.010349208,0.034310162,0.023399372,-0.0044291667,0.013304214,-0.025257949,0.008169723,-0.024482427,0.019561874,-0.016540013,0.026447974,0.01926771,0.0076883645,-0.006378,-0.03241147,-0.02277093,0.016285961,-0.00025822877,0.013605063,0.0042052013,-0.0015201234,0.0085708555,0.015537182,-0.028052503,0.033855546,-0.022450024,-0.009246094,0.024108037,0.002055802,0.026595056,-0.005686047,-0.012615603,-0.021955295,0.02000312,0.008931874,0.005325028,0.04864395,0.01877298,0.01206739,-0.017088227,0.042011898,-0.022222716,0.03789361,0.023800503,0.032357987,-0.015202905,0.021259999,0.013932654,0.01863927,0.011031132,-0.00010117094,0.004653132,-0.013197245,0.0009585385,-0.017743409,-0.026795622,-0.015323245,-0.0052113743,0.012134245,-0.015456956,0.027089786,0.021126289,0.03481826,0.01726205,-0.018478818,-0.0016880975,-0.013056849,-8.023947e-06,0.019842666,-0.007888931,-0.007955786,-0.018866578,0.014668062,-0.019842666,0.0142936725,-0.010329151,0.03901678,0.013772201,-0.009460031,0.014079736,0.017422503,0.019200856,-0.016981257,-0.023386,0.025939874,-0.012715886,-0.013812315,-0.020056603,-0.028640829,0.016339445,0.012608918,-0.0002649143,-0.004666503,0.023065094,-0.036182113,0.0027510975,0.015898202,0.008363604,0.024442313,0.015109308,0.025124239,0.028159471,-0.016433043,0.02263722,-0.027731597,-0.021727987,0.03251844,-0.0067323335,-0.017155081,-0.029095447,0.0011340338,-0.011960421,0.006879415,-0.024402201,0.0057061035,-0.015965056,0.004840327,-0.0071200943,-0.0030252044,-0.005214717,0.014547723,-0.005886613,-0.0055356226,0.014440754,0.0063813427,-0.009580371,0.08124261,-0.0002611537,0.006618679,0.026875848,-0.026193924,-0.012802798,0.0044425377,-0.05492835,0.0032224276,-0.0074476856,-0.004669846,0.0069462704,0.0038976667,-0.0008219029,0.009359748,0.0020507877,-0.0074142576,-0.009613799,0.0024368772,-0.020056603,0.010148642,-0.019949635,0.013959396,0.00072746974,0.027290352,0.00020996756,0.024709735,0.016486527,0.010984333,-0.011204956,-0.01251532,0.04139683,0.0007262162,0.023573196,-0.015898202,-0.0072872327,-0.0035633899,0.016994629,0.018037573,0.008343547,0.023867358,0.009981503,-0.004462594,0.0032909543,0.01056983,-0.0012944866,0.013357698,0.01950839,-0.03003142,-0.009520201,0.017730037,0.009580371,-0.008042698,0.0029633632,0.028988477,-0.006434827,0.0070465533,0.009807679,-0.02238317,-0.029068705,-0.025712566,-0.017114969,0.014681433,-0.008871704,-0.034951974,0.0036937578,-0.0014632964,-0.0054319967,-0.026167182,0.03201034,-0.005950126,-0.029469837,-0.032839347,0.006926214,0.019040402,0.010275667,0.007180264,-0.009359748,3.9486436e-05,0.015202905,0.00039193945,-0.0027527688,0.01513605,-0.046638288,-0.0077217924,-0.009874535,-0.005699418,-0.0024118065,-0.011338666,0.0072270627,0.012909767,-0.007715107,0.043482717,0.00097274524,0.004596305,0.0030268757,0.001903706,-0.008504,0.011960421,-0.015657522,0.009439975,-0.01019544,-0.029870968,-0.03126156,0.030833686,-0.014360528,0.0052748867,-0.029443095,-0.006792503,-0.007307289,-0.010589886,0.0005076828,-0.03324048,-0.002578945,-0.001673055,0.0023900785,0.017288793,-0.016847547,-0.002649143,0.0048637264,0.005214717,-0.038214516,0.030619748,0.006999755,-0.00010822209,-0.009600428,0.0196421,-0.014908742,-0.01588483,0.0024987184,0.030593006,0.031823143,-0.02326566,-0.04776146,-0.04187819,-0.030913912,-0.020110087,0.013905912,-0.020778641,-0.019535132,0.008724622,0.018532302,0.024482427,-0.008704565,0.063699774,-0.017609699,0.010369264,-0.001252702,-0.0029065362,0.04313507,-0.0054921666,-0.021072805,-0.028025761,-0.0048938114,-0.015082566,-0.0387761,-0.010830566,-0.0032224276,0.031368528,0.03324048,0.020190313,-0.020176943,-0.010716911,-0.025512,0.00058540213,0.0025756021,-0.048563723,0.007507855,-0.0033444387,0.0073139747,0.03003142,0.008056069,-0.0066587925,-0.009413233,-0.00034179795,0.020484477,-0.009540258,-0.0008306777,-0.015149421,-0.031716175,-0.008276692,-0.0009050542,0.0026123726,0.030593006,-0.0557841,-0.019896151,-0.0014674749,0.031876627,0.025364919,0.01789049,-0.0043255407,0.009038842,0.015523811,-0.016392931,0.031796403,-0.008343547,0.0040714904,-0.06204176,-0.01438727,-0.0008051891,0.0067757894,-0.0008415417,0.014935484,0.0005490495,-0.025926502,0.0065117106,0.023733648,-0.041530542,0.029015219,-0.01789049,-0.02151405,0.00073415524,0.002557217,0.008196466,-0.013330956,0.0051980033,0.0017933947,0.0035734181,-0.037225056,0.0009092327,0.03711809,0.0025471887,0.020658301,-0.0026441289,0.019134,0.012809484,0.0026123726,-0.017462617,0.007267176,0.0032057138,0.005742874,0.008657767,0.005201346,-0.0062543177,-0.01070354,0.02890825,-0.025605597,-0.016860917,-0.04618367,0.0175161,0.003224099,-0.008142981,-0.02265059,-0.007614824,-0.02688922,0.027290352,0.032090567,0.050676353,0.013457981,-0.010416063,-0.011786598,0.02539166,-0.022904642,0.0032006996,0.008858333,-0.016446415,-3.1442905e-05,-0.008858333,-0.012976622,-0.01914737,-0.0028513805,0.025699195,-0.012288013,-0.012722572,-0.013665233,0.01088405,0.0024753192,-0.0023332515,0.011759855,0.021714617,-0.0013011722,-0.012675773,0.032438215,0.004609676,-0.021286743,-0.009493459,0.0007675829,0.00047843356,-0.018425332,-0.023666792,-0.017128339,0.028881509,-0.029255899,0.011291868,-0.003981236,-0.024923673,0.013217302,0.005602478,0.013357698,-0.026996188,-0.032812603,0.014454125,-0.012876339,-0.007949101,-0.01877298,0.0037205,0.00366033,0.020604817,-0.009887906,0.020176943,0.008376975,-0.005268201,-0.029710514,0.024656251,-0.014561094,-0.014467496,0.018853208,0.00010388694,-0.046745256,0.014507609,0.0032525125,0.008323491,-0.026608428,-0.014119849,-0.01181334,0.012983308,0.0024903617,-0.027678113,-0.019187484,0.014895371,-0.010014931,0.0034497357,0.024883559,-0.019401422,0.020096717,-0.010556459,0.0057395315,-0.007420943,-0.024428943,-0.030593006,-0.033186994,0.028533861,0.0034731352,-0.03374858,-0.0142535595,-0.013892541,-0.008530742,0.0031171304,-0.013852428,0.0031923428,0.023613308,-0.0035299622,-0.0029600204,-0.010175384,-0.035486817,0.0009744167,-0.021487309,-0.019601988,-0.024549283,0.0015234662,-0.0123949805,0.030699974,0.015202905,-0.017943975,-0.0033862232,-0.023479598,-0.044418693,-0.0123949805,0.021286743,-0.009058899,-2.013495e-05,0.0064983396,0.01863927,0.019535132,-0.014694805,0.018345106,-0.004857041,0.0060136383,-0.017208565,-0.011693,0.016392931,-0.038615648,-0.030325584,-0.00669222,0.002614044,-0.013605063,0.015349987,-0.016152252,0.0007128451,0.011880195,0.010723597,0.0067423615,0.03139527,6.199789e-05,0.01839859,-0.017756779,-0.007842132,0.0010329151,-0.016299333,-0.024215005,-0.014775031,0.023118578,-0.023091836,0.0141733335,-0.013658547,-0.010289038,-0.027571144,-0.01613888,-0.01056983,-0.0061674058,-0.0037505848,0.03102088,-0.0017933947,-0.00950683,-0.0055924496,0.014574465,0.012341497,-0.010289038,0.0011825039,-0.01218773,-0.008998729,0.00775522,0.0034865062,0.016165622,-0.0030853741,-0.01900029,0.002988434,-0.03800058,0.004967352,-0.007614824,0.002535489,-0.0027728255,-0.027945533,-0.008891761,0.011191585,-0.0007354088,0.01662024,-0.0055189086,0.0004021767,0.014681433,-0.004405767,-0.010683484,-0.005381855,0.024856817,0.0069863833,0.015055824,0.21051411,-0.0028129385,-0.028801283,0.021166403,-0.0031054309,0.0042185723,0.021941924,-0.008256635,0.003123816,0.0018000802,0.009653912,0.0022078978,-0.007026497,0.004870412,0.015724378,-0.009827736,-0.02037751,0.0057696165,-0.006952956,0.03893655,0.0021844984,-0.030486038,-0.015416843,-0.0076014525,0.029576804,-0.0043155127,-0.005960154,0.011833396,0.02751766,0.0027377263,-0.014681433,0.005425311,0.011485748,0.005117777,0.0066119935,0.02540503,0.013284157,0.008096183,0.014507609,0.018184654,0.008891761,-0.021540793,0.0060671223,-0.0164999,0.026501458,0.014627949,0.0034296792,-0.013585006,-0.005147862,-0.014414012,-0.043001357,-0.008911817,-0.0074610566,0.01600517,-0.029041963,-0.003834154,-0.010048359,0.011860138,0.015858088,0.0069195284,0.0013429568,0.015109308,-0.015737748,0.022570364,-0.037091345,0.010289038,-4.40044e-05,0.0015418514,0.010991018,-0.028801283,-0.0036068459,-0.015858088,-0.0067022485,0.012836226,-0.0074610566,-0.018866578,0.005385198,-0.0031338444,0.0066821915,0.023613308,0.0051645753,-0.021714617,-0.016713837,-0.013498094,0.02025717,-0.0202438,0.00506095,-0.03714483,0.004362311,0.002893165,-0.005415283,-0.011559289,-0.007802019,-0.010843937,-0.014601207,-0.0065518236,0.003864239,0.021380339,0.0062075187,0.017997459,-0.010977647,0.06380674,0.0086243395,0.020444365,-0.011987164,-0.00029917766,0.007848818,0.010843937,-0.016807433,-0.0175161,0.0056526195,-0.044097785,0.00787556,-0.02751766,0.0067858174,0.035112426,0.019896151,-0.032812603,0.017382389,-0.011405522,0.011492434,-0.018826466,0.00494061,-0.024174893,-0.012107503,-0.028533861,-0.046076704,0.034363646,-0.029764,0.0013504779,0.013036792,-0.006912843,0.012047333,-0.013865799,0.0077084214,-0.015122679,0.0031488868,-0.034497358,-0.019067144,0.0053751697,0.016981257,0.014601207,0.029764,0.015550553,0.0011298553,-0.016473157,0.021246629,0.0011047845,-0.025097497,-0.032571923,-0.0076014525,0.0071134088,-0.008530742,-0.0011649544,0.04391059,0.011659572,-0.0071602073,-0.013177188,0.026568314,-0.010910792,-0.04238629,0.014574465,0.02528469,0.020564703,-0.0085574845,0.03751922,-0.16719185,-0.009700711,0.011793283,0.015296503,0.011706371,-0.0033878947,0.025832905,0.013143761,-0.0124284085,-0.008731308,0.027651371,-0.02799902,-0.033962514,-0.022623848,0.013357698,0.0387761,-0.011024446,0.02364005,0.029764,0.010743654,0.01525639,-0.020765271,0.002356651,-0.03628908,0.015042453,0.03265215,-0.025739308,0.022503508,-0.02265059,-0.029015219,0.0049071824,-0.0074610566,0.021875069,0.014935484,-0.014534352,-0.01851893,-0.010576515,0.0053785127,-0.017369019,0.045996476,-0.00040844438,0.013772201,0.019963006,-0.004138346,0.02615381,0.01282954,0.001049629,-0.028667571,0.022677332,-0.027571144,-0.008731308,0.0058966414,-0.004011321,0.01587146,0.005555679,0.0058465,-0.028159471,0.009727453,0.015109308,-0.03176966,-0.015376729,-0.0053584557,0.0062108617,0.011305239,0.018732868,-0.022597106,-0.009707396,0.016767321,-0.013284157,0.033802062,0.0045160786,0.015095937,-0.0037071288,0.022797672,0.01889332,-0.006939585,-0.011452321,0.021112919,0.0028263098,-0.012140931,-0.01218773,0.0104628615,-0.0016563411,-0.012756,0.011425578,0.015363358,0.018719496,0.00088165485,-0.011652887,0.024682993,0.024656251,-0.021032691,-0.008410403,0.011265126,0.011499119,0.023399372,0.0104762325,0.007614824,0.030379068,0.00023044202,-0.02115303,0.009800994,-0.035513557,0.0035533616,0.002600673,0.010650056,0.0462639,0.0035466761,0.015149421,-0.0014273616,-0.03626234,0.0048904684,0.022944754,-0.0002960438,0.0075345975,0.0006677178,0.008443831,-0.009780937,0.009018786,0.027731597,0.0542598,-0.017342277,0.0066420785,0.023332516,-0.01575112,-0.024174893,-0.122799896,-0.01850556,0.010984333,0.03663673,-0.007354088,0.0202438,0.0015184521,0.033775322,0.005803044,0.02603347,-0.025538743,-0.033588126,-0.011833396,-0.013852428,0.010556459,0.0042954558,0.014908742,-0.029603546,-0.01194705,0.017155081,0.018973546,-0.014962226,-0.010041673,0.01637956,0.0016087068,0.011579346,-0.020430993,-0.0040581194,-0.0075011696,0.0061707483,0.00080059277,-0.0035266194,0.008256635,-0.01950839,0.008530742,0.0104227485,-0.008925188,-0.020484477,0.0007746863,-0.02400107,0.0039277514,-0.01839859,0.003533305,-0.032785863,0.009326321,-0.022851156,-0.016860917,0.02277093,-0.008082811,-0.034845006,-0.03952488,-0.035246138,-0.053323824,-0.013618434,0.0009886234,-0.011706371,0.001307022,0.005385198,-0.010937534,-0.018157912,-0.018238138,0.010075101,0.005010808,0.02700956,-0.013457981,-0.0085374275,-0.008898446,-0.040621307,0.022222716,-0.004867069,-0.026327634,0.00067983527,-0.041129407,8.964101e-06,-0.010750339,0.007207006,0.003433022,0.0008941902,0.0064281416,0.008203151,-0.0033310675,-0.01752947,0.03505894,-0.005308314,0.009653912,0.013645176,0.004479308,-0.0017265393,-0.010141956,-0.014587836,0.022329684,0.006431484,0.007995899,0.0061774338,0.01740913,-0.0011273483,-0.011057874,0.012903081,0.003981236,0.016098768,0.015697636,0.01838522,-0.055356227,0.019936264,0.013685289,0.0041049183,-0.0073741446,0.00962717,0.004713302,-0.009526887,0.022169232,0.045461636,-0.034764778,0.020965837,0.018224766,-0.038161032,-0.03527288,0.01850556,0.025204465,-0.024295233,0.020564703,0.025552113,-0.00028162813,0.013905912,0.011265126,0.035727497,-0.020671673,0.028507119,0.007788648,0.01651327,-0.01006173,-0.008169723,0.008504,0.00074209436,0.010034988,0.027076414,-0.032224275,0.0014691462,-0.018612528,0.0066688205,-0.01399951,0.008791477,0.0063947137,0.007628195,0.022075634,-0.014841886,-0.027597886,-0.0050676353,0.008437145,0.005512223,0.0065952796,0.012756,0.033695094,0.004857041,-0.030004678,-0.010563144,0.0046431036,-0.032973055,0.018839836,0.0069061574,-0.012174359,-0.026381118,0.010964276,0.029015219,-0.0046431036,-0.0078087044,0.018211396,0.002958349,-0.022129118,-0.0064548836,-0.003115459,-0.012033962,-0.038134288,0.007929044,0.026113698,0.007053239,0.005144519,0.0009200967,0.0022413253,0.013023421,-0.009974818,0.04487331,0.03088717,0.007507855,-0.011773226,0.022089006,0.012221157,-0.0085574845,-0.0037840125,0.014895371,-0.0028781225,0.00653511,-0.033534642,0.018037573,-0.0014382256,0.011833396,-0.011840082,0.030325584,-0.008751364,0.033374187,-0.0055623646,0.029550062,-0.00029708844,0.011505805,0.011565975,0.0043957387,-0.0027912105,-0.000107177475,-0.003847525,-0.0015518797,-0.018906692,0.023292402,0.010155327,0.009433289,0.03193011,0.007180264,-0.0027962248,-0.003921066,-0.005101063,-0.019601988,-0.029255899,0.0006238439,0.019548504,0.007220377,0.023091836,-0.010162013,0.035994917,0.009841107,0.0051344903,0.0018034229,-0.016847547,0.0052046888,0.010890735,-0.020163571,-0.013417868,-8.315134e-05,-0.024923673,-0.018826466,-0.0009209324,0.013357698,0.00013788915,0.0710806,0.013284157,-0.013103647,0.01413322,0.00074501924,0.015363358,0.01839859,0.015095937,-0.010904106,0.0015518797,0.036315825,0.012488578,0.046210416,-0.008062755,0.007982528,0.00925278,-0.014855257,0.01600517,-0.00023879894,0.0046330756,0.024067923,-0.026314264,0.0141867045,0.00021038542,-0.03663673,-0.02001649,0.013932654,0.009694025,0.0062075187,-0.018452074,0.021046063,-0.017422503,-0.007989214,-0.023452856,0.014962226,0.01501571,-0.0017465958,-0.034122966,0.019321194,-0.005538965,-0.0020875582,0.026862478,-0.015737748,-0.04190493,-0.025324805,0.010957591,0.00057495595,-0.0016212421,0.0012911438]\n"
        }
      ],
      "execution_count": 112,
      "metadata": {
        "gather": {
          "logged": 1744229809098
        }
      }
    },
    {
      "cell_type": "code",
      "source": [
        "query_text = \"how to reduce fleet repair costs\"\n",
        "query_embedding = get_embedding(query_text)\n"
      ],
      "outputs": [],
      "execution_count": 113,
      "metadata": {
        "gather": {
          "logged": 1744229813207
        }
      }
    },
    {
      "cell_type": "markdown",
      "source": [
        "## export"
      ],
      "metadata": {
        "nteract": {
          "transient": {
            "deleting": false
          }
        }
      }
    },
    {
      "cell_type": "code",
      "source": [
        "import psycopg2\n",
        "import json\n",
        "\n",
        "# PostgreSQL connection details\n",
        "conn = psycopg2.connect(\n",
        "    dbname=os.getenv(\"PG_DB\"),\n",
        "    user=os.getenv(\"PG_USER\"),\n",
        "    password=os.getenv(\"PG_PASSWORD\"),\n",
        "    host=os.getenv(\"PG_HOST\"),\n",
        "    port=os.getenv(\"PG_PORT\"),\n",
        "    sslmode='require'  # required for Azure \n",
        ")\n",
        "\n",
        "cur = conn.cursor()\n",
        "\n",
        "# Fetch filename, content, and embeddings from the table\n",
        "cur.execute(\"\"\"\n",
        "    SELECT filename, content, embeddings\n",
        "    FROM maintenance_documents;\n",
        "\"\"\")\n",
        "\n",
        "records = cur.fetchall()\n",
        "cur.close()\n",
        "conn.close()\n",
        "\n",
        "# Convert to list of documents for Azure AI Search\n",
        "documents = []\n",
        "for i, (filename, content, embedding) in enumerate(records):\n",
        "    documents.append({\n",
        "        \"@search.action\": \"upload\",\n",
        "        \"id\": str(i),\n",
        "        \"filename\": filename,\n",
        "        \"content\": content,\n",
        "        \"embedding\": embedding  # Ensure this is a list of floats\n",
        "    })\n",
        "\n",
        "# Optional: save as JSON file for inspection or upload\n",
        "with open(\"fleet_docs_with_embeddings.json\", \"w\") as f:\n",
        "    json.dump(documents, f)\n",
        "\n",
        "print(\" Export complete. Ready to push to Azure AI Search.\")\n"
      ],
      "outputs": [
        {
          "output_type": "stream",
          "name": "stdout",
          "text": " Export complete. Ready to push to Azure AI Search.\n"
        }
      ],
      "execution_count": 114,
      "metadata": {
        "gather": {
          "logged": 1744229815828
        }
      }
    },
    {
      "cell_type": "code",
      "source": [
        "import json\n",
        "import psycopg2\n",
        "import os\n",
        "from dotenv import load_dotenv\n",
        "import ast  # Safe way to evaluate string to list\n",
        "\n",
        "# Load environment variables\n",
        "load_dotenv()\n",
        "\n",
        "# Connect to PostgreSQL\n",
        "conn = psycopg2.connect(\n",
        "    host=os.getenv(\"PG_HOST\"),\n",
        "    dbname=os.getenv(\"PG_DB\"),\n",
        "    user=os.getenv(\"PG_USER\"),\n",
        "    password=os.getenv(\"PG_PASSWORD\"),\n",
        "    port=os.getenv(\"PG_PORT\")\n",
        ")\n",
        "\n",
        "cur = conn.cursor()\n",
        "\n",
        "# Query the documents\n",
        "cur.execute(\"SELECT id, filename, content, embeddings FROM maintenance_documents\")\n",
        "\n",
        "# Build document list\n",
        "documents = []\n",
        "for row in cur.fetchall():\n",
        "    id_, filename, content, embedding = row\n",
        "\n",
        "    # Safely convert string to list of floats\n",
        "    try:\n",
        "        embedding_list = ast.literal_eval(embedding) if isinstance(embedding, str) else embedding\n",
        "        embedding_floats = [float(x) for x in embedding_list]\n",
        "    except Exception as e:\n",
        "        print(f\"Failed to convert embedding for id {id_}: {e}\")\n",
        "        continue\n",
        "\n",
        "    doc = {\n",
        "        \"id\": str(id_),\n",
        "        \"filename\": filename,\n",
        "        \"content\": content,\n",
        "        \"embedding\": embedding_floats\n",
        "    }\n",
        "    documents.append(doc)\n",
        "\n",
        "# Write to JSON file\n",
        "with open(\"maintenance_documents.json\", \"w\", encoding=\"utf-8\") as f:\n",
        "    json.dump(documents, f, ensure_ascii=False, indent=2)\n",
        "\n",
        "# Cleanup\n",
        "cur.close()\n",
        "conn.close()\n",
        "\n",
        "print(\" maintenance_documents.json created successfully.\")\n"
      ],
      "outputs": [
        {
          "output_type": "stream",
          "name": "stdout",
          "text": " maintenance_documents.json created successfully.\n"
        }
      ],
      "execution_count": 115,
      "metadata": {
        "gather": {
          "logged": 1744229832421
        }
      }
    },
    {
      "cell_type": "markdown",
      "source": [
        "### Updated endpont and key values with your search service values  "
      ],
      "metadata": {
        "nteract": {
          "transient": {
            "deleting": false
          }
        }
      }
    },
    {
      "cell_type": "code",
      "source": [
        "from azure.search.documents.indexes import SearchIndexClient\n",
        "from azure.core.credentials import AzureKeyCredential\n",
        "\n",
        "endpoint = \"https://fleet-search-service3cf4d.search.windows.net\"\n",
        "key = \"R59zgdnZJqbIJB6NXBnIb1y7rTaEZtvJmmKXm2kGwuAzSeCXIEcG\"\n",
        "\n",
        "try:\n",
        "    client = SearchIndexClient(endpoint=endpoint, credential=AzureKeyCredential(key))\n",
        "    indexes = client.list_indexes()\n",
        "    print(\" Connected to Azure Search. Index list:\")\n",
        "    for index in indexes:\n",
        "        print(\"-\", index.name)\n",
        "except Exception as e:\n",
        "    print(\" Failed to connect:\", e)\n"
      ],
      "outputs": [
        {
          "output_type": "stream",
          "name": "stdout",
          "text": " Connected to Azure Search. Index list:\n- fleet_index\n"
        }
      ],
      "execution_count": 116,
      "metadata": {
        "gather": {
          "logged": 1744229838683
        }
      }
    },
    {
      "cell_type": "code",
      "source": [
        "import json\n",
        "import os\n",
        "from azure.search.documents import SearchClient\n",
        "from azure.core.credentials import AzureKeyCredential\n",
        "from dotenv import load_dotenv\n",
        "\n",
        "# Load environment variables from .env (if you're using one)\n",
        "load_dotenv()\n",
        "\n",
        "# Config\n",
        "endpoint = \"https://fleet-search-service3cf4d.search.windows.net\"\n",
        "admin_key = \"R59zgdnZJqbIJB6NXBnIb1y7rTaEZtvJmmKXm2kGwuAzSeCXIEcG\"\n",
        "index_name = os.getenv(\"AZURE_SEARCH_INDEX_NAME\")\n",
        "json_file_path = \"maintenance_documents.json\"\n",
        "\n",
        "# Check if environment variables are loaded correctly\n",
        "if not endpoint or not admin_key:\n",
        "    raise ValueError(\"Environment variables for endpoint or API key are not set correctly.\")\n",
        "\n",
        "# Upload documents\n",
        "def upload_documents():\n",
        "    credential = AzureKeyCredential(admin_key)\n",
        "    search_client = SearchClient(endpoint=endpoint, index_name=index_name, credential=credential)\n",
        "\n",
        "    try:\n",
        "        with open(json_file_path, 'r', encoding='utf-8') as f:\n",
        "            documents = json.load(f)\n",
        "        print(f\" Uploading {len(documents)} documents to index '{index_name}'...\")\n",
        "\n",
        "        result = search_client.upload_documents(documents=documents)\n",
        "\n",
        "        succeeded = [r for r in result if r.succeeded]\n",
        "        failed = [r for r in result if not r.succeeded]\n",
        "\n",
        "        print(f\" Upload finished. Succeeded: {len(succeeded)} | Failed: {len(failed)}\")\n",
        "        if failed:\n",
        "            for f in failed:\n",
        "                print(\"Fail\", f.error_message)\n",
        "\n",
        "    except Exception as e:\n",
        "        print(f\" Upload failed: {e}\")\n",
        "\n",
        "# Run upload\n",
        "upload_documents()\n"
      ],
      "outputs": [
        {
          "output_type": "stream",
          "name": "stdout",
          "text": " Uploading 16 documents to index 'fleet_index'...\n Upload finished. Succeeded: 16 | Failed: 0\n"
        }
      ],
      "execution_count": 117,
      "metadata": {
        "gather": {
          "logged": 1744229842129
        }
      }
    },
    {
      "cell_type": "markdown",
      "source": [
        "AZURE_OPENAI_KEY=\n",
        "AZURE_OPENAI_ENDPOINT=\n",
        "AZURE_OPENAI_DEPLOYMENT="
      ],
      "metadata": {
        "nteract": {
          "transient": {
            "deleting": false
          }
        }
      }
    },
    {
      "cell_type": "markdown",
      "source": [],
      "metadata": {
        "nteract": {
          "transient": {
            "deleting": false
          }
        }
      }
    },
    {
      "cell_type": "markdown",
      "source": [
        "# Azure AI Search settings\n",
        "search_service_endpoint = os.getenv(\"AZURE_SEARCH_ENDPOINT\")\n",
        "index_name = os.getenv(\"AZURE_SEARCH_INDEX_NAME\")\n",
        "search_api_key = \"R59zgdnZJqbIJB6NXBnIb1y7rTaEZtvJmmKXm2kGwuAzSeCXIEcG\"\n",
        "\n",
        "# Azure OpenAI settings\n",
        "openai.api_type = \"azure\"\n",
        "openai.api_base = os.getenv(\"AZURE_OPENAI_ENDPOINT\")  # Example: https://your-openai-resource.openai.azure.com/\n",
        "openai.api_version = \"2023-05-15\"\n",
        "openai.api_key = os.getenv(\"AZURE_OPENAI_KEY\")\n",
        "embedding_deployment = os.getenv(\"AZURE_OPENAI_embedding_DEPLOYMENT\")  # Your deployed embedding model name"
      ],
      "metadata": {
        "nteract": {
          "transient": {
            "deleting": false
          }
        }
      }
    },
    {
      "cell_type": "code",
      "source": [
        "import os\n",
        "import openai\n",
        "from azure.search.documents import SearchClient\n",
        "from azure.search.documents.models import VectorizedQuery\n",
        "from azure.core.credentials import AzureKeyCredential\n",
        "from dotenv import load_dotenv\n",
        "\n",
        "# Load environment variables\n",
        "load_dotenv(dotenv_path=\".env\")\n",
        "\n",
        "# Azure AI Search settings\n",
        "search_service_endpoint = \"https://fleet-search-service3cf4d.search.windows.net\"\n",
        "index_name = \"fleet_index\"\n",
        "search_api_key = \"R59zgdnZJqbIJB6NXBnIb1y7rTaEZtvJmmKXm2kGwuAzSeCXIEcG\"\n",
        "\n",
        "# Azure OpenAI settings\n",
        "openai.api_type = \"azure\"\n",
        "openai.api_base = \"https://fleet34jhgh34.openai.azure.com/\"  # Example: https://your-openai-resource.openai.azure.com/\n",
        "openai.api_version = \"2023-05-15\"\n",
        "openai.api_key = \"2t38UCg6oMyb4w4gATvxSkowr6JdDJfutieALZD2cXxSlVkmzC40JQQJ99BDACYeBjFXJ3w3AAABACOGecV5\"\n",
        "embedding_deployment = \"text-embedding-ada-002\" # Your deployed embedding model name\n",
        "\n",
        "# Initialize Azure Search client\n",
        "search_client = SearchClient(\n",
        "    endpoint=search_service_endpoint,\n",
        "    index_name=index_name,\n",
        "    credential=AzureKeyCredential(search_api_key)\n",
        ")\n",
        "\n",
        "# Get embedding from Azure OpenAI\n",
        "def get_embedding(text: str):\n",
        "    response = openai.Embedding.create(\n",
        "        input=[text],\n",
        "        deployment_id=embedding_deployment  \n",
        "    )\n",
        "    return response['data'][0]['embedding']\n",
        "\n",
        "# Search using vector - return only the best answer\n",
        "def search_index(query_text, top_k=1):\n",
        "    try:\n",
        "        vector = get_embedding(query_text)\n",
        "\n",
        "        vector_query = VectorizedQuery(\n",
        "            vector=vector,\n",
        "            fields=\"embedding\"\n",
        "        )\n",
        "\n",
        "        results = search_client.search(\n",
        "            search_text=\" \",  # required\n",
        "            vector_queries=[vector_query]\n",
        "        )\n",
        "\n",
        "        best_result = next(results, None)\n",
        "        if best_result:\n",
        "            print(f\"\\nAnswer for: \\\"{query_text}\\\"\\n\")\n",
        "            print(best_result.get(\"content\", \"\")[:500], \"...\\n\")\n",
        "        else:\n",
        "            print(\" No relevant results found.\")\n",
        "\n",
        "    except Exception as e:\n",
        "        print(\" Error during search:\", e)\n",
        "\n",
        "        print(f\"\\n Top {top_k} results for: \\\"{query_text}\\\"\\n\")\n",
        "        for result in results:\n",
        "            print(\" Filename:\", result.get(\"filename\", \"N/A\"))\n",
        "            print(\" Snippet:\", result.get(\"content\", \"\")[:300], \"...\\n\")\n",
        "\n",
        "    except Exception as e:\n",
        "        print(\" Error during search:\", e)\n",
        "\n",
        "# Example usage\n",
        "search_index(\"How do I fix overheating issues?\")\n"
      ],
      "outputs": [
        {
          "output_type": "stream",
          "name": "stdout",
          "text": "\nAnswer for: \"How do I fix overheating issues?\"\n\nTop 10 tips on Fleet Preventive Maintenance\nDiscover the top 10 tips on preventive maintenance and learn how regular upkeep like oil changes, brake pad replacement, battery inspection, and transmission fluid checks can save you money by reducing the cost of ownership while increasing productivity and reducing operational costs. Simply Fleet, A fleet management app for small business helps achieve this goal.\nTo ensure that your fleet vehicle runs smoothly, following a preventive maintenance check ...\n\n"
        }
      ],
      "execution_count": 118,
      "metadata": {
        "gather": {
          "logged": 1744229848745
        }
      }
    },
    {
      "cell_type": "markdown",
      "source": [
        "update with your chat completion model name -engine"
      ],
      "metadata": {
        "nteract": {
          "transient": {
            "deleting": false
          }
        }
      }
    },
    {
      "cell_type": "code",
      "source": [
        "# Search using vector + generate answer using gpt model\n",
        "def search_index(query_text, top_k=1):\n",
        "    try:\n",
        "        # Step 1: Get query embedding\n",
        "        vector = get_embedding(query_text)\n",
        "\n",
        "        vector_query = VectorizedQuery(\n",
        "            vector=vector,\n",
        "            fields=\"embedding\"\n",
        "        )\n",
        "\n",
        "        # Step 2: Search top-k results\n",
        "        results = search_client.search(\n",
        "            search_text=\" \",\n",
        "            vector_queries=[vector_query]\n",
        "        )\n",
        "\n",
        "        best_result = next(results, None)\n",
        "\n",
        "        if best_result:\n",
        "            document_content = best_result.get(\"content\", \"\")\n",
        "\n",
        "            # Step 3: Generate answer using gpt model\n",
        "            prompt = f\"\"\"\n",
        "You are a helpful assistant for fleet vehicle maintenance.\n",
        "\n",
        "Use the following context from a document to answer the question.\n",
        "\n",
        "Context:\n",
        "\\\"\\\"\\\"\n",
        "{document_content}\n",
        "\\\"\\\"\\\"\n",
        "\n",
        "Question: {query_text}\n",
        "Answer:\"\"\"\n",
        "\n",
        "            completion = openai.ChatCompletion.create(\n",
        "                engine=\"gpt-35-turbo-16k\",  #  your chat completion deployment name\n",
        "                messages=[\n",
        "                    {\"role\": \"system\", \"content\": \"You are a helpful assistant for fleet maintenance.\"},\n",
        "                    {\"role\": \"user\", \"content\": prompt}\n",
        "                ],\n",
        "                temperature=0.3,\n",
        "                max_tokens=300\n",
        "            )\n",
        "\n",
        "            answer = completion['choices'][0]['message']['content']\n",
        "            print(f\"\\n Answer for: \\\"{query_text}\\\"\\n\")\n",
        "            print(answer)\n",
        "\n",
        "        else:\n",
        "            print(\" No relevant results found.\")\n",
        "\n",
        "    except Exception as e:\n",
        "        print(\"Error during search:\", e)\n"
      ],
      "outputs": [],
      "execution_count": 119,
      "metadata": {
        "gather": {
          "logged": 1744229863130
        }
      }
    },
    {
      "cell_type": "markdown",
      "source": [
        "# 3. Azure AI Search setup\n",
        "search_service_endpoint = os.getenv(\"AZURE_SEARCH_ENDPOINT\")\n",
        "index_name = os.getenv(\"AZURE_SEARCH_INDEX_NAME\")\n",
        "search_api_key = os.getenv(\"AZURE_SEARCH_KEY\")\n",
        "\n",
        "# 4. Azure OpenAI setup\n",
        "openai.api_type = \"azure\"\n",
        "openai.api_base = os.getenv(\"AZURE_OPENAI_ENDPOINT\")  # e.g., https://your-resource-name.openai.azure.com/\n",
        "openai.api_version = \"2023-05-15\"\n",
        "openai.api_key = os.getenv(\"AZURE_OPENAI_KEY\")\n",
        "embedding_deployment = os.getenv(\"AZURE_OPENAI_embedding_DEPLOYMENT\")  # Your embedding model name\n",
        "chat_model_deployment = \"os.getenv(\"AZURE_OPENAI_CHAT_DEPLOYMENT\") \" # Your chat model deployment name"
      ],
      "metadata": {
        "nteract": {
          "transient": {
            "deleting": false
          }
        }
      }
    },
    {
      "cell_type": "code",
      "source": [
        "# 1. Import necessary packages\n",
        "import os\n",
        "import openai\n",
        "from azure.search.documents import SearchClient\n",
        "from azure.search.documents.models import VectorizedQuery\n",
        "from azure.core.credentials import AzureKeyCredential\n",
        "from dotenv import load_dotenv\n",
        "\n",
        "# 2. Load environment variables\n",
        "load_dotenv(dotenv_path=\".env\")\n",
        "\n",
        "# 3. Azure AI Search setup\n",
        "search_service_endpoint = \"https://fleet-search-service3cf4d.search.windows.net\"\n",
        "index_name = \"fleet_index\"\n",
        "search_api_key = \"R59zgdnZJqbIJB6NXBnIb1y7rTaEZtvJmmKXm2kGwuAzSeCXIEcG\"\n",
        "\n",
        "# 4. Azure OpenAI setup\n",
        "openai.api_type = \"azure\"\n",
        "openai.api_base = \"https://fleet34jhgh34.openai.azure.com/\"  # e.g., https://your-resource-name.openai.azure.com/\n",
        "openai.api_version = \"2023-05-15\"\n",
        "openai.api_key = \"2t38UCg6oMyb4w4gATvxSkowr6JdDJfutieALZD2cXxSlVkmzC40JQQJ99BDACYeBjFXJ3w3AAABACOGecV5\"\n",
        "embedding_deployment = \"text-embedding-ada-002\"  # Your embedding model name\n",
        "chat_model_deployment = \"gpt-35-turbo-16k\" # Your chat model deployment name\n",
        "\n",
        "# 5. Initialize search client\n",
        "search_client = SearchClient(\n",
        "    endpoint=search_service_endpoint,\n",
        "    index_name=index_name,\n",
        "    credential=AzureKeyCredential(search_api_key)\n",
        ")\n",
        "\n",
        "# 6. Function to get embeddings from Azure OpenAI\n",
        "def get_embedding(text: str):\n",
        "    response = openai.Embedding.create(\n",
        "        input=[text],\n",
        "        deployment_id=embedding_deployment\n",
        "    )\n",
        "    return response['data'][0]['embedding']\n",
        "\n",
        "# 7. Vector search + GPT response\n",
        "def search_index(query_text, top_k=1):\n",
        "    try:\n",
        "        # Get query embedding\n",
        "        vector = get_embedding(query_text)\n",
        "\n",
        "        vector_query = VectorizedQuery(\n",
        "            vector=vector,\n",
        "            fields=\"embedding\"\n",
        "        )\n",
        "\n",
        "        # Vector search\n",
        "        results = search_client.search(\n",
        "            search_text=\" \",  # required\n",
        "            vector_queries=[vector_query]\n",
        "        )\n",
        "\n",
        "        best_result = next(results, None)\n",
        "\n",
        "        if best_result:\n",
        "            document_content = best_result.get(\"content\", \"\")\n",
        "\n",
        "            # Prompt for GPT to answer using the document content\n",
        "            prompt = f\"\"\"\n",
        "You are a helpful assistant for fleet vehicle maintenance.\n",
        "\n",
        "Use the following context from a document to answer the question.\n",
        "\n",
        "Context:\n",
        "\\\"\\\"\\\"\n",
        "{document_content}\n",
        "\\\"\\\"\\\"\n",
        "\n",
        "Question: {query_text}\n",
        "Answer:\"\"\"\n",
        "\n",
        "            completion = openai.ChatCompletion.create(\n",
        "                deployment_id=chat_model_deployment,\n",
        "                messages=[\n",
        "                    {\"role\": \"system\", \"content\": \"You are a helpful assistant for fleet maintenance.\"},\n",
        "                    {\"role\": \"user\", \"content\": prompt}\n",
        "                ],\n",
        "                temperature=0.3,\n",
        "                max_tokens=300\n",
        "            )\n",
        "\n",
        "            answer = completion['choices'][0]['message']['content']\n",
        "            print(f\"\\n Answer for: \\\"{query_text}\\\"\\n\")\n",
        "            print(answer)\n",
        "\n",
        "        else:\n",
        "            print(\"No relevant results found.\")\n",
        "\n",
        "    except Exception as e:\n",
        "        print(\" Error during search:\", e)\n",
        "\n",
        "# 8. Run the actual query\n",
        "search_index(\"How do I fix overheating issues?\")\n"
      ],
      "outputs": [
        {
          "output_type": "stream",
          "name": "stdout",
          "text": "\n Answer for: \"How do I fix overheating issues?\"\n\nTo fix overheating issues in a fleet vehicle, you can take the following steps:\n\n1. Check the coolant level: Ensure that the coolant level is sufficient and topped up if necessary. Coolant helps maintain optimal operating temperatures and prevents overheating.\n\n2. Inspect for coolant leaks: Look for any signs of coolant leaks, such as puddles under the vehicle or visible coolant dripping. If a leak is found, it should be repaired to prevent further overheating.\n\n3. Check the radiator: Make sure the radiator is not clogged or blocked. Clean any debris or dirt that may be obstructing the airflow through the radiator.\n\n4. Inspect the radiator fan: Ensure that the radiator fan is functioning properly. If the fan is not working, it may need to be repaired or replaced.\n\n5. Flush the cooling system: Over time, the cooling system can accumulate debris and contaminants that can hinder its effectiveness. Flushing the cooling system can help remove these impurities and improve its performance.\n\n6. Check the water pump: The water pump is responsible for circulating coolant throughout the engine. If the water pump is faulty or not working correctly, it may need to be replaced.\n\n7. Monitor engine temperature: Keep an eye on the engine temperature gauge or warning lights while driving. If the vehicle starts to overheat, pull over to a safe location and allow the engine to cool down before continuing.\n\nIf the overheating issue persists or if you are unsure about performing these steps yourself, it is recommended\n"
        }
      ],
      "execution_count": 120,
      "metadata": {
        "gather": {
          "logged": 1744229873867
        }
      }
    },
    {
      "cell_type": "markdown",
      "source": [
        "Push fleet_cleaned data to  aml-index - upload your DataFrame to Azure AI Search aml-index:"
      ],
      "metadata": {}
    },
    {
      "cell_type": "code",
      "source": [
        "import pandas as pd\n",
        "from sqlalchemy import create_engine, text\n",
        "from dotenv import load_dotenv\n",
        "import os\n",
        "\n",
        "# Load env\n",
        "load_dotenv()\n",
        "\n",
        "# Setup database connection\n",
        "DB_CONNECTION_STRING = f\"postgresql://{os.getenv('PG_USER')}:{os.getenv('PG_PASSWORD')}@{os.getenv('PG_HOST')}:{os.getenv('PG_PORT')}/{os.getenv('PG_DB')}\"\n",
        "engine = create_engine(DB_CONNECTION_STRING)\n",
        "\n",
        "#  Vehicle input data (customize values)\n",
        "vehicle_input = {\n",
        "    \"enginehealth\": 0.78,\n",
        "    \"vehiclespeedsensor\": 55,\n",
        "    \"enginecoolanttemp\": 100,\n",
        "    \"enginerpm\": 2800,\n",
        "    \"massairflowrate\": 90.1,\n",
        "    \"speedgps\": 70,\n",
        "    \"litresper100kminst\": 14.2,\n",
        "    \"co2ingperkminst\": 330.0,\n",
        "    \"triptimejourney\": 200\n",
        "}\n",
        "\n",
        "#  Simulate model prediction (you'll replace with real model later)\n",
        "predicted_flag = 2  # e.g., model.predict(...) gives 2\n",
        "\n",
        "#  Fetch matching tip and cost from PostgreSQL\n",
        "query = text(\"SELECT tip, cost_estimation FROM maintenance_tips WHERE maintenanceflag = :flag\")\n",
        "with engine.connect() as conn:\n",
        "    tip_row = conn.execute(query, {\"flag\": predicted_flag}).fetchone()\n",
        "\n",
        "#  Final result\n",
        "result = {\n",
        "    **vehicle_input,\n",
        "    \"maintenanceflag\": predicted_flag,\n",
        "    \"maintenance_tip\": tip_row[0],\n",
        "    \"estimated_cost\": tip_row[1]\n",
        "}\n",
        "\n",
        "# Display\n",
        "pd.DataFrame([result])\n"
      ],
      "outputs": [
        {
          "output_type": "execute_result",
          "execution_count": 124,
          "data": {
            "text/plain": "   enginehealth  vehiclespeedsensor  enginecoolanttemp  enginerpm  \\\n0          0.78                  55                100       2800   \n\n   massairflowrate  speedgps  litresper100kminst  co2ingperkminst  \\\n0             90.1        70                14.2            330.0   \n\n   triptimejourney  maintenanceflag  \\\n0              200                2   \n\n                                     maintenance_tip estimated_cost  \n0  Moderate maintenance required. Check engine he...    $150 - $300  ",
            "text/html": "<div>\n<style scoped>\n    .dataframe tbody tr th:only-of-type {\n        vertical-align: middle;\n    }\n\n    .dataframe tbody tr th {\n        vertical-align: top;\n    }\n\n    .dataframe thead th {\n        text-align: right;\n    }\n</style>\n<table border=\"1\" class=\"dataframe\">\n  <thead>\n    <tr style=\"text-align: right;\">\n      <th></th>\n      <th>enginehealth</th>\n      <th>vehiclespeedsensor</th>\n      <th>enginecoolanttemp</th>\n      <th>enginerpm</th>\n      <th>massairflowrate</th>\n      <th>speedgps</th>\n      <th>litresper100kminst</th>\n      <th>co2ingperkminst</th>\n      <th>triptimejourney</th>\n      <th>maintenanceflag</th>\n      <th>maintenance_tip</th>\n      <th>estimated_cost</th>\n    </tr>\n  </thead>\n  <tbody>\n    <tr>\n      <th>0</th>\n      <td>0.78</td>\n      <td>55</td>\n      <td>100</td>\n      <td>2800</td>\n      <td>90.1</td>\n      <td>70</td>\n      <td>14.2</td>\n      <td>330.0</td>\n      <td>200</td>\n      <td>2</td>\n      <td>Moderate maintenance required. Check engine he...</td>\n      <td>$150 - $300</td>\n    </tr>\n  </tbody>\n</table>\n</div>"
          },
          "metadata": {}
        }
      ],
      "execution_count": 124,
      "metadata": {
        "gather": {
          "logged": 1744230124791
        }
      }
    }
  ],
  "metadata": {
    "kernel_info": {
      "name": "python38-azureml"
    },
    "kernelspec": {
      "name": "python38-azureml",
      "language": "python",
      "display_name": "Python 3.8 - AzureML"
    },
    "language_info": {
      "name": "python",
      "version": "3.10.11",
      "mimetype": "text/x-python",
      "codemirror_mode": {
        "name": "ipython",
        "version": 3
      },
      "pygments_lexer": "ipython3",
      "nbconvert_exporter": "python",
      "file_extension": ".py"
    },
    "microsoft": {
      "host": {
        "AzureML": {
          "notebookHasBeenCompleted": true
        }
      },
      "ms_spell_check": {
        "ms_spell_check_language": "en"
      }
    },
    "nteract": {
      "version": "nteract-front-end@1.0.0"
    }
  },
  "nbformat": 4,
  "nbformat_minor": 2
}