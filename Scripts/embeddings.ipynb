{
 "cells": [
  {
   "cell_type": "code",
   "execution_count": null,
   "id": "26b9a913",
   "metadata": {
    "vscode": {
     "languageId": "plaintext"
    }
   },
   "outputs": [],
   "source": [
    "# Azure ML Notebook: Load .docx Documents, Generate Embeddings & Store in PostgreSQL\n",
    "\n",
    "# --- Cell 1: Install Required Libraries ---\n",
    "# This installs the packages needed to read Word documents, connect to PostgreSQL, and call Azure OpenAI embeddings.\n",
    "!pip install python-docx openai psycopg2-binary numpy\n",
    "\n"
   ]
  },
  {
   "cell_type": "code",
   "execution_count": null,
   "id": "f8e19a91",
   "metadata": {
    "vscode": {
     "languageId": "plaintext"
    }
   },
   "outputs": [],
   "source": [
    "# --- Cell 2: Import Required Libraries ---\n",
    "# Import necessary modules for handling documents, APIs, databases, and arrays.\n",
    "from docx import Document\n",
    "import openai\n",
    "import psycopg2\n",
    "import numpy as np\n",
    "import os\n",
    "\n"
   ]
  },
  {
   "cell_type": "code",
   "execution_count": null,
   "id": "c4aee659",
   "metadata": {
    "vscode": {
     "languageId": "plaintext"
    }
   },
   "outputs": [],
   "source": [
    "# --- Cell 3: Helper Function to Extract Text from .docx Files ---\n",
    "# This function reads and extracts all paragraphs from a .docx file into plain text.\n",
    "def extract_text_from_docx(file_path):\n",
    "    doc = Document(file_path)\n",
    "    return \"\\n\".join([para.text for para in doc.paragraphs])\n",
    "\n"
   ]
  },
  {
   "cell_type": "code",
   "execution_count": null,
   "id": "4af05cb7",
   "metadata": {
    "vscode": {
     "languageId": "plaintext"
    }
   },
   "outputs": [],
   "source": [
    "# --- Cell 4: Helper Function to Generate Embeddings ---\n",
    "# This function takes text and sends it to Azure OpenAI to generate a vector embedding.\n",
    "def get_embedding(text):\n",
    "    response = openai.Embedding.create(\n",
    "        input=text,\n",
    "        engine=\"text-embedding-ada-002\"\n",
    "    )\n",
    "    return response['data'][0]['embedding']\n",
    "\n"
   ]
  },
  {
   "cell_type": "code",
   "execution_count": null,
   "id": "03e10cd8",
   "metadata": {
    "vscode": {
     "languageId": "plaintext"
    }
   },
   "outputs": [],
   "source": [
    "# --- Cell 5: Set Up Azure OpenAI API Configuration ---\n",
    "# Replace placeholders below with your actual Azure OpenAI credentials.\n",
    "openai.api_key = \"<YOUR_AZURE_OPENAI_KEY>\"\n",
    "openai.api_base = \"https://<YOUR-RESOURCE-NAME>.openai.azure.com/\"\n",
    "openai.api_type = \"azure\"\n",
    "openai.api_version = \"2023-03-15-preview\"\n",
    "\n"
   ]
  },
  {
   "cell_type": "code",
   "execution_count": null,
   "id": "066b2c1d",
   "metadata": {
    "vscode": {
     "languageId": "plaintext"
    }
   },
   "outputs": [],
   "source": [
    "# --- Cell 6: Load Word Documents ---\n",
    "# Add your uploaded .docx filenames below. This code will load and extract content.\n",
    "files = [\n",
    "    \"Fleet maintenance best practices across industries.docx\",\n",
    "    \"Top 10 tips on Fleet Preventive Maintenance.docx\",\n",
    "    \"Fleet vehicle maintenance A comprehensive guide.docx\",\n",
    "    \"Fleet_Maintenance_Tips.docx\"\n",
    "]\n",
    "\n",
    "# Store the content of each document in a dictionary\n",
    "documents = {file: extract_text_from_docx(file) for file in files}\n",
    "\n"
   ]
  },
  {
   "cell_type": "code",
   "execution_count": null,
   "id": "b9959687",
   "metadata": {
    "vscode": {
     "languageId": "plaintext"
    }
   },
   "outputs": [],
   "source": [
    "# --- Cell 7: Generate Embeddings for Each Document ---\n",
    "# Converts the text from each document to a 1536-dimension vector using Azure OpenAI.\n",
    "embeddings = {filename: get_embedding(text) for filename, text in documents.items()}\n",
    "\n"
   ]
  },
  {
   "cell_type": "code",
   "execution_count": null,
   "id": "414ab025",
   "metadata": {
    "vscode": {
     "languageId": "plaintext"
    }
   },
   "outputs": [],
   "source": [
    "# --- Cell 8: Connect to PostgreSQL Flexible Server ---\n",
    "# Connect securely to your Azure PostgreSQL DB by providing credentials.\n",
    "conn = psycopg2.connect(\n",
    "    dbname=\"<YOUR_DB_NAME>\",\n",
    "    user=\"<YOUR_USERNAME>\",\n",
    "    password=\"<YOUR_PASSWORD>\",\n",
    "    host=\"<YOUR_POSTGRESQL_HOST>\",\n",
    "    port=\"5432\"  # Default port unless changed\n",
    ")\n",
    "cur = conn.cursor()\n",
    "\n"
   ]
  },
  {
   "cell_type": "code",
   "execution_count": null,
   "id": "2476210f",
   "metadata": {
    "vscode": {
     "languageId": "plaintext"
    }
   },
   "outputs": [],
   "source": [
    "# --- Cell 9: Create Table for Storing Documents and Embeddings ---\n",
    "# This creates the table with a vector column using pgvector extension (must be enabled).\n",
    "cur.execute(\"\"\"\n",
    "CREATE EXTENSION IF NOT EXISTS vector;\n",
    "\n",
    "CREATE TABLE IF NOT EXISTS maintenance_documents (\n",
    "    id SERIAL PRIMARY KEY,\n",
    "    filename TEXT NOT NULL,\n",
    "    content TEXT NOT NULL,\n",
    "    embeddings vector(1536)\n",
    ");\n",
    "\"\"\")\n",
    "conn.commit()\n",
    "\n"
   ]
  },
  {
   "cell_type": "markdown",
   "id": "f850c430",
   "metadata": {},
   "source": [
    "# --- Cell 10: Insert Document Content and Embeddings into the Table ---"
   ]
  },
  {
   "cell_type": "code",
   "execution_count": null,
   "id": "ac4114dc",
   "metadata": {
    "vscode": {
     "languageId": "plaintext"
    }
   },
   "outputs": [],
   "source": [
    "\n",
    "# Store each document and its embedding into the PostgreSQL table.\n",
    "for filename, text in documents.items():\n",
    "    embedding_vector = np.array(embeddings[filename]).tolist()\n",
    "    cur.execute(\n",
    "        \"INSERT INTO maintenance_documents (filename, content, embeddings) VALUES (%s, %s, %s)\",\n",
    "        (filename, text, embedding_vector)\n",
    "    )\n",
    "\n",
    "conn.commit()\n",
    "cur.close()\n",
    "conn.close()\n",
    "\n",
    "print(\"✅ All documents uploaded and embeddings stored successfully in PostgreSQL!\")\n"
   ]
  }
 ],
 "metadata": {
  "language_info": {
   "name": "python"
  }
 },
 "nbformat": 4,
 "nbformat_minor": 5
}
