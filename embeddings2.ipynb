{
  "cells": [
    {
      "cell_type": "markdown",
      "metadata": {
        "nteract": {
          "transient": {
            "deleting": false
          }
        }
      },
      "source": [
        "Install Required Packages\n",
        "Run this in a notebook cell:"
      ]
    },
    {
      "cell_type": "code",
      "execution_count": 1,
      "metadata": {},
      "outputs": [
        {
          "name": "stdout",
          "output_type": "stream",
          "text": [
            "Requirement already satisfied: python-docx in /anaconda/envs/azureml_py38/lib/python3.10/site-packages (1.1.2)\r\n",
            "Requirement already satisfied: openai in /anaconda/envs/azureml_py38/lib/python3.10/site-packages (1.11.1)\r\n",
            "Requirement already satisfied: psycopg2 in /anaconda/envs/azureml_py38/lib/python3.10/site-packages (2.9.9)\r\n",
            "Requirement already satisfied: numpy in /anaconda/envs/azureml_py38/lib/python3.10/site-packages (1.26.4)\r\n",
            "Requirement already satisfied: lxml>=3.1.0 in /anaconda/envs/azureml_py38/lib/python3.10/site-packages (from python-docx) (5.3.2)\r\n",
            "Requirement already satisfied: typing-extensions>=4.9.0 in /anaconda/envs/azureml_py38/lib/python3.10/site-packages (from python-docx) (4.12.2)\r\n",
            "Requirement already satisfied: pydantic<3,>=1.9.0 in /anaconda/envs/azureml_py38/lib/python3.10/site-packages (from openai) (1.10.21)\r\n",
            "Requirement already satisfied: httpx<1,>=0.23.0 in /anaconda/envs/azureml_py38/lib/python3.10/site-packages (from openai) (0.27.2)\r\n",
            "Requirement already satisfied: distro<2,>=1.7.0 in /anaconda/envs/azureml_py38/lib/python3.10/site-packages (from openai) (1.9.0)\r\n",
            "Requirement already satisfied: sniffio in /anaconda/envs/azureml_py38/lib/python3.10/site-packages (from openai) (1.3.1)\r\n",
            "Requirement already satisfied: tqdm>4 in /anaconda/envs/azureml_py38/lib/python3.10/site-packages (from openai) (4.66.4)\r\n",
            "Requirement already satisfied: anyio<5,>=3.5.0 in /anaconda/envs/azureml_py38/lib/python3.10/site-packages (from openai) (4.6.0)\r\n",
            "Requirement already satisfied: idna>=2.8 in /anaconda/envs/azureml_py38/lib/python3.10/site-packages (from anyio<5,>=3.5.0->openai) (3.7)\r\n",
            "Requirement already satisfied: exceptiongroup>=1.0.2 in /anaconda/envs/azureml_py38/lib/python3.10/site-packages (from anyio<5,>=3.5.0->openai) (1.2.2)\r\n",
            "Requirement already satisfied: httpcore==1.* in /anaconda/envs/azureml_py38/lib/python3.10/site-packages (from httpx<1,>=0.23.0->openai) (1.0.5)\r\n",
            "Requirement already satisfied: certifi in /anaconda/envs/azureml_py38/lib/python3.10/site-packages (from httpx<1,>=0.23.0->openai) (2024.8.30)\r\n",
            "Requirement already satisfied: h11<0.15,>=0.13 in /anaconda/envs/azureml_py38/lib/python3.10/site-packages (from httpcore==1.*->httpx<1,>=0.23.0->openai) (0.14.0)\r\n"
          ]
        }
      ],
      "source": [
        "!pip install python-docx openai psycopg2 numpy\n"
      ]
    },
    {
      "cell_type": "code",
      "execution_count": 5,
      "metadata": {},
      "outputs": [
        {
          "name": "stdout",
          "output_type": "stream",
          "text": [
            "\u001b[33mWARNING: Skipping azure-search-documents as it is not installed.\u001b[0m\u001b[33m\r\n",
            "\u001b[0m"
          ]
        }
      ],
      "source": [
        "!pip uninstall -y azure-search-documents\n"
      ]
    },
    {
      "cell_type": "code",
      "execution_count": 7,
      "metadata": {},
      "outputs": [
        {
          "name": "stdout",
          "output_type": "stream",
          "text": [
            "\u001b[33mWARNING: Skipping azure-search-documents as it is not installed.\u001b[0m\u001b[33m\r\n",
            "\u001b[0m"
          ]
        }
      ],
      "source": [
        "!pip uninstall -y azure-search-documents\n"
      ]
    },
    {
      "cell_type": "code",
      "execution_count": 8,
      "metadata": {},
      "outputs": [
        {
          "name": "stdout",
          "output_type": "stream",
          "text": [
            "\u001b[33mWARNING: Package(s) not found: azure-search-documents\u001b[0m\u001b[33m\r\n",
            "\u001b[0m"
          ]
        }
      ],
      "source": [
        "!pip show azure-search-documents\n"
      ]
    },
    {
      "cell_type": "code",
      "execution_count": 9,
      "metadata": {},
      "outputs": [
        {
          "name": "stdout",
          "output_type": "stream",
          "text": [
            "Collecting azure-search-documents==11.6.0b11\n",
            "  Using cached azure_search_documents-11.6.0b11-py3-none-any.whl.metadata (22 kB)\n",
            "Requirement already satisfied: azure-core>=1.28.0 in /anaconda/envs/azureml_py38/lib/python3.10/site-packages (from azure-search-documents==11.6.0b11) (1.33.0)\n",
            "Requirement already satisfied: azure-common>=1.1 in /anaconda/envs/azureml_py38/lib/python3.10/site-packages (from azure-search-documents==11.6.0b11) (1.1.28)\n",
            "Requirement already satisfied: isodate>=0.6.0 in /anaconda/envs/azureml_py38/lib/python3.10/site-packages (from azure-search-documents==11.6.0b11) (0.7.2)\n",
            "Requirement already satisfied: typing-extensions>=4.6.0 in /anaconda/envs/azureml_py38/lib/python3.10/site-packages (from azure-search-documents==11.6.0b11) (4.13.1)\n",
            "Requirement already satisfied: requests>=2.21.0 in /anaconda/envs/azureml_py38/lib/python3.10/site-packages (from azure-core>=1.28.0->azure-search-documents==11.6.0b11) (2.32.3)\n",
            "Requirement already satisfied: six>=1.11.0 in /anaconda/envs/azureml_py38/lib/python3.10/site-packages (from azure-core>=1.28.0->azure-search-documents==11.6.0b11) (1.17.0)\n",
            "Requirement already satisfied: charset-normalizer<4,>=2 in /anaconda/envs/azureml_py38/lib/python3.10/site-packages (from requests>=2.21.0->azure-core>=1.28.0->azure-search-documents==11.6.0b11) (3.4.1)\n",
            "Requirement already satisfied: idna<4,>=2.5 in /anaconda/envs/azureml_py38/lib/python3.10/site-packages (from requests>=2.21.0->azure-core>=1.28.0->azure-search-documents==11.6.0b11) (3.10)\n",
            "Requirement already satisfied: urllib3<3,>=1.21.1 in /anaconda/envs/azureml_py38/lib/python3.10/site-packages (from requests>=2.21.0->azure-core>=1.28.0->azure-search-documents==11.6.0b11) (2.3.0)\n",
            "Requirement already satisfied: certifi>=2017.4.17 in /anaconda/envs/azureml_py38/lib/python3.10/site-packages (from requests>=2.21.0->azure-core>=1.28.0->azure-search-documents==11.6.0b11) (2025.1.31)\n",
            "Using cached azure_search_documents-11.6.0b11-py3-none-any.whl (338 kB)\n",
            "\u001b[33mWARNING: Error parsing dependencies of numpy: [Errno 2] No such file or directory: '/anaconda/envs/azureml_py38/lib/python3.10/site-packages/numpy-1.23.5.dist-info/METADATA'\u001b[0m\u001b[33m\n",
            "\u001b[0mInstalling collected packages: azure-search-documents\n",
            "Successfully installed azure-search-documents-11.6.0b11\n"
          ]
        }
      ],
      "source": [
        "!pip install --pre azure-search-documents==11.6.0b11\n"
      ]
    },
    {
      "cell_type": "code",
      "execution_count": 3,
      "metadata": {},
      "outputs": [
        {
          "name": "stdout",
          "output_type": "stream",
          "text": [
            "Requirement already satisfied: Flask==2.2.5 in /anaconda/envs/azureml_py38/lib/python3.10/site-packages (from -r requirements.txt (line 2)) (2.2.5)\r\n",
            "Requirement already satisfied: gunicorn==20.1.0 in /anaconda/envs/azureml_py38/lib/python3.10/site-packages (from -r requirements.txt (line 3)) (20.1.0)\r\n",
            "Requirement already satisfied: azure-storage-blob==12.19.1 in /anaconda/envs/azureml_py38/lib/python3.10/site-packages (from -r requirements.txt (line 6)) (12.19.1)\r\n",
            "Requirement already satisfied: azure-ai-ml==1.14.0 in /anaconda/envs/azureml_py38/lib/python3.10/site-packages (from -r requirements.txt (line 7)) (1.14.0)\r\n",
            "Collecting azure-search-documents==11.4.0 (from -r requirements.txt (line 8))\r\n",
            "  Downloading azure_search_documents-11.4.0-py3-none-any.whl.metadata (22 kB)\r\n",
            "Requirement already satisfied: azure-identity==1.15.0 in /anaconda/envs/azureml_py38/lib/python3.10/site-packages (from -r requirements.txt (line 9)) (1.15.0)\r\n",
            "Collecting azure-core==1.29.4 (from -r requirements.txt (line 10))\r\n",
            "  Downloading azure_core-1.29.4-py3-none-any.whl.metadata (36 kB)\r\n",
            "Collecting numpy==1.26.4 (from -r requirements.txt (line 14))\r\n",
            "  Downloading numpy-1.26.4-cp310-cp310-manylinux_2_17_x86_64.manylinux2014_x86_64.whl.metadata (61 kB)\r\n",
            "Requirement already satisfied: scikit-learn==1.3.0 in /anaconda/envs/azureml_py38/lib/python3.10/site-packages (from -r requirements.txt (line 15)) (1.3.0)\r\n",
            "Requirement already satisfied: Cython==3.0.8 in /anaconda/envs/azureml_py38/lib/python3.10/site-packages (from -r requirements.txt (line 16)) (3.0.8)\r\n",
            "Collecting openai==1.11.1 (from -r requirements.txt (line 19))\r\n",
            "  Downloading openai-1.11.1-py3-none-any.whl.metadata (18 kB)\r\n",
            "Requirement already satisfied: transformers==4.36.1 in /anaconda/envs/azureml_py38/lib/python3.10/site-packages (from -r requirements.txt (line 20)) (4.36.1)\r\n",
            "Requirement already satisfied: matplotlib==3.8.3 in /anaconda/envs/azureml_py38/lib/python3.10/site-packages (from -r requirements.txt (line 23)) (3.8.3)\r\n",
            "Requirement already satisfied: seaborn==0.13.2 in /anaconda/envs/azureml_py38/lib/python3.10/site-packages (from -r requirements.txt (line 24)) (0.13.2)\r\n",
            "Requirement already satisfied: python-dotenv==1.0.1 in /anaconda/envs/azureml_py38/lib/python3.10/site-packages (from -r requirements.txt (line 27)) (1.0.1)\r\n",
            "Collecting requests==2.31.0 (from -r requirements.txt (line 28))\r\n",
            "  Downloading requests-2.31.0-py3-none-any.whl.metadata (4.6 kB)\r\n",
            "Requirement already satisfied: azureml-inference-server-http==0.8.2 in /anaconda/envs/azureml_py38/lib/python3.10/site-packages (from -r requirements.txt (line 31)) (0.8.2)\r\n",
            "Requirement already satisfied: pandas==2.0.3 in /anaconda/envs/azureml_py38/lib/python3.10/site-packages (from -r requirements.txt (line 32)) (2.0.3)\r\n",
            "Requirement already satisfied: joblib in /anaconda/envs/azureml_py38/lib/python3.10/site-packages (from -r requirements.txt (line 34)) (1.2.0)\r\n",
            "Requirement already satisfied: azureml-core in /anaconda/envs/azureml_py38/lib/python3.10/site-packages (from -r requirements.txt (line 35)) (1.59.0.post2)\r\n",
            "Requirement already satisfied: azureml-dataset-runtime in /anaconda/envs/azureml_py38/lib/python3.10/site-packages (from -r requirements.txt (line 36)) (1.48.0)\r\n",
            "\u001b[31mERROR: Cannot install azure-search-documents==11.4.0 and azure-search-documents==11.6.0b11 because these package versions have conflicting dependencies.\u001b[0m\u001b[31m\r\n",
            "\u001b[0m\r\n",
            "The conflict is caused by:\r\n",
            "    The user requested azure-search-documents==11.4.0\r\n",
            "    The user requested azure-search-documents==11.6.0b11\r\n",
            "\r\n",
            "To fix this you could try to:\r\n",
            "1. loosen the range of package versions you've specified\r\n",
            "2. remove package versions to allow pip to attempt to solve the dependency conflict\r\n",
            "\r\n",
            "\u001b[31mERROR: ResolutionImpossible: for help visit https://pip.pypa.io/en/latest/topics/dependency-resolution/#dealing-with-dependency-conflicts\u001b[0m\u001b[31m\r\n",
            "\u001b[0m"
          ]
        }
      ],
      "source": [
        "!pip install -r requirements.txt"
      ]
    },
    {
      "cell_type": "code",
      "execution_count": 2,
      "metadata": {},
      "outputs": [
        {
          "name": "stdout",
          "output_type": "stream",
          "text": [
            "Requirement already satisfied: python-docx in /anaconda/envs/azureml_py38/lib/python3.10/site-packages (1.1.2)\r\n",
            "Requirement already satisfied: lxml>=3.1.0 in /anaconda/envs/azureml_py38/lib/python3.10/site-packages (from python-docx) (5.3.2)\r\n",
            "Requirement already satisfied: typing-extensions>=4.9.0 in /anaconda/envs/azureml_py38/lib/python3.10/site-packages (from python-docx) (4.12.2)\r\n"
          ]
        }
      ],
      "source": [
        "!pip install python-docx\n"
      ]
    },
    {
      "cell_type": "code",
      "execution_count": 3,
      "metadata": {},
      "outputs": [
        {
          "name": "stdout",
          "output_type": "stream",
          "text": [
            "Name: python-docx\r\n",
            "Version: 1.1.2\r\n",
            "Summary: Create, read, and update Microsoft Word .docx files.\r\n",
            "Home-page: \r\n",
            "Author: \r\n",
            "Author-email: Steve Canny <stcanny@gmail.com>\r\n",
            "License: MIT\r\n",
            "Location: /anaconda/envs/azureml_py38/lib/python3.10/site-packages\r\n",
            "Requires: lxml, typing-extensions\r\n",
            "Required-by: \r\n"
          ]
        }
      ],
      "source": [
        "!pip show python-docx\n"
      ]
    },
    {
      "cell_type": "code",
      "execution_count": 8,
      "metadata": {},
      "outputs": [
        {
          "name": "stdout",
          "output_type": "stream",
          "text": [
            "Collecting openai==0.28.1\n",
            "  Downloading openai-0.28.1-py3-none-any.whl (76 kB)\n",
            "\u001b[2K     \u001b[90m━━━━━━━━━━━━━━━━━━━━━━━━━━━━━━━━━━━━━━━━\u001b[0m \u001b[32m77.0/77.0 kB\u001b[0m \u001b[31m5.3 MB/s\u001b[0m eta \u001b[36m0:00:00\u001b[0m\n",
            "\u001b[?25hRequirement already satisfied: requests>=2.20 in /anaconda/envs/azureml_py38/lib/python3.10/site-packages (from openai==0.28.1) (2.31.0)\n",
            "Requirement already satisfied: tqdm in /anaconda/envs/azureml_py38/lib/python3.10/site-packages (from openai==0.28.1) (4.66.4)\n",
            "Requirement already satisfied: aiohttp in /anaconda/envs/azureml_py38/lib/python3.10/site-packages (from openai==0.28.1) (3.10.1)\n",
            "Requirement already satisfied: idna<4,>=2.5 in /anaconda/envs/azureml_py38/lib/python3.10/site-packages (from requests>=2.20->openai==0.28.1) (3.7)\n",
            "Requirement already satisfied: charset-normalizer<4,>=2 in /anaconda/envs/azureml_py38/lib/python3.10/site-packages (from requests>=2.20->openai==0.28.1) (3.3.2)\n",
            "Requirement already satisfied: certifi>=2017.4.17 in /anaconda/envs/azureml_py38/lib/python3.10/site-packages (from requests>=2.20->openai==0.28.1) (2024.8.30)\n",
            "Requirement already satisfied: urllib3<3,>=1.21.1 in /anaconda/envs/azureml_py38/lib/python3.10/site-packages (from requests>=2.20->openai==0.28.1) (1.26.19)\n",
            "Requirement already satisfied: attrs>=17.3.0 in /anaconda/envs/azureml_py38/lib/python3.10/site-packages (from aiohttp->openai==0.28.1) (24.2.0)\n",
            "Requirement already satisfied: yarl<2.0,>=1.0 in /anaconda/envs/azureml_py38/lib/python3.10/site-packages (from aiohttp->openai==0.28.1) (1.9.4)\n",
            "Requirement already satisfied: aiohappyeyeballs>=2.3.0 in /anaconda/envs/azureml_py38/lib/python3.10/site-packages (from aiohttp->openai==0.28.1) (2.3.5)\n",
            "Requirement already satisfied: frozenlist>=1.1.1 in /anaconda/envs/azureml_py38/lib/python3.10/site-packages (from aiohttp->openai==0.28.1) (1.4.1)\n",
            "Requirement already satisfied: multidict<7.0,>=4.5 in /anaconda/envs/azureml_py38/lib/python3.10/site-packages (from aiohttp->openai==0.28.1) (6.0.5)\n",
            "Requirement already satisfied: aiosignal>=1.1.2 in /anaconda/envs/azureml_py38/lib/python3.10/site-packages (from aiohttp->openai==0.28.1) (1.3.1)\n",
            "Requirement already satisfied: async-timeout<5.0,>=4.0 in /anaconda/envs/azureml_py38/lib/python3.10/site-packages (from aiohttp->openai==0.28.1) (4.0.3)\n",
            "Installing collected packages: openai\n",
            "  Attempting uninstall: openai\n",
            "    Found existing installation: openai 1.11.1\n",
            "    Uninstalling openai-1.11.1:\n",
            "      Successfully uninstalled openai-1.11.1\n",
            "Successfully installed openai-0.28.1\n"
          ]
        }
      ],
      "source": [
        "!pip install openai==0.28.1\n"
      ]
    },
    {
      "cell_type": "markdown",
      "metadata": {
        "nteract": {
          "transient": {
            "deleting": false
          }
        }
      },
      "source": [
        "# Upload and Extract Text from .docx Files\n",
        "Add the following in a new cell:"
      ]
    },
    {
      "cell_type": "code",
      "execution_count": 1,
      "metadata": {
        "gather": {
          "logged": 1743966460846
        }
      },
      "outputs": [],
      "source": [
        "import os\n",
        "from docx import Document\n",
        "\n",
        "\n",
        "def extract_text_from_docx(file_path):\n",
        "    doc = Document(file_path)\n",
        "    return \"\\n\".join([para.text for para in doc.paragraphs])\n",
        "\n",
        "# List of .docx files in the Data folder\n",
        "docx_files = [\n",
        "    \"Data/Fleet maintenance best practices across industries.docx\",\n",
        "    \"Data/Top 10 tips on Fleet Preventive Maintenance.docx\",\n",
        "    \"Data/Fleet vehicle maintenance A comprehensive guide.docx\",\n",
        "    \"Data/Fleet_Maintenance_Tips.docx\"\n",
        "]\n",
        "\n",
        "documents = {}\n",
        "\n",
        "for file_path in docx_files:\n",
        "    file_name = os.path.basename(file_path)\n",
        "    text = extract_text_from_docx(file_path)\n",
        "    documents[file_name] = text\n"
      ]
    },
    {
      "cell_type": "markdown",
      "metadata": {
        "nteract": {
          "transient": {
            "deleting": false
          }
        }
      },
      "source": [
        "## Generate Embeddings Using Azure OpenAI\n",
        "Replace the placeholder values with your Azure OpenAI config:\n",
        "    api_key=os.getenv(\"AZURE_OPENAI_API_KEY\"),  \n",
        "    api_version=\"2024-07-01-preview\",\n",
        "    azure_endpoint=os.getenv(\"AZURE_OPENAI_ENDPOINT\")"
      ]
    },
    {
      "cell_type": "code",
      "execution_count": null,
      "metadata": {
        "gather": {
          "logged": 1743967803711
        }
      },
      "outputs": [],
      "source": [
        "import openai\n",
        "\n",
        "# Replace with your actual Azure OpenAI values\n",
        "openai.api_type = \"azure\"\n",
        "openai.api_base = \"\"  # No trailing slash\n",
        "openai.api_version = \"2024-07-01-preview\"  # Use the latest supported version\n",
        "openai.api_key = \"\"\n",
        "\n",
        "# The deployment name of your embedding model in Azure OpenAI (not model name!)\n",
        "DEPLOYMENT_NAME = \"text-embedding-ada-002\"\n",
        "\n",
        "def get_embedding(text):\n",
        "    response = openai.Embedding.create(\n",
        "        input=text,\n",
        "        engine=DEPLOYMENT_NAME\n",
        "    )\n",
        "    return response['data'][0]['embedding']\n",
        "\n",
        "# Assuming `documents` is a dict: {filename: content}\n",
        "embeddings = {\n",
        "    filename: get_embedding(content)\n",
        "    for filename, content in documents.items()\n",
        "}\n"
      ]
    },
    {
      "cell_type": "markdown",
      "metadata": {
        "nteract": {
          "transient": {
            "deleting": false
          }
        }
      },
      "source": [
        "## Insert Documents & Embeddings into PostgreSQL Table\n",
        "Now connect to your PostgreSQL server and insert the data:"
      ]
    },
    {
      "cell_type": "code",
      "execution_count": null,
      "metadata": {
        "gather": {
          "logged": 1743968011751
        }
      },
      "outputs": [
        {
          "name": "stdout",
          "output_type": "stream",
          "text": [
            "Documents and embeddings inserted successfully.\n"
          ]
        }
      ],
      "source": [
        "import psycopg2\n",
        "import numpy as np\n",
        "\n",
        "# Connection details - update as per your PostgreSQL server\n",
        "conn = psycopg2.connect(\n",
        "    dbname=\"flexibleserverdb\",\n",
        "    user=\"citus\",\n",
        "    password=\"\",\n",
        "    host=\"\",\n",
        "    port=\"5432\",\n",
        "    sslmode='require'  # required for Azure\n",
        ")\n",
        "\n",
        "cur = conn.cursor()\n",
        "\n",
        "# Insert documents into PostgreSQL table\n",
        "for filename, content in documents.items():\n",
        "    embedding_vector = np.array(embeddings[filename]).tolist()\n",
        "    \n",
        "    cur.execute(\n",
        "        \"INSERT INTO maintenance_documents (filename, content, embeddings) VALUES (%s, %s, %s)\",\n",
        "        (filename, content, embedding_vector)\n",
        "    )\n",
        "\n",
        "conn.commit()\n",
        "cur.close()\n",
        "conn.close()\n",
        "print(\"Documents and embeddings inserted successfully.\")\n"
      ]
    },
    {
      "cell_type": "code",
      "execution_count": null,
      "metadata": {
        "gather": {
          "logged": 1743968204356
        }
      },
      "outputs": [
        {
          "name": "stdout",
          "output_type": "stream",
          "text": [
            "Filename: Fleet maintenance best practices across industries.docx\n",
            "Content: Fleet maintenance best practices across industries.\n",
            "Fleet maintenance helps keep vehicles in good co...\n",
            "Embedding Vector Length: 19387\n",
            "First 5 Embedding Values: [0.01\n",
            "\n",
            "Filename: Top 10 tips on Fleet Preventive Maintenance.docx\n",
            "Content: Top 10 tips on Fleet Preventive Maintenance\n",
            "Discover the top 10 tips on preventive maintenance and l...\n",
            "Embedding Vector Length: 19394\n",
            "First 5 Embedding Values: [0.01\n",
            "\n",
            "Filename: Fleet vehicle maintenance A comprehensive guide.docx\n",
            "Content: Fleet vehicle maintenance: A comprehensive guide\n",
            "Fleet vehicle maintenance is essential for keeping ...\n",
            "Embedding Vector Length: 19392\n",
            "First 5 Embedding Values: [0.01\n",
            "\n",
            "Filename: Fleet_Maintenance_Tips.docx\n",
            "Content: Fleet Maintenance Tips & Cost Estimation Guide\n",
            "This document provides a detailed guide on fleet main...\n",
            "Embedding Vector Length: 19411\n",
            "First 5 Embedding Values: [-0.0\n",
            "\n",
            "Filename: Fleet maintenance best practices across industries.docx\n",
            "Content Preview: Fleet maintenance best practices across industries.\n",
            "Fleet maintenance helps keep vehicles in good co...\n",
            "Embedding (first 10 values): [0.0152893\n",
            "\n",
            "Filename: Top 10 tips on Fleet Preventive Maintenance.docx\n",
            "Content Preview: Top 10 tips on Fleet Preventive Maintenance\n",
            "Discover the top 10 tips on preventive maintenance and l...\n",
            "Embedding (first 10 values): [0.0145332\n",
            "\n",
            "Filename: Fleet vehicle maintenance A comprehensive guide.docx\n",
            "Content Preview: Fleet vehicle maintenance: A comprehensive guide\n",
            "Fleet vehicle maintenance is essential for keeping ...\n",
            "Embedding (first 10 values): [0.0154493\n",
            "\n",
            "Filename: Fleet_Maintenance_Tips.docx\n",
            "Content Preview: Fleet Maintenance Tips & Cost Estimation Guide\n",
            "This document provides a detailed guide on fleet main...\n",
            "Embedding (first 10 values): [-0.009083\n",
            "\n"
          ]
        }
      ],
      "source": [
        "import psycopg2\n",
        "import numpy as np\n",
        "import json  # Optional: to pretty-print\n",
        "\n",
        "# Connect to the database\n",
        "conn = psycopg2.connect(\n",
        "    dbname=\"flexibleserverdb\",\n",
        "    user=\"citus\",\n",
        "    password=\"\",\n",
        "    host=\"\",\n",
        "    port=\"5432\",\n",
        "    sslmode='require' \n",
        ")\n",
        "\n",
        "cur = conn.cursor()\n",
        "\n",
        "# Fetch records from the table\n",
        "cur.execute(\"SELECT filename, content, embeddings FROM maintenance_documents LIMIT 5\")  # You can change the LIMIT\n",
        "\n",
        "rows = cur.fetchall()\n",
        "\n",
        "for row in rows:\n",
        "    filename, content, embedding = row\n",
        "    print(f\"Filename: {filename}\")\n",
        "    print(f\"Content: {content[:100]}...\")  # Print a snippet of content\n",
        "    print(f\"Embedding Vector Length: {len(embedding)}\")\n",
        "    print(f\"First 5 Embedding Values: {embedding[:5]}\\n\")  # Show first few values\n",
        "\n",
        "\n",
        "\n",
        "cur.close()\n",
        "conn.close()\n"
      ]
    },
    {
      "cell_type": "markdown",
      "metadata": {
        "nteract": {
          "transient": {
            "deleting": false
          }
        }
      },
      "source": [
        "    dbname=\"your_dbname\",\n",
        "    user=\"your_username\",\n",
        "    password=\"your_password\",\n",
        "    host=\"your_postgresql_flexible_server_name.postgres.database.azure.com\",\n",
        "    port=\"5432\",\n",
        "    sslmode='require'"
      ]
    },
    {
      "cell_type": "code",
      "execution_count": null,
      "metadata": {
        "gather": {
          "logged": 1743968242347
        }
      },
      "outputs": [
        {
          "name": "stdout",
          "output_type": "stream",
          "text": [
            "Filename: Fleet maintenance best practices across industries.docx\n",
            "Content Preview: Fleet maintenance best practices across industries.\n",
            "Fleet maintenance helps keep vehicles in good co...\n",
            "Embedding (first 10 values): [0.0152893\n",
            "\n",
            "Filename: Top 10 tips on Fleet Preventive Maintenance.docx\n",
            "Content Preview: Top 10 tips on Fleet Preventive Maintenance\n",
            "Discover the top 10 tips on preventive maintenance and l...\n",
            "Embedding (first 10 values): [0.0145332\n",
            "\n",
            "Filename: Fleet vehicle maintenance A comprehensive guide.docx\n",
            "Content Preview: Fleet vehicle maintenance: A comprehensive guide\n",
            "Fleet vehicle maintenance is essential for keeping ...\n",
            "Embedding (first 10 values): [0.0154493\n",
            "\n",
            "Filename: Fleet_Maintenance_Tips.docx\n",
            "Content Preview: Fleet Maintenance Tips & Cost Estimation Guide\n",
            "This document provides a detailed guide on fleet main...\n",
            "Embedding (first 10 values): [-0.009083\n",
            "\n"
          ]
        }
      ],
      "source": [
        "import psycopg2\n",
        "import numpy as np\n",
        "\n",
        "# Connect to the PostgreSQL DB\n",
        "conn = psycopg2.connect(\n",
        "    dbname=\"flexibleserverdb\",\n",
        "    user=\"citus\",\n",
        "    password=\"\",\n",
        "    host=\"\",\n",
        "    port=\"5432\",\n",
        "    sslmode='require' \n",
        ")\n",
        "\n",
        "cur = conn.cursor()\n",
        "\n",
        "# Fetch rows (adjust LIMIT as needed)\n",
        "cur.execute(\"SELECT filename, content, embeddings FROM maintenance_documents LIMIT 5\")\n",
        "rows = cur.fetchall()\n",
        "\n",
        "for row in rows:\n",
        "    filename, content, embedding = row\n",
        "    print(f\"Filename: {filename}\")\n",
        "    print(f\"Content Preview: {content[:100]}...\")  # Show first 100 characters\n",
        "    print(f\"Embedding (first 10 values): {embedding[:10]}\\n\")  # Only print 10 embedding values\n",
        "\n",
        "cur.close()\n",
        "conn.close()\n"
      ]
    },
    {
      "cell_type": "code",
      "execution_count": 19,
      "metadata": {
        "gather": {
          "logged": 1743968844261
        }
      },
      "outputs": [],
      "source": [
        "query_text = \"how to reduce fleet repair costs\"\n",
        "query_embedding = get_embedding(query_text)\n"
      ]
    },
    {
      "cell_type": "markdown",
      "metadata": {
        "nteract": {
          "transient": {
            "deleting": false
          }
        }
      },
      "source": [
        " Run Semantic Search (Cosine Similarity Query)\n",
        "In PostgreSQL, use <=> to calculate cosine distance if you're using pgvector."
      ]
    },
    {
      "cell_type": "code",
      "execution_count": null,
      "metadata": {
        "gather": {
          "logged": 1743968961774
        }
      },
      "outputs": [
        {
          "ename": "InvalidTextRepresentation",
          "evalue": "invalid input syntax for type vector: \"{0.0017407250124961138, 0.0065658604726195335, -0.005753399338573217, -0.003382190130650997, -0.015616895630955696, 0.00763198547065258, -0.02258714847266674, 0.00840400718152523, -0.01222735270857811, -0.019675523042678833, -0.004474049434065819, 0.027366328984498978, -0.0003637232875917107, 0.02855744957923889, -0.002420839387923479, 0.00938925426453352, 0.016425680369138718, -0.03152789548039436, 0.03752760589122772, -0.015337496995925903, -0.02568993903696537, 0.004801239352673292, -0.0030770576559007168, -0.02164601720869541, 0.006356311496347189, -0.01961670257151127, 0.03396895155310631, -0.010425969026982784, -0.023057714104652405, 0.006382045801728964, 0.024837039411067963, -0.01858733966946602, 0.004010836128145456, 0.0011451654136180878, -0.009977460838854313, 0.012043537572026253, 0.02754279226064682, -0.008962803520262241, 0.009690710343420506, -0.03185140714049339, 0.04143918305635452, -0.0026285499334335327, 0.0034814500249922276, 0.02732221409678459, -0.007429789286106825, 0.0033840283285826445, 0.008176077157258987, 0.019102022051811218, -0.015352202579379082, -0.01032303273677826, 0.012197942472994328, 0.006580565590411425, -0.01866086572408676, 0.005220336839556694, -0.009359843097627163, 0.023028302937746048, -0.014080205000936985, 0.017102118581533432, -0.021307798102498055, -0.025939928367733955, -0.0067607038654387, 0.008139314129948616, -0.013006727211177349, 0.013697870075702667, -0.010830361396074295, -0.0027314862236380577, 0.025013502687215805, -0.0047755055129528046, -0.01886673830449581, -0.015484549105167389, 0.022248929366469383, 0.04026276618242264, 0.013800806365907192, -0.0073268529959023, -0.005176221486181021, -0.02529289945960045, 0.0028528037946671247, -0.008345186710357666, -0.013389061205089092, -0.0016203264240175486, 0.026748713105916977, 0.015028688125312328, -0.03335133567452431, 0.028028061613440514, 0.025145849213004112, -0.006433513946831226, 0.01335229817777872, 0.008653995580971241, -0.02071959152817726, 0.02879273146390915, 0.010396558791399002, 0.0071650962345302105, 0.01661684736609459, 0.025425245985388756, -0.003731437958776951, 0.01124210562556982, -0.007940794341266155, 0.010690662078559399, 0.004440962802618742, -0.03558652102947235, 0.005654139444231987, 0.03279253840446472, -0.038321685045957565, -0.008676053024828434, -0.02320476621389389, -0.011065644212067127, 0.008396654389798641, -0.012308230623602867, 0.001197552657686174, -0.01629333384335041, -0.01876380294561386, 0.021940119564533234, -0.003722247201949358, 0.026645775884389877, 0.014249313622713089, 0.0023215794935822487, -0.0007421517511829734, -0.02351357415318489, -0.012249410152435303, 0.0039556920528411865, 0.030704405158758163, 0.006396750919520855, 0.03673352673649788, -0.011970012448728085, 0.007823152467608452, 0.028439806774258614, -0.006940842140465975, 0.011374452151358128, -0.02527819573879242, 0.006363664288073778, 0.010992118157446384, 0.01869027689099312, -0.00608794204890728, 0.013550817966461182, -0.016763899475336075, -0.012212647125124931, -0.02205776236951351, 0.018131479620933533, -0.009624537080526352, -0.02166072279214859, -0.0017149909399449825, 0.02030784636735916, -0.024925271049141884, 0.01639626920223236, -0.004036570433527231, 0.016866834834218025, 0.017278579995036125, 0.004481401760131121, -0.018704982474446297, -0.028719205409288406, -0.0071246568113565445, -0.018749097362160683, 0.007503315340727568, -0.0125435134395957, 0.014330192469060421, -0.004213032312691212, -0.0033399127423763275, -0.005937214009463787, -0.031027918681502342, -0.004768152721226215, 0.014212551526725292, -0.0010964545654132962, 0.04105684533715248, 0.018910855054855347, 0.004687274340540171, 0.019719639793038368, -0.007139362394809723, 0.00698863435536623, -0.019352009519934654, 0.008506943471729755, -0.00010132784518646076, 0.022734200581908226, 0.002292169025167823, 0.019528470933437347, -0.017969723790884018, 0.028836846351623535, -0.007970204576849937, 0.00354394712485373, 0.002128574065864086, -0.03838050365447998, -0.001362985814921558, 0.002316064899787307, 0.02805747278034687, 0.021925415843725204, 0.02051371894776821, -0.012344993650913239, 0.016999181360006332, 0.00233628461137414, -0.0034097624011337757, -0.010845066048204899, -0.004029217641800642, 0.018013838678598404, -0.019749049097299576, -0.00513210566714406, -0.5886775255203247, -0.03382189944386482, 0.013124368153512478, -0.008014320395886898, 0.02124897763133049, 0.015087508596479893, 0.01858733966946602, -0.016043344512581825, -0.021601900458335876, -0.0025587002746760845, 0.009080445393919945, 0.0143448980525136, -0.02435176819562912, -0.020793117582798004, 0.010300974361598492, -0.022410685196518898, 0.004334350116550922, -0.01620510220527649, 0.015337496995925903, 0.0024428970646113157, -0.030792634934186935, 0.00824960321187973, 0.005073285195976496, 0.01202148012816906, 0.040174536406993866, -0.020043153315782547, -0.007091570179909468, -0.009889230132102966, -0.014440481550991535, -0.008374596945941448, -0.017690325155854225, 0.034292466938495636, 0.00339138088747859, 0.009426017291843891, 0.055144403129816055, 0.008065788075327873, -0.027072226628661156, 0.006639386061578989, 0.014947810210287571, 0.024469411000609398, -0.00631587253883481, -0.008948098868131638, 0.015175740234553814, 0.005665168631821871, -0.006264404393732548, -0.015499253757297993, 0.010705366730690002, -0.016749193891882896, 0.0013593095354735851, 0.0040806857869029045, 0.02301359735429287, -0.003918929025530815, -0.02457234635949135, 0.0077643319964408875, 0.01567571610212326, -0.01920495741069317, 0.01546984352171421, -0.020499013364315033, 0.014514007605612278, 0.022469505667686462, -0.01526397094130516, 0.016866834834218025, -0.02711634151637554, -0.011197990737855434, -0.016278628259897232, -0.0006847096956335008, -0.012690565548837185, 0.0034116003662347794, 0.008073140867054462, -0.03614531829953194, 0.000663571001496166, 0.005624729208648205, -0.005176221486181021, 0.004481401760131121, 0.025101732462644577, 0.013117015361785889, 0.017410926520824432, -0.005735017824918032, -0.021425439044833183, -0.009102502837777138, 0.014477244578301907, -0.012734681367874146, -0.03658647462725639, -0.011639145202934742, -0.001515552052296698, 0.027307508513331413, -0.0021359266247600317, -0.0239547286182642, 0.004981377627700567, 0.0007761574815958738, 0.021293092519044876, 0.011337689124047756, -0.0010900211054831743, -0.01919025182723999, 0.017984427511692047, 0.0013188703451305628, -0.018102070316672325, -0.0034281436819583178, 0.035527702420949936, -0.022145992144942284, -0.03658647462725639, -0.013080252334475517, 0.03858637809753418, -0.01026421133428812, 0.028028061613440514, -0.002659798366948962, -0.008845162577927113, -0.005937214009463787, 0.0029502257239073515, -0.014006678946316242, 0.013793453574180603, 0.009661299176514149, -0.02516055293381214, 0.015528663992881775, 0.012977316044270992, -0.029866209253668785, 0.006470276974141598, -0.01763150468468666, -0.02071959152817726, -0.0282780509442091, -0.0032571961637586355, -0.015043393708765507, 0.029042718932032585, -0.010484789498150349, 0.005845306906849146, 0.009470132179558277, 0.030469121411442757, 0.010558315552771091, 0.004106420092284679, -0.0282780509442091, 0.008256955072283745, 0.023234175518155098, 0.028925077989697456, 0.003944662865251303, 0.016999181360006332, -0.007054807618260384, 0.019881395623087883, -0.0027737636119127274, 0.004014512524008751, -0.015837473794817924, 0.003512698458507657, 0.02167542651295662, 0.006404103711247444, -0.02652813494205475, -0.004602719563990831, -0.024498820304870605, -0.013447881676256657, 0.0032682251185178757, -0.002724133664742112, 0.001498089637607336, 0.014256666414439678, -0.013455234467983246, -0.024513525888323784, 0.005760752130299807, -0.029072130098938942, -0.0032002136576920748, 0.018852034583687782, -0.034116003662347794, -0.003235138487070799, -0.037292324006557465, 0.004065980669111013, -0.006768056657165289, -0.012756738811731339, 0.011933249421417713, 0.005712960381060839, -0.02330770157277584, 0.0019576263148337603, -0.010411263443529606, -0.029557401314377785, -0.00804373063147068, 0.013455234467983246, -0.019234368577599525, 0.0018629617989063263, 0.009823056869208813, -0.00840400718152523, 0.025601709261536598, -0.02135191299021244, 0.01886673830449581, 0.0014319163747131824, -0.0023436371702700853, 0.010050986893475056, 0.00882310513406992, -0.005716636776924133, 0.019043201580643654, 0.026336967945098877, 3.403443770366721e-05, 0.017822671681642532, 0.02855744957923889, -0.013499350287020206, 0.0304397102445364, -0.046380121260881424, 0.0013262229040265083, 0.00727170892059803, 0.003146907314658165, -0.009352491237223148, 0.023072417825460434, -0.02536642551422119, 0.0023197412956506014, 0.0061541153118014336, 0.00048435167991556227, 0.017484452575445175, 0.009940697811543941, 0.05073285102844238, -0.029233885928988457, 0.019749049097299576, -0.004312292207032442, 0.018425583839416504, -0.02476351335644722, 0.033057231456041336, 0.026351673528552055, 0.003288444597274065, -0.026072274893522263, -0.018190300092101097, -0.008381949737668037, 0.022969482466578484, 0.0039777494966983795, 0.011558267287909985, -0.0021800422109663486, 0.008131961338222027, 0.007771684788167477, 0.019763754680752754, -0.020910758525133133, 0.03508654609322548, 0.0008423308026976883, -0.026895763352513313, -0.0033638086169958115, 0.005128429736942053, 0.027675138786435127, 0.016984475776553154, -0.003099115565419197, -0.019028495997190475, -0.005099019035696983, 0.012771444395184517, 0.031616125255823135, 0.044321395456790924, 0.03723350167274475, -0.00536003615707159, 0.025248784571886063, 0.02433706447482109, 0.003435496473684907, 0.04170387610793114, 0.006113676354289055, 0.025763465091586113, -0.0003028346982318908, 0.02102839946746826, 0.02176365815103054, 0.04364495724439621, 0.02457234635949135, -0.006334254052489996, 0.02082252688705921, -0.021396029740571976, 0.02144014462828636, 0.005110048223286867, -0.015602190047502518, -6.203745579114184e-05, -0.009028976783156395, 0.018734391778707504, 0.0020807820837944746, 0.008433417417109013, 0.018013838678598404, 0.03514536842703819, 0.008131961338222027, -0.01723446510732174, -0.0076540433801710606, 0.008580469526350498, -1.716082351777004e-06, -0.0007007934618741274, -0.0002028854505624622, 0.007304795552045107, 0.006558507680892944, 0.011021528393030167, -0.0034998315386474133, 0.024278242141008377, -0.03361602872610092, 0.02961622178554535, 0.013102310709655285, -0.006378369405865669, 0.011543561704456806, 0.010131864808499813, 0.03879224881529808, 0.0027921448927372694, -0.012918495573103428, 0.03617472946643829, 0.013190541416406631, -0.015484549105167389, -0.028439806774258614, -0.02805747278034687, 0.03558652102947235, 0.003367485012859106, 0.005812220275402069, 0.00913926586508751, 0.009551011025905609, -0.00913191307336092, 0.016043344512581825, 0.0007586950669065118, -0.006330577656626701, 0.02649872377514839, -0.009631888940930367, 0.01733740046620369, 0.005554879549890757, -0.013168483972549438, 0.022219518199563026, -0.030616173520684242, -0.016337448731064796, 0.026954585686326027, -0.0025531859137117863, -0.004576985724270344, -0.02898389846086502, 0.007529049180448055, -0.02289595641195774, -0.010955355130136013, -0.013859626837074757, 0.019954921677708626, -0.009095150046050549, -0.01258762925863266, -0.0018749097362160683, -0.03582180663943291, -0.03341015800833702, 0.020146088674664497, 0.01218323688954115, 0.012447929941117764, 0.011205342598259449, -0.013639049604535103, 0.0020329903345555067, 0.08781930059194565, 0.02855744957923889, 0.02001374214887619, 0.004404199775308371, 0.0012508588843047619, -0.011999422684311867, 0.02641049399971962, -0.03990984335541725, 0.0050291698426008224, -0.02094016782939434, 0.0021984234917908907, 0.008073140867054462, 0.019249074161052704, -0.0068562873639166355, 0.004088038578629494, 0.014389012940227985, -0.01124210562556982, -0.03185140714049339, -0.0152198551222682, -0.025616414844989777, -0.01713152788579464, -0.03138084337115288, -0.006330577656626701, 0.025925222784280777, 0.014896341599524021, 0.03176317736506462, 0.027586907148361206, 0.01377874892205, 0.010793598368763924, 0.007466552313417196, -0.011514151468873024, -5.6408131058560684e-05, -0.014278724789619446, 0.037909939885139465, -0.013411118648946285, 0.001610216568224132, -0.01294790580868721, -0.014969867654144764, 0.017602093517780304, 0.0035623284056782722, -0.004481401760131121, -0.015278676524758339, 0.010190686210989952, 0.010198038071393967, 0.026381082832813263, -0.0013170321471989155, 0.005610024090856314, 0.011550914496183395, -0.012337641790509224, -0.03973338007926941, 0.02145485021173954, -0.014727232046425343, -0.031174970790743828, 0.009521600790321827, 0.02030784636735916, -0.007253327406942844, -0.013683164492249489, -0.019057905301451683, 0.006201907526701689, -0.008006967604160309, -0.044615499675273895, -0.005485029891133308, 0.04149800166487694, -0.01351405493915081, -0.04076274484395981, -0.0007642095442861319, -0.0034226293209940195, -0.015631601214408875, -0.033792492002248764, -0.0053122444078326225, -0.023969434201717377, -0.021896004676818848, -0.021954825147986412, 0.017910903319716454, 0.0028123646043241024, 0.0051468112505972385, 0.02064606547355652, -0.0076613957062363625, 0.021396029740571976, 0.004437286406755447, -0.02083723247051239, 0.012337641790509224, 0.005371064879000187, -0.04567427188158035, -0.004742418881505728, 0.005907803773880005, -0.030704405158758163, 0.003670779289677739, -0.0011277031153440475, 0.020454898476600647, 0.01608746126294136, -0.006878345273435116, 0.022748904302716255, -0.008139314129948616, 0.002001741901040077, -0.004613748285919428, 0.013550817966461182, -0.014587532728910446, 0.0037259235978126526, -0.009992166422307491, -0.01970493420958519, 0.008889278396964073, -0.011521504260599613, -0.02960151620209217, -0.005286510102450848, -0.00784521084278822, 0.000722391705494374, 0.006444542668759823, 0.010198038071393967, -0.004341702908277512, 0.008014320395886898, -0.002191070932894945, -0.04061569273471832, -0.006665120366960764, -0.010573020204901695, 0.0047828578390181065, -0.014168435707688332, -0.02219010889530182, -0.02217540331184864, 0.03232197463512421, 0.013006727211177349, -0.04026276618242264, 0.033704258501529694, 0.004345378838479519, -0.012646449729800224, -0.00990393478423357, -0.0035200512502342463, -0.01576394774019718, -0.008903983049094677, 0.012859675101935863, -0.010639193467795849, 0.026778122410178185, -0.009830408729612827, -0.039556920528411865, -0.03788052871823311, -0.013999326154589653, 0.012440577149391174, 0.003146907314658165, -0.010940649546682835, -0.011418567970395088, -0.004690950736403465, -0.002126735867932439, 0.020660769194364548, -0.023704741150140762, 0.05249747261404991, -0.01948435604572296, 0.0022664349526166916, 0.004808592144399881, 0.01824912242591381, 0.013859626837074757, -0.0008244088385254145, -0.011146522127091885, -0.03432187810540199, -0.013190541416406631, -0.0302338395267725, -0.02116074599325657, 0.02641049399971962, -0.0020624008029699326, 0.021793069317936897, 0.023690035566687584, 0.022116582840681076, -0.001725100795738399, -0.022219518199563026, -0.0058489833027124405, -0.004275529645383358, 0.004117448814213276, -0.015308086760342121, 0.018381468951702118, -0.012705271132290363, -0.0003517753502819687, 0.036057088524103165, 0.01124945841729641, -0.004904175642877817, -0.002808688208460808, 0.009925993159413338, 0.023895908147096634, -0.030763225629925728, -0.010933296754956245, -0.01392580009996891, -0.02951328456401825, -0.011793550103902817, -0.004319644998759031, -0.007058483548462391, 0.0021120307501405478, -0.040498051792383194, -0.013955210335552692, -0.0002869806776288897, 0.008286366239190102, 0.029866209253668785, 0.00409906730055809, 0.023337112739682198, 0.007933441549539566, 0.016469795256853104, -0.01238175667822361, 0.03546888008713722, 0.013536113314330578, -0.025513477623462677, -0.03755701705813408, -0.01949906162917614, -0.022543031722307205, 0.01877850852906704, 0.008227544836699963, -0.014514007605612278, 0.00893339328467846, -0.005753399338573217, 0.0004429933906067163, 0.011940601281821728, -0.03385131061077118, 0.0030605143401771784, -0.014374308288097382, 0.00030306444386951625, -0.011778844520449638, -0.004179945681244135, 0.003025589743629098, -0.00929366983473301, 0.0049482909962534904, -0.02248421125113964, 0.009087798185646534, -0.015102214179933071, 0.003293959191069007, 0.02486645057797432, -0.0009751368779689074, -0.0072275931015610695, 0.0015881588915362954, 0.00456595653668046, 0.014690469019114971, 0.013594933785498142, -0.009433369152247906, -0.0009549172827973962, 0.017072707414627075, 0.004915204364806414, 0.015411023050546646, 0.014881636947393417, -0.030469121411442757, -0.018543224781751633, 0.004179945681244135, -0.018116774037480354, -0.007242298219352961, -0.025748761370778084, 0.03385131061077118, 0.015661010518670082, 0.007940794341266155, -0.020557833835482597, -0.008573116734623909, -0.04558604210615158, 0.03567475453019142, 0.020572539418935776, 0.02136661857366562, 0.024101780727505684, -0.005481353960931301, -0.01827853173017502, 0.017043298110365868, -0.019425535574555397, 0.01682271994650364, -0.011389157734811306, -0.026278147473931313, -0.013440529815852642, 0.016999181360006332, 0.007051131222397089, 0.009859819896519184, -0.004323321394622326, 0.034939493983983994, -0.012124416418373585, -0.00029571185586974025, 0.011720024049282074, -0.005007111933082342, 0.00338035193271935, -0.029763273894786835, 0.018646162003278732, 0.029278002679347992, -0.015940409153699875, -0.007444494403898716, 0.019793163985013962, 0.011514151468873024, 0.005227689631283283, -0.018175596371293068, -0.002889566821977496, 0.005948243197053671, -0.02670459635555744, -0.0042865583673119545, 0.012668508104979992, 0.005007111933082342, -0.038027580827474594, 0.011845017783343792, -0.010624488815665245, -0.026028158143162727, -0.004573309328407049, 0.017793260514736176, 0.016955066472291946, -0.027778074145317078, -0.029219182208180428, 0.023263586685061455, -0.012131769210100174, 0.0026524458080530167, -0.003488802583888173, -0.007054807618260384, 0.003170803189277649, 0.020087268203496933, -0.014109615236520767, 0.026851648464798927, -0.01016127597540617, -0.0035384325310587883, -0.04176269471645355, 0.0037351143546402454, -0.03176317736506462, 0.0017002858221530914, 0.02001374214887619, -0.003486964385956526, -0.017263874411582947, -0.002303197979927063, 0.00484903110191226, -0.007962851785123348, -0.0035200512502342463, 0.010661251842975616, -0.006757027469575405, 0.01948435604572296, 0.013381708413362503, -0.02536642551422119, -0.012469988316297531, 0.027278099209070206, 0.01052155252546072, 0.03829227387905121, 0.011992069892585278, -0.023337112739682198, 0.008911335840821266, -0.02723398245871067, -0.002551347715780139, -0.0014916561776772141, 0.010043634101748466, -0.03517477586865425, -0.017278579995036125, 0.01340376678854227, -0.017557978630065918, -0.044939011335372925, -0.01015392318367958, -0.026175210252404213, -0.004168916959315538, -0.013690517283976078, 0.02848392352461815, -0.0042240615002810955, 0.013080252334475517, -0.014602238312363625, -0.0061541153118014336, -0.0007026316015981138, -0.016013935208320618, 0.014602238312363625, -0.05187985673546791, -0.008551059290766716, 0.00949954241514206, -0.006907755509018898, -0.01733740046620369, 0.04164505377411842, 0.012293525971472263, -0.04032158851623535, -0.004654187709093094, -0.029572105035185814, -0.03582180663943291, -0.0076540433801710606, -0.0049262335523962975, -0.01576394774019718, -0.014896341599524021, 0.026763416826725006, -0.007459199521690607, 0.04020394757390022, -0.014161082915961742, -0.0020072562620043755, 0.004874765407294035, -0.006029121577739716, -0.01713152788579464, -0.004790210630744696, -0.0012949744705110788, -0.009198086336255074, -0.027410445734858513, 0.005646787118166685, 0.012080300599336624, 0.024307653307914734, 0.025822285562753677, -0.007363616023212671, 0.019146136939525604, 0.011117111891508102, 0.008271660655736923, 0.02330770157277584, 0.03364543989300728, 0.002689208835363388, -0.013447881676256657, -0.04032158851623535, -0.0056026712991297245, -0.0051063718274235725, -0.00974953081458807, -0.041733283549547195, -0.006484982091933489, -0.0018841004930436611, -0.018749097362160683, -0.005687226075679064, -0.015013983473181725, -0.002795821288600564, -0.003191022900864482, -0.030145607888698578, -0.003992455080151558, -0.0031211732421070337, -0.015602190047502518, 0.0152198551222682, 0.013896389864385128, -0.029572105035185814, -0.009889230132102966, 0.0074959625490009785, 0.004727713763713837, 0.0029980174731463194, 0.0033013117499649525, -0.0133670037612319, -0.022322455421090126, -0.0034777738619595766, -0.026057569310069084, -0.008448123000562191, 0.0008175157709047198, 0.005396799184381962, 0.010021576657891273, -0.007786389905959368, 0.014146378263831139, -0.01989610120654106, -0.0119773643091321, -0.008521649055182934, -0.026292851194739342, -0.01315377838909626, 0.0037976112216711044, -0.004610072355717421, 0.009492190554738045, -0.017160939052700996, -0.008477533236145973, 0.007154067512601614, -0.025542888790369034, -0.03164553642272949, 0.00714303832501173, -0.00024171630502678454, 0.023660626262426376, 0.02732221409678459, 0.21375441551208496, -0.004889470525085926, -0.007032749708741903, 0.047615356743335724, -0.015499253757297993, 0.021822478622198105, 0.022851841524243355, -0.007918736897408962, -0.024631166830658913, 0.011558267287909985, 0.010234801098704338, 0.01202148012816906, -0.017293285578489304, 0.003670779289677739, 0.024807630106806755, 0.012117063626646996, -0.034615982323884964, -0.002781116170808673, -0.020278435200452805, 0.0719965323805809, 0.029792683199048042, 0.007801095023751259, -0.015513959340751171, -0.016322743147611618, 0.018543224781751633, -0.017352106049656868, -0.00751066766679287, 0.026469314470887184, 0.00324984360486269, 0.02735162526369095, -0.005433561746031046, -0.016072755679488182, 0.024616461247205734, 0.00441155256703496, 0.01598452404141426, 0.015249266289174557, -0.017072707414627075, -0.009999518282711506, 0.015955114737153053, 0.019734343513846397, 0.03258666768670082, -0.0032627105247229338, 0.0025770817883312702, -0.012874380685389042, -0.013675812631845474, -0.010602430440485477, 0.0024943652097135782, -0.012396462261676788, -0.004084362182766199, -0.0011754948645830154, -0.05652669072151184, -0.007459199521690607, 0.00861723255366087, 0.02888096310198307, -0.006621005013585091, -0.011330337263643742, 0.008536353707313538, 0.00657688919454813, 0.019028495997190475, -0.00554385082796216, 0.01485222578048706, 0.01889614947140217, -0.010550962761044502, -0.0011727376841008663, -0.03226315230131149, 0.02052842266857624, -0.00892604049295187, -0.014888988807797432, 0.022248929366469383, -0.03473362326622009, -0.003874813439324498, -0.01511691976338625, -0.004231413826346397, 0.009962755255401134, -0.022101877257227898, -0.022969482466578484, -0.007624633144587278, -0.0028822142630815506, 0.03529242053627968, 0.012690565548837185, 0.004477725829929113, -0.02054312825202942, -0.02104310505092144, 0.0015192283317446709, 0.021822478622198105, -0.023660626262426376, -0.002097325399518013, 0.008426064625382423, -0.017396220937371254, 0.007212887983769178, 0.004959320183843374, -0.008874572813510895, -0.03073381446301937, -0.003610120387747884, 0.001922701601870358, 0.017719734460115433, -0.0017949503380805254, 0.02198423631489277, -0.015161034651100636, 0.018322646617889404, -0.023763561621308327, 0.04138036072254181, -0.019763754680752754, 0.013962563127279282, -0.007580517325550318, 0.008867220021784306, -0.02310182899236679, 0.01569042168557644, -0.009470132179558277, -0.01848440431058407, -0.0022223195992410183, -0.03129260987043381, 0.03476303070783615, -0.013911095447838306, 0.0011947954772040248, 0.021734246984124184, 0.019366715103387833, -0.02177836373448372, 0.032557256519794464, -0.004165240563452244, 0.02682223729789257, -0.026675187051296234, 0.012153826653957367, -0.007275384850800037, -0.005084313917905092, -0.01835205778479576, -0.055673789232969284, -0.004915204364806414, -0.020557833835482597, -0.03632178157567978, 0.00026997781242243946, 0.003343589138239622, 0.01140386238694191, -0.034821853041648865, -0.021734246984124184, 0.02249891683459282, -0.003753495868295431, -0.02546936273574829, -0.02702810987830162, 0.00835989136248827, 0.0302338395267725, -0.00513210566714406, 0.028645679354667664, 0.00929366983473301, 0.012278820388019085, -0.02774866484105587, 0.03608649969100952, -0.00526077626273036, -0.016896246001124382, -0.02226363494992256, -0.011837664991617203, -0.002713104709982872, -0.0009411311475560069, -0.009631888940930367, 0.024190012365579605, -0.02404296025633812, -0.03114555962383747, -0.0302338395267725, 0.002542156958952546, 0.0003618851478677243, -0.057938385754823685, 0.017072707414627075, 0.0023693712428212166, -0.0025495095178484917, -0.029748568311333656, 0.004242443013936281, -0.18987321853637695, 0.02321946993470192, 0.023498868569731712, 0.004753447603434324, 0.04973290115594864, -0.0072055356577038765, 0.018396172672510147, 0.011014175601303577, -0.03191022947430611, 0.011124464683234692, -0.001922701601870358, 0.008837809786200523, -0.03920399397611618, -0.012161179445683956, 0.006874668877571821, -0.004043922759592533, -0.03491008281707764, 0.03001326136291027, 0.0005234123091213405, 0.017896197736263275, 0.03302782028913498, -0.016675667837262154, 0.008271660655736923, -0.02476351335644722, 0.0006732212495990098, -0.006201907526701689, -0.024278242141008377, -0.009440721943974495, -0.005201955325901508, -0.030969098210334778, -0.0036340162623673677, -0.0066283573396503925, 0.02443999983370304, 0.01869027689099312, -0.004268176853656769, -0.018631456419825554, -0.026557544246315956, 0.023763561621308327, -0.004448315128684044, 0.04343908652663231, 0.006198231130838394, 0.02826334536075592, 0.030822046101093292, 0.018293237313628197, -0.013749337755143642, 0.0003554516297299415, 0.00938925426453352, -0.008389301598072052, 0.019778460264205933, -0.007047454826533794, -0.0014585695462301373, -0.021322503685951233, -0.01774914562702179, 0.009683357551693916, 0.02001374214887619, 0.00531592033803463, 4.5407970901578665e-05, -0.008293718099594116, -0.003220433136448264, -0.045144885778427124, -0.024395884945988655, -0.002067915163934231, 0.009646594524383545, -0.0031046299263834953, -0.00856576394289732, -0.0003846322069875896, -0.013227304443717003, -0.0035880624782294035, -0.027998652309179306, 0.029630927368998528, 0.0008657671278342605, -0.0030715432949364185, 0.007830505259335041, 0.008573116734623909, 0.03155730292201042, -0.00010207459126831964, -0.02652813494205475, 0.012572924606502056, -0.014146378263831139, -0.0020513718482106924, -0.012322936207056046, 0.028395691886544228, 0.007801095023751259, 0.0025495095178484917, 0.019734343513846397, 0.014528712257742882, 0.00881575234234333, -0.015249266289174557, -0.008852515369653702, 0.016940360888838768, 0.05055639147758484, -0.028175113722682, 0.005760752130299807, 0.011830313131213188, 0.0066136522218585014, 0.026160504668951035, 0.013183188624680042, -5.6465571105945855e-05, 0.005723989102989435, 0.015190444886684418, -0.012389109469950199, -0.009256907738745213, -0.016058050096035004, 0.0030917630065232515, 0.018616750836372375, 0.018293237313628197, 0.01970493420958519, 0.016631552949547768, 0.02507232315838337, -0.018381468951702118, -0.0263222623616457, 0.019969627261161804, 0.021175451576709747, 0.016322743147611618, 0.008448123000562191, 0.00788197387009859, 0.01542572770267725, -0.0024042960721999407, -0.004279205575585365, 0.022748904302716255, 0.030557353049516678, -0.018322646617889404, 0.004124801605939865, 0.012197942472994328, 0.0077569796703755856, -0.007933441549539566, -0.12328818440437317, -0.008146666921675205, 0.0039005475118756294, 0.01051419973373413, -0.015161034651100636, 0.016852129250764847, 0.004014512524008751, 0.02394002489745617, -0.017881492152810097, 0.011330337263643742, -0.014271371997892857, -0.01569042168557644, -0.025204669684171677, -0.00305499997921288, 0.03193964064121246, -0.020896052941679955, -0.003988778684288263, -0.0057056075893342495, 0.008551059290766716, 0.026145800948143005, 0.028645679354667664, -0.01857263594865799, 0.009573068469762802, 0.009778941050171852, -0.017484452575445175, 0.0021782040130347013, -0.02374885603785515, 0.0274545606225729, -0.007176124956458807, 0.012602334842085838, 0.02196953073143959, -0.003589900676161051, 0.005837954115122557, -0.002362018683925271, -0.029469169676303864, -0.01908731646835804, -0.00783785805106163, 0.005867364816367626, 0.005455619655549526, -0.044409625232219696, 0.016116870567202568, -0.01948435604572296, 0.0018988056108355522, -0.03664529323577881, -0.003132202196866274, -0.027160456404089928, -0.012411166913807392, 0.039262816309928894, -0.01377874892205, -0.008374596945941448, -0.030410300940275192, -0.019219662994146347, -0.04685068503022194, -0.02588110789656639, 0.02838098630309105, -0.0262193251401186, 0.005878393538296223, 0.011109759099781513, -0.019749049097299576, -0.007381997536867857, -0.03532182797789574, 0.015411023050546646, -0.014734584838151932, 0.030586762353777885, 0.007698158733546734, -0.01072007231414318, -0.005212984513491392, -0.03335133567452431, 0.007573164999485016, -0.0023987814784049988, -0.03870401903986931, 0.02652813494205475, -0.0267340075224638, 0.0031174970790743828, -0.038733430206775665, 0.0010256859241053462, -0.0010716395918279886, -0.0069371662102639675, 0.03205728158354759, 0.0012848646147176623, -0.006878345273435116, -0.020881347358226776, 0.01505809836089611, -0.011756787076592445, 0.0017682972829788923, 0.04035099968314171, 0.018293237313628197, 0.015910997986793518, -0.008742226287722588, -0.02074900083243847, 0.00897750910371542, 0.013690517283976078, -0.0005762590444646776, -0.00835989136248827, -0.016058050096035004, 0.034410107880830765, -0.028601564466953278, 0.02280772477388382, 0.007595222443342209, 0.015558074228465557, 0.003834374248981476, 0.020396076142787933, -0.04846825450658798, 0.03973338007926941, -0.003075219690799713, 0.0051541635766625404, -0.0004875684389844537, 0.01589629426598549, 0.024998797103762627, -0.013256714679300785, -0.01804324984550476, 0.02269008383154869, -0.034410107880830765, 0.03685116767883301, -0.009837761521339417, -0.04138036072254181, -0.016793308779597282, -0.005940890405327082, 0.026792827993631363, -0.013389061205089092, 0.02641049399971962, 0.01886673830449581, -0.0025844343472272158, -0.013852274045348167, 0.007529049180448055, 0.00840400718152523, 0.0006419727578759193, 0.005172545090317726, 0.02033725567162037, 0.014756642282009125, -0.0008685243665240705, -0.025542888790369034, -0.0149110471829772, -0.029689747840166092, -0.007948147132992744, 0.019160842522978783, -0.006929813418537378, 0.003299473552033305, 0.003051323816180229, -0.006635710131376982, 0.0016019449103623629, -0.03785111755132675, 0.016072755679488182, 0.01980786956846714, 0.016587436199188232, 0.0016791471280157566, -0.011168579570949078, -0.02030784636735916, -0.0012471826048567891, 0.016131576150655746, -0.002483336254954338, 0.020910758525133133, 0.04120389744639397, 0.015337496995925903, -0.012771444395184517, -0.0144993020221591, -0.02219010889530182, -0.04382142052054405, 0.000982489436864853, -0.010190686210989952, -0.005845306906849146, -0.0243664737790823, -0.00030099652940407395, 0.011734729632735252, 4.55515764770098e-05, -0.032851360738277435, -0.0017618637066334486, 0.0011038071243092418, 0.006135734263807535, 0.022219518199563026, 0.005837954115122557, -0.04738007113337517, -0.02693988010287285, 0.02249891683459282, -0.007179801352322102, 0.0031266878359019756, -0.0025844343472272158, 0.002654284005984664, -0.002512746723368764, -0.005757075734436512, -0.011352394707500935, 0.036674704402685165, 0.01278614904731512, -0.04079215228557587, -0.036674704402685165, 0.001073477789759636, 0.022881250828504562, -0.004025541711598635, 0.011418567970395088, 0.013940505683422089, 0.012080300599336624, 0.00979364663362503, -0.04599778726696968, 0.016249217092990875, -0.011918543837964535, -0.004918880760669708, -0.014477244578301907, 0.017087412998080254, 0.009676004759967327, 0.01598452404141426, -0.0005684468778781593, 0.02424883283674717, 0.007499638944864273, 0.009970108047127724, -0.007466552313417196, 0.0066540916450321674, -0.02239598147571087, 0.015734536573290825, 0.017102118581533432, -0.008529000915586948, 0.0011543561704456806, 0.014021383598446846, 0.013477292843163013, 0.015278676524758339, 0.026572249829769135, 0.013955210335552692, -0.006073236931115389, 0.010933296754956245, -0.018734391778707504, -0.035645343363285065, -0.03582180663943291, 0.011506798677146435, 0.005959271918982267, 0.02011667937040329, 0.00639307452365756, -0.000333164120092988, 0.060820601880550385, 0.00974217802286148, -0.013800806365907192, -0.011999422684311867, -0.02474880777299404, 0.018219711259007454, -0.0007380159222520888, -0.01206559594720602, -0.015587485395371914, -0.009830408729612827, -0.019837280735373497, -0.012462635524570942, -0.0034777738619595766, 0.008668700233101845, -0.02454293705523014, 0.09681887179613113, 0.008852515369653702, -0.0282780509442091, -0.006547478958964348, -0.018190300092101097, 0.016763899475336075, 0.0038821659982204437, 0.008426064625382423, -0.014712527394294739, -0.02682223729789257, 0.039262816309928894, 0.009992166422307491, 0.00872752070426941, 0.004937262274324894, 0.0004834326100535691, -0.026895763352513313, 0.01283761765807867, 0.010734776966273785, -0.00991128757596016, -0.0038968713488429785, -0.002538480795919895, 0.01016127597540617, -0.00380496378056705, 0.009756883606314659, -0.010073044337332249, -0.025528183206915855, -0.006624680943787098, -0.006543802563101053, 0.0024704693350940943, -0.012646449729800224, -0.019116727635264397, -0.00855841115117073, -0.020263729616999626, -0.02568993903696537, 0.022645968943834305, 0.014050793834030628, -0.01919025182723999, -0.013175836764276028, -0.007054807618260384, 0.008440770208835602, -0.0033509416971355677, 0.011072996072471142, -0.006940842140465975, -0.04129213094711304, -0.009352491237223148, 0.028528038412332535, 0.01766091398894787, 0.006098971236497164, -0.017175644636154175}\"\nLINE 2:     SELECT filename, content, embeddings <=> '{0.00174072501...\n                                                     ^\nDETAIL:  Vector contents must start with \"[\".\n",
          "output_type": "error",
          "traceback": [
            "\u001b[0;31m---------------------------------------------------------------------------\u001b[0m",
            "\u001b[0;31mInvalidTextRepresentation\u001b[0m                 Traceback (most recent call last)",
            "Cell \u001b[0;32mIn[24], line 25\u001b[0m\n\u001b[1;32m     16\u001b[0m cur \u001b[38;5;241m=\u001b[39m conn\u001b[38;5;241m.\u001b[39mcursor()\n\u001b[1;32m     18\u001b[0m sql \u001b[38;5;241m=\u001b[39m \u001b[38;5;124mf\u001b[39m\u001b[38;5;124m\"\"\"\u001b[39m\n\u001b[1;32m     19\u001b[0m \u001b[38;5;124m    SELECT filename, content, embeddings <=> \u001b[39m\u001b[38;5;124m'\u001b[39m\u001b[38;5;132;01m{\u001b[39;00mvector_str\u001b[38;5;132;01m}\u001b[39;00m\u001b[38;5;124m'\u001b[39m\u001b[38;5;124m::vector AS similarity\u001b[39m\n\u001b[1;32m     20\u001b[0m \u001b[38;5;124m    FROM maintenance_documents\u001b[39m\n\u001b[1;32m     21\u001b[0m \u001b[38;5;124m    ORDER BY embeddings <=> \u001b[39m\u001b[38;5;124m'\u001b[39m\u001b[38;5;132;01m{\u001b[39;00mvector_str\u001b[38;5;132;01m}\u001b[39;00m\u001b[38;5;124m'\u001b[39m\u001b[38;5;124m::vector\u001b[39m\n\u001b[1;32m     22\u001b[0m \u001b[38;5;124m    LIMIT 5;\u001b[39m\n\u001b[1;32m     23\u001b[0m \u001b[38;5;124m\"\"\"\u001b[39m\n\u001b[0;32m---> 25\u001b[0m \u001b[43mcur\u001b[49m\u001b[38;5;241;43m.\u001b[39;49m\u001b[43mexecute\u001b[49m\u001b[43m(\u001b[49m\u001b[43msql\u001b[49m\u001b[43m)\u001b[49m\n\u001b[1;32m     26\u001b[0m results \u001b[38;5;241m=\u001b[39m cur\u001b[38;5;241m.\u001b[39mfetchall()\n\u001b[1;32m     27\u001b[0m \u001b[38;5;28;01mfor\u001b[39;00m filename, content, similarity \u001b[38;5;129;01min\u001b[39;00m results:\n",
            "\u001b[0;31mInvalidTextRepresentation\u001b[0m: invalid input syntax for type vector: \"{0.0017407250124961138, 0.0065658604726195335, -0.005753399338573217, -0.003382190130650997, -0.015616895630955696, 0.00763198547065258, -0.02258714847266674, 0.00840400718152523, -0.01222735270857811, -0.019675523042678833, -0.004474049434065819, 0.027366328984498978, -0.0003637232875917107, 0.02855744957923889, -0.002420839387923479, 0.00938925426453352, 0.016425680369138718, -0.03152789548039436, 0.03752760589122772, -0.015337496995925903, -0.02568993903696537, 0.004801239352673292, -0.0030770576559007168, -0.02164601720869541, 0.006356311496347189, -0.01961670257151127, 0.03396895155310631, -0.010425969026982784, -0.023057714104652405, 0.006382045801728964, 0.024837039411067963, -0.01858733966946602, 0.004010836128145456, 0.0011451654136180878, -0.009977460838854313, 0.012043537572026253, 0.02754279226064682, -0.008962803520262241, 0.009690710343420506, -0.03185140714049339, 0.04143918305635452, -0.0026285499334335327, 0.0034814500249922276, 0.02732221409678459, -0.007429789286106825, 0.0033840283285826445, 0.008176077157258987, 0.019102022051811218, -0.015352202579379082, -0.01032303273677826, 0.012197942472994328, 0.006580565590411425, -0.01866086572408676, 0.005220336839556694, -0.009359843097627163, 0.023028302937746048, -0.014080205000936985, 0.017102118581533432, -0.021307798102498055, -0.025939928367733955, -0.0067607038654387, 0.008139314129948616, -0.013006727211177349, 0.013697870075702667, -0.010830361396074295, -0.0027314862236380577, 0.025013502687215805, -0.0047755055129528046, -0.01886673830449581, -0.015484549105167389, 0.022248929366469383, 0.04026276618242264, 0.013800806365907192, -0.0073268529959023, -0.005176221486181021, -0.02529289945960045, 0.0028528037946671247, -0.008345186710357666, -0.013389061205089092, -0.0016203264240175486, 0.026748713105916977, 0.015028688125312328, -0.03335133567452431, 0.028028061613440514, 0.025145849213004112, -0.006433513946831226, 0.01335229817777872, 0.008653995580971241, -0.02071959152817726, 0.02879273146390915, 0.010396558791399002, 0.0071650962345302105, 0.01661684736609459, 0.025425245985388756, -0.003731437958776951, 0.01124210562556982, -0.007940794341266155, 0.010690662078559399, 0.004440962802618742, -0.03558652102947235, 0.005654139444231987, 0.03279253840446472, -0.038321685045957565, -0.008676053024828434, -0.02320476621389389, -0.011065644212067127, 0.008396654389798641, -0.012308230623602867, 0.001197552657686174, -0.01629333384335041, -0.01876380294561386, 0.021940119564533234, -0.003722247201949358, 0.026645775884389877, 0.014249313622713089, 0.0023215794935822487, -0.0007421517511829734, -0.02351357415318489, -0.012249410152435303, 0.0039556920528411865, 0.030704405158758163, 0.006396750919520855, 0.03673352673649788, -0.011970012448728085, 0.007823152467608452, 0.028439806774258614, -0.006940842140465975, 0.011374452151358128, -0.02527819573879242, 0.006363664288073778, 0.010992118157446384, 0.01869027689099312, -0.00608794204890728, 0.013550817966461182, -0.016763899475336075, -0.012212647125124931, -0.02205776236951351, 0.018131479620933533, -0.009624537080526352, -0.02166072279214859, -0.0017149909399449825, 0.02030784636735916, -0.024925271049141884, 0.01639626920223236, -0.004036570433527231, 0.016866834834218025, 0.017278579995036125, 0.004481401760131121, -0.018704982474446297, -0.028719205409288406, -0.0071246568113565445, -0.018749097362160683, 0.007503315340727568, -0.0125435134395957, 0.014330192469060421, -0.004213032312691212, -0.0033399127423763275, -0.005937214009463787, -0.031027918681502342, -0.004768152721226215, 0.014212551526725292, -0.0010964545654132962, 0.04105684533715248, 0.018910855054855347, 0.004687274340540171, 0.019719639793038368, -0.007139362394809723, 0.00698863435536623, -0.019352009519934654, 0.008506943471729755, -0.00010132784518646076, 0.022734200581908226, 0.002292169025167823, 0.019528470933437347, -0.017969723790884018, 0.028836846351623535, -0.007970204576849937, 0.00354394712485373, 0.002128574065864086, -0.03838050365447998, -0.001362985814921558, 0.002316064899787307, 0.02805747278034687, 0.021925415843725204, 0.02051371894776821, -0.012344993650913239, 0.016999181360006332, 0.00233628461137414, -0.0034097624011337757, -0.010845066048204899, -0.004029217641800642, 0.018013838678598404, -0.019749049097299576, -0.00513210566714406, -0.5886775255203247, -0.03382189944386482, 0.013124368153512478, -0.008014320395886898, 0.02124897763133049, 0.015087508596479893, 0.01858733966946602, -0.016043344512581825, -0.021601900458335876, -0.0025587002746760845, 0.009080445393919945, 0.0143448980525136, -0.02435176819562912, -0.020793117582798004, 0.010300974361598492, -0.022410685196518898, 0.004334350116550922, -0.01620510220527649, 0.015337496995925903, 0.0024428970646113157, -0.030792634934186935, 0.00824960321187973, 0.005073285195976496, 0.01202148012816906, 0.040174536406993866, -0.020043153315782547, -0.007091570179909468, -0.009889230132102966, -0.014440481550991535, -0.008374596945941448, -0.017690325155854225, 0.034292466938495636, 0.00339138088747859, 0.009426017291843891, 0.055144403129816055, 0.008065788075327873, -0.027072226628661156, 0.006639386061578989, 0.014947810210287571, 0.024469411000609398, -0.00631587253883481, -0.008948098868131638, 0.015175740234553814, 0.005665168631821871, -0.006264404393732548, -0.015499253757297993, 0.010705366730690002, -0.016749193891882896, 0.0013593095354735851, 0.0040806857869029045, 0.02301359735429287, -0.003918929025530815, -0.02457234635949135, 0.0077643319964408875, 0.01567571610212326, -0.01920495741069317, 0.01546984352171421, -0.020499013364315033, 0.014514007605612278, 0.022469505667686462, -0.01526397094130516, 0.016866834834218025, -0.02711634151637554, -0.011197990737855434, -0.016278628259897232, -0.0006847096956335008, -0.012690565548837185, 0.0034116003662347794, 0.008073140867054462, -0.03614531829953194, 0.000663571001496166, 0.005624729208648205, -0.005176221486181021, 0.004481401760131121, 0.025101732462644577, 0.013117015361785889, 0.017410926520824432, -0.005735017824918032, -0.021425439044833183, -0.009102502837777138, 0.014477244578301907, -0.012734681367874146, -0.03658647462725639, -0.011639145202934742, -0.001515552052296698, 0.027307508513331413, -0.0021359266247600317, -0.0239547286182642, 0.004981377627700567, 0.0007761574815958738, 0.021293092519044876, 0.011337689124047756, -0.0010900211054831743, -0.01919025182723999, 0.017984427511692047, 0.0013188703451305628, -0.018102070316672325, -0.0034281436819583178, 0.035527702420949936, -0.022145992144942284, -0.03658647462725639, -0.013080252334475517, 0.03858637809753418, -0.01026421133428812, 0.028028061613440514, -0.002659798366948962, -0.008845162577927113, -0.005937214009463787, 0.0029502257239073515, -0.014006678946316242, 0.013793453574180603, 0.009661299176514149, -0.02516055293381214, 0.015528663992881775, 0.012977316044270992, -0.029866209253668785, 0.006470276974141598, -0.01763150468468666, -0.02071959152817726, -0.0282780509442091, -0.0032571961637586355, -0.015043393708765507, 0.029042718932032585, -0.010484789498150349, 0.005845306906849146, 0.009470132179558277, 0.030469121411442757, 0.010558315552771091, 0.004106420092284679, -0.0282780509442091, 0.008256955072283745, 0.023234175518155098, 0.028925077989697456, 0.003944662865251303, 0.016999181360006332, -0.007054807618260384, 0.019881395623087883, -0.0027737636119127274, 0.004014512524008751, -0.015837473794817924, 0.003512698458507657, 0.02167542651295662, 0.006404103711247444, -0.02652813494205475, -0.004602719563990831, -0.024498820304870605, -0.013447881676256657, 0.0032682251185178757, -0.002724133664742112, 0.001498089637607336, 0.014256666414439678, -0.013455234467983246, -0.024513525888323784, 0.005760752130299807, -0.029072130098938942, -0.0032002136576920748, 0.018852034583687782, -0.034116003662347794, -0.003235138487070799, -0.037292324006557465, 0.004065980669111013, -0.006768056657165289, -0.012756738811731339, 0.011933249421417713, 0.005712960381060839, -0.02330770157277584, 0.0019576263148337603, -0.010411263443529606, -0.029557401314377785, -0.00804373063147068, 0.013455234467983246, -0.019234368577599525, 0.0018629617989063263, 0.009823056869208813, -0.00840400718152523, 0.025601709261536598, -0.02135191299021244, 0.01886673830449581, 0.0014319163747131824, -0.0023436371702700853, 0.010050986893475056, 0.00882310513406992, -0.005716636776924133, 0.019043201580643654, 0.026336967945098877, 3.403443770366721e-05, 0.017822671681642532, 0.02855744957923889, -0.013499350287020206, 0.0304397102445364, -0.046380121260881424, 0.0013262229040265083, 0.00727170892059803, 0.003146907314658165, -0.009352491237223148, 0.023072417825460434, -0.02536642551422119, 0.0023197412956506014, 0.0061541153118014336, 0.00048435167991556227, 0.017484452575445175, 0.009940697811543941, 0.05073285102844238, -0.029233885928988457, 0.019749049097299576, -0.004312292207032442, 0.018425583839416504, -0.02476351335644722, 0.033057231456041336, 0.026351673528552055, 0.003288444597274065, -0.026072274893522263, -0.018190300092101097, -0.008381949737668037, 0.022969482466578484, 0.0039777494966983795, 0.011558267287909985, -0.0021800422109663486, 0.008131961338222027, 0.007771684788167477, 0.019763754680752754, -0.020910758525133133, 0.03508654609322548, 0.0008423308026976883, -0.026895763352513313, -0.0033638086169958115, 0.005128429736942053, 0.027675138786435127, 0.016984475776553154, -0.003099115565419197, -0.019028495997190475, -0.005099019035696983, 0.012771444395184517, 0.031616125255823135, 0.044321395456790924, 0.03723350167274475, -0.00536003615707159, 0.025248784571886063, 0.02433706447482109, 0.003435496473684907, 0.04170387610793114, 0.006113676354289055, 0.025763465091586113, -0.0003028346982318908, 0.02102839946746826, 0.02176365815103054, 0.04364495724439621, 0.02457234635949135, -0.006334254052489996, 0.02082252688705921, -0.021396029740571976, 0.02144014462828636, 0.005110048223286867, -0.015602190047502518, -6.203745579114184e-05, -0.009028976783156395, 0.018734391778707504, 0.0020807820837944746, 0.008433417417109013, 0.018013838678598404, 0.03514536842703819, 0.008131961338222027, -0.01723446510732174, -0.0076540433801710606, 0.008580469526350498, -1.716082351777004e-06, -0.0007007934618741274, -0.0002028854505624622, 0.007304795552045107, 0.006558507680892944, 0.011021528393030167, -0.0034998315386474133, 0.024278242141008377, -0.03361602872610092, 0.02961622178554535, 0.013102310709655285, -0.006378369405865669, 0.011543561704456806, 0.010131864808499813, 0.03879224881529808, 0.0027921448927372694, -0.012918495573103428, 0.03617472946643829, 0.013190541416406631, -0.015484549105167389, -0.028439806774258614, -0.02805747278034687, 0.03558652102947235, 0.003367485012859106, 0.005812220275402069, 0.00913926586508751, 0.009551011025905609, -0.00913191307336092, 0.016043344512581825, 0.0007586950669065118, -0.006330577656626701, 0.02649872377514839, -0.009631888940930367, 0.01733740046620369, 0.005554879549890757, -0.013168483972549438, 0.022219518199563026, -0.030616173520684242, -0.016337448731064796, 0.026954585686326027, -0.0025531859137117863, -0.004576985724270344, -0.02898389846086502, 0.007529049180448055, -0.02289595641195774, -0.010955355130136013, -0.013859626837074757, 0.019954921677708626, -0.009095150046050549, -0.01258762925863266, -0.0018749097362160683, -0.03582180663943291, -0.03341015800833702, 0.020146088674664497, 0.01218323688954115, 0.012447929941117764, 0.011205342598259449, -0.013639049604535103, 0.0020329903345555067, 0.08781930059194565, 0.02855744957923889, 0.02001374214887619, 0.004404199775308371, 0.0012508588843047619, -0.011999422684311867, 0.02641049399971962, -0.03990984335541725, 0.0050291698426008224, -0.02094016782939434, 0.0021984234917908907, 0.008073140867054462, 0.019249074161052704, -0.0068562873639166355, 0.004088038578629494, 0.014389012940227985, -0.01124210562556982, -0.03185140714049339, -0.0152198551222682, -0.025616414844989777, -0.01713152788579464, -0.03138084337115288, -0.006330577656626701, 0.025925222784280777, 0.014896341599524021, 0.03176317736506462, 0.027586907148361206, 0.01377874892205, 0.010793598368763924, 0.007466552313417196, -0.011514151468873024, -5.6408131058560684e-05, -0.014278724789619446, 0.037909939885139465, -0.013411118648946285, 0.001610216568224132, -0.01294790580868721, -0.014969867654144764, 0.017602093517780304, 0.0035623284056782722, -0.004481401760131121, -0.015278676524758339, 0.010190686210989952, 0.010198038071393967, 0.026381082832813263, -0.0013170321471989155, 0.005610024090856314, 0.011550914496183395, -0.012337641790509224, -0.03973338007926941, 0.02145485021173954, -0.014727232046425343, -0.031174970790743828, 0.009521600790321827, 0.02030784636735916, -0.007253327406942844, -0.013683164492249489, -0.019057905301451683, 0.006201907526701689, -0.008006967604160309, -0.044615499675273895, -0.005485029891133308, 0.04149800166487694, -0.01351405493915081, -0.04076274484395981, -0.0007642095442861319, -0.0034226293209940195, -0.015631601214408875, -0.033792492002248764, -0.0053122444078326225, -0.023969434201717377, -0.021896004676818848, -0.021954825147986412, 0.017910903319716454, 0.0028123646043241024, 0.0051468112505972385, 0.02064606547355652, -0.0076613957062363625, 0.021396029740571976, 0.004437286406755447, -0.02083723247051239, 0.012337641790509224, 0.005371064879000187, -0.04567427188158035, -0.004742418881505728, 0.005907803773880005, -0.030704405158758163, 0.003670779289677739, -0.0011277031153440475, 0.020454898476600647, 0.01608746126294136, -0.006878345273435116, 0.022748904302716255, -0.008139314129948616, 0.002001741901040077, -0.004613748285919428, 0.013550817966461182, -0.014587532728910446, 0.0037259235978126526, -0.009992166422307491, -0.01970493420958519, 0.008889278396964073, -0.011521504260599613, -0.02960151620209217, -0.005286510102450848, -0.00784521084278822, 0.000722391705494374, 0.006444542668759823, 0.010198038071393967, -0.004341702908277512, 0.008014320395886898, -0.002191070932894945, -0.04061569273471832, -0.006665120366960764, -0.010573020204901695, 0.0047828578390181065, -0.014168435707688332, -0.02219010889530182, -0.02217540331184864, 0.03232197463512421, 0.013006727211177349, -0.04026276618242264, 0.033704258501529694, 0.004345378838479519, -0.012646449729800224, -0.00990393478423357, -0.0035200512502342463, -0.01576394774019718, -0.008903983049094677, 0.012859675101935863, -0.010639193467795849, 0.026778122410178185, -0.009830408729612827, -0.039556920528411865, -0.03788052871823311, -0.013999326154589653, 0.012440577149391174, 0.003146907314658165, -0.010940649546682835, -0.011418567970395088, -0.004690950736403465, -0.002126735867932439, 0.020660769194364548, -0.023704741150140762, 0.05249747261404991, -0.01948435604572296, 0.0022664349526166916, 0.004808592144399881, 0.01824912242591381, 0.013859626837074757, -0.0008244088385254145, -0.011146522127091885, -0.03432187810540199, -0.013190541416406631, -0.0302338395267725, -0.02116074599325657, 0.02641049399971962, -0.0020624008029699326, 0.021793069317936897, 0.023690035566687584, 0.022116582840681076, -0.001725100795738399, -0.022219518199563026, -0.0058489833027124405, -0.004275529645383358, 0.004117448814213276, -0.015308086760342121, 0.018381468951702118, -0.012705271132290363, -0.0003517753502819687, 0.036057088524103165, 0.01124945841729641, -0.004904175642877817, -0.002808688208460808, 0.009925993159413338, 0.023895908147096634, -0.030763225629925728, -0.010933296754956245, -0.01392580009996891, -0.02951328456401825, -0.011793550103902817, -0.004319644998759031, -0.007058483548462391, 0.0021120307501405478, -0.040498051792383194, -0.013955210335552692, -0.0002869806776288897, 0.008286366239190102, 0.029866209253668785, 0.00409906730055809, 0.023337112739682198, 0.007933441549539566, 0.016469795256853104, -0.01238175667822361, 0.03546888008713722, 0.013536113314330578, -0.025513477623462677, -0.03755701705813408, -0.01949906162917614, -0.022543031722307205, 0.01877850852906704, 0.008227544836699963, -0.014514007605612278, 0.00893339328467846, -0.005753399338573217, 0.0004429933906067163, 0.011940601281821728, -0.03385131061077118, 0.0030605143401771784, -0.014374308288097382, 0.00030306444386951625, -0.011778844520449638, -0.004179945681244135, 0.003025589743629098, -0.00929366983473301, 0.0049482909962534904, -0.02248421125113964, 0.009087798185646534, -0.015102214179933071, 0.003293959191069007, 0.02486645057797432, -0.0009751368779689074, -0.0072275931015610695, 0.0015881588915362954, 0.00456595653668046, 0.014690469019114971, 0.013594933785498142, -0.009433369152247906, -0.0009549172827973962, 0.017072707414627075, 0.004915204364806414, 0.015411023050546646, 0.014881636947393417, -0.030469121411442757, -0.018543224781751633, 0.004179945681244135, -0.018116774037480354, -0.007242298219352961, -0.025748761370778084, 0.03385131061077118, 0.015661010518670082, 0.007940794341266155, -0.020557833835482597, -0.008573116734623909, -0.04558604210615158, 0.03567475453019142, 0.020572539418935776, 0.02136661857366562, 0.024101780727505684, -0.005481353960931301, -0.01827853173017502, 0.017043298110365868, -0.019425535574555397, 0.01682271994650364, -0.011389157734811306, -0.026278147473931313, -0.013440529815852642, 0.016999181360006332, 0.007051131222397089, 0.009859819896519184, -0.004323321394622326, 0.034939493983983994, -0.012124416418373585, -0.00029571185586974025, 0.011720024049282074, -0.005007111933082342, 0.00338035193271935, -0.029763273894786835, 0.018646162003278732, 0.029278002679347992, -0.015940409153699875, -0.007444494403898716, 0.019793163985013962, 0.011514151468873024, 0.005227689631283283, -0.018175596371293068, -0.002889566821977496, 0.005948243197053671, -0.02670459635555744, -0.0042865583673119545, 0.012668508104979992, 0.005007111933082342, -0.038027580827474594, 0.011845017783343792, -0.010624488815665245, -0.026028158143162727, -0.004573309328407049, 0.017793260514736176, 0.016955066472291946, -0.027778074145317078, -0.029219182208180428, 0.023263586685061455, -0.012131769210100174, 0.0026524458080530167, -0.003488802583888173, -0.007054807618260384, 0.003170803189277649, 0.020087268203496933, -0.014109615236520767, 0.026851648464798927, -0.01016127597540617, -0.0035384325310587883, -0.04176269471645355, 0.0037351143546402454, -0.03176317736506462, 0.0017002858221530914, 0.02001374214887619, -0.003486964385956526, -0.017263874411582947, -0.002303197979927063, 0.00484903110191226, -0.007962851785123348, -0.0035200512502342463, 0.010661251842975616, -0.006757027469575405, 0.01948435604572296, 0.013381708413362503, -0.02536642551422119, -0.012469988316297531, 0.027278099209070206, 0.01052155252546072, 0.03829227387905121, 0.011992069892585278, -0.023337112739682198, 0.008911335840821266, -0.02723398245871067, -0.002551347715780139, -0.0014916561776772141, 0.010043634101748466, -0.03517477586865425, -0.017278579995036125, 0.01340376678854227, -0.017557978630065918, -0.044939011335372925, -0.01015392318367958, -0.026175210252404213, -0.004168916959315538, -0.013690517283976078, 0.02848392352461815, -0.0042240615002810955, 0.013080252334475517, -0.014602238312363625, -0.0061541153118014336, -0.0007026316015981138, -0.016013935208320618, 0.014602238312363625, -0.05187985673546791, -0.008551059290766716, 0.00949954241514206, -0.006907755509018898, -0.01733740046620369, 0.04164505377411842, 0.012293525971472263, -0.04032158851623535, -0.004654187709093094, -0.029572105035185814, -0.03582180663943291, -0.0076540433801710606, -0.0049262335523962975, -0.01576394774019718, -0.014896341599524021, 0.026763416826725006, -0.007459199521690607, 0.04020394757390022, -0.014161082915961742, -0.0020072562620043755, 0.004874765407294035, -0.006029121577739716, -0.01713152788579464, -0.004790210630744696, -0.0012949744705110788, -0.009198086336255074, -0.027410445734858513, 0.005646787118166685, 0.012080300599336624, 0.024307653307914734, 0.025822285562753677, -0.007363616023212671, 0.019146136939525604, 0.011117111891508102, 0.008271660655736923, 0.02330770157277584, 0.03364543989300728, 0.002689208835363388, -0.013447881676256657, -0.04032158851623535, -0.0056026712991297245, -0.0051063718274235725, -0.00974953081458807, -0.041733283549547195, -0.006484982091933489, -0.0018841004930436611, -0.018749097362160683, -0.005687226075679064, -0.015013983473181725, -0.002795821288600564, -0.003191022900864482, -0.030145607888698578, -0.003992455080151558, -0.0031211732421070337, -0.015602190047502518, 0.0152198551222682, 0.013896389864385128, -0.029572105035185814, -0.009889230132102966, 0.0074959625490009785, 0.004727713763713837, 0.0029980174731463194, 0.0033013117499649525, -0.0133670037612319, -0.022322455421090126, -0.0034777738619595766, -0.026057569310069084, -0.008448123000562191, 0.0008175157709047198, 0.005396799184381962, 0.010021576657891273, -0.007786389905959368, 0.014146378263831139, -0.01989610120654106, -0.0119773643091321, -0.008521649055182934, -0.026292851194739342, -0.01315377838909626, 0.0037976112216711044, -0.004610072355717421, 0.009492190554738045, -0.017160939052700996, -0.008477533236145973, 0.007154067512601614, -0.025542888790369034, -0.03164553642272949, 0.00714303832501173, -0.00024171630502678454, 0.023660626262426376, 0.02732221409678459, 0.21375441551208496, -0.004889470525085926, -0.007032749708741903, 0.047615356743335724, -0.015499253757297993, 0.021822478622198105, 0.022851841524243355, -0.007918736897408962, -0.024631166830658913, 0.011558267287909985, 0.010234801098704338, 0.01202148012816906, -0.017293285578489304, 0.003670779289677739, 0.024807630106806755, 0.012117063626646996, -0.034615982323884964, -0.002781116170808673, -0.020278435200452805, 0.0719965323805809, 0.029792683199048042, 0.007801095023751259, -0.015513959340751171, -0.016322743147611618, 0.018543224781751633, -0.017352106049656868, -0.00751066766679287, 0.026469314470887184, 0.00324984360486269, 0.02735162526369095, -0.005433561746031046, -0.016072755679488182, 0.024616461247205734, 0.00441155256703496, 0.01598452404141426, 0.015249266289174557, -0.017072707414627075, -0.009999518282711506, 0.015955114737153053, 0.019734343513846397, 0.03258666768670082, -0.0032627105247229338, 0.0025770817883312702, -0.012874380685389042, -0.013675812631845474, -0.010602430440485477, 0.0024943652097135782, -0.012396462261676788, -0.004084362182766199, -0.0011754948645830154, -0.05652669072151184, -0.007459199521690607, 0.00861723255366087, 0.02888096310198307, -0.006621005013585091, -0.011330337263643742, 0.008536353707313538, 0.00657688919454813, 0.019028495997190475, -0.00554385082796216, 0.01485222578048706, 0.01889614947140217, -0.010550962761044502, -0.0011727376841008663, -0.03226315230131149, 0.02052842266857624, -0.00892604049295187, -0.014888988807797432, 0.022248929366469383, -0.03473362326622009, -0.003874813439324498, -0.01511691976338625, -0.004231413826346397, 0.009962755255401134, -0.022101877257227898, -0.022969482466578484, -0.007624633144587278, -0.0028822142630815506, 0.03529242053627968, 0.012690565548837185, 0.004477725829929113, -0.02054312825202942, -0.02104310505092144, 0.0015192283317446709, 0.021822478622198105, -0.023660626262426376, -0.002097325399518013, 0.008426064625382423, -0.017396220937371254, 0.007212887983769178, 0.004959320183843374, -0.008874572813510895, -0.03073381446301937, -0.003610120387747884, 0.001922701601870358, 0.017719734460115433, -0.0017949503380805254, 0.02198423631489277, -0.015161034651100636, 0.018322646617889404, -0.023763561621308327, 0.04138036072254181, -0.019763754680752754, 0.013962563127279282, -0.007580517325550318, 0.008867220021784306, -0.02310182899236679, 0.01569042168557644, -0.009470132179558277, -0.01848440431058407, -0.0022223195992410183, -0.03129260987043381, 0.03476303070783615, -0.013911095447838306, 0.0011947954772040248, 0.021734246984124184, 0.019366715103387833, -0.02177836373448372, 0.032557256519794464, -0.004165240563452244, 0.02682223729789257, -0.026675187051296234, 0.012153826653957367, -0.007275384850800037, -0.005084313917905092, -0.01835205778479576, -0.055673789232969284, -0.004915204364806414, -0.020557833835482597, -0.03632178157567978, 0.00026997781242243946, 0.003343589138239622, 0.01140386238694191, -0.034821853041648865, -0.021734246984124184, 0.02249891683459282, -0.003753495868295431, -0.02546936273574829, -0.02702810987830162, 0.00835989136248827, 0.0302338395267725, -0.00513210566714406, 0.028645679354667664, 0.00929366983473301, 0.012278820388019085, -0.02774866484105587, 0.03608649969100952, -0.00526077626273036, -0.016896246001124382, -0.02226363494992256, -0.011837664991617203, -0.002713104709982872, -0.0009411311475560069, -0.009631888940930367, 0.024190012365579605, -0.02404296025633812, -0.03114555962383747, -0.0302338395267725, 0.002542156958952546, 0.0003618851478677243, -0.057938385754823685, 0.017072707414627075, 0.0023693712428212166, -0.0025495095178484917, -0.029748568311333656, 0.004242443013936281, -0.18987321853637695, 0.02321946993470192, 0.023498868569731712, 0.004753447603434324, 0.04973290115594864, -0.0072055356577038765, 0.018396172672510147, 0.011014175601303577, -0.03191022947430611, 0.011124464683234692, -0.001922701601870358, 0.008837809786200523, -0.03920399397611618, -0.012161179445683956, 0.006874668877571821, -0.004043922759592533, -0.03491008281707764, 0.03001326136291027, 0.0005234123091213405, 0.017896197736263275, 0.03302782028913498, -0.016675667837262154, 0.008271660655736923, -0.02476351335644722, 0.0006732212495990098, -0.006201907526701689, -0.024278242141008377, -0.009440721943974495, -0.005201955325901508, -0.030969098210334778, -0.0036340162623673677, -0.0066283573396503925, 0.02443999983370304, 0.01869027689099312, -0.004268176853656769, -0.018631456419825554, -0.026557544246315956, 0.023763561621308327, -0.004448315128684044, 0.04343908652663231, 0.006198231130838394, 0.02826334536075592, 0.030822046101093292, 0.018293237313628197, -0.013749337755143642, 0.0003554516297299415, 0.00938925426453352, -0.008389301598072052, 0.019778460264205933, -0.007047454826533794, -0.0014585695462301373, -0.021322503685951233, -0.01774914562702179, 0.009683357551693916, 0.02001374214887619, 0.00531592033803463, 4.5407970901578665e-05, -0.008293718099594116, -0.003220433136448264, -0.045144885778427124, -0.024395884945988655, -0.002067915163934231, 0.009646594524383545, -0.0031046299263834953, -0.00856576394289732, -0.0003846322069875896, -0.013227304443717003, -0.0035880624782294035, -0.027998652309179306, 0.029630927368998528, 0.0008657671278342605, -0.0030715432949364185, 0.007830505259335041, 0.008573116734623909, 0.03155730292201042, -0.00010207459126831964, -0.02652813494205475, 0.012572924606502056, -0.014146378263831139, -0.0020513718482106924, -0.012322936207056046, 0.028395691886544228, 0.007801095023751259, 0.0025495095178484917, 0.019734343513846397, 0.014528712257742882, 0.00881575234234333, -0.015249266289174557, -0.008852515369653702, 0.016940360888838768, 0.05055639147758484, -0.028175113722682, 0.005760752130299807, 0.011830313131213188, 0.0066136522218585014, 0.026160504668951035, 0.013183188624680042, -5.6465571105945855e-05, 0.005723989102989435, 0.015190444886684418, -0.012389109469950199, -0.009256907738745213, -0.016058050096035004, 0.0030917630065232515, 0.018616750836372375, 0.018293237313628197, 0.01970493420958519, 0.016631552949547768, 0.02507232315838337, -0.018381468951702118, -0.0263222623616457, 0.019969627261161804, 0.021175451576709747, 0.016322743147611618, 0.008448123000562191, 0.00788197387009859, 0.01542572770267725, -0.0024042960721999407, -0.004279205575585365, 0.022748904302716255, 0.030557353049516678, -0.018322646617889404, 0.004124801605939865, 0.012197942472994328, 0.0077569796703755856, -0.007933441549539566, -0.12328818440437317, -0.008146666921675205, 0.0039005475118756294, 0.01051419973373413, -0.015161034651100636, 0.016852129250764847, 0.004014512524008751, 0.02394002489745617, -0.017881492152810097, 0.011330337263643742, -0.014271371997892857, -0.01569042168557644, -0.025204669684171677, -0.00305499997921288, 0.03193964064121246, -0.020896052941679955, -0.003988778684288263, -0.0057056075893342495, 0.008551059290766716, 0.026145800948143005, 0.028645679354667664, -0.01857263594865799, 0.009573068469762802, 0.009778941050171852, -0.017484452575445175, 0.0021782040130347013, -0.02374885603785515, 0.0274545606225729, -0.007176124956458807, 0.012602334842085838, 0.02196953073143959, -0.003589900676161051, 0.005837954115122557, -0.002362018683925271, -0.029469169676303864, -0.01908731646835804, -0.00783785805106163, 0.005867364816367626, 0.005455619655549526, -0.044409625232219696, 0.016116870567202568, -0.01948435604572296, 0.0018988056108355522, -0.03664529323577881, -0.003132202196866274, -0.027160456404089928, -0.012411166913807392, 0.039262816309928894, -0.01377874892205, -0.008374596945941448, -0.030410300940275192, -0.019219662994146347, -0.04685068503022194, -0.02588110789656639, 0.02838098630309105, -0.0262193251401186, 0.005878393538296223, 0.011109759099781513, -0.019749049097299576, -0.007381997536867857, -0.03532182797789574, 0.015411023050546646, -0.014734584838151932, 0.030586762353777885, 0.007698158733546734, -0.01072007231414318, -0.005212984513491392, -0.03335133567452431, 0.007573164999485016, -0.0023987814784049988, -0.03870401903986931, 0.02652813494205475, -0.0267340075224638, 0.0031174970790743828, -0.038733430206775665, 0.0010256859241053462, -0.0010716395918279886, -0.0069371662102639675, 0.03205728158354759, 0.0012848646147176623, -0.006878345273435116, -0.020881347358226776, 0.01505809836089611, -0.011756787076592445, 0.0017682972829788923, 0.04035099968314171, 0.018293237313628197, 0.015910997986793518, -0.008742226287722588, -0.02074900083243847, 0.00897750910371542, 0.013690517283976078, -0.0005762590444646776, -0.00835989136248827, -0.016058050096035004, 0.034410107880830765, -0.028601564466953278, 0.02280772477388382, 0.007595222443342209, 0.015558074228465557, 0.003834374248981476, 0.020396076142787933, -0.04846825450658798, 0.03973338007926941, -0.003075219690799713, 0.0051541635766625404, -0.0004875684389844537, 0.01589629426598549, 0.024998797103762627, -0.013256714679300785, -0.01804324984550476, 0.02269008383154869, -0.034410107880830765, 0.03685116767883301, -0.009837761521339417, -0.04138036072254181, -0.016793308779597282, -0.005940890405327082, 0.026792827993631363, -0.013389061205089092, 0.02641049399971962, 0.01886673830449581, -0.0025844343472272158, -0.013852274045348167, 0.007529049180448055, 0.00840400718152523, 0.0006419727578759193, 0.005172545090317726, 0.02033725567162037, 0.014756642282009125, -0.0008685243665240705, -0.025542888790369034, -0.0149110471829772, -0.029689747840166092, -0.007948147132992744, 0.019160842522978783, -0.006929813418537378, 0.003299473552033305, 0.003051323816180229, -0.006635710131376982, 0.0016019449103623629, -0.03785111755132675, 0.016072755679488182, 0.01980786956846714, 0.016587436199188232, 0.0016791471280157566, -0.011168579570949078, -0.02030784636735916, -0.0012471826048567891, 0.016131576150655746, -0.002483336254954338, 0.020910758525133133, 0.04120389744639397, 0.015337496995925903, -0.012771444395184517, -0.0144993020221591, -0.02219010889530182, -0.04382142052054405, 0.000982489436864853, -0.010190686210989952, -0.005845306906849146, -0.0243664737790823, -0.00030099652940407395, 0.011734729632735252, 4.55515764770098e-05, -0.032851360738277435, -0.0017618637066334486, 0.0011038071243092418, 0.006135734263807535, 0.022219518199563026, 0.005837954115122557, -0.04738007113337517, -0.02693988010287285, 0.02249891683459282, -0.007179801352322102, 0.0031266878359019756, -0.0025844343472272158, 0.002654284005984664, -0.002512746723368764, -0.005757075734436512, -0.011352394707500935, 0.036674704402685165, 0.01278614904731512, -0.04079215228557587, -0.036674704402685165, 0.001073477789759636, 0.022881250828504562, -0.004025541711598635, 0.011418567970395088, 0.013940505683422089, 0.012080300599336624, 0.00979364663362503, -0.04599778726696968, 0.016249217092990875, -0.011918543837964535, -0.004918880760669708, -0.014477244578301907, 0.017087412998080254, 0.009676004759967327, 0.01598452404141426, -0.0005684468778781593, 0.02424883283674717, 0.007499638944864273, 0.009970108047127724, -0.007466552313417196, 0.0066540916450321674, -0.02239598147571087, 0.015734536573290825, 0.017102118581533432, -0.008529000915586948, 0.0011543561704456806, 0.014021383598446846, 0.013477292843163013, 0.015278676524758339, 0.026572249829769135, 0.013955210335552692, -0.006073236931115389, 0.010933296754956245, -0.018734391778707504, -0.035645343363285065, -0.03582180663943291, 0.011506798677146435, 0.005959271918982267, 0.02011667937040329, 0.00639307452365756, -0.000333164120092988, 0.060820601880550385, 0.00974217802286148, -0.013800806365907192, -0.011999422684311867, -0.02474880777299404, 0.018219711259007454, -0.0007380159222520888, -0.01206559594720602, -0.015587485395371914, -0.009830408729612827, -0.019837280735373497, -0.012462635524570942, -0.0034777738619595766, 0.008668700233101845, -0.02454293705523014, 0.09681887179613113, 0.008852515369653702, -0.0282780509442091, -0.006547478958964348, -0.018190300092101097, 0.016763899475336075, 0.0038821659982204437, 0.008426064625382423, -0.014712527394294739, -0.02682223729789257, 0.039262816309928894, 0.009992166422307491, 0.00872752070426941, 0.004937262274324894, 0.0004834326100535691, -0.026895763352513313, 0.01283761765807867, 0.010734776966273785, -0.00991128757596016, -0.0038968713488429785, -0.002538480795919895, 0.01016127597540617, -0.00380496378056705, 0.009756883606314659, -0.010073044337332249, -0.025528183206915855, -0.006624680943787098, -0.006543802563101053, 0.0024704693350940943, -0.012646449729800224, -0.019116727635264397, -0.00855841115117073, -0.020263729616999626, -0.02568993903696537, 0.022645968943834305, 0.014050793834030628, -0.01919025182723999, -0.013175836764276028, -0.007054807618260384, 0.008440770208835602, -0.0033509416971355677, 0.011072996072471142, -0.006940842140465975, -0.04129213094711304, -0.009352491237223148, 0.028528038412332535, 0.01766091398894787, 0.006098971236497164, -0.017175644636154175}\"\nLINE 2:     SELECT filename, content, embeddings <=> '{0.00174072501...\n                                                     ^\nDETAIL:  Vector contents must start with \"[\".\n"
          ]
        }
      ],
      "source": [
        "import psycopg2\n",
        "import numpy as np\n",
        "\n",
        "# Create vector string from Python embedding\n",
        "vector_str = str(query_embedding).replace('[', '{').replace(']', '}')  # Convert to PostgreSQL vector format\n",
        "\n",
        "# Connect and execute search\n",
        "conn = psycopg2.connect(\n",
        "    dbname=\"flexibleserverdb\",\n",
        "    user=\"citus\",\n",
        "    password=\"\",\n",
        "    host=\"\",\n",
        "    port=\"5432\",\n",
        "    sslmode='require' \n",
        ")\n",
        "cur = conn.cursor()\n",
        "\n",
        "sql = f\"\"\"\n",
        "    SELECT filename, content, embeddings <=> '{vector_str}'::vector AS similarity\n",
        "    FROM maintenance_documents\n",
        "    ORDER BY embeddings <=> '{vector_str}'::vector\n",
        "    LIMIT 5;\n",
        "\"\"\"\n",
        "\n",
        "cur.execute(sql)\n",
        "results = cur.fetchall()\n",
        "for filename, content, similarity in results:\n",
        "    print(f\"Filename: {filename}\")\n",
        "    print(f\"Similarity Score: {similarity}\")\n",
        "    print(f\"Content Preview: {content[:100]}...\\n\")\n",
        "\n",
        "cur.close()\n",
        "conn.close()\n"
      ]
    },
    {
      "cell_type": "code",
      "execution_count": null,
      "metadata": {
        "gather": {
          "logged": 1743969129271
        }
      },
      "outputs": [
        {
          "name": "stdout",
          "output_type": "stream",
          "text": [
            "[0.014533247,0.0027200652,0.0050203972,-0.028751696,-0.008873413,-0.0027217048,0.0011050777,-0.0050466307,0.0007980661,-0.0057680462,-0.015215313,0.026915364,-0.015884262,0.013575732,-0.0003467714,0.001819935,0.03704142,-0.01314944,0.017851759,-0.013201907,-0.029302593,-0.009922745,-0.026521863,-0.01534648,-0.0014018419,-0.0053253593,0.028620528,-0.021458838,-0.02246882,-0.008938996,0.016290879,-0.0074896067,0.003049621,0.00093374145,-0.008702897,0.002183922,0.026141481,-0.03197839,-0.0108409105,-0.015726862,0.036411818,0.016815543,-0.0038267823,-0.0024757674,-0.00012737497,0.021183388,0.013785598,0.010434294,-0.009791578,0.0073322067,-0.0012124702,0.005351593,-0.014323381,-0.011595118,-0.011490185,0.0020445576,-0.009194771,0.036936484,-0.016999178,-0.023373868,-0.019832373,0.018599408,-0.028909095,0.0004881853,0.001182138,-0.00033713886,0.0023150886,0.017169693,-0.019386407,-0.008932438,0.025774214,0.034890287,0.012821524,0.008381539,0.0054204552,-0.03452302,-0.0024872446,0.003088971,0.00912263,0.009489896,0.03334252,0.005961517,-0.015635045,0.033106424,0.020029124,-0.0045088483,0.02191792,-0.0016494186,-0.00015319836,-0.00015114888,-0.0038858072,0.01162791,0.021773638,0.012618217,0.006650141,0.011660701,0.007581423,0.0059156087,0.004407194,-0.013024832,0.010178519,0.021865454,-0.0130838575,0.0036333117,-0.023085302,-0.010519553,0.013037949,-0.00026274286,0.0014871,-0.035283785,-0.014546364,0.033526156,-0.018402658,-0.007037082,0.012559191,0.013733132,-0.0043547275,-0.033158887,-0.033709787,-0.010106378,0.019543808,0.01745826,0.029879726,-0.010860586,0.014126631,0.0044727772,0.016959827,0.021340787,-0.013706898,-0.005341755,-0.008151998,0.0012165692,-0.006020542,0.020527557,-0.032083325,-0.011017986,-0.007502723,0.008217581,-0.00853238,-0.03381472,0.019897956,0.019110957,-0.010690069,-0.013221582,0.010368711,0.020763656,0.025695516,0.016500745,0.0062795957,-0.017746827,-0.0043252152,-0.0060730083,0.010355595,-0.0052433806,0.0040202527,-0.0038694115,0.010650719,-0.0074699316,-0.008906204,-0.0060762875,0.023282053,-0.012401791,0.03410329,0.029145194,-0.004885952,0.01690736,-0.012185367,-0.0018887975,-0.0039710654,0.008820946,-0.0070895487,0.02027834,-0.031873457,0.0127362665,-0.015385829,0.018586291,-0.00095177686,0.0020625931,-0.022731153,-0.0476659,0.014087281,0.008932438,0.035677284,0.041474845,0.00493186,-0.01964874,0.024095284,0.007994598,0.025498766,-0.01107701,0.0020888264,0.018350191,-0.024790466,-0.021786755,-0.62959915,-0.013523265,0.01499233,0.006646862,-0.012500167,0.009647296,0.012106667,-0.030771658,-0.035755984,0.00547948,0.0074043483,0.0025233154,-0.016094128,0.003984182,0.0050433516,-0.02959116,-0.005508993,-0.036700383,-0.0010772048,0.001041134,-0.02012094,0.038536716,-0.018310841,0.023282053,0.032817855,0.0063746916,0.0037644783,0.00430554,-0.01534648,0.028646762,0.00238723,0.021550654,-0.00044924524,0.010880261,0.043625973,-0.0040694405,-0.028174562,0.028253263,0.0119361505,0.024042817,0.0076207733,-0.019674974,0.01741891,0.009214446,0.015949845,-0.012755942,0.044885173,-0.0071682488,-0.0032791623,-0.021629354,0.018468242,0.017996043,-0.021419488,0.013733132,-0.011877126,-0.03491652,0.024921633,-0.012178808,0.008368422,0.008204464,-0.0051974724,0.022455703,-0.0019560202,-0.00485316,-0.03609702,0.034077056,-0.0037907115,-0.01631711,0.0025347925,-0.02775483,-0.009896512,-0.006630466,-0.018612524,-0.013510148,0.023937885,0.0018707621,0.039349947,-0.018022276,-0.005863142,-0.006466508,0.012355884,-0.0015731781,-0.013890531,-0.032030858,0.011181943,0.036070786,-0.003721849,-0.028069628,0.016815543,-0.0026889131,0.03284409,0.0045973854,0.00028754154,-0.029328827,0.010814677,-0.004203886,-0.013090416,0.0014780824,0.01483493,-0.02019964,-0.039664745,0.008991463,0.013811831,-0.0035874036,0.012670683,-0.0046793646,-0.002160968,-0.0067616324,0.017550077,-0.015556346,0.0072075985,0.016487628,-0.0134839155,0.0025839799,-0.00966697,-0.024711767,-0.0075486316,-0.012637891,-0.0076535647,-0.005066306,-0.013352749,-0.005902492,0.022875436,-0.028043395,0.0059549585,-0.0053909426,0.013260932,0.013444565,0.0005455706,-0.02227207,0.0034726327,0.034654185,0.005233543,-0.00442359,0.016710611,-0.011883684,0.00958827,-0.0068140994,0.0009714518,-0.021222739,0.0037874323,0.003616916,0.0005234363,-0.0132412575,0.006774749,-0.013228141,-0.01522843,0.0070567573,-0.011923034,-0.0036661034,-0.0016936873,-0.015674395,-0.018205909,0.009686645,-0.008217581,-0.010421177,-0.009634179,-0.019202774,-0.010558902,-0.021314554,-0.0019248682,-0.012637891,-0.02274427,0.0023380427,0.007915897,-0.0034529578,0.002341322,0.0057746046,-0.013759364,-0.040609144,-0.012578866,-0.0022708199,-0.0023478803,0.023806717,0.007961806,0.017366443,-0.026154598,-0.01491363,0.007096107,-0.009791578,0.0020445576,0.005351593,-0.012887107,-0.003343106,0.02959116,-0.0017904226,0.037408683,0.005738534,-0.022363886,0.031611126,-0.0025298737,-0.01976679,0.01025722,-0.025420066,-0.00567623,0.019006025,-0.023937885,-0.0009132467,-0.0008771759,0.019950423,0.027413797,-0.019229008,0.01522843,-0.043101307,-0.011339343,-0.035782218,0.01753696,-0.01718281,0.022127787,0.020055356,0.002211795,-0.012152575,-0.0100932615,-0.03069296,0.014467664,0.003698895,0.004403915,0.016343344,0.008643872,-0.013129766,0.004138303,0.0008681582,0.03649052,-0.012100109,-0.002418382,0.022495054,0.014388964,0.012677241,-0.009771904,-0.014664413,-0.022101553,0.02164247,-0.0018133767,0.018599408,0.038064517,0.04142238,0.008256931,-0.017982926,0.0143364975,-0.021590004,0.041973278,0.027964696,0.025616815,-0.009201329,0.021222739,0.03103399,0.021157155,0.016303996,-0.010827794,0.015057913,-0.008145439,0.0078109647,-0.0018904371,-0.012250951,-0.009325937,-0.010401502,0.030168293,-0.009391521,0.008578288,0.010795002,0.045645937,0.008525822,-0.015936729,-0.021904804,-0.020606255,0.0024626509,0.011424601,-0.00072551466,0.0033332685,-0.0024987217,-0.008781596,-0.008742247,0.020173406,-0.023072185,0.040792778,0.032817855,-0.006227129,0.016618794,0.015215313,0.038300615,-0.0065156952,-0.009194771,0.024213335,0.017799294,-0.013333074,-0.018350191,-0.021262089,0.0072075985,0.032424357,0.006305829,-0.0038694115,0.02195727,-0.020894822,0.016133478,0.013536382,0.0013444566,0.02246882,0.015123497,0.02688913,0.018337075,-0.012316533,0.010204753,-0.03827438,-0.017838642,0.023741135,-0.0014723438,0.0016117082,-0.021393254,-0.0006050054,0.0058369087,0.0035283787,-0.020068472,0.00043817805,-0.017641893,0.0047351103,0.01025722,0.00056319614,-0.0055286675,0.025708633,-0.0015289094,-0.018835507,0.008440563,-0.010572019,0.01021787,0.08510082,-0.0023118095,0.018651875,0.020540673,-0.02904026,-0.0026610403,0.003041423,-0.026666148,-0.009201329,-0.002959444,-0.0026561215,-0.0046990397,0.0074502565,-0.016894244,0.019360173,-0.016212178,-0.02880416,-0.0065583247,0.007948689,-0.010860586,-0.010631044,-0.018455125,0.006892799,-0.002477407,0.042261843,-0.01052611,0.027098997,0.02799093,0.011955826,0.0008763561,-0.008801271,0.017864875,0.007994598,0.010768769,-0.009201329,-0.0023380427,0.010001445,0.024003468,0.016789312,0.005889375,0.017405793,0.0045547565,-0.002180643,0.0056467173,0.012742825,0.0026889131,0.014310264,0.016579444,-0.011877126,-0.021891687,0.012231275,0.018756809,-0.015136613,0.0019199495,0.029223895,-0.012749383,0.008315955,0.005600809,-0.011398368,-0.0044924524,-0.015621929,-0.017392676,0.014625064,-0.0036956158,-0.03103399,0.012618217,0.002821719,-0.0029528856,-0.023413219,0.03127009,0.0043416107,-0.022678686,-0.02998466,0.005017118,0.025380716,0.02301972,0.015844911,-0.010080145,-0.0022183533,0.008519264,0.014375848,-0.0048006936,0.018992908,-0.04273404,0.0054893177,0.0030201084,0.0031971831,0.0058336295,-0.016881127,-0.002251145,0.018612524,-0.0036857785,0.03538872,-0.016251529,-0.0028118817,0.001769108,0.005200751,0.0015879343,0.014323381,-0.009312821,0.0028036837,0.01162791,-0.0034463995,-0.025341365,-0.007096107,-0.0039054824,0.005827071,-0.015700629,0.007384673,-0.009463662,-0.000814052,-0.0070698736,-0.039271247,0.01511038,-0.01737956,-0.00022564735,0.00861108,-0.014861164,0.006118917,-0.005430293,0.010112937,-0.025105266,0.03397212,0.009083279,-0.009994887,0.0025413507,-0.0033447456,-0.017877992,-0.021708054,0.008906204,0.02911896,0.03572975,-0.022180254,-0.049476,-0.047744602,-0.015490763,-0.0061254753,0.009168537,-0.031532425,-0.01698606,-0.016789312,0.00966697,0.025459416,-0.0060467753,0.07308597,-0.021117805,0.0039054824,-0.00614515,-0.004200607,0.031217625,0.002274099,-0.0071223406,-0.051836997,-0.023583734,-0.010519553,-0.02998466,0.015923612,-0.016684378,0.015792446,0.03525755,0.030483093,-0.0015034958,-0.011759076,-0.020396389,-0.0036890574,-0.0048203687,-0.047902003,-0.00037935807,-0.006951824,0.0023855905,0.009712879,-0.0046301773,-0.007948689,-0.003439841,-0.009332496,0.027335096,-0.018087858,-0.006748516,-0.018402658,-0.021196505,-0.005236822,0.0028873023,-0.0064796247,0.013536382,-0.06547831,-0.026705498,-0.010401502,0.030089593,0.014703764,0.014428314,0.001769108,0.007109224,0.020134056,0.0046728062,0.014205331,-0.0016953269,-0.0052073095,-0.05076143,-0.030614259,-0.010991752,0.0124411415,-0.0026872735,0.012500167,0.006289433,-0.016881127,0.004928581,0.008361864,-0.04095018,0.014100398,-0.009765346,-0.0097456705,-0.012316533,0.0010517912,0.016605677,-0.007378115,0.011136035,0.003934995,0.0068993573,-0.03772348,8.838367e-05,0.032975256,-0.003193904,0.022009738,0.008604522,0.015766213,-0.008683221,0.008591405,-0.012952691,0.010322803,0.0067944243,0.019202774,0.02791223,-0.004567873,-0.018992908,-0.009325937,0.016107244,-0.013838065,0.005036793,-0.029801026,0.03284409,-0.012644449,-0.015687512,-0.008322514,-0.008263489,-0.006118917,0.01710411,0.018612524,0.018887974,0.0029610835,-0.012126342,-0.017471377,0.015884262,-0.041710943,0.009227563,0.010204753,-0.00998177,0.0079027815,-0.017996043,-0.0011304911,-0.002403626,-0.0039284364,0.022718037,-0.012513283,0.015556346,0.01037527,8.9818306e-05,0.0011075371,0.0076076565,0.021760521,0.020881705,-0.0022445866,-0.02000289,-0.0016920477,0.0009927663,-0.025288898,-0.019937307,-0.0032939184,-0.0024134633,-0.021130921,-0.024187101,-0.008053622,0.02633823,-0.033919655,-0.0024921633,-0.011378693,-0.02959116,-0.009319379,-0.0057254173,0.007981481,-0.0257611,-0.04596074,0.008434005,0.005630322,-0.024252685,-0.0035906828,-0.018114092,0.00048367644,0.010755653,-0.0112409685,0.013129766,0.009804695,-0.0068140994,-0.024449434,0.005354872,-0.019268358,-0.0054827593,0.003675941,-0.002242947,-0.025420066,0.021734288,0.003439841,0.015582579,-0.0060795667,-0.0034431203,-0.00426619,0.021708054,0.0023987072,-0.014205331,-0.024488784,0.013982348,-0.021668704,0.0006435356,0.03609702,-0.004712156,-0.0039874613,0.00070542976,0.007535515,-0.0077519394,-0.01487428,-0.04519997,-0.03365732,0.018337075,-0.0071223406,-0.031191392,-0.0068140994,-0.00094521855,-0.018533826,0.030168293,-0.016605677,0.010991752,0.010171961,-0.01996354,-0.0049220226,-0.0047580646,-0.020907938,-0.0019281474,-0.014651297,-0.012185367,-0.012834641,0.004482615,-0.015582579,0.027492497,0.014480781,-0.020147173,-0.016618794,-0.01800916,-0.058500256,-0.012414908,0.012454258,-0.009339054,-2.8615814e-05,0.0029266523,0.00031951338,0.027544962,0.0054040593,0.028646762,-0.007502723,0.0054270136,-0.023701785,0.011496743,0.0120542,-0.024751117,-0.012631333,0.0002344601,-0.001076385,-0.008315955,0.01690736,0.006161546,0.0058336295,-0.00056852476,0.00970632,0.0046400144,0.03764478,0.0022954135,0.0060303793,-0.031165158,-0.0026479235,-0.003280802,-0.00071075844,-0.024672417,-0.015425179,0.009660412,-0.02132767,0.0011329505,-0.031873457,-0.005535226,-0.0031791478,-0.026220182,-0.02000289,0.008440563,-0.008991463,-0.0005918888,-0.0047515063,-0.01248705,0.0042924234,0.012355884,0.0056237634,-0.0033529433,0.005695905,-0.017996043,-0.030089593,0.009640737,0.015805563,0.011004869,-0.0027741713,-0.0005304045,-0.004390798,-0.023150885,0.008735688,0.0029020587,0.0078044063,-0.00017430796,-0.039874613,-0.0066632577,-0.0054073385,-0.024213335,-0.0016920477,-0.022836085,-0.005813955,0.017668126,-0.0010288372,-0.018586291,-0.008932438,0.025157733,-0.0013944637,0.023059068,0.21133545,-0.010067028,-0.011811542,0.03764478,-0.0058041173,0.0098506035,0.016605677,-0.019478224,-0.004915464,-0.0077453814,0.004603944,-0.017550077,-0.020776773,0.0029873168,0.010644161,-0.014821813,-0.02250817,0.0008706176,0.0031447166,0.039743446,0.013057624,-0.022180254,0.0009829289,0.0040923944,0.033998355,0.005230264,-0.010617928,0.026233299,0.037408683,-0.0031496354,-0.010421177,-0.0074043483,-0.010244103,-0.0018494475,0.011050777,0.016290879,-0.0036693825,0.012106667,0.012159133,0.01777306,0.032817855,-0.004485894,0.011601676,-0.017812409,0.015215313,0.019084724,0.0048466017,-0.01663191,-0.010886819,-0.010749094,-0.038589183,-0.011411484,-0.0070108487,0.012047642,-0.015412062,-0.0009730914,-0.005230264,0.016540095,0.010821235,-0.005705742,0.00970632,0.010499878,-0.01957004,0.018835507,-0.02485605,0.017156577,0.0038726907,-0.02509215,0.0049351393,-0.019701207,0.008099531,0.003256208,0.010991752,0.012198484,0.00034431205,-0.013254374,0.0016740123,0.01796981,0.019556923,0.015294013,-0.012277183,-0.012618217,-0.022731153,-0.00720104,0.035021454,-0.02998466,-0.0012198484,-0.017209044,0.00954892,-0.0072075985,0.0032102999,-0.014244681,-0.019124074,-0.0072535067,0.0024331384,-0.005777884,0.0005275352,0.03205709,-0.009083279,0.0031594727,-0.021340787,0.04383584,-0.00301355,0.008394656,-0.020330805,0.0049384185,0.00324965,0.022718037,-0.008735688,-0.014047931,0.0077584977,-0.044675305,0.0023347635,-0.023098418,0.00430554,0.023295168,0.02414775,-0.021721171,-0.0060369377,-0.007988039,0.010329361,-0.01749761,0.018219026,-0.028043395,-0.0070567573,-0.0035808452,-0.04740357,0.02822703,-0.029092727,-0.013372424,0.028200796,-0.014415197,-0.018179676,-0.019071607,0.00073453237,0.0030430625,0.0067813075,-0.036700383,-0.02051444,0.0072403904,0.017077876,0.017838642,0.024396967,0.0096932035,0.018022276,-0.021301437,0.014244681,0.003120123,-0.014585714,-0.02027834,-0.011057335,0.012257509,-0.0036661034,0.004685923,0.038038284,0.0032480103,-0.012205042,-0.022547519,0.0132412575,-0.013916764,-0.03355239,-0.011568884,0.004725273,0.0035742868,-0.005276172,0.020304572,-0.16390565,0.012414908,0.030797891,0.013549498,0.028122095,-0.017445143,0.022599986,0.014808697,-0.016146595,-0.011568884,0.003244731,-0.03365732,-0.043468576,-0.03292279,0.015805563,0.016290879,-0.009037371,0.04176341,0.038248148,0.0067813075,0.027072763,-0.020803005,0.003593962,-0.027492497,-0.0062172916,0.02959116,-0.03308019,0.017576309,-0.013969231,-0.027151464,0.0017609101,-0.0023380427,0.02211467,0.024200218,-0.007889665,-0.023045952,-0.018533826,-0.006748516,-0.007863431,0.0514435,0.015923612,0.020265223,0.0023314843,0.0055745756,0.040687844,0.008374981,0.015805563,-0.009883395,0.029932193,-0.01002112,-0.00078167033,-0.0011444276,-0.0042727483,0.0050597475,-0.010854027,-0.007955248,-0.022613103,0.01467753,0.006561604,-0.028043395,-0.02657433,-0.012985483,-0.01483493,0.011293435,-0.0009755508,-0.026207065,-0.0034595162,0.022888552,-0.01773371,0.018310841,-0.01080156,0.013201907,-0.0036497077,0.007876548,0.032345656,0.0027118672,-0.02227207,0.01933394,0.0016748321,0.010204753,-0.012506725,0.012126342,-0.014861164,-0.020488206,0.003433283,0.015385829,0.035834685,0.0035480536,-0.033027723,0.010690069,0.030246994,-0.0122903,-0.0134839155,0.01710411,0.01463818,0.021170272,0.007955248,-0.011109802,0.027728597,0.032476824,-0.013201907,0.011686934,-0.028909095,0.0034070497,0.0045711524,0.011850893,0.048085634,0.0018412496,0.011522976,-0.015516995,-0.03730375,0.014861164,0.022796735,0.027781062,0.0143364975,0.0040169735,0.024724884,0.0037939907,0.0021757241,0.020632489,0.04270781,-0.005292568,-0.0030529,0.018415775,-0.0108409105,-0.020094706,-0.11269825,-0.028017161,0.012952691,0.015359596,-0.0026495631,0.008289722,0.010329361,0.0241084,0.0055745756,0.023478802,-0.02105222,-0.028253263,-0.00747649,-0.009443987,0.009417754,-0.0051646805,0.008663546,-0.010126053,-0.018074742,0.009896512,0.026246415,-0.020527557,-0.01769436,0.019386407,-0.013641315,0.0016051499,-0.020330805,0.014821813,-0.012552633,-0.0058106757,0.0105982525,-0.012237834,-0.00087143737,-0.025839798,0.0028905815,0.016933594,-0.006932149,-0.026325114,0.00076691405,-0.0248954,-0.016815543,-0.026469398,0.018979792,-0.05808052,0.007076432,-0.03318512,-0.02043574,0.0249741,-0.021511305,-0.019871723,-0.026180832,-0.023688668,-0.062172916,-0.02767613,0.022521287,-0.020671839,0.0031611123,-0.003303756,-0.008184789,-0.010604811,-0.009332496,0.00075953593,-0.009463662,0.026036547,0.0008132322,-0.0040038573,0.0044170315,-0.037487384,0.0071157822,-0.03730375,-0.019255241,0.016972944,-0.031453725,0.013903648,-0.026692381,0.014651297,0.008879972,-0.008670105,0.0048400434,0.010047353,-0.00872913,-0.013942998,0.004823648,-0.015713746,0.0016740123,0.020370156,0.02211467,0.012362442,-0.026600564,-0.019215891,0.02102599,0.027151464,0.01984549,0.019478224,0.013444565,0.0056270426,-0.013615082,-0.00301355,-0.0035218203,0.02704653,0.001491199,0.010408061,-0.05170583,0.019360173,-0.012342767,0.00034349225,-0.016172828,0.007922456,0.011844334,-0.008204464,0.009830928,0.032398123,-0.035493653,0.021773638,0.012382117,-0.035414953,-0.024711767,0.031532425,0.026718615,0.001612528,0.010171961,0.023924768,-0.0072403904,0.015149729,0.007496165,0.023898534,-0.014848047,0.02270492,0.009778461,0.013549498,-0.008775039,-0.008558613,0.016199062,-0.004082557,0.024410084,0.013641315,-0.030666726,0.0093980795,-0.031112691,0.008683221,-0.031611126,-0.0037939907,0.011181943,0.02047509,0.0127362665,-0.041317444,-0.038431782,-0.01769436,0.004944977,0.005761488,0.0028168005,0.012388675,0.047141235,0.023150885,-0.021275206,-0.021380138,0.0024954425,-0.01957004,0.013982348,0.0011944348,-0.013720015,-0.042497944,0.005358151,0.026167715,0.009811253,-0.031217625,0.004830206,0.012532958,-0.026482515,0.0011026183,0.004849881,-0.028253263,-0.03189969,0.0143364975,0.023439452,0.022035971,0.0012403431,-0.009057046,-0.0049810475,0.0042333985,-0.012218159,0.04039928,0.034968987,-0.004974489,-0.028882861,0.011083568,0.02684978,-0.0060664504,-0.0083553055,0.011175385,-0.016894244,0.020173406,-0.040976413,0.014192214,-0.009325937,0.01021787,0.009148863,0.016225295,-0.0072272737,0.018783042,-0.012952691,0.042917676,0.0038923656,-0.010080145,-0.0041743736,0.009476779,-0.00078167033,0.0017740268,-0.0066993283,-0.0128411995,-0.015530112,0.012611658,0.008283163,0.019110957,0.030168293,0.0025511882,-0.0027741713,-0.0052860095,-0.010008004,-0.012146017,-0.031952158,0.011378693,0.019950423,0.0028791046,0.0028938607,-0.0052073095,0.038458016,-0.012277183,0.017838642,-0.014769346,-0.0054827593,0.0034496787,0.002019964,-0.027308863,-0.030483093,-0.012933016,-0.020029124,-0.028043395,0.008722572,0.00032053812,0.008322514,0.0733483,0.010185078,-0.023373868,0.0254463,-0.0017035248,0.0047679017,0.011700051,0.012919899,-0.01507103,0.013641315,0.01694671,-0.018140325,0.010729419,-0.0075289565,-0.009594829,0.019307707,-0.008663546,0.0054696426,0.0010017841,0.0014731636,0.02446255,-0.019819256,0.013096974,0.003984182,-0.01800916,-0.04239301,0.009562037,-0.0009034092,0.0025987362,-0.016133478,0.013956115,-0.00032012822,-0.027518729,-0.011955826,0.01980614,-0.0024331384,-0.0018035392,-0.020016007,0.019425757,0.008342189,0.010171961,0.021432605,-0.008591405,-0.03738245,-0.024908517,0.020855471,0.012277183,0.0015953124,-0.024331383]\n",
            "[0.015449332,0.011453354,-0.005152005,-0.009328403,-0.01168055,0.0052021216,-0.010678215,-0.01615765,-0.02464409,-0.014086155,-0.015369145,0.025673155,-0.030871935,0.014193071,-0.00233043,-0.0092415335,0.041510057,-0.034159597,0.019204749,-0.012776437,-0.026408201,0.00042286032,-0.02297353,-0.004911444,-0.0012520842,0.0016187719,0.017360453,-0.012783119,-0.018322693,-0.008920786,0.008579993,-0.019311665,-0.0018326035,-0.006147658,-0.014580641,0.005152005,0.024777735,-0.032235112,-0.008058778,-0.009462047,0.04068146,0.028038666,0.0045038275,0.014861295,-0.0061677047,0.011814195,0.014460361,-0.0026528481,-0.005786817,0.0025793435,0.009114571,0.006144317,-0.03552277,-0.002789834,-0.0048112106,0.0073771896,-0.01538251,0.020755028,0.0046174256,-0.02769119,-0.009963215,0.02333437,-0.028519787,0.01460737,-0.009789477,-0.011593681,-0.008773777,0.02500493,-0.017854936,-0.0020380823,0.028092124,0.026622033,0.016946154,0.023655118,-0.0049816077,-0.029107824,0.0022151615,-0.016117556,-0.0013932465,0.0061643636,0.011252887,-0.009829571,-0.031112496,0.029749319,0.01813559,-0.014500454,0.024350071,0.010658168,0.0035048332,-0.0043868884,-0.00648177,-3.4031118e-06,0.014032697,0.020688206,-0.0051386403,0.0064416765,0.00991644,0.008486441,-0.011393214,-0.011339756,-0.0016455009,0.017520824,-0.019391851,-0.0059638964,-0.026662126,-0.009348449,0.00088623166,0.010504477,0.0038790386,-0.02793175,-0.028332684,0.021837551,-0.023067081,0.001675571,0.0006210304,0.026247827,0.01813559,-0.02123615,-0.016344752,-0.012388867,0.016946154,0.013484755,0.015409239,-0.0059973076,0.023294277,0.026488388,0.025339043,0.011713961,-0.0053190608,-0.019552225,-0.004199786,-0.0020514468,-0.007611068,0.010958869,-0.031941094,-0.0035449266,-0.017667834,0.014393538,-0.016344752,-0.036244452,0.019525496,0.02225185,-0.02159699,0.0008098036,0.0068960683,0.004908103,0.0069562085,0.0034948098,-0.0007772277,0.0027848224,0.012836577,-0.014019333,0.0024908038,0.007784806,0.0099966265,-0.027477358,-0.014086155,-0.001057464,-0.021463346,0.006120929,0.013237512,0.0034881276,0.024390165,0.023441287,0.02147671,0.02386895,-0.020033346,-0.010350785,-0.015703257,-0.009054431,0.0054527055,0.012315363,-0.025018295,0.013551577,-0.03704632,0.019405216,-0.0028165628,0.011720643,-0.023307642,-0.045546126,0.024122875,0.010130271,0.033972494,0.025739977,0.014433632,-0.014634099,-0.0006615415,0.0053959065,0.022305308,0.0009547246,0.0005212145,0.011613728,-0.012609381,-0.014794473,-0.6166903,-0.017948488,0.017828207,0.001000665,-0.017226808,0.0005262262,0.02147671,-0.012168353,-0.040280525,0.014687557,-0.016451668,0.0059906254,-0.020153627,-0.018001946,0.009087842,-0.015008304,-0.0145405475,-0.030364085,0.0059705786,-0.014781108,-0.03383885,0.019191384,-0.0042933375,0.01944531,0.022144934,-0.00047569175,0.000720011,0.018483067,0.001424987,0.016865967,-0.0013965876,0.02360166,-0.014313351,0.020541197,0.038543142,-0.028920721,-0.022238486,0.030471,0.019431945,0.03255586,0.005128617,-0.024430258,0.032154925,0.015609706,0.027717918,-0.0025709907,0.038944077,-0.008960879,-0.0034246466,-0.0095489165,0.019939795,-0.010517841,-0.029588945,0.017200079,-0.00042975135,-0.022639418,0.021155963,-0.002936843,0.010257234,0.0026094136,-0.022024654,0.009889711,0.0051219347,0.0031774037,-0.033758663,0.031219412,-0.0025760024,-0.01239555,-0.0038556508,-0.025365772,0.01329097,-0.008165694,0.0054493644,-0.0052889907,0.011633774,0.016090827,0.032128196,-0.008833917,0.0073504606,-0.015329052,0.006712307,-0.022986894,-0.0024289931,-0.013257558,0.01054457,0.0047744582,-0.008633451,-0.0101636825,0.011546905,0.008613404,0.028519787,0.01371195,0.0013189066,-0.031967822,0.0067791296,0.021784093,-0.021343065,-0.004006001,0.008439666,-0.029615674,-0.042525757,-0.008279292,0.025258856,0.0027664462,0.012195082,-0.006628779,-0.02270624,-0.011259569,0.019592319,-0.02239886,0.020875309,0.007303685,-0.020501103,-0.015048398,-0.0023454651,-0.018309329,-0.02019372,-0.013444661,-0.003199121,-0.012101531,-0.007250227,-0.025566239,0.031353056,-0.008499806,0.008807188,-0.0019913067,0.030524459,-0.0067156483,-0.0016997941,-0.030978851,-0.01678578,0.01663877,0.011847606,-0.0042365384,0.00893415,-0.019739328,0.010531206,-0.011272933,-0.014059426,-0.018603347,0.01009686,-0.0026528481,-0.00028503916,-0.0142198,-0.016799144,-0.021891009,-0.016812509,0.011820877,-0.009168029,-0.015703257,0.014072791,-0.013858959,-0.021770729,0.00648177,-0.01891073,-0.0014642451,-0.0057467236,-0.028145581,-0.024577267,-0.02868016,-0.00564649,-0.022452315,-0.006368172,0.0011961204,-0.0039892956,-0.007524199,-0.0072635915,0.0026328014,-0.025085118,-0.04696276,-0.013464708,-0.005385883,0.008219152,0.02643493,0.0038523097,0.027036332,-0.024951473,-0.010143636,-0.0035683145,-0.0061643636,-0.0038957442,0.01854989,-0.017828207,-0.0072903205,0.028599974,-0.022839885,0.035950433,0.009756066,-0.014072791,0.02246568,-0.005349131,-0.012301998,0.0023939114,-0.008165694,-0.0062412093,0.014741015,-0.032475673,0.026862593,0.010290645,0.0343467,0.023521474,-0.0046374723,0.013277605,-0.025285585,0.0080721425,-0.024390165,0.019645777,-0.016491761,0.026381472,0.019405216,0.0077380305,-0.0062980084,-0.032475673,-0.022679511,0.016371481,-0.00019733481,0.013698586,0.0043234075,-0.0016972882,0.0085465815,0.015476061,-0.028092124,0.03381212,-0.022345401,-0.009221487,0.024189698,0.0021500099,0.026595304,-0.0056565134,-0.01269625,-0.021957831,0.020033346,0.008954197,0.005576327,0.048646685,0.018750357,0.01212826,-0.017159985,0.042017907,-0.022211757,0.03787492,0.023775399,0.0323153,-0.0152355,0.021196056,0.014019333,0.018563254,0.011025691,-0.00015410909,0.0045539443,-0.013304334,0.000964748,-0.01774802,-0.026769042,-0.015369145,-0.0050384067,0.011907746,-0.015676528,0.027022967,0.021075776,0.03504165,0.017360453,-0.018416245,-0.0018526502,-0.013197418,-1.0519303e-05,0.01980615,-0.007918451,-0.008018685,-0.018843908,0.01472765,-0.019886337,0.0142064355,-0.010130271,0.03913118,0.013912417,-0.009475412,0.014259893,0.017373817,0.019391851,-0.017119892,-0.023173997,0.025953809,-0.012783119,-0.013645128,-0.020019982,-0.028733619,0.016104192,0.012529194,-0.00019430692,-0.0047878227,0.023200726,-0.036244452,0.0028416212,0.01586363,0.008386208,0.02440353,0.0151820425,0.024964837,0.028145581,-0.016358117,0.022479044,-0.02766446,-0.02171727,0.03255586,-0.0066855783,-0.016972883,-0.029107824,0.001057464,-0.0121148955,0.006678896,-0.024323342,0.0057934993,-0.015903724,0.004817893,-0.0069896197,-0.0030187005,-0.0051486637,0.014446996,-0.006010672,-0.00552621,0.014580641,0.006431653,-0.0095221875,0.081202544,-9.182855e-05,0.0066354615,0.026782406,-0.026114183,-0.01284326,0.0043234075,-0.054901257,0.0032174971,-0.007550928,-0.0045004864,0.006909433,0.003832263,-0.0007839099,0.009401907,0.001997989,-0.007470741,-0.00958901,0.0026946121,-0.019979889,0.010277281,-0.020060075,0.013792137,0.00070581125,0.02721007,0.00027355406,0.024697548,0.01651849,0.01105242,-0.011206112,-0.012649475,0.041376412,0.00056924304,0.023454651,-0.015943818,-0.0073437784,-0.0035649734,0.01690606,0.01789503,0.008633451,0.023815492,0.009742701,-0.0042632674,0.0033828826,0.01060471,-0.0012170024,0.013197418,0.01941858,-0.030150253,-0.009756066,0.017935123,0.009669197,-0.007991956,0.003005336,0.029107824,-0.0064617232,0.0070430776,0.009729337,-0.022318672,-0.029107824,-0.025619697,-0.017093163,0.014634099,-0.008793823,-0.03501492,0.0036251135,-0.0015310675,-0.0054192943,-0.026087454,0.031967822,-0.005893733,-0.0294553,-0.032876607,0.0067524007,0.019044375,0.010397561,0.007250227,-0.009442001,-0.00011140542,0.015248865,0.00041283696,-0.0028098805,0.015168678,-0.0467222,-0.007864993,-0.009989944,-0.0057767937,-0.0025342384,-0.011319709,0.007283638,0.012950175,-0.007724666,0.04346127,0.00095388934,0.0045572855,0.0029819482,0.0018927436,-0.008419619,0.011954522,-0.01574335,0.009455365,-0.010243869,-0.029909693,-0.031219412,0.030658104,-0.014326716,0.0052522384,-0.029615674,-0.006648826,-0.007303685,-0.010551252,0.0005220498,-0.033384457,-0.0024607338,-0.0016722298,0.0023488062,0.017333724,-0.016865967,-0.0025258856,0.0051954393,0.0052488972,-0.03832931,0.03076502,0.0070096664,-0.00020714935,-0.009568963,0.019752692,-0.014954846,-0.015903724,0.0023254184,0.030604646,0.03175399,-0.023254184,-0.04795173,-0.041991178,-0.030845206,-0.020233814,0.014032697,-0.020861944,-0.019578954,0.008787141,0.018469702,0.024563903,-0.008673544,0.06372181,-0.017547553,0.010504477,-0.0012345433,-0.0027981868,0.043033607,-0.0053959065,-0.021129234,-0.028011937,-0.0049448553,-0.015088491,-0.038810432,-0.010671533,-0.0032358733,0.031593617,0.033197355,0.020247178,-0.02034073,-0.010718308,-0.025766706,0.0005015854,0.0024724277,-0.048673414,0.007504152,-0.0031941093,0.0071834046,0.02996315,0.007911769,-0.006648826,-0.009508823,-0.0004585685,0.020487739,-0.009462047,-0.00073295785,-0.015155314,-0.031700533,-0.008292656,-0.0007112406,0.0025860257,0.03076502,-0.055756584,-0.019859608,-0.0013790467,0.031914365,0.025405865,0.017948488,-0.004487122,0.009134618,0.015355781,-0.016077463,0.031834178,-0.00806546,0.0040494357,-0.062118076,-0.014326716,-0.0007053936,0.006712307,-0.0010298998,0.014901388,0.0005450199,-0.026007267,0.006424971,0.023655118,-0.041510057,0.02897418,-0.01789503,-0.02162372,0.00061309524,0.0026060725,0.008346114,-0.013424614,0.0051486637,0.001989636,0.0034647398,-0.037179966,0.0007876687,0.037233423,0.0025292267,0.020648113,-0.0025476029,0.019111197,0.012749708,0.0025693201,-0.017400546,0.007056442,0.0030237122,0.0057667703,0.008646815,0.005105229,-0.006207798,-0.010671533,0.028787076,-0.025646426,-0.016919425,-0.04616089,0.017681198,0.003312719,-0.008078825,-0.022679511,-0.0076311147,-0.026809135,0.02735708,0.032101467,0.05054444,0.0132308295,-0.010551252,-0.011881017,0.025405865,-0.022893343,0.0032893312,0.008773777,-0.016304659,-0.00013260065,-0.00875373,-0.012996951,-0.019204749,-0.0027547523,0.025833528,-0.012402232,-0.012689568,-0.013698586,0.0109455045,0.0024774394,-0.0023872291,0.011814195,0.021690542,-0.0012579311,-0.012769755,0.03252913,0.004707636,-0.021423252,-0.009482094,0.00086618494,0.0005938838,-0.018483067,-0.023708576,-0.017066434,0.028920721,-0.029268198,0.011339756,-0.003969249,-0.024871286,0.013184054,0.005723336,0.013377839,-0.027250163,-0.03282315,0.014527183,-0.0128967175,-0.0080721425,-0.018750357,0.0039091087,0.0037387116,0.020621384,-0.009876346,0.020153627,0.00845303,-0.0052054627,-0.02972259,0.024603996,-0.014687557,-0.014594005,0.018884001,0.00020276413,-0.046508368,0.014446996,0.0033645064,0.008299339,-0.02658194,-0.013965875,-0.0116404565,0.01296354,0.0022953483,-0.027798105,-0.01932503,0.014954846,-0.009729337,0.0036251135,0.024831193,-0.019124562,0.020367458,-0.010370832,0.0055663036,-0.0074841054,-0.024309978,-0.030604646,-0.033224083,0.028573245,0.003471422,-0.03354483,-0.014112884,-0.013845595,-0.008339432,0.0031339691,-0.013805501,0.0031907682,0.023521474,-0.003611749,-0.002906773,-0.010237187,-0.035469312,0.0009137959,-0.021383159,-0.01944531,-0.024590632,0.0016154308,-0.012382185,0.030551188,0.014928117,-0.017854936,-0.0034029293,-0.023548203,-0.044423513,-0.012549241,0.021409888,-0.009067795,1.6796952e-05,0.0064450176,0.018750357,0.019498767,-0.014807837,0.01825587,-0.004908103,0.006010672,-0.017186714,-0.011593681,0.016438304,-0.0385966,-0.03023044,-0.0066922605,0.002646166,-0.013584988,0.015422603,-0.016064098,0.00085198524,0.01168055,0.010537888,0.006561957,0.0312996,0.00012320375,0.018429609,-0.017494095,-0.007864993,0.001108416,-0.016304659,-0.024309978,-0.014741015,0.023173997,-0.023013623,0.014313351,-0.013685222,-0.010277281,-0.027611002,-0.0162512,-0.010531206,-0.0060574478,-0.0036785714,0.030978851,-0.0019361782,-0.00946873,-0.005613079,0.014433632,0.012368821,-0.010277281,0.0013823878,-0.012261905,-0.009014337,0.007878358,0.0035115154,0.016224472,-0.0031807448,-0.019004282,0.002933502,-0.03806202,0.004908103,-0.0077647595,0.002494145,-0.0027146589,-0.027958479,-0.008940833,0.0111125605,-0.0007521693,0.016678864,-0.0056364667,0.00044436875,0.014513819,-0.004483781,-0.010691579,-0.005415953,0.024857922,0.006842611,0.014981575,0.21062411,-0.0029819482,-0.028893992,0.02108914,-0.0028516445,0.004226515,0.021891009,-0.008372843,0.0031289575,0.0018008628,0.009535552,0.002186762,-0.007083171,0.0046942714,0.015836902,-0.009956533,-0.020380823,0.0057934993,-0.0070096664,0.038970806,0.0021717271,-0.030524459,-0.015275594,-0.0074841054,0.029615674,-0.004310043,-0.005927144,0.011814195,0.027397173,0.0029101141,-0.014594005,0.0053925654,0.011520176,0.00501836,0.006561957,0.02553951,0.013244194,0.008159012,0.014580641,0.018148955,0.008987608,-0.02135643,0.00603406,-0.016465032,0.026408201,0.014553912,0.003471422,-0.013558259,-0.005098547,-0.014500454,-0.04292669,-0.008967562,-0.0073972363,0.015970547,-0.029000908,-0.0038021929,-0.010170365,0.011760737,0.015810173,0.0068025175,0.0012053085,0.015208771,-0.01574335,0.022452315,-0.03734034,0.010350785,-1.0055984e-05,0.001654689,0.010845271,-0.028893992,-0.0034881276,-0.015729986,-0.006909433,0.012722979,-0.00749747,-0.018964188,0.005215486,-0.0031640392,0.0068325875,0.023842221,0.005105229,-0.021637084,-0.016678864,-0.0135649415,0.020166991,-0.020180356,0.0053190608,-0.037206694,0.0046174256,0.0028683501,-0.005329084,-0.011446672,-0.007818217,-0.010905411,-0.014567276,-0.006561957,0.0037921695,0.021169327,0.006174387,0.017988581,-0.010885364,0.06382873,0.008586675,0.020527832,-0.012208447,-0.0002622778,0.0077647595,0.0109455045,-0.016879331,-0.017721292,0.005583009,-0.043942392,0.007918451,-0.027611002,0.0067757885,0.034961462,0.019886337,-0.032903336,0.017213443,-0.011426625,0.011667185,-0.018857272,0.0048045283,-0.024149604,-0.012175036,-0.028386142,-0.046000518,0.0343467,-0.029882964,0.0012178377,0.013170689,-0.006976255,0.01200798,-0.014005968,0.0077914884,-0.014981575,0.0031389808,-0.03464072,-0.019071104,0.0052789673,0.017039705,0.014794473,0.029856235,0.015529519,0.0012144966,-0.01654522,0.021249514,0.00115018,-0.025098482,-0.0325024,-0.0074841054,0.0069896197,-0.0085198525,-0.001084193,0.043862205,0.01180083,-0.0072635915,-0.013050409,0.026501752,-0.011085832,-0.0424723,0.0145405475,0.025405865,0.020394187,-0.0085465815,0.037634358,-0.16710939,-0.009675879,0.011794148,0.015222136,0.01174069,-0.0034547164,0.02592708,0.01308382,-0.012428961,-0.008666862,0.027744647,-0.028118853,-0.033919036,-0.022719605,0.013357792,0.03865006,-0.011005645,0.023534838,0.029882964,0.010611393,0.015262229,-0.020688206,0.0023220773,-0.036351368,0.014968211,0.032903336,-0.0258068,0.022479044,-0.022612689,-0.02918801,0.0049782665,-0.007530881,0.021824187,0.0148746595,-0.014647463,-0.018496431,-0.01054457,0.0052889907,-0.017494095,0.046053976,-0.00056631956,0.01371195,0.020060075,-0.0042432207,0.026341379,0.01284326,0.0008440501,-0.028893992,0.022759698,-0.027611002,-0.008767094,0.005790158,-0.0039525433,0.016050734,0.005379201,0.0060206954,-0.02819904,0.009722655,0.015061762,-0.03180745,-0.015248865,-0.0054460233,0.0063614896,0.011286298,0.01867017,-0.022532502,-0.009789477,0.016705593,-0.013150643,0.033731934,0.004457052,0.015048398,-0.003748735,0.022879979,0.018857272,-0.007002984,-0.011480083,0.021289608,0.002744729,-0.011967886,-0.012288634,0.010344103,-0.0017674516,-0.012849942,0.011486765,0.015329052,0.018803814,0.00090794894,-0.011914428,0.024751006,0.02476437,-0.020995589,-0.008306021,0.01129298,0.011359802,0.023468016,0.010631439,0.0077046193,0.030203711,0.00023241655,-0.021262879,0.009662515,-0.035576228,0.0035081743,0.0026628715,0.010624757,0.046374723,0.0037053004,0.01511522,-0.0014893035,-0.03627118,0.004938173,0.02309381,-0.00041826628,0.007717984,0.00069369975,0.008419619,-0.009822888,0.00908116,0.027851563,0.05417958,-0.017427275,0.0067757885,0.023321006,-0.016050734,-0.024029324,-0.12306008,-0.018429609,0.011019009,0.03659193,-0.007363825,0.020273907,0.0015962194,0.03381212,0.005786817,0.026207734,-0.025579603,-0.03354483,-0.011834241,-0.0139257815,0.010477748,0.004303361,0.01499494,-0.029669132,-0.011854288,0.017186714,0.018990917,-0.014741015,-0.010009991,0.016318023,0.0016655476,0.011426625,-0.02043428,-0.0039826133,-0.007577657,0.006227845,0.0008711966,-0.0034948098,0.00827261,-0.019632412,0.008780459,0.010457701,-0.0090744775,-0.02046101,0.0006201951,-0.023882315,0.00400266,-0.018389516,0.0036752303,-0.032636046,0.009234851,-0.022813156,-0.017012976,0.022813156,-0.008078825,-0.034747634,-0.03958557,-0.035335667,-0.053511355,-0.013792137,0.0009430307,-0.011647139,0.0014893035,0.0053925654,-0.010985598,-0.018229142,-0.018429609,0.010177047,0.0049782665,0.026996238,-0.013384521,-0.008446348,-0.008827235,-0.040841833,0.022171663,-0.004908103,-0.02631465,0.0005805193,-0.041082393,-0.00013938728,-0.010618075,0.0071566757,0.0035349033,0.00094470126,0.006508499,0.008265927,-0.0033177307,-0.01732036,0.034934733,-0.005238874,0.0095489165,0.013605035,0.0043467954,-0.0017791456,-0.010250552,-0.014500454,0.022452315,0.006538569,0.007931815,0.0063848775,0.017614376,-0.0011777442,-0.011279616,0.01308382,0.003995978,0.01615765,0.01574335,0.018362787,-0.05538238,0.019899702,0.013598353,0.0041530104,-0.007477423,0.009609057,0.004714318,-0.009629103,0.022185028,0.04546594,-0.034934733,0.021008953,0.018148955,-0.03808875,-0.035175294,0.018483067,0.025232127,-0.024336707,0.020674841,0.025619697,-0.00027230117,0.013992604,0.011426625,0.035870247,-0.020661477,0.028519787,0.007858311,0.016531855,-0.010143636,-0.008326068,0.008446348,0.0008515676,0.0100233555,0.027196705,-0.03207474,0.0014650804,-0.018429609,0.006515181,-0.0142064355,0.00875373,0.006455041,0.007644479,0.022211757,-0.0148479305,-0.02766446,-0.005071818,0.0085465815,0.0054727523,0.0065318868,0.012656157,0.03378539,0.0047510704,-0.030123524,-0.010457701,0.00457065,-0.032930065,0.018857272,0.0067824707,-0.012335409,-0.02619437,0.010978916,0.028787076,-0.0045639677,-0.007637797,0.018322693,0.0030905346,-0.022144934,-0.00648177,-0.0030638056,-0.012001297,-0.03811548,0.007971909,0.026127547,0.006936162,0.005268944,0.00094553654,0.0022118203,0.013050409,-0.010143636,0.04495809,0.030845206,0.0077113016,-0.011834241,0.022198392,0.012442325,-0.008459712,-0.003695277,0.014821202,-0.0028432917,0.0066053914,-0.033651747,0.018068768,-0.0015218795,0.011840924,-0.011760737,0.030417543,-0.008700273,0.033384457,-0.0054226355,0.029669132,-0.00028002748,0.011419943,0.011693914,0.0043868884,-0.002729694,-6.60393e-05,-0.0038957442,-0.0014767743,-0.018803814,0.023267549,0.010143636,0.009375178,0.032101467,0.0072034514,-0.0028299273,-0.0040728236,-0.0052522384,-0.019578954,-0.02918801,0.0005938838,0.019512132,0.0072635915,0.023013623,-0.010103542,0.035870247,0.00991644,0.0050818413,0.00179251,-0.017039705,0.005245556,0.010938822,-0.01995316,-0.013524848,-0.00011881853,-0.024844557,-0.018897366,-0.00087871414,0.013417932,0.00016705593,0.07099208,0.013130596,-0.013157325,0.014112884,0.00072752853,0.015329052,0.018456338,0.015141949,-0.010711626,0.0013990934,0.036404826,0.01245569,0.04616089,-0.007965227,0.0080454135,0.009248216,-0.014901388,0.015903724,-0.00029443606,0.0045906967,0.023962501,-0.026261192,0.014273258,0.00017321612,-0.036645386,-0.019859608,0.013885688,0.009609057,0.0062946673,-0.018469702,0.021062411,-0.017601011,-0.007998638,-0.023427922,0.015088491,0.015035033,-0.0017098174,-0.034159597,0.0192983,-0.0055930326,-0.0019094492,0.0268225,-0.015796809,-0.04191099,-0.02541923,0.010858635,0.00041889274,-0.0015486084,0.0012362138]\n",
            "[0.015289388,0.009341297,0.008789069,-0.008669309,-0.020212863,-0.0004428633,0.0017498299,0.01612771,-0.009015283,-0.023699217,-0.014451066,0.022049187,-0.013566172,0.014810347,-0.0014421126,0.0038988604,0.03989346,-0.019574143,0.021410465,-0.009021936,-0.01861606,-0.009201577,-0.022967348,-0.012993984,0.0024334611,-0.004640708,0.013260118,-0.017258778,-0.010738499,-0.014238159,0.018522914,-0.027278716,-0.010099778,-0.006839639,-0.0077777607,-0.012122395,0.023952043,-0.029248107,-0.01495672,-0.018190246,0.03973378,0.010399179,-0.0020558836,-0.0022887508,0.012934104,0.02328671,0.015209547,0.005242836,-0.016260777,-0.0019161635,0.0044045146,0.00033079603,-0.015063174,-0.0026180914,0.0024417778,0.0075981203,-0.014251466,0.018908808,-0.007964054,-0.02332663,-0.01624747,0.019254781,-0.025003271,0.007165653,-0.0017465032,-0.0005717719,0.0052195494,0.015355921,-0.03313366,-0.009946751,0.02754485,0.03731196,0.02284759,0.023473002,0.0050299293,-0.028662613,0.012175622,-0.017524911,0.010718539,0.007012626,0.01813702,-0.0064504184,-0.031829603,0.047797635,0.022621375,-0.009693924,0.017990647,-0.00046906085,0.0063872114,0.0033017227,-0.011683275,0.00537923,0.025003271,0.016593443,-0.0017132364,0.008589469,0.021849586,0.003188616,-0.0061410377,-0.018283393,-0.0056686504,0.019999957,-0.008669309,-0.0034796996,-0.033852223,-0.0064603984,0.0068795593,0.0017024247,0.0022188907,-0.04532259,-0.0069793593,0.020558838,-0.025668606,0.0030971323,0.004035254,0.021809665,0.0092481505,-0.02324679,-0.025708526,-0.011610088,0.014118399,0.017418459,0.02951424,-0.019108407,0.028130345,0.014424453,0.0127877295,0.022182254,-0.00539919,-0.02010641,0.008103775,-0.005153016,-0.0067331856,0.020572145,-0.021184253,-0.020958038,-0.022860894,0.014158319,-0.009361257,-0.01861606,0.015435762,0.019640675,-0.024258098,-0.004930129,-0.0077511473,0.0101463515,0.030206189,0.0045176214,-0.005695264,-0.011510287,0.007731187,-0.013812345,0.0067132255,0.004817022,0.0019461035,-0.013100437,-0.0033699195,-0.011330647,-0.025389167,-0.007797721,0.022621375,-0.010452406,0.029061813,0.03893538,0.011570168,0.018070485,-0.0066799587,-0.011450407,-0.006310698,0.0020442405,0.004088481,0.0070991195,-0.041330583,0.0121955825,-0.017205551,0.030206189,0.0067132255,0.0062874113,-0.024750445,-0.031909443,0.02404519,0.022767749,0.036114357,0.04005314,0.0042015878,-0.005918151,0.008935443,0.0066034454,0.009986672,0.002308711,-0.020039877,0.021210866,-0.009534244,-0.019853583,-0.6165788,-0.01099798,0.013366571,-0.0051264027,-0.0028858886,0.011796381,0.024031883,-0.022341933,-0.033852223,0.021077799,0.00727876,0.005226203,0.0041184206,-0.021809665,0.007491667,-0.028582772,-0.0069993194,-0.03827004,0.005791737,-0.014078479,-0.012874223,0.013812345,-0.013945412,0.028955359,0.0324151,0.005934784,0.0077777607,0.01284761,0.009454404,0.017724512,0.002082497,0.028769065,-0.011616741,0.024324631,0.04904846,-0.0035595398,-0.02702589,0.034278035,0.031749763,0.03627404,-0.0012466706,-0.021663293,0.018123712,0.0190951,0.030392481,0.0015968028,0.050112996,0.0026330615,0.0133266505,-0.011417141,0.024550844,0.014078479,-0.030525548,-1.5515809e-05,-0.007930787,-0.025069805,0.012295382,-0.0014778743,0.009753805,0.0046007885,-0.0037025867,0.019853583,-0.008702576,-0.004001987,-0.046892777,0.04444435,-0.020731824,-0.019707208,-0.012714543,-0.022275401,-0.005013296,-0.019733822,-0.010924793,-0.015701896,0.019427769,0.024737138,0.015116401,-0.005246163,-0.0019045201,-0.009973365,0.011842955,-0.013945412,-0.015914802,-0.024777059,0.023632683,0.028689226,-0.011976021,-0.013180277,0.006819679,0.0021523573,0.030259416,-0.006473705,0.008103775,-0.025429087,0.010545553,0.009740498,-0.027039196,-0.015834963,0.013878878,-0.006081158,-0.03848295,0.0010936436,0.01620755,0.013319997,0.018363234,-0.010565513,0.013233504,0.0077511473,0.023539536,-0.013379877,0.020439077,0.023007268,-0.0186959,-0.004640708,0.008383215,-0.028210185,-0.015981335,-0.022608068,-0.01917494,0.0007085813,-0.00930803,-0.010745153,0.019108407,-0.0015951396,0.008236841,0.00015884862,0.011803035,0.0034015228,0.0038589404,-0.031510245,0.00017672949,0.030019894,0.016154323,0.002343641,0.0072321864,-0.014091786,-0.0029391153,8.867662e-05,-0.0216766,-0.012361916,0.0075249337,0.0075182803,0.014091786,-0.010612086,-0.017524911,-0.022408467,-0.030126348,0.019893503,-0.00027486632,0.0026713181,0.0073918668,-0.0130937835,-0.015715202,0.008263455,-0.020518918,-0.0012516606,-0.00070442294,-0.02404519,-0.009201577,-0.017445073,-0.006071178,-0.015595442,-0.012694583,-0.0063938648,0.0013456391,0.0055854833,-0.013506291,-0.0022355241,-0.005884884,-0.046946004,-0.008003974,-0.019028569,0.00018494221,0.014584133,0.009560857,0.028156959,-0.043725785,0.00097637845,0.012920797,-0.0030871523,-0.0027328616,0.008529589,-0.015542215,-0.0041716476,0.030498935,-0.023047188,0.03337318,-0.008190269,-0.013546212,0.028689226,0.005442437,-0.0147172,0.015635362,-0.013300038,-0.00082044065,0.015009947,-0.03116427,0.00036073607,-0.0070192795,0.008782416,0.030578775,-0.007944094,0.010059859,-0.029487627,0.008250148,-0.029221494,0.017258778,-0.03132395,0.017964033,0.02384559,0.007830988,-0.017165631,-0.04620083,-0.028502932,0.013080477,0.00546905,-0.0049667223,0.01087822,-0.00041063616,0.013785732,0.009926791,-0.012980677,0.03289414,-0.012109089,-0.011709888,0.016593443,0.004614095,0.010339299,-0.019600756,-0.0049633957,-0.020931425,0.017112404,0.0015003294,0.015103094,0.037205506,0.034490943,0.01467728,-0.019081796,0.025202872,-0.017657978,0.036646627,0.01268793,0.02452423,-0.00086576655,0.022208868,0.015595442,0.011929449,0.009048549,-0.0075049736,0.003436453,-0.0057983906,0.017165631,-0.0014013608,-0.009800378,-0.0115302475,-0.0017880866,0.016926112,-0.008017281,0.022940734,0.015701896,0.020359237,0.0021889505,-0.0057351836,-0.0033233461,-0.0066466923,-0.025442393,0.0060977913,-0.0017548199,-0.0037358534,-0.0018895501,-0.010312686,-0.009860258,0.024058497,-0.009873564,0.035528865,0.032148965,-0.0042548142,0.013240158,0.023100415,0.032787688,-0.016952723,-0.012042555,0.017192245,0.011829648,-0.0065003186,-0.011270767,-0.017112404,0.0051363828,0.012268769,-0.0072920667,-0.0023868876,0.020771744,-0.03284091,-0.0029258085,0.018522914,-0.0016816331,0.022927428,0.021170946,0.028369864,0.017445073,-0.0069993194,-0.0030771722,-0.033000592,-0.0144776795,0.021836279,-0.0062641245,-0.004331328,-0.016979337,-0.0024850245,-0.0024384512,-0.0023752444,-0.0105056325,0.010192925,-0.0070858127,0.0058582705,-0.0055023166,0.0007077496,0.0027278715,0.022594761,-0.007005973,-0.005775104,0.011836302,0.002383561,0.013339957,0.0777643,-0.0025099746,0.012355262,0.020332623,-0.019201554,-0.012208889,0.028822292,-0.048915397,-0.001225879,-0.0030987957,-0.0030605388,-0.0038888804,0.011643355,-0.011709888,0.019361235,0.0006524437,-0.020958038,-0.013040557,-0.00075224385,-0.01286757,0.0034015228,-0.01982697,0.008542895,0.012940757,0.04636051,-0.01672651,0.024404472,0.026839595,-0.0014154993,-0.012661316,-0.0036427067,0.025083112,0.017471686,0.014131705,-0.013499638,0.0073586,-0.004574175,0.011410488,0.034490943,-0.0012100772,0.0294344,-0.0027877518,-0.0096606575,0.009800378,0.018882195,-0.0057651238,0.006959399,0.017551525,-0.04178301,-0.0026297348,0.022754442,0.016314004,-0.019214861,-0.017724512,0.03667324,-0.010345953,0.00056802935,0.008396522,-0.019627368,-0.023379857,-0.023512922,-0.015316001,0.009254804,-0.0024916779,-0.027331943,0.0022405141,-0.0073053734,-0.013692585,-0.03366593,0.03265462,0.0017248798,-0.03273446,-0.020558838,0.0015169628,0.02239516,0.019441076,0.012029248,-0.009441097,0.005851617,-0.0014853594,0.009028589,0.0039487607,0.0013655991,-0.03518289,0.0024650644,-0.00038298318,-0.0018463033,0.0031969324,-0.017285392,0.0021922772,0.015369228,-0.012521596,0.028396478,-0.007884215,-0.0010321002,0.024910126,0.0092481505,-0.006859599,0.017365232,-0.022275401,-0.0027478316,-0.007830988,-0.003040579,-0.030099735,0.010498979,-0.0070192795,-0.0050066425,-0.029327946,-0.006620079,-0.0014745477,0.013333304,-0.016194243,-0.035129663,0.014544213,-0.022408467,0.015276081,0.016939417,-0.01793742,-0.0015552195,-0.0076180804,0.0028176918,-0.023353243,0.022940734,-0.003436453,-0.020545531,0.0031071124,0.0010728519,-0.015515601,-0.02034593,0.0026679914,0.010605433,0.039201513,-0.010439099,-0.044337895,-0.034890145,-0.018363234,-0.006234185,0.0065834853,-0.025402473,-0.023047188,-0.00888887,0.0046107685,0.02320687,-0.026666608,0.07499651,-0.023339937,0.00083416316,0.0048536155,-0.015795043,0.03462401,-0.003902187,-0.006859599,-0.03496998,-0.013133704,-0.03374577,-0.02935456,-0.00552893,-0.009214884,0.019667288,0.029168267,0.022275401,-0.007345293,-0.016633363,-0.015276081,0.0041849543,-0.0038090402,-0.037099052,0.004208241,-0.006333985,-0.0020093103,0.013592784,-0.00932799,-0.015981335,0.006300718,-0.009733845,0.026786368,-0.030019894,-0.0073519466,-0.01982697,-0.011550208,-0.01079838,-0.00014886861,0.0018579467,0.038828924,-0.06765122,-0.022594761,-0.0076380405,0.03273446,0.016513603,0.017964033,0.004717222,-0.004238181,0.019041875,-0.006596792,0.022129027,-0.009946751,0.0034397796,-0.06333985,-0.019108407,-0.020212863,0.005622077,0.0002887968,0.008868909,-0.006127731,-0.012095782,-0.0032202192,0.008090468,-0.03257478,0.01994673,-0.022993961,-0.016620057,-0.004454415,0.004301388,0.005871577,0.0031669925,7.100367e-05,0.0019760437,0.008516282,-0.028290024,-0.0137591185,0.030392481,-0.015914802,0.028396478,-0.011969368,0.019001955,0.0099667115,-6.138751e-05,-0.0065735052,0.00019793703,-0.008250148,0.0070591993,0.023539536,-0.016979337,-0.0054723765,-0.016500296,0.017418459,-0.017711205,-0.008196922,-0.030232802,0.024191564,-0.0068662525,-0.014025252,-0.016872885,-0.012794383,-0.028183572,0.01580835,0.022568148,0.044763707,0.014610747,-0.008343295,-0.023433082,0.029833602,-0.028290024,0.008003974,0.018855581,-0.024138337,0.008389869,-0.008675963,-0.009800378,-0.014584133,-0.0039886804,0.014690586,-0.017804353,0.010133045,0.0051629962,0.011031247,-0.0032601391,-0.004211568,0.020252783,0.020891504,-0.0051696496,-0.014344613,0.01095806,-0.0059747044,-0.012920797,-0.024377858,-0.0029041853,0.002413501,-0.0040086405,-0.026347248,-0.0059414376,0.034357876,-0.022647988,0.00066034455,0.0041616675,-0.035608705,0.018562833,0.0032651292,0.015462374,-0.007844294,-0.028689226,0.009434444,0.017312005,-0.032388486,-0.019068489,-0.015409148,-0.0064304583,0.004145034,-0.019667288,0.018629367,-0.009760458,-0.002709575,-0.03257478,0.006872906,-0.02497666,-0.0032268725,0.0032817626,-0.0062474916,-0.04085154,0.013692585,-0.002804385,0.009773765,-0.019560836,-0.0066333856,-0.009221537,0.024803672,0.008835643,-0.025921434,-0.012741157,0.018469688,-0.015236161,0.015342615,0.027119037,-0.017272085,-0.0014886861,-0.014863574,0.0058083707,-0.015568828,-0.015063174,-0.04026605,-0.037657935,0.012235502,-0.011949409,-0.023526229,0.0060977913,-0.006576832,-0.020665292,0.008456402,-0.0043945345,-0.0015502295,0.02794405,-0.0154490685,0.009161657,0.00094228005,-0.03478369,0.0023902142,-0.02018625,-0.02284759,-0.020372543,0.01813702,-0.010911486,0.029833602,0.004234854,-0.022647988,-0.002842642,-0.014251466,-0.044204827,-0.026360555,0.030046508,-0.023672603,-0.009560857,0.0011493654,0.0020858238,0.028582772,-0.0037624668,0.016673284,-0.004231528,-0.003258476,-0.014730507,-0.0019477669,0.016859578,-0.04369917,-0.009940098,-0.013745812,0.0023952043,-0.007025933,0.00908847,-0.001160177,-0.0026546847,0.011137701,0.0078110276,0.006200918,0.02911504,-0.004311368,0.013852265,-0.022661295,-0.017671285,-0.00087657827,-0.010824993,-0.01672651,-0.013665971,0.01288753,-0.018270086,0.005355943,-0.014278079,-0.011643355,-0.017072484,-0.022208868,-0.012408489,-0.004494335,0.010172965,0.011137701,0.0048536155,-0.011137701,-0.015329308,0.011383874,0.00956751,-0.0066367122,0.0045908084,-0.018948728,-0.018123712,0.018429767,0.009600777,0.029727148,-0.011031247,-0.0024351245,0.00938787,-0.020997958,0.0045043146,-0.005023276,0.015169628,-0.00046365501,-0.035049822,0.003922147,-0.0034131662,-0.014584133,-0.00038922072,-0.022262095,-0.005306043,0.007205573,-0.006686612,0.003945434,-0.017059177,0.023073802,0.008875563,0.02231532,0.21972008,-0.006650019,-0.018110406,0.013153664,-0.011304034,-0.007857601,0.019747129,-0.01282765,0.0006902846,0.0017082464,0.015688589,-0.0054058433,-0.017511604,0.0082767615,0.029780375,-0.02026609,-0.030951362,-0.0065269317,0.0010470703,0.05769781,0.006081158,-0.020798357,0.0036526867,-0.0068462924,0.03108443,0.0084031755,0.0008428957,0.022488307,0.021783052,0.010405832,-0.005652017,-0.006487012,0.009667311,0.006626732,0.006506972,0.013479678,-0.003782427,-0.0094277905,0.019121714,0.009221537,0.037099052,-0.007957401,0.0062741046,-0.011836302,0.023339937,0.020532224,-0.0022870875,-0.018589446,-0.0038057135,-0.018749127,-0.045216136,-0.01833662,-0.020598758,0.022408467,-0.00872919,0.0031287356,-0.020878198,0.015369228,0.02038585,0.0019910135,0.0144776795,0.008769109,-0.013579478,0.01656683,-0.033692542,0.019015262,-0.015861575,-0.031350564,0.0055821566,-0.020119717,0.005572177,0.00027756926,-0.003258476,0.011270767,-0.0005829994,-0.008476362,0.01109778,0.008369909,0.01873582,0.03297398,-0.010964713,-0.018908808,-0.013373224,-0.009873564,0.0145176,-0.010053205,0.011862915,-0.021543533,0.0012874224,0.0007834314,-0.0061543444,-0.008715883,-0.009194924,-0.0038057135,-0.010006632,-0.011290727,0.0042614676,0.03534257,0.0077910675,-0.0073652533,-0.035928067,0.07249485,0.0011219204,0.017764432,-0.01296737,-0.0020608737,0.010352605,0.008502975,-0.014238159,-0.01813702,0.0028908786,-0.050086383,-0.0044377814,-0.02368591,0.00749832,0.029753761,0.019347928,-0.01946769,0.013592784,-0.008742495,-0.0058216774,-0.02010641,0.015635362,-0.030179575,-0.0041417074,-0.022341933,-0.045508884,0.033266727,-0.009753805,-0.0055455635,0.011477021,-0.001075347,-0.0132201975,-0.020678598,0.0027661284,-0.0045608683,-0.010219539,-0.040878154,-0.010166312,0.0024101743,0.029008586,0.001090317,0.030711843,0.015861575,0.013705892,-0.013506291,0.0037125668,0.008762456,-0.017378539,-0.030152962,0.0011202571,0.017351925,-0.010425792,-0.0006661662,0.043805625,0.016699897,0.010332646,-0.016154323,0.028423091,-0.010212885,-0.0407717,0.011776421,0.011942755,0.022341933,-0.013878878,0.019055182,-0.1660675,0.021277398,0.027757756,0.026107727,0.032069124,-0.008742495,0.02553554,0.009341297,-0.018163633,-0.005226203,0.02078505,-0.025149645,-0.03768455,-0.0252561,0.0137591185,0.014331306,-0.012574823,0.03430465,0.03233526,0.012721197,0.025162952,-0.013852265,-0.015089788,-0.021743134,-0.008130388,0.029833602,-0.03952087,0.01075846,-0.011031247,-0.020372543,0.012315342,-0.0019461035,0.0252561,0.015874881,-0.011443754,-0.019720515,-0.011929449,-0.013173624,-0.028689226,0.0491283,0.01708579,0.02235524,0.010006632,-0.012188929,0.026693221,0.0032035857,0.008190269,-0.025761753,0.027677918,-0.011989328,-4.067377e-05,-0.005179629,-0.0051264027,0.009993325,-0.009740498,-0.0063672517,-0.028316638,0.007964054,0.0053725764,-0.018123712,-0.017538218,-0.016500296,0.0005950586,0.02082497,-0.001997667,-0.018057179,-0.013206891,0.022980655,-0.019999957,0.027119037,-0.0054224767,0.01479704,0.0028559486,0.0030206188,0.029860213,0.0066433656,-0.011829648,0.018030565,0.008875563,-0.0056653237,-0.020532224,0.005192936,-0.028742453,-0.02658677,-0.0031536857,0.015063174,0.011696581,0.009940098,-0.025123032,0.022142334,0.03257478,-0.0340119,-0.018097099,0.010951406,0.016580136,0.023486309,0.019880196,-0.0048003886,0.03555548,0.009946751,-0.009747151,0.01246837,-0.036806308,0.01455752,-0.0068995194,0.012860917,0.056154236,0.0021091106,0.011876222,-0.017791046,-0.019015262,0.006959399,0.020093104,0.011643355,0.010319339,0.0044910084,0.0032235458,-0.00727876,0.01117762,0.009926791,0.057325225,-0.008383215,0.0013838959,0.025162952,-0.005681957,-0.021942733,-0.120824754,-0.016846271,0.03188283,0.010552206,0.0025299345,0.018083792,0.0108116865,0.031909443,-0.004234854,0.028476318,-0.01115766,-0.01745838,-0.011650008,-0.01821686,0.018443074,-0.00550897,-0.00550897,-0.023499615,-0.021822972,0.019693902,0.022967348,-0.017964033,-0.02191612,0.011849608,-0.019001955,0.02002657,-0.01584827,0.010405832,-0.011377221,0.0054357834,-0.0018529567,-0.0054623964,0.004011967,-0.024989966,0.018602753,0.008250148,0.002348631,-0.014983334,0.0060611977,-0.01292745,-0.008043895,-0.018722514,0.012415143,-0.036460333,0.001160177,-0.033319954,-0.01700595,0.030286029,-0.008256801,-0.024098417,-0.022608068,-0.031749763,-0.0626479,-0.015156321,0.017498298,-0.01845638,0.010638699,-0.00035470648,-0.014570827,-0.0054490897,-0.009920138,0.01495672,-0.012029248,0.037445027,-0.010186272,0.0024268078,-0.005904844,-0.03486353,0.017351925,-0.037125666,-0.024271404,0.0035994598,-0.03981362,0.011756461,-0.008057201,0.007544894,0.00528941,0.004773775,0.0052195494,-0.0068329857,0.010319339,-0.016007949,0.022834282,-0.0186959,0.012920797,0.024404472,0.0025498946,0.002799395,-0.0089420965,-0.01495672,0.0141716255,0.022794362,0.02332663,0.0021274071,0.021343932,0.00087990495,-0.008469708,0.011696581,-0.00021124372,0.035608705,0.003852287,0.016034562,-0.046174217,0.011377221,0.008576162,0.02199596,-0.017910806,0.0052494896,0.017245471,-0.0063605984,0.009081816,0.033080433,-0.038110364,0.016420456,0.019747129,-0.043486267,-0.036726467,0.02018625,0.02243508,-0.01580835,0.0038090402,0.022860894,0.011190927,0.008190269,0.011696581,0.013692585,-0.01797734,0.027890824,0.011230847,0.018802354,-0.025575459,0.0027960683,0.02022617,-0.0015161311,0.009926791,0.02730533,-0.04343304,-0.007325333,-0.013626051,0.009194924,-0.013499638,0.011636701,-0.00058757357,0.0109381,0.010332646,-0.02826341,-0.033985287,-0.01475712,0.007225533,0.015981335,-0.010645352,0.0009805368,0.035981294,0.023060495,-0.016979337,-0.021357238,0.019427769,-0.008050548,0.0148369605,0.015608748,0.0011310687,-0.021743134,0.009035243,0.005825004,0.013665971,-0.024178257,-0.008363255,0.0007942431,-0.025096418,-0.008762456,-0.006101118,-0.023087109,-0.034836918,0.018110406,0.007005973,0.00540917,0.008077161,0.009061856,0.0039853537,0.013592784,-0.004614095,0.0517098,0.03265462,-0.001258314,-0.010785073,0.025202872,0.028742453,-0.007105773,-0.014371227,0.014091786,-0.009680618,0.015582135,-0.018908808,0.030286029,-0.016580136,0.016593443,-0.0066633252,0.016473683,-0.011031247,0.016393844,-0.0066234055,0.031510245,-0.007797721,0.011783075,0.010485672,-0.004697262,-0.0033399793,0.008396522,0.001594308,-0.011343954,-0.019228168,0.016353924,0.0133266505,0.007837641,0.014025252,0.00061127613,-0.0029956687,0.0035994598,0.0011177621,-0.02119756,-0.024670605,0.0036260732,0.011170967,0.006789739,0.018922115,-0.015635362,0.04021282,0.0019826968,-0.0016600097,-0.030472321,-0.017591445,0.009261457,-0.0019644003,-0.005242836,-0.030392481,-0.0038988604,-0.013852265,-0.03172315,0.012421796,0.017285392,-0.0014920128,0.06296726,0.009394524,-0.029381173,0.008642696,0.000541416,0.0111177405,0.00912839,0.0066932654,-0.01708579,0.010652006,0.018722514,-0.0015144678,0.013652665,-0.009520938,-0.0011892855,0.007145693,-0.01624747,0.0026313982,0.009733845,0.012661316,0.027331943,-0.036566786,0.018323313,-0.0015818329,-0.019308008,-0.024471004,0.026387168,-0.012035902,0.00930803,-0.013592784,0.028556159,-0.0018779067,-0.021064492,-0.026387168,0.028529545,0.013426451,-0.010365912,-0.032628007,0.024950046,-0.0075914674,-0.011024593,0.011397181,-0.014703893,-0.02991344,-0.030232802,0.015582135,-0.004494335,0.009614084,-0.0011992655]\n",
            "[-0.009083844,0.017194657,0.0020110419,-0.036495328,-0.0072577447,0.0089039,-0.002705826,0.0065746238,-0.028657762,-0.020673577,-0.015568496,0.031270284,-0.029137613,0.0065146424,-0.0140622975,-0.019433962,0.033402953,-0.025685351,0.015795091,-0.00072060945,-0.023072831,0.01682144,-0.030283922,0.023059502,-0.004461947,-0.0038488042,0.038334753,-0.025045551,-0.034096073,-0.009183813,0.020686906,-0.022286408,-0.019993788,-0.0076909433,-0.016568186,0.0015603484,0.019740533,-0.02523216,0.005561605,-0.012962638,0.035695575,0.022486346,-0.0036755246,-0.0008772274,0.0052250433,0.0062380615,0.020580271,-0.012856006,-0.012802688,0.012796024,0.0003590551,0.004395301,-0.012642738,-0.014075627,0.004475276,0.0140489675,-0.017021379,0.03724176,-0.013535794,-0.016674818,-0.011383129,0.0009780294,-0.02112677,0.0027824687,-0.017234644,-0.017754484,-0.008937223,0.019074073,-0.010490074,0.003253989,0.008603993,0.03921448,-0.004172037,0.013242552,-0.0059381546,-0.03548231,-0.018101042,-0.012516111,0.019740533,0.01261608,0.040254157,0.00012360743,-0.026405128,0.04273339,0.008843918,0.00027304015,0.007897546,-0.0012004604,-0.016181638,0.0004565248,0.010863291,0.0018644207,0.0156618,0.017607862,0.006261388,0.0001366242,0.019220695,0.022339726,-0.0058981674,-0.039134506,0.0035955494,0.024472395,-0.024459066,0.0036288723,-0.05603592,-0.011069894,0.01260275,-0.0061147665,-0.0025258819,-0.013942335,-0.036815226,0.021353364,-0.0008355737,0.0053849933,0.013495807,0.034389313,0.023566011,0.004078733,-0.026405128,-0.0027008276,0.017354608,0.019327328,0.02078021,-0.018074384,0.0056782356,-0.00865731,0.03430934,-0.005794866,-0.0077242665,-0.015341899,-0.00033135538,-0.011716359,-0.002707492,0.03646867,-0.040840644,0.0067045833,-0.0013779051,0.01252944,-0.013795713,-0.007017819,0.0051184096,0.019247353,-0.019660557,-0.024299117,-0.009077179,0.00042299356,0.030683799,0.003522239,0.02425913,-0.01930067,0.0057082265,0.0072977324,0.014582136,0.010516732,-0.0053483383,-0.0053516706,0.0106833475,-0.014608794,-0.007517664,0.004258677,0.011363136,0.025112197,0.036655277,0.007957527,-0.0002309699,0.019593911,-0.019833837,-0.023152806,-0.027644744,-0.00039716825,-0.014422186,0.03478919,-0.009610347,0.018780831,-0.017434582,0.03281647,-0.005628251,0.009417074,-0.0054183165,-0.041480444,0.012556098,0.025765328,0.010463416,0.009770297,0.0060214624,-0.0031190307,0.024179153,0.02175324,0.027258197,0.0008972212,0.016421564,0.022792917,0.006587953,-0.000586901,-0.6274317,-0.025618706,0.0032256644,-0.009357093,0.0018327639,-0.0037088476,0.030630482,-0.0018510915,-0.015355228,0.014795403,-0.011549745,-0.008530683,-0.024485724,-0.0069844965,0.00680122,-0.022233091,-0.018340968,-0.02623185,-0.00865731,0.009676993,-0.024952246,0.026844991,-0.0069311797,0.0056882324,0.019980459,0.0061180987,-0.0043919687,0.030417215,0.00027907995,0.0010788315,0.0043586455,0.021033464,0.008184124,0.016314931,0.030283922,-0.010496738,-0.018087713,0.016461551,0.011043236,0.022539662,-0.0028657762,-0.023752619,0.026311824,-0.00065354694,0.004092062,0.008970546,0.037055153,0.01400898,0.011776341,-0.030097315,0.006991161,-0.00021680763,-0.005571602,0.031643502,-0.0021276723,-0.033536244,0.033829488,-0.0073110615,-0.0009130496,0.009410409,-0.0016711474,0.02192652,-0.008997205,0.010016887,-0.02323278,0.026165202,-0.005948152,-0.01567513,0.013035949,-0.049397983,-0.0003644701,-0.0020776878,0.009630341,0.01795442,-8.044375e-05,0.0047152014,0.051663946,-0.022832906,0.0047951764,-0.008137471,0.0049051424,-0.00086389825,-0.01326921,-0.0119162975,-0.016888086,-0.0010321792,-0.014195589,-0.013282539,0.0011729689,0.021739911,0.031296942,0.0065812883,0.00015609733,-0.0143821975,0.0076242974,0.019540595,-0.015315241,-0.01342916,0.02524549,-0.022686284,-0.03542899,-0.0007264409,0.033029735,0.0038654655,0.017074695,-0.006198074,0.010889949,0.006744571,0.015448533,-0.01715467,0.007224422,0.0116697075,-0.01946062,0.013742397,-0.019327328,-0.022566322,0.0083773965,-0.0033389626,-0.008024173,-0.00023867584,0.0029174269,-0.01731462,0.025765328,-0.013629098,0.010303465,-0.023992544,0.0056649065,-0.00042632586,0.006564627,-0.041160543,-0.008583999,0.015275254,0.0064846515,-0.016421564,0.0007960027,-0.018687526,0.009510378,-0.0017711163,-0.010310129,-0.015875068,-0.009010534,0.0034256023,0.012949309,-0.031110333,-0.031430233,-0.016114993,-0.0022509673,0.008477366,0.017701166,-0.019167377,-0.0031940076,-0.020993477,-0.022726271,0.0055082883,0.007044478,-0.016701477,0.006384683,-0.020700235,-0.025498744,-0.02605857,-0.011609726,0.0032273305,-0.0010705007,0.0071511115,0.0003059466,-0.016181638,-0.016434893,0.010376776,-0.029324222,-0.040280815,-0.005571602,0.00841072,0.0077775833,0.002439242,0.007157776,0.013875688,-0.03969433,-0.031296942,0.006074779,-0.032283302,0.01186298,0.021886533,-0.013509136,0.007084465,0.04057406,-0.004941798,0.043479823,0.01746124,-0.010643359,0.0109299375,-0.011623055,-0.023619328,-0.008457372,0.00791754,0.0068212138,0.025991924,-0.019860495,-0.0039654346,3.9336734e-05,0.01416893,0.04371975,-0.0045819096,0.019847166,-0.005468301,0.015781762,-0.0075309933,0.012889328,-0.017754484,0.012749372,0.019393973,0.012422807,-0.015355228,-0.03169682,-0.016208297,0.017834459,-0.016408235,0.008837254,-0.00060481206,0.0020710232,-0.022632968,0.009377087,-0.015355228,0.025165513,0.0047718505,-0.0022659625,0.029297562,0.008617322,0.022846235,0.008717291,-0.0056749033,-0.006108102,0.000984694,0.014022309,0.009597018,0.02521883,0.04366643,-0.0023192794,-0.0129026575,0.019100731,0.0038454717,0.023312757,0.024858942,0.015648471,-0.024379091,0.0074443533,0.020406993,0.017554546,0.01022349,7.258161e-05,0.00655463,0.008090819,0.0069445088,-0.016021688,-0.0095370365,-0.0067045833,-0.0117430175,0.029964022,-0.0040587387,0.0033189687,0.022219762,0.04598571,-0.0019927141,-0.009110503,0.011783006,-0.0073577138,-0.009663664,0.00038737964,-0.00445195,-0.008923894,-0.0030790432,0.014782074,-0.00391545,0.004315326,-0.017247973,0.03836141,0.026405128,0.01846093,0.011236508,0.022886222,0.018074384,-0.017714495,-0.014582136,0.020007117,0.032016717,-0.024619017,-0.018994099,-0.009816949,0.0147154275,0.010476745,0.011889639,0.0049917824,0.014395527,-0.008424049,-0.010823304,0.0007564316,-0.010949931,0.0027208212,0.009830278,0.023566011,0.034069415,0.001476208,0.0055116205,-0.013089266,-0.009250459,0.032496568,-0.0054749656,-0.0025475416,-0.017861117,0.011076558,-0.0024242466,-0.002492559,-0.023379402,-0.007864223,-0.031296942,0.008630652,-0.012869335,-0.0006581288,-0.02060693,0.013795713,-0.015035328,0.013755726,0.013795713,0.00362554,0.0031040355,0.038014855,0.012549434,0.029084297,0.018954111,-0.020833526,-0.026565079,-0.011463105,-0.013795713,0.007764254,0.002999068,-0.015595154,0.014862048,0.01798108,-0.01145644,-0.010856627,0.0049384655,-0.02112677,-0.019260682,-0.010270142,-0.013795713,-0.015888397,-0.028231228,0.025685351,0.012549434,0.010483409,-0.000626472,0.0031623507,0.016354918,0.004132049,-0.014128943,-0.02637847,0.026645053,0.0062014065,0.0018094378,-0.01698139,-0.018340968,-0.0059781424,0.009796956,0.009736975,-0.007597639,0.017567875,-0.0030823755,-0.010170173,0.02160662,0.002527548,-0.017541217,0.0039321114,0.019167377,0.0069711674,-0.016408235,0.021993166,-0.005781537,-0.011756347,-0.01962057,0.009796956,-0.020846855,0.018194346,-0.0099435765,-0.008557341,-0.020846855,-0.0047685183,-0.0026775014,0.046545535,-7.154027e-05,-0.026418457,0.010236819,0.012089577,-0.005698229,-0.027831351,0.028231228,-0.009443732,-0.021899862,-0.032203328,0.0046918755,0.011763011,-0.0007301898,0.003522239,-0.012769366,-0.016568186,0.003310638,-0.0044286237,0.017221315,0.018514248,-0.051077463,-0.02076688,-0.022766259,-0.01103657,0.0069445088,0.0075443224,0.005751546,0.017367937,-0.002740815,0.058168594,0.006534636,0.0073977015,0.007904211,0.005108413,-0.018047726,0.0037321737,-0.008404056,-0.018740844,-0.018554235,-0.025791986,-0.024832284,0.028817711,0.018007739,-0.008257434,-0.0027441473,0.021913191,-0.0087106265,0.0024242466,-0.0043019964,-0.029270904,-0.010749993,0.0025642032,0.0017511225,0.0077109374,-0.02192652,-0.0027808025,0.00028970165,-0.010483409,-0.016888086,0.013495807,0.002932422,-0.014422186,0.023832595,-0.0017411256,0.014555478,-0.026765017,0.011836322,0.019993788,0.0018277654,-0.030417215,-0.031403575,-0.01863421,-0.013782384,-0.0010330123,0.019487279,-0.023699302,-0.037828244,-0.02060693,0.012922651,0.017434582,0.0049951146,0.055129535,-0.023685973,-0.0138890175,-0.0024575696,-0.0012487787,0.03145689,0.0018111039,-0.0008972212,-0.03860134,-0.004878484,-0.015141961,-0.020526955,0.0026308491,0.013102596,0.02621852,0.027564768,0.004528593,-0.009443732,0.009983565,-0.011223179,-0.007964192,0.0061914097,-0.030470531,-0.0030323912,-0.009570359,-0.0051517324,0.04398633,-0.007211093,-0.01284934,0.0013395838,-0.0024825619,0.019993788,0.003702183,0.009736975,0.001846093,-0.03908119,-0.008257434,0.037535004,-0.001801107,0.026685042,-0.0488115,-0.02357934,0.003365621,0.004788512,0.010056875,0.01013685,0.012709384,-0.005045099,0.033749513,-0.0147154275,0.011396458,-0.011309819,-0.017847788,-0.047078706,-0.026578408,-0.007924205,-0.007237751,0.015221937,0.00016526115,0.008524018,-0.0048718196,0.0056882324,-0.0011238175,-0.020793539,0.01647488,-0.0044819405,-0.022979526,-0.017034708,-0.012449465,-0.00725108,-0.0012012934,0.015008669,0.008963881,0.00017713246,-0.030950382,0.020233713,0.03478919,0.014955353,0.015355228,-0.0015245263,0.015955042,0.017101353,0.0178078,-0.03441597,-0.0039621023,0.010883285,0.018647538,0.029564148,0.010316794,-0.023952557,0.00043236566,0.032363277,0.008124142,0.013382508,-0.03662862,0.028284544,0.008577335,-0.012955974,-0.031643502,-0.009916918,-0.012082912,0.01764785,0.042626753,0.032576542,0.028951004,-0.0072177574,-0.0156618,0.039134506,-0.019353986,-0.0015703454,-0.00980362,-0.018860806,0.0124961175,-0.002314281,-0.019087402,-0.0051284065,-0.003055717,0.011649714,-0.022033153,0.0033589562,0.02951083,-0.007770919,0.01038344,0.008790602,0.025578719,0.024299117,-0.008524018,-0.01567513,0.01682144,-0.023965886,-0.007171105,-0.01798108,-0.00068895257,-0.0051384033,-0.033243004,-0.018874135,-0.0062147356,0.02475231,-0.044946034,-0.0030807094,-0.013462484,-0.032843128,-0.015381887,-0.015781762,0.0094503965,-0.027404819,-0.028551128,0.014955353,-0.0016928073,0.015541838,0.016021688,0.0014145605,-0.008424049,0.0077375956,-0.011976278,0.026964955,-0.013562452,-0.002862444,-0.036068793,0.012562763,-0.008490695,-0.011623055,0.0050284374,-0.0004115388,-0.040307477,-0.015888397,0.013782384,0.018194346,-0.0067612324,0.0006177247,-0.0010005224,0.017287962,-0.002707492,-0.010936602,-0.010563385,0.033189688,-0.020313688,-0.017354608,0.029750755,-0.017167998,0.021406682,-0.008330745,0.0014487165,-0.011443111,-0.016408235,-0.04731863,-0.017554546,0.022659626,-0.014688769,-0.022499675,-0.015008669,-0.025578719,-0.019220695,0.013875688,0.008204117,-0.0025592048,0.009357093,-0.016274942,-0.015688458,0.011529751,-0.041347153,-0.009503714,-0.016528197,-0.017101353,-0.024619017,0.00308904,-0.020127079,0.02143334,0.019633899,-0.02207314,-0.028311202,-0.0065812883,-0.049078085,-0.029457513,-0.00013495807,0.004738528,0.0067079156,0.023619328,0.0021743244,0.041800346,-0.015208608,0.029617464,-0.029804071,-0.012769366,0.00037050986,0.003210669,-0.012536105,-0.007124453,-0.022806248,-0.01228285,0.013529129,-0.014408856,-0.02951083,0.010496738,-0.0046785465,-0.0027358166,0.0030490526,0.009843608,0.021526644,0.0059014997,-0.0081308065,-0.051850554,-0.013342521,-0.009177148,-0.0034089407,-0.032229986,0.0030857078,0.022712942,-0.014035638,-0.0049717883,-0.024978906,-0.009630341,-0.0022842903,-0.021499986,-0.0005131739,0.025152184,-0.0009297111,0.020673577,0.012962638,0.006647934,-0.01252944,0.01847426,-0.009417074,-0.0058015306,0.0005527449,-0.0019077405,-0.035242382,0.0073310556,-0.012382819,0.01814103,-0.004711869,0.015128632,-0.0052783596,-0.029030979,0.012009602,0.0012871,-0.023459377,-0.0034222698,-0.021553302,0.004262009,-0.009790291,-0.011529751,0.003882127,-0.015688458,-0.018207675,0.010943267,0.01367575,-0.006587953,-0.0021293384,0.01532857,-0.014075627,0.022779588,0.1965256,-0.010776651,-0.0147154275,0.027831351,0.0019860496,0.0013462483,0.013375844,-0.004361978,-0.011816328,0.011469769,-0.00094220723,0.016141651,-0.026485104,0.010603372,0.01795442,0.02211313,-0.032736495,-0.002875773,-8.643148e-05,0.040120866,-0.008250769,-0.021233402,0.011029906,-0.013389173,0.035508968,-0.019553924,-0.0072844033,0.022339726,0.039827626,0.01732795,-0.0147154275,-0.020873513,0.013622434,0.011229844,-0.0063346983,0.01912739,0.00037280083,0.0055849315,-0.00075684814,0.019407302,0.0181277,-0.01764785,0.00626472,-0.015861738,0.02323278,0.023699302,-0.0087972665,0.0032256644,-0.029377539,-0.010523397,-0.06083443,-0.011156533,-0.007550987,0.031750135,-0.019513937,0.006644602,0.0012929316,0.029537488,0.011096552,-0.009003869,0.017754484,0.0066712606,-0.028444495,0.008270764,-0.038521364,0.024765639,-0.0015111971,-0.026205191,0.006111434,-0.011389794,-0.005794866,-0.01284934,-0.014928695,0.015515179,-0.007211093,-0.013929005,-0.0043019964,0.0062413937,-0.0046119,0.021459999,0.010316794,-0.015141961,-0.026884979,-0.0010871622,0.028071277,-0.014822061,0.0074643474,-0.018074384,0.0061047697,0.0046218974,-0.009923583,-0.024645675,-0.020167068,0.0049717883,-0.00050067774,0.031057017,-0.007564316,-0.0009530372,-0.0039887605,-0.005864844,-0.017341278,0.047078706,0.017621191,0.018340968,-0.009303776,0.02159329,-0.02999068,0.024272459,-0.006004801,-0.02127339,0.013955664,-0.03737505,0.024472395,-0.011216515,-0.010663353,0.027804693,0.010010223,-0.033989437,0.0074376888,-0.022886222,0.014928695,-0.02224642,-0.01862088,-0.0076909433,-0.010996583,-0.0026758353,-0.02472565,0.016194968,-0.016314931,-0.004788512,0.01483539,-0.010616701,0.004361978,-0.016075006,0.0025225496,-0.031296942,0.015288583,-0.025592048,-0.026578408,0.020620259,0.024312446,0.008264098,0.034709215,0.020233713,0.0083773965,-0.021966508,0.0113364775,0.02637847,-0.03761498,-0.012702719,-0.006857869,0.00308904,0.009597018,0.0044819405,0.03412273,0.008224111,0.010043546,-0.018727515,0.008224111,-0.01277603,-0.05211714,-0.0032823135,0.014155601,0.011649714,0.0006227232,0.012202875,-0.16762792,0.017701166,0.01599503,-0.0036621953,0.017714495,0.003995425,0.026911639,0.023845924,-0.015688458,0.0025442094,0.028631104,-0.019100731,-0.029884048,-0.039827626,0.0026575075,0.025192171,-0.025858631,0.02292621,0.010756657,0.021486657,0.02820457,-0.021513315,-0.0010330123,-0.02685832,-0.0054283133,0.015061987,-0.036148768,0.020060433,0.008743949,-0.020846855,-0.0015053656,-0.0041787014,0.028791053,0.03116365,0.00078350655,-0.014542148,-0.0033522916,0.01698139,-0.012009602,0.028044619,0.010450087,0.011709695,0.016274942,0.028951004,0.016768122,0.00626472,0.0077909124,-0.02292621,0.027284855,-0.008997205,-0.00020993476,-0.011236508,-0.006674593,-0.018527577,-0.012962638,-0.0066979188,-0.019540595,0.005948152,0.030817091,-0.05408986,-0.008603993,-0.012556098,-0.015301912,-0.008090819,0.0138890175,-0.0039521055,-0.026791675,0.029164271,-0.02505888,0.025352122,0.0009838609,0.0018944114,-0.016261613,0.021899862,0.019007428,-0.0032723164,-0.007384372,0.01228285,-0.0013037615,-0.0008289091,-0.003054051,0.013915676,-0.014862048,-0.021833215,0.011563074,0.00939708,0.02523216,1.3283633e-05,-0.019234024,0.011003247,0.037508346,-0.008837254,0.011009912,0.01145644,0.0075043347,0.027404819,0.0181277,-0.010363447,0.022499675,0.008497359,-0.010663353,0.006957838,-0.035215724,0.012336167,0.010016887,0.008284093,0.020886844,0.0053516706,0.03233662,0.009097173,-0.051663946,0.004092062,0.012156223,0.015381887,-0.009030527,0.025592048,-0.012676061,-0.010616701,0.016808111,0.021033464,0.042280197,-0.028631104,-0.004132049,0.03942775,-0.012296179,-0.027458135,-0.10572715,-0.025032222,0.02801796,0.016448222,0.020553613,0.03145689,0.0023192794,0.008490695,-0.009003869,0.012796024,-0.02341939,-0.02110011,-0.018007739,-0.013475813,0.02323278,-0.005424981,0.014902036,-0.022646297,-0.019074073,0.01499534,0.03167016,-0.020846855,-0.026605066,0.023526022,0.0049517946,0.018994099,-0.037135128,0.01798108,0.0077242665,0.0156618,0.00057440484,-0.0087106265,0.0031756798,-0.016848098,-0.019767191,-0.002549208,0.002954082,-0.024005873,-0.005948152,-0.022566322,0.00923713,-0.009317105,0.004628562,-0.038841262,0.005894835,-0.030790433,-0.034362655,0.028657762,-0.017727824,-0.022659626,-0.023366073,-0.0319634,-0.044546157,-0.010330124,-0.006711248,-0.0062847137,0.014088956,0.006754568,-0.009137161,-0.0032906441,-0.022526333,0.005325012,0.002169326,0.030523848,-0.001901076,-0.0117430175,-0.011316484,-0.014702098,0.017781142,-0.02439242,-0.016928073,0.0199538,-0.030230606,-0.0018760837,-0.017048037,0.00024284121,0.0076109683,0.0070644715,0.010370111,0.004202028,-0.011463105,-0.012596086,-0.0123228375,-0.009663664,0.005824857,0.03844139,0.016901415,-0.00037738273,-0.007104459,-0.014488831,0.016075006,0.013662421,0.0083040865,-0.007224422,0.004252012,0.0088839065,-0.002470899,0.010650024,-0.008737285,0.0024342437,0.012382819,0.00234927,-0.06099438,0.0051550646,0.0003330215,-0.0025542064,-0.0032023382,-0.0035588942,0.0184476,-0.020340346,0.017207986,0.038894583,-0.036495328,0.01978052,-0.011303155,-0.024925588,-0.022939539,0.01416893,0.027191551,-0.014595465,0.019340657,0.00080808223,-0.0048718196,0.0039021207,0.006837875,0.030763773,-0.0087106265,0.023486035,0.0080574965,0.016141651,-0.015688458,-0.010676682,0.027458135,-0.010863291,0.013609105,0.015795091,-0.029590806,0.012049589,-0.017447911,0.014728757,0.0056315833,-0.005125074,-0.00387213,-0.0021943182,-0.008177459,-0.032843128,-0.035375673,0.0031473553,-0.0017128012,0.0010030216,0.017048037,0.019034086,0.042146903,0.017874446,-0.020526955,-0.018554235,0.005591596,-0.040120866,0.023925899,0.003522239,0.007997515,-0.028444495,0.037295077,0.02126006,0.016261613,-0.021633279,0.01499534,0.013462484,-0.015075316,0.0011688034,0.003300641,-0.028711079,-0.017567875,0.010883285,0.0021110107,-0.0001887955,0.009097173,0.00939708,-0.009410409,0.025805315,-0.009330434,0.041800346,0.045292594,0.016248284,-0.029217588,-5.5191183e-05,0.038867924,-0.005025105,-0.0026091891,0.0049251365,-0.0021626614,0.0020543616,-0.043826383,0.0010638362,-0.010056875,0.0022326396,-0.015035328,-0.0046119,-0.0065612947,0.007677614,-0.0015986699,0.04302663,-0.018194346,0.008717291,0.00680122,-0.010736664,-0.0012329502,0.009610347,-0.017621191,-0.007457683,-0.016048346,0.0055882637,-0.008430714,0.0010346785,0.011683037,0.008677304,-0.006098105,0.0054616365,-0.035349015,-0.009810285,-0.031136991,-0.0009780294,0.0017811132,0.005538279,-0.0027224873,0.0122361975,0.045532517,0.006604614,0.015635142,0.008224111,-0.015461862,0.016541528,-0.010316794,-0.026031911,-0.0038654655,-0.025432097,-0.015688458,-0.0065279715,-0.011269831,-0.017114682,0.003064048,0.088772416,0.016248284,-0.022819577,0.033509586,-0.009523707,0.027991302,0.00523504,-0.0006747903,-0.019767191,-0.0016969728,0.03921448,-0.009836944,0.014982011,-0.005971478,0.011329813,0.012056254,-0.0048118383,0.012556098,-0.0005435811,-0.0059681456,0.007137782,-0.021300048,0.012622745,-0.0014253905,-0.003692186,-0.008210782,0.025472086,-0.0097836265,0.01063003,-0.013222558,0.010163508,0.012202875,-0.019527266,-0.0026108555,0.0026108555,0.003892124,-0.029324222,-0.032523226,0.011876309,0.0043453164,0.011416453,0.017861117,0.0007247748,-0.009523707,-0.03609545,0.010949931,-0.006767897,0.0140622975,-0.019194037]\n"
          ]
        }
      ],
      "source": [
        "import psycopg2\n",
        "import numpy as np\n",
        "\n",
        "# Assume query_embedding is a list or numpy array\n",
        "query_embedding = np.array(query_embedding).tolist()\n",
        "\n",
        "# Connect to the database\n",
        "conn = psycopg2.connect(\n",
        "    dbname=\"flexibleserverdb\",\n",
        "    user=\"citus\",\n",
        "    password=\"\",\n",
        "    host=\"\",\n",
        "    port=\"5432\",\n",
        "    sslmode='require'\n",
        ")\n",
        "cur = conn.cursor()\n",
        "\n",
        "# SQL to get only the embeddings of top 5 most similar records\n",
        "sql = \"\"\"\n",
        "    SELECT embeddings\n",
        "    FROM maintenance_documents\n",
        "    ORDER BY embeddings <=> %s::vector\n",
        "    LIMIT 5;\n",
        "\"\"\"\n",
        "\n",
        "cur.execute(sql, (query_embedding,))\n",
        "results = cur.fetchall()\n",
        "\n",
        "# Each result is a tuple with one element: the embedding vector\n",
        "for (embedding,) in results:\n",
        "    print(embedding)  # Just prints the full embedding vector\n",
        "\n",
        "cur.close()\n",
        "conn.close()\n"
      ]
    },
    {
      "cell_type": "markdown",
      "metadata": {
        "nteract": {
          "transient": {
            "deleting": false
          }
        }
      },
      "source": [
        " ## Export Data from PostgreSQL (for use in AML + Azure AI Search)#"
      ]
    },
    {
      "cell_type": "code",
      "execution_count": null,
      "metadata": {
        "gather": {
          "logged": 1743969395887
        }
      },
      "outputs": [
        {
          "name": "stdout",
          "output_type": "stream",
          "text": [
            "✅ Export complete. Ready to push to Azure AI Search.\n"
          ]
        }
      ],
      "source": [
        "import psycopg2\n",
        "import json\n",
        "\n",
        "# PostgreSQL connection details\n",
        "conn = psycopg2.connect(\n",
        "    dbname=\"flexibleserverdb\",\n",
        "    user=\"citus\",\n",
        "    password=\"\",\n",
        "    host=\"\",\n",
        "    port=\"5432\",\n",
        "    sslmode='require'\n",
        ")\n",
        "\n",
        "cur = conn.cursor()\n",
        "\n",
        "# Fetch filename, content, and embeddings from the table\n",
        "cur.execute(\"\"\"\n",
        "    SELECT filename, content, embeddings\n",
        "    FROM maintenance_documents;\n",
        "\"\"\")\n",
        "\n",
        "records = cur.fetchall()\n",
        "cur.close()\n",
        "conn.close()\n",
        "\n",
        "# Convert to list of documents for Azure AI Search\n",
        "documents = []\n",
        "for i, (filename, content, embedding) in enumerate(records):\n",
        "    documents.append({\n",
        "        \"@search.action\": \"upload\",\n",
        "        \"id\": str(i),\n",
        "        \"filename\": filename,\n",
        "        \"content\": content,\n",
        "        \"embedding\": embedding  # Ensure this is a list of floats\n",
        "    })\n",
        "\n",
        "# Optional: save as JSON file for inspection or upload\n",
        "with open(\"fleet_docs_with_embeddings.json\", \"w\") as f:\n",
        "    json.dump(documents, f)\n",
        "\n",
        "print(\"✅ Export complete. Ready to push to Azure AI Search.\")\n"
      ]
    },
    {
      "cell_type": "markdown",
      "metadata": {
        "nteract": {
          "transient": {
            "deleting": false
          }
        }
      },
      "source": [
        "## Create Azure AI Search Index (with vector search support)\n",
        "First, install the required Azure Search SDK (if not already):"
      ]
    },
    {
      "cell_type": "code",
      "execution_count": 28,
      "metadata": {},
      "outputs": [],
      "source": [
        "!pip install azure-search-documents --quiet\n"
      ]
    },
    {
      "cell_type": "code",
      "execution_count": 14,
      "metadata": {},
      "outputs": [
        {
          "name": "stdout",
          "output_type": "stream",
          "text": [
            "Found existing installation: azure-search-documents 11.6.0b11\n",
            "Uninstalling azure-search-documents-11.6.0b11:\n",
            "  Successfully uninstalled azure-search-documents-11.6.0b11\n",
            "Requirement already satisfied: pip in /anaconda/envs/azureml_py38/lib/python3.10/site-packages (22.3.1)\n",
            "Collecting pip\n",
            "  Downloading pip-25.0.1-py3-none-any.whl (1.8 MB)\n",
            "\u001b[2K     \u001b[90m━━━━━━━━━━━━━━━━━━━━━━━━━━━━━━━━━━━━━━━━\u001b[0m \u001b[32m1.8/1.8 MB\u001b[0m \u001b[31m37.3 MB/s\u001b[0m eta \u001b[36m0:00:00\u001b[0m00:01\u001b[0m\n",
            "\u001b[?25hRequirement already satisfied: setuptools in /anaconda/envs/azureml_py38/lib/python3.10/site-packages (68.0.0)\n",
            "Collecting setuptools\n",
            "  Downloading setuptools-78.1.0-py3-none-any.whl (1.3 MB)\n",
            "\u001b[2K     \u001b[90m━━━━━━━━━━━━━━━━━━━━━━━━━━━━━━━━━━━━━━━━\u001b[0m \u001b[32m1.3/1.3 MB\u001b[0m \u001b[31m52.3 MB/s\u001b[0m eta \u001b[36m0:00:00\u001b[0m\n",
            "\u001b[?25hInstalling collected packages: setuptools, pip\n",
            "  Attempting uninstall: setuptools\n",
            "    Found existing installation: setuptools 68.0.0\n",
            "    Uninstalling setuptools-68.0.0:\n",
            "      Successfully uninstalled setuptools-68.0.0\n",
            "  Attempting uninstall: pip\n",
            "    Found existing installation: pip 22.3.1\n",
            "    Uninstalling pip-22.3.1:\n",
            "      Successfully uninstalled pip-22.3.1\n",
            "\u001b[31mERROR: pip's dependency resolver does not currently take into account all the packages that are installed. This behaviour is the source of the following dependency conflicts.\n",
            "tensorflow 2.17.0 requires ml-dtypes<0.5.0,>=0.3.1, but you have ml-dtypes 0.5.0 which is incompatible.\n",
            "numba 0.56.4 requires numpy<1.24,>=1.18, but you have numpy 1.26.4 which is incompatible.\n",
            "azureml-training-tabular 1.57.0 requires azureml-automl-core~=1.57.0, but you have azureml-automl-core 1.59.0 which is incompatible.\n",
            "azureml-training-tabular 1.57.0 requires numpy<=1.23.5,>=1.16.0; python_version >= \"3.8\", but you have numpy 1.26.4 which is incompatible.\n",
            "azureml-training-tabular 1.57.0 requires pandas==1.3.5, but you have pandas 2.0.3 which is incompatible.\n",
            "azureml-interpret 1.57.0 requires azureml-core~=1.57.0, but you have azureml-core 1.59.0.post2 which is incompatible.\n",
            "azureml-interpret 1.57.0 requires numpy<=1.23.5; python_version >= \"3.8\", but you have numpy 1.26.4 which is incompatible.\n",
            "azureml-defaults 1.57.0 requires azureml-core~=1.57.0, but you have azureml-core 1.59.0.post2 which is incompatible.\n",
            "azureml-defaults 1.57.0 requires azureml-dataset-runtime[fuse]~=1.57.0, but you have azureml-dataset-runtime 1.48.0 which is incompatible.\n",
            "azureml-defaults 1.57.0 requires azureml-inference-server-http~=1.2.1, but you have azureml-inference-server-http 0.8.2 which is incompatible.\n",
            "azureml-automl-runtime 1.57.0 requires azureml-automl-core~=1.57.0, but you have azureml-automl-core 1.59.0 which is incompatible.\n",
            "azureml-automl-runtime 1.57.0 requires azureml-dataset-runtime[fuse,pandas]~=1.57.0, but you have azureml-dataset-runtime 1.48.0 which is incompatible.\n",
            "azureml-automl-runtime 1.57.0 requires numpy<=1.23.5,>=1.16.0; python_version >= \"3.8\", but you have numpy 1.26.4 which is incompatible.\n",
            "azureml-automl-runtime 1.57.0 requires pandas==1.3.5, but you have pandas 2.0.3 which is incompatible.\n",
            "azureml-automl-runtime 1.57.0 requires scikit-learn~=1.5.1, but you have scikit-learn 1.3.0 which is incompatible.\n",
            "azureml-automl-dnn-nlp 1.57.0 requires azureml-automl-core~=1.57.0, but you have azureml-automl-core 1.59.0 which is incompatible.\n",
            "azureml-automl-dnn-nlp 1.57.0 requires azureml-core~=1.57.0, but you have azureml-core 1.59.0.post2 which is incompatible.\n",
            "azureml-automl-dnn-nlp 1.57.0 requires azureml-telemetry~=1.57.0, but you have azureml-telemetry 1.59.0 which is incompatible.\n",
            "azureml-automl-dnn-nlp 1.57.0 requires torch==1.13.1, but you have torch 2.4.1 which is incompatible.\u001b[0m\u001b[31m\n",
            "\u001b[0mSuccessfully installed pip-25.0.1 setuptools-78.1.0\n"
          ]
        }
      ],
      "source": [
        "!pip uninstall azure-search-documents -y\n",
        "!pip install --upgrade pip setuptools"
      ]
    },
    {
      "cell_type": "code",
      "execution_count": 8,
      "metadata": {},
      "outputs": [
        {
          "name": "stdout",
          "output_type": "stream",
          "text": [
            "Requirement already satisfied: azure-search-documents in /anaconda/envs/azureml_py38/lib/python3.10/site-packages (11.6.0b11)\r\n",
            "Requirement already satisfied: azure-common>=1.1 in /anaconda/envs/azureml_py38/lib/python3.10/site-packages (from azure-search-documents) (1.1.28)\r\n",
            "Requirement already satisfied: typing-extensions>=4.6.0 in /anaconda/envs/azureml_py38/lib/python3.10/site-packages (from azure-search-documents) (4.12.2)\r\n",
            "Requirement already satisfied: azure-core>=1.28.0 in /anaconda/envs/azureml_py38/lib/python3.10/site-packages (from azure-search-documents) (1.29.4)\r\n",
            "Requirement already satisfied: isodate>=0.6.0 in /anaconda/envs/azureml_py38/lib/python3.10/site-packages (from azure-search-documents) (0.6.1)\r\n",
            "Requirement already satisfied: six>=1.11.0 in /anaconda/envs/azureml_py38/lib/python3.10/site-packages (from azure-core>=1.28.0->azure-search-documents) (1.16.0)\r\n",
            "Requirement already satisfied: requests>=2.18.4 in /anaconda/envs/azureml_py38/lib/python3.10/site-packages (from azure-core>=1.28.0->azure-search-documents) (2.31.0)\r\n",
            "Requirement already satisfied: urllib3<3,>=1.21.1 in /anaconda/envs/azureml_py38/lib/python3.10/site-packages (from requests>=2.18.4->azure-core>=1.28.0->azure-search-documents) (1.26.19)\r\n",
            "Requirement already satisfied: idna<4,>=2.5 in /anaconda/envs/azureml_py38/lib/python3.10/site-packages (from requests>=2.18.4->azure-core>=1.28.0->azure-search-documents) (3.7)\r\n",
            "Requirement already satisfied: certifi>=2017.4.17 in /anaconda/envs/azureml_py38/lib/python3.10/site-packages (from requests>=2.18.4->azure-core>=1.28.0->azure-search-documents) (2024.8.30)\r\n",
            "Requirement already satisfied: charset-normalizer<4,>=2 in /anaconda/envs/azureml_py38/lib/python3.10/site-packages (from requests>=2.18.4->azure-core>=1.28.0->azure-search-documents) (3.3.2)\r\n"
          ]
        }
      ],
      "source": [
        "!pip install --upgrade azure-search-documents --pre\n"
      ]
    },
    {
      "cell_type": "code",
      "execution_count": 19,
      "metadata": {
        "gather": {
          "logged": 1743971245264
        }
      },
      "outputs": [
        {
          "name": "stdout",
          "output_type": "stream",
          "text": [
            "\r\n",
            "Usage:   \r\n",
            "  /anaconda/envs/azureml_py38/bin/python -m pip install [options] <requirement specifier> [package-index-options] ...\r\n",
            "  /anaconda/envs/azureml_py38/bin/python -m pip install [options] -r <requirements file> [package-index-options] ...\r\n",
            "  /anaconda/envs/azureml_py38/bin/python -m pip install [options] [-e] <vcs project url> ...\r\n",
            "  /anaconda/envs/azureml_py38/bin/python -m pip install [options] [-e] <local project path> ...\r\n",
            "  /anaconda/envs/azureml_py38/bin/python -m pip install [options] <archive url/path> ...\r\n",
            "\r\n",
            "no such option: --upgrade.\r\n",
            "Note: you may need to restart the kernel to use updated packages.\n"
          ]
        }
      ],
      "source": [
        "pip install azure-search-documents --pre --upgrade."
      ]
    },
    {
      "cell_type": "code",
      "execution_count": 16,
      "metadata": {},
      "outputs": [
        {
          "name": "stdout",
          "output_type": "stream",
          "text": [
            "Collecting azure-search-documents==11.6.0b11\n",
            "  Downloading azure_search_documents-11.6.0b11-py3-none-any.whl.metadata (22 kB)\n",
            "Requirement already satisfied: azure-core>=1.28.0 in /anaconda/envs/azureml_py38/lib/python3.10/site-packages (from azure-search-documents==11.6.0b11) (1.29.4)\n",
            "Requirement already satisfied: azure-common>=1.1 in /anaconda/envs/azureml_py38/lib/python3.10/site-packages (from azure-search-documents==11.6.0b11) (1.1.28)\n",
            "Requirement already satisfied: isodate>=0.6.0 in /anaconda/envs/azureml_py38/lib/python3.10/site-packages (from azure-search-documents==11.6.0b11) (0.6.1)\n",
            "Requirement already satisfied: typing-extensions>=4.6.0 in /anaconda/envs/azureml_py38/lib/python3.10/site-packages (from azure-search-documents==11.6.0b11) (4.12.2)\n",
            "Requirement already satisfied: requests>=2.18.4 in /anaconda/envs/azureml_py38/lib/python3.10/site-packages (from azure-core>=1.28.0->azure-search-documents==11.6.0b11) (2.31.0)\n",
            "Requirement already satisfied: six>=1.11.0 in /anaconda/envs/azureml_py38/lib/python3.10/site-packages (from azure-core>=1.28.0->azure-search-documents==11.6.0b11) (1.16.0)\n",
            "Requirement already satisfied: charset-normalizer<4,>=2 in /anaconda/envs/azureml_py38/lib/python3.10/site-packages (from requests>=2.18.4->azure-core>=1.28.0->azure-search-documents==11.6.0b11) (3.3.2)\n",
            "Requirement already satisfied: idna<4,>=2.5 in /anaconda/envs/azureml_py38/lib/python3.10/site-packages (from requests>=2.18.4->azure-core>=1.28.0->azure-search-documents==11.6.0b11) (3.7)\n",
            "Requirement already satisfied: urllib3<3,>=1.21.1 in /anaconda/envs/azureml_py38/lib/python3.10/site-packages (from requests>=2.18.4->azure-core>=1.28.0->azure-search-documents==11.6.0b11) (1.26.19)\n",
            "Requirement already satisfied: certifi>=2017.4.17 in /anaconda/envs/azureml_py38/lib/python3.10/site-packages (from requests>=2.18.4->azure-core>=1.28.0->azure-search-documents==11.6.0b11) (2024.8.30)\n",
            "Downloading azure_search_documents-11.6.0b11-py3-none-any.whl (338 kB)\n",
            "\u001b[33mWARNING: Error parsing dependencies of numpy: [Errno 2] No such file or directory: '/anaconda/envs/azureml_py38/lib/python3.10/site-packages/numpy-1.23.5.dist-info/METADATA'\u001b[0m\u001b[33m\n",
            "\u001b[0mInstalling collected packages: azure-search-documents\n",
            "Successfully installed azure-search-documents-11.6.0b11\n"
          ]
        }
      ],
      "source": [
        "!pip install --pre azure-search-documents==11.6.0b11\n"
      ]
    },
    {
      "cell_type": "code",
      "execution_count": 2,
      "metadata": {
        "gather": {
          "logged": 1743971379826
        }
      },
      "outputs": [
        {
          "name": "stdout",
          "output_type": "stream",
          "text": [
            "11.6.0b11\n"
          ]
        }
      ],
      "source": [
        "import azure.search.documents\n",
        "print(azure.search.documents.__version__)\n"
      ]
    },
    {
      "cell_type": "code",
      "execution_count": 2,
      "metadata": {},
      "outputs": [
        {
          "name": "stdout",
          "output_type": "stream",
          "text": [
            "Requirement already satisfied: azure-search-documents in /anaconda/envs/azureml_py38/lib/python3.10/site-packages (11.6.0b11)\n",
            "Requirement already satisfied: azure-core in /anaconda/envs/azureml_py38/lib/python3.10/site-packages (1.29.4)\n",
            "Requirement already satisfied: azure-common>=1.1 in /anaconda/envs/azureml_py38/lib/python3.10/site-packages (from azure-search-documents) (1.1.28)\n",
            "Requirement already satisfied: isodate>=0.6.0 in /anaconda/envs/azureml_py38/lib/python3.10/site-packages (from azure-search-documents) (0.6.1)\n",
            "Requirement already satisfied: typing-extensions>=4.6.0 in /anaconda/envs/azureml_py38/lib/python3.10/site-packages (from azure-search-documents) (4.12.2)\n",
            "Requirement already satisfied: requests>=2.18.4 in /anaconda/envs/azureml_py38/lib/python3.10/site-packages (from azure-core) (2.31.0)\n",
            "Requirement already satisfied: six>=1.11.0 in /anaconda/envs/azureml_py38/lib/python3.10/site-packages (from azure-core) (1.16.0)\n",
            "Requirement already satisfied: charset-normalizer<4,>=2 in /anaconda/envs/azureml_py38/lib/python3.10/site-packages (from requests>=2.18.4->azure-core) (3.3.2)\n",
            "Requirement already satisfied: idna<4,>=2.5 in /anaconda/envs/azureml_py38/lib/python3.10/site-packages (from requests>=2.18.4->azure-core) (3.7)\n",
            "Requirement already satisfied: urllib3<3,>=1.21.1 in /anaconda/envs/azureml_py38/lib/python3.10/site-packages (from requests>=2.18.4->azure-core) (1.26.19)\n",
            "Requirement already satisfied: certifi>=2017.4.17 in /anaconda/envs/azureml_py38/lib/python3.10/site-packages (from requests>=2.18.4->azure-core) (2024.8.30)\n",
            "\u001b[33mWARNING: Error parsing dependencies of numpy: [Errno 2] No such file or directory: '/anaconda/envs/azureml_py38/lib/python3.10/site-packages/numpy-1.23.5.dist-info/METADATA'\u001b[0m\u001b[33m\n",
            "\u001b[0m"
          ]
        }
      ],
      "source": [
        "!pip install azure-search-documents azure-core"
      ]
    },
    {
      "cell_type": "code",
      "execution_count": 3,
      "metadata": {},
      "outputs": [
        {
          "name": "stdout",
          "output_type": "stream",
          "text": [
            "Requirement already satisfied: azure-search-documents in /anaconda/envs/azureml_py38/lib/python3.10/site-packages (11.6.0b11)\n",
            "Requirement already satisfied: azure-core>=1.28.0 in /anaconda/envs/azureml_py38/lib/python3.10/site-packages (from azure-search-documents) (1.29.4)\n",
            "Requirement already satisfied: azure-common>=1.1 in /anaconda/envs/azureml_py38/lib/python3.10/site-packages (from azure-search-documents) (1.1.28)\n",
            "Requirement already satisfied: isodate>=0.6.0 in /anaconda/envs/azureml_py38/lib/python3.10/site-packages (from azure-search-documents) (0.6.1)\n",
            "Requirement already satisfied: typing-extensions>=4.6.0 in /anaconda/envs/azureml_py38/lib/python3.10/site-packages (from azure-search-documents) (4.12.2)\n",
            "Requirement already satisfied: requests>=2.18.4 in /anaconda/envs/azureml_py38/lib/python3.10/site-packages (from azure-core>=1.28.0->azure-search-documents) (2.31.0)\n",
            "Requirement already satisfied: six>=1.11.0 in /anaconda/envs/azureml_py38/lib/python3.10/site-packages (from azure-core>=1.28.0->azure-search-documents) (1.16.0)\n",
            "Requirement already satisfied: charset-normalizer<4,>=2 in /anaconda/envs/azureml_py38/lib/python3.10/site-packages (from requests>=2.18.4->azure-core>=1.28.0->azure-search-documents) (3.3.2)\n",
            "Requirement already satisfied: idna<4,>=2.5 in /anaconda/envs/azureml_py38/lib/python3.10/site-packages (from requests>=2.18.4->azure-core>=1.28.0->azure-search-documents) (3.7)\n",
            "Requirement already satisfied: urllib3<3,>=1.21.1 in /anaconda/envs/azureml_py38/lib/python3.10/site-packages (from requests>=2.18.4->azure-core>=1.28.0->azure-search-documents) (1.26.19)\n",
            "Requirement already satisfied: certifi>=2017.4.17 in /anaconda/envs/azureml_py38/lib/python3.10/site-packages (from requests>=2.18.4->azure-core>=1.28.0->azure-search-documents) (2024.8.30)\n",
            "\u001b[33mWARNING: Error parsing dependencies of numpy: [Errno 2] No such file or directory: '/anaconda/envs/azureml_py38/lib/python3.10/site-packages/numpy-1.23.5.dist-info/METADATA'\u001b[0m\u001b[33m\n",
            "\u001b[0m"
          ]
        }
      ],
      "source": [
        "!pip install --pre --upgrade azure-search-documents\n"
      ]
    },
    {
      "cell_type": "code",
      "execution_count": 11,
      "metadata": {
        "gather": {
          "logged": 1743971651537
        }
      },
      "outputs": [
        {
          "name": "stdout",
          "output_type": "stream",
          "text": [
            "Requirement already satisfied: numpy in /anaconda/envs/azureml_py38/lib/python3.10/site-packages (1.23.5)\r\n",
            "\u001b[31mERROR: Could not install packages due to an OSError: [Errno 2] No such file or directory: '/anaconda/envs/azureml_py38/lib/python3.10/site-packages/numpy-1.23.5.dist-info/METADATA'\r\n",
            "\u001b[0m\u001b[31m\r\n",
            "\u001b[0m"
          ]
        }
      ],
      "source": [
        "!pip install numpy\n"
      ]
    },
    {
      "cell_type": "code",
      "execution_count": 10,
      "metadata": {},
      "outputs": [
        {
          "name": "stdout",
          "output_type": "stream",
          "text": [
            "Collecting numpy==1.23.5\r\n",
            "  Using cached numpy-1.23.5-cp310-cp310-manylinux_2_17_x86_64.manylinux2014_x86_64.whl.metadata (2.3 kB)\r\n",
            "Using cached numpy-1.23.5-cp310-cp310-manylinux_2_17_x86_64.manylinux2014_x86_64.whl (17.1 MB)\r\n",
            "Installing collected packages: numpy\r\n",
            "  Attempting uninstall: numpy\r\n",
            "\u001b[33m    WARNING: No metadata found in /anaconda/envs/azureml_py38/lib/python3.10/site-packages\u001b[0m\u001b[33m\r\n",
            "\u001b[0m    Found existing installation: numpy 1.23.5\r\n",
            "\u001b[1;31merror\u001b[0m: \u001b[1muninstall-no-record-file\u001b[0m\r\n",
            "\r\n",
            "\u001b[31m×\u001b[0m Cannot uninstall numpy 1.23.5\r\n",
            "\u001b[31m╰─>\u001b[0m The package's contents are unknown: no RECORD file was found for numpy.\r\n",
            "\r\n",
            "\u001b[1;36mhint\u001b[0m: You might be able to recover from this via: \u001b[32mpip install --force-reinstall --no-deps numpy==1.23.5\u001b[0m\r\n"
          ]
        }
      ],
      "source": [
        "!pip install --force-reinstall --no-deps numpy==1.23.5"
      ]
    },
    {
      "cell_type": "code",
      "execution_count": 12,
      "metadata": {
        "gather": {
          "logged": 1743972809341
        }
      },
      "outputs": [
        {
          "name": "stdout",
          "output_type": "stream",
          "text": [
            "Version: 11.6.0b11\n"
          ]
        }
      ],
      "source": [
        "import azure.search.documents\n",
        "print(\"Version:\", azure.search.documents.__version__)\n"
      ]
    },
    {
      "cell_type": "code",
      "execution_count": 2,
      "metadata": {
        "gather": {
          "logged": 1743973020688
        }
      },
      "outputs": [
        {
          "ename": "NameError",
          "evalue": "name 'ws' is not defined",
          "output_type": "error",
          "traceback": [
            "\u001b[0;31m---------------------------------------------------------------------------\u001b[0m",
            "\u001b[0;31mNameError\u001b[0m                                 Traceback (most recent call last)",
            "Cell \u001b[0;32mIn[2], line 5\u001b[0m\n\u001b[1;32m      3\u001b[0m env \u001b[38;5;241m=\u001b[39m Environment\u001b[38;5;241m.\u001b[39mfrom_pip_requirements(name\u001b[38;5;241m=\u001b[39m\u001b[38;5;124m\"\u001b[39m\u001b[38;5;124mfleet-vector-env\u001b[39m\u001b[38;5;124m\"\u001b[39m, file_path\u001b[38;5;241m=\u001b[39m\u001b[38;5;124m\"\u001b[39m\u001b[38;5;124mrequirements.txt\u001b[39m\u001b[38;5;124m\"\u001b[39m)\n\u001b[1;32m      4\u001b[0m env\u001b[38;5;241m.\u001b[39mpython\u001b[38;5;241m.\u001b[39mconda_dependencies\u001b[38;5;241m.\u001b[39mset_python_version(\u001b[38;5;124m\"\u001b[39m\u001b[38;5;124m3.8\u001b[39m\u001b[38;5;124m\"\u001b[39m)\n\u001b[0;32m----> 5\u001b[0m env\u001b[38;5;241m.\u001b[39mregister(workspace\u001b[38;5;241m=\u001b[39m\u001b[43mws\u001b[49m)\n",
            "\u001b[0;31mNameError\u001b[0m: name 'ws' is not defined"
          ]
        }
      ],
      "source": [
        "from azureml.core import Environment\n",
        "\n",
        "env = Environment.from_pip_requirements(name=\"fleet-vector-env\", file_path=\"requirements.txt\")\n",
        "env.python.conda_dependencies.set_python_version(\"3.8\")\n",
        "env.register(workspace=ws)\n"
      ]
    },
    {
      "cell_type": "markdown",
      "metadata": {
        "nteract": {
          "transient": {
            "deleting": false
          }
        }
      },
      "source": [
        "# Replace with your Azure AI Search details\n",
        "search_service_name = \"<YOUR_SEARCH_SERVICE_NAME>\"  # e.g. fleet-search-service\n",
        "admin_key = \"<YOUR_SEARCH_ADMIN_KEY>\"  # found in Azure portal under \"Keys\"\n",
        "index_name = \"fleet-maintenance-index\"\n"
      ]
    },
    {
      "cell_type": "code",
      "execution_count": null,
      "metadata": {
        "gather": {
          "logged": 1743973216782
        }
      },
      "outputs": [
        {
          "ename": "ImportError",
          "evalue": "cannot import name 'HnswVectorSearchAlgorithmConfiguration' from 'azure.search.documents.indexes.models' (/anaconda/envs/azureml_py38/lib/python3.10/site-packages/azure/search/documents/indexes/models/__init__.py)",
          "output_type": "error",
          "traceback": [
            "\u001b[0;31m---------------------------------------------------------------------------\u001b[0m",
            "\u001b[0;31mImportError\u001b[0m                               Traceback (most recent call last)",
            "Cell \u001b[0;32mIn[1], line 1\u001b[0m\n\u001b[0;32m----> 1\u001b[0m \u001b[38;5;28;01mfrom\u001b[39;00m \u001b[38;5;21;01mazure\u001b[39;00m\u001b[38;5;21;01m.\u001b[39;00m\u001b[38;5;21;01msearch\u001b[39;00m\u001b[38;5;21;01m.\u001b[39;00m\u001b[38;5;21;01mdocuments\u001b[39;00m\u001b[38;5;21;01m.\u001b[39;00m\u001b[38;5;21;01mindexes\u001b[39;00m\u001b[38;5;21;01m.\u001b[39;00m\u001b[38;5;21;01mmodels\u001b[39;00m \u001b[38;5;28;01mimport\u001b[39;00m (\n\u001b[1;32m      2\u001b[0m     SearchIndex,\n\u001b[1;32m      3\u001b[0m     SearchableField,\n\u001b[1;32m      4\u001b[0m     SimpleField,\n\u001b[1;32m      5\u001b[0m     SearchField,\n\u001b[1;32m      6\u001b[0m     SearchFieldDataType,\n\u001b[1;32m      7\u001b[0m     VectorSearch,\n\u001b[1;32m      8\u001b[0m     HnswVectorSearchAlgorithmConfiguration,\n\u001b[1;32m      9\u001b[0m     VectorSearchProfile\n\u001b[1;32m     10\u001b[0m )\n\u001b[1;32m     13\u001b[0m \u001b[38;5;28;01mfrom\u001b[39;00m \u001b[38;5;21;01mazure\u001b[39;00m\u001b[38;5;21;01m.\u001b[39;00m\u001b[38;5;21;01msearch\u001b[39;00m\u001b[38;5;21;01m.\u001b[39;00m\u001b[38;5;21;01mdocuments\u001b[39;00m\u001b[38;5;21;01m.\u001b[39;00m\u001b[38;5;21;01mindexes\u001b[39;00m \u001b[38;5;28;01mimport\u001b[39;00m SearchIndexClient\n\u001b[1;32m     14\u001b[0m \u001b[38;5;28;01mfrom\u001b[39;00m \u001b[38;5;21;01mazure\u001b[39;00m\u001b[38;5;21;01m.\u001b[39;00m\u001b[38;5;21;01mcore\u001b[39;00m\u001b[38;5;21;01m.\u001b[39;00m\u001b[38;5;21;01mcredentials\u001b[39;00m \u001b[38;5;28;01mimport\u001b[39;00m AzureKeyCredential\n",
            "\u001b[0;31mImportError\u001b[0m: cannot import name 'HnswVectorSearchAlgorithmConfiguration' from 'azure.search.documents.indexes.models' (/anaconda/envs/azureml_py38/lib/python3.10/site-packages/azure/search/documents/indexes/models/__init__.py)"
          ]
        }
      ],
      "source": [
        "from azure.search.documents.indexes.models import (\n",
        "    SearchIndex,\n",
        "    SearchableField,\n",
        "    SimpleField,\n",
        "    SearchField,\n",
        "    SearchFieldDataType,\n",
        "    VectorSearch,\n",
        "    HnswVectorSearchAlgorithmConfiguration,\n",
        "    VectorSearchProfile\n",
        ")\n",
        "\n",
        "\n",
        "from azure.search.documents.indexes import SearchIndexClient\n",
        "from azure.core.credentials import AzureKeyCredential\n",
        "\n",
        "# Replace with your Azure AI Search details\n",
        "search_service_name = \"fleet-search-service\"\n",
        "admin_key = \"\"\n",
        "index_name = \"fleet-maintenance-index\"\n",
        "endpoint = f\"https://{search_service_name}.search.windows.net\"\n",
        "\n",
        "index_client = SearchIndexClient(endpoint=endpoint, credential=AzureKeyCredential(admin_key))\n",
        "\n",
        "# Define fields\n",
        "fields = [\n",
        "    SimpleField(name=\"id\", type=SearchFieldDataType.String, key=True),\n",
        "    SearchableField(name=\"filename\", type=SearchFieldDataType.String, sortable=True),\n",
        "    SearchableField(name=\"content\", type=SearchFieldDataType.String),\n",
        "    SearchField(\n",
        "        name=\"embedding\",\n",
        "        type=SearchFieldDataType.Collection(SearchFieldDataType.Single),\n",
        "        searchable=True,\n",
        "        vector_search_dimensions=1536,\n",
        "        vector_search_profile_name=\"fleet-vector-profile\"\n",
        "    )\n",
        "]\n",
        "\n",
        "# Define vector search configuration\n",
        "vector_search = VectorSearch(\n",
        "    algorithms=[\n",
        "        HnswVectorSearchAlgorithmConfiguration(name=\"hnsw-config\")\n",
        "    ],\n",
        "    profiles=[\n",
        "        VectorSearchProfile(\n",
        "            name=\"fleet-vector-profile\",\n",
        "            algorithm_configuration_name=\"hnsw-config\"\n",
        "        )\n",
        "    ]\n",
        ")\n",
        "\n",
        "# Create index\n",
        "index = SearchIndex(name=index_name, fields=fields, vector_search=vector_search)\n",
        "\n",
        "# Delete existing index (if needed)\n",
        "if index_name in [i.name for i in index_client.list_indexes()]:\n",
        "    index_client.delete_index(index_name)\n",
        "    print(\"Old index deleted.\")\n",
        "\n",
        "# Create the index\n",
        "index_client.create_index(index)\n",
        "print(\"✅ Index created successfully!\")\n"
      ]
    }
  ],
  "metadata": {
    "kernel_info": {
      "name": "python38-azureml"
    },
    "kernelspec": {
      "display_name": "Python 3.8 - AzureML",
      "language": "python",
      "name": "python38-azureml"
    },
    "language_info": {
      "codemirror_mode": {
        "name": "ipython",
        "version": 3
      },
      "file_extension": ".py",
      "mimetype": "text/x-python",
      "name": "python",
      "nbconvert_exporter": "python",
      "pygments_lexer": "ipython3",
      "version": "3.10.11"
    },
    "microsoft": {
      "ms_spell_check": {
        "ms_spell_check_language": "en"
      }
    },
    "nteract": {
      "version": "nteract-front-end@1.0.0"
    }
  },
  "nbformat": 4,
  "nbformat_minor": 2
}
